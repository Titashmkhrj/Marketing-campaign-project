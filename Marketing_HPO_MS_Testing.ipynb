{
  "nbformat": 4,
  "nbformat_minor": 0,
  "metadata": {
    "colab": {
      "name": "Marketing_HPO_MS_Testing.ipynb",
      "provenance": [],
      "collapsed_sections": [],
      "mount_file_id": "1cA9J_6SS9OXlhxwTmDk_YThp40_owShM",
      "authorship_tag": "ABX9TyPn5brFLy+l4g547CqGkc7t",
      "include_colab_link": true
    },
    "kernelspec": {
      "name": "python3",
      "display_name": "Python 3"
    },
    "accelerator": "GPU"
  },
  "cells": [
    {
      "cell_type": "markdown",
      "metadata": {
        "id": "view-in-github",
        "colab_type": "text"
      },
      "source": [
        "<a href=\"https://colab.research.google.com/github/Titashmkhrj/Marketing-campaign-project/blob/master/Marketing_HPO_MS_Testing.ipynb\" target=\"_parent\"><img src=\"https://colab.research.google.com/assets/colab-badge.svg\" alt=\"Open In Colab\"/></a>"
      ]
    },
    {
      "cell_type": "markdown",
      "metadata": {
        "id": "EOuux_xk1tig",
        "colab_type": "text"
      },
      "source": [
        "# Importing libraries."
      ]
    },
    {
      "cell_type": "code",
      "metadata": {
        "id": "_5bZFdP-wj2f",
        "colab_type": "code",
        "colab": {
          "base_uri": "https://localhost:8080/",
          "height": 34
        },
        "outputId": "40924775-fdeb-44cd-ba9b-e553cc8ff685"
      },
      "source": [
        "# import warnings filter\n",
        "from warnings import simplefilter\n",
        "# ignore all future warnings\n",
        "simplefilter(action='ignore', category=FutureWarning)\n",
        "#---------------------------------------------------------------------------------------------------------------------------------------\n",
        "\n",
        "# importing the required libraries\n",
        "import numpy as np\n",
        "import numpy.ma as ma\n",
        "import pandas as pd\n",
        "import joblib\n",
        "\n",
        "import imblearn \n",
        "from imblearn.over_sampling import SMOTENC\n",
        "from imblearn.pipeline import Pipeline\n",
        "\n",
        "from sklearn.linear_model import (LogisticRegression, PassiveAggressiveClassifier, RidgeClassifier)\n",
        "from sklearn.neighbors import KNeighborsClassifier\n",
        "from sklearn.svm import SVC\n",
        "from sklearn.tree import DecisionTreeClassifier\n",
        "from sklearn.ensemble import RandomForestClassifier\n",
        "\n",
        "from sklearn.preprocessing import StandardScaler\n",
        "from sklearn.model_selection import (RandomizedSearchCV, train_test_split, cross_val_score)\n",
        "\n",
        "from sklearn.metrics import accuracy_score\n",
        "\n",
        "print(\"Finished importing the libraries.\")"
      ],
      "execution_count": 1,
      "outputs": [
        {
          "output_type": "stream",
          "text": [
            "Finished importing the libraries.\n"
          ],
          "name": "stdout"
        }
      ]
    },
    {
      "cell_type": "markdown",
      "metadata": {
        "id": "0d9n0Z1M2E66",
        "colab_type": "text"
      },
      "source": [
        "# Models objects and their parameter grid."
      ]
    },
    {
      "cell_type": "code",
      "metadata": {
        "id": "lc3NwALDczVi",
        "colab_type": "code",
        "colab": {}
      },
      "source": [
        "# models as per the sequence in the parameter grid \n",
        "model_objects = [LogisticRegression(),\n",
        "                 LogisticRegression(),\n",
        "\t\t\t\t\t\t\t\t LogisticRegression(),\n",
        "\t\t\t\t\t\t\t\t PassiveAggressiveClassifier(),\n",
        "\t\t\t\t\t\t\t\t RidgeClassifier(),\n",
        "\t\t\t\t\t\t\t\t KNeighborsClassifier(),\n",
        "\t\t\t\t\t\t\t\t SVC(),\n",
        "\t\t\t\t\t\t\t\t DecisionTreeClassifier(),\n",
        "\t\t\t\t\t\t\t\t RandomForestClassifier()]\n",
        "\n",
        "\n",
        "\n",
        "# hyper-parameter dictionary for the tunningof the models\n",
        "parameter_grid = {'LR_l1' : {'model__penalty' : ['l1'],\n",
        "                              'model__C' : [0.001, 0.01, 0.1, 1, 10, 100],\n",
        "                              'model__random_state' : [42],\n",
        "                              'model__solver' : ['liblinear', 'saga'],\n",
        "                              'model__max_iter' : [100000]\n",
        "                          },\n",
        "\t\t\t\t\n",
        "                  'LR_l2' : {'model__penalty' : ['l2'],\n",
        "                              'model__C' : [0.001, 0.01, 0.1, 1, 10, 100],\n",
        "                              'model__random_state' : [42],\n",
        "                              'model__solver' : ['newton-cg', 'lbfgs', 'sag', 'saga'],\n",
        "                              'model__max_iter' : [100000]\n",
        "                          },\n",
        "\n",
        "                  'LR_ElNet' : {'model__penalty' : ['elasticnet'],\n",
        "                                'model__l1_ratio' : [0.3, 0.5, 0.7],\n",
        "                                'model__C' : [0.001, 0.01, 0.1, 1, 10, 100],\n",
        "                                'model__random_state' : [42],\n",
        "                                'model__solver' : ['saga'],\n",
        "                                'model__max_iter' : [100000]\n",
        "                              },\n",
        "\n",
        "                  'Pass_Agg_clif' : {'model__C' : [0.001, 0.01, 0.1, 1, 10, 100],\n",
        "                                    #   'model__fit_intercept' : ['True', 'False'],\n",
        "                                      'model__random_state' : [42],\n",
        "                                      'model__loss' : ['hinge', 'squared_hinge'],\n",
        "                                      'model__class_weight' : ['balanced', None]\n",
        "                                  },\n",
        "                  \n",
        "                  'Ridge_clif' : {'model__alpha' : [500.0, 50.0, 5.0, 0.5, 0.05, 0.005],\n",
        "                                  'model__fit_intercept' : ['True', 'False'],\n",
        "                                  'model__normalize' : ['True', 'False'],\n",
        "                                  'model__class_weight' : ['balanced', None],\n",
        "                                  'model__solver' : ['svd', 'cholesky', 'lsqr', 'sparse_cg']\n",
        "                              },\n",
        "                  \n",
        "                  'KN_classif' : {'model__n_neighbors' : [1,3,5,7,9],\n",
        "                                  'model__p' : [1,2,5]                     \n",
        "                              },\n",
        "                  \n",
        "                  'SVC' : {'model__C' : [0.001, 0.01, 0.1, 1, 10, 100, 1000],\n",
        "                           'model__gamma' : ['scale', 'auto'],                     \n",
        "                      },\n",
        "                  \n",
        "                  'DT_clif' : {'model__criterion': ['gini','entropy'],\n",
        "                                'model__max_features': ['sqrt','log2',None],\n",
        "                                'model__min_samples_leaf': [1,2,5,10],\n",
        "                                'model__min_samples_split' : [2,5,10,15,100],\n",
        "                                'model__max_depth': [5,8,15,25,30,None]\n",
        "                          },\n",
        "                  \n",
        "                  'RF_clif' : {'model__n_estimators' : [120,300,500,800,1200],\n",
        "                               'model__max_features': ['sqrt','log2',None],\n",
        "                                'model__min_samples_leaf': [1,2,5,10],\n",
        "                                'model__min_samples_split' : [2,5,10,15,100],\n",
        "                                'model__max_depth': [5,8,15,25,30,None]                      \n",
        "                          }\n",
        "              }"
      ],
      "execution_count": 2,
      "outputs": []
    },
    {
      "cell_type": "markdown",
      "metadata": {
        "id": "16aouJHM2zOR",
        "colab_type": "text"
      },
      "source": [
        " # Loading the data."
      ]
    },
    {
      "cell_type": "code",
      "metadata": {
        "id": "GP7oMbnCxaHp",
        "colab_type": "code",
        "colab": {}
      },
      "source": [
        "# reading the feature and target spaces for our project\n",
        "x_data = pd.read_csv('/content/drive/My Drive/data_for_HPO&MS/Marketing_response/feature_space.csv')\n",
        "y_data = pd.read_csv('/content/drive/My Drive/data_for_HPO&MS/Marketing_response/target_space.csv')\n",
        "# dropping an unnecessary column from our target space\n",
        "x_data.drop('Unnamed: 0', axis=1, inplace=True)\n",
        "y_data.drop('Unnamed: 0', axis=1, inplace=True)"
      ],
      "execution_count": 3,
      "outputs": []
    },
    {
      "cell_type": "markdown",
      "metadata": {
        "id": "9vWhQSIExii9",
        "colab_type": "text"
      },
      "source": [
        "# Splitting the data for the purpose of hyper-parameter optimisation and model selection."
      ]
    },
    {
      "cell_type": "code",
      "metadata": {
        "id": "1ewZf15Hz1iR",
        "colab_type": "code",
        "colab": {
          "base_uri": "https://localhost:8080/",
          "height": 34
        },
        "outputId": "ee985d26-b8b5-4aed-f780-1055a849a29f"
      },
      "source": [
        "# splitting our dataset into train, validation and test sets\n",
        "x_train, x_test, y_train, y_test = train_test_split(x_data, y_data, test_size = 0.3, random_state = 42)\n",
        "x_optimization, x_validation, y_optimization, y_validation = train_test_split(x_train, y_train, test_size = 0.3, random_state = 42)\n",
        "\n",
        "print(\"Finished splitting the data.\")"
      ],
      "execution_count": 4,
      "outputs": [
        {
          "output_type": "stream",
          "text": [
            "Finished splitting the data.\n"
          ],
          "name": "stdout"
        }
      ]
    },
    {
      "cell_type": "markdown",
      "metadata": {
        "id": "sea9nOWIz5f3",
        "colab_type": "text"
      },
      "source": [
        "# Hyper-parameter optimisation."
      ]
    },
    {
      "cell_type": "code",
      "metadata": {
        "id": "cNZIRga-qQoM",
        "colab_type": "code",
        "colab": {}
      },
      "source": [
        "# num_features = ['Recency', 'MntWines', 'MntFruits', 'MntMeatProducts', 'MntFishProducts', 'MntSweetProducts', 'MntGoldProds', 'Tot_amnt_spent']\n",
        "# catg_features = x_train.drop(num_features, axis=1).columns.tolist()\n",
        "# # all_features = x_train.columns.tolist()\n",
        "# # strs = [x for x in all_features]\n",
        "\n",
        "# catg_idx_list = []\n",
        "# for feature in catg_features:\n",
        "#   catg_idx_list.append(x_data.columns.get_loc(feature))\n",
        "\n",
        "# all_col_arr = np.arange(len(x_data.columns)).tolist()\n",
        "# masking_list = []\n",
        "\n",
        "# for i in range(len(x_data.columns)) : \n",
        "#   if all_col_arr[i] in catg_idx_list :\n",
        "#     masking_list.append('True')\n",
        "#   else : A\n",
        "#     masking_list.append('False')\n",
        "# # masked array for SMOTENC\n",
        "# masked_array = ma.masked_array(np.arange(len(x_data.columns)), mask = masking_list)\n",
        "\n",
        "# over_sampler = SMOTENC(categorical_features = catg_idx_list, random_state=42)\n",
        "# # print(x_train.shape, y_train.shape)\n",
        "# feat_res, target_res = over_sampler.fit_resample(x_train, y_train.values.ravel())\n",
        "# # catg_idx_list"
      ],
      "execution_count": 5,
      "outputs": []
    },
    {
      "cell_type": "code",
      "metadata": {
        "id": "5ykKLF40Mzqt",
        "colab_type": "code",
        "colab": {
          "base_uri": "https://localhost:8080/",
          "height": 1000
        },
        "outputId": "4b404b0d-4408-4341-95b1-aee070010099"
      },
      "source": [
        "# initiating an empty list for storing the optimized models\n",
        "hyper_parameter_optimized_models = []\n",
        "\n",
        "\n",
        "'''\n",
        "resampling our optimization datasets, in order to prevent overfitting of our models on the majority class of the target feature in our\n",
        "for the purpose above stated we will be using SMOTENC, which requires us to give the column indices of the categrical features\n",
        "'''\n",
        "num_features = ['Recency', 'MntWines', 'MntFruits', 'MntMeatProducts', 'MntFishProducts', 'MntSweetProducts', 'MntGoldProds', 'Tot_amnt_spent']\n",
        "catg_features = x_train.drop(num_features, axis=1).columns.tolist()\n",
        "catg_idx_list = []\n",
        "for feature in catg_features:\n",
        "  catg_idx_list.append(x_data.columns.get_loc(feature))\n",
        "\n",
        "# making the resampling and standardising objects\n",
        "over_sampler = SMOTENC(categorical_features = catg_idx_list, random_state=42)\n",
        "scaler = StandardScaler()\n",
        "\n",
        "# initiating the random search\n",
        "for grid, model in zip(parameter_grid.values(), model_objects) :\n",
        "  # the only change that i have done is remove the comma \",\" from the end of the very next line i.e classif_model = ......\n",
        "  classif_model = Pipeline([('resampler', over_sampler), ('scaler', scaler), ('model', model)])\n",
        "  # the nex thing tht we can do is remove the over_sampler an scaler objects and define them in te pipeline itself\n",
        "  optimizer = RandomizedSearchCV(estimator = classif_model,\n",
        "\t\t\t\t\t\t\t\tparam_distributions = grid,\n",
        "\t\t\t\t\t\t\t\trandom_state = 42,\n",
        "\t\t\t\t\t\t\t\tcv = 3,\n",
        "\t\t\t\t\t\t\t\terror_score = -1,\n",
        "\t\t\t\t\t\t\t\tverbose = 10,\n",
        "\t\t\t\t\t\t\t\tn_jobs = -1,\n",
        "\t\t\t\t\t\t\t\t)\n",
        "  optimizer.fit(x_optimization, y_optimization.values.ravel())\n",
        "\t# appending the best estimator to a list\n",
        "  hyper_parameter_optimized_models.append(optimizer.best_estimator_)\n",
        "\n",
        "print('Hyper parameter tunning is finished.')"
      ],
      "execution_count": 6,
      "outputs": [
        {
          "output_type": "stream",
          "text": [
            "Fitting 3 folds for each of 10 candidates, totalling 30 fits\n"
          ],
          "name": "stdout"
        },
        {
          "output_type": "stream",
          "text": [
            "[Parallel(n_jobs=-1)]: Using backend LokyBackend with 2 concurrent workers.\n",
            "[Parallel(n_jobs=-1)]: Done   1 tasks      | elapsed:    3.9s\n",
            "[Parallel(n_jobs=-1)]: Done   4 tasks      | elapsed:    6.8s\n",
            "[Parallel(n_jobs=-1)]: Done   9 tasks      | elapsed:   15.4s\n",
            "[Parallel(n_jobs=-1)]: Done  14 tasks      | elapsed:   21.7s\n",
            "[Parallel(n_jobs=-1)]: Done  21 tasks      | elapsed:   31.1s\n",
            "[Parallel(n_jobs=-1)]: Done  30 out of  30 | elapsed:   41.7s finished\n"
          ],
          "name": "stderr"
        },
        {
          "output_type": "stream",
          "text": [
            "Fitting 3 folds for each of 10 candidates, totalling 30 fits\n"
          ],
          "name": "stdout"
        },
        {
          "output_type": "stream",
          "text": [
            "[Parallel(n_jobs=-1)]: Using backend LokyBackend with 2 concurrent workers.\n",
            "[Parallel(n_jobs=-1)]: Done   1 tasks      | elapsed:    2.5s\n",
            "[Parallel(n_jobs=-1)]: Done   4 tasks      | elapsed:    5.0s\n",
            "[Parallel(n_jobs=-1)]: Done   9 tasks      | elapsed:   12.4s\n",
            "[Parallel(n_jobs=-1)]: Done  14 tasks      | elapsed:   17.4s\n",
            "[Parallel(n_jobs=-1)]: Done  21 tasks      | elapsed:   27.2s\n",
            "[Parallel(n_jobs=-1)]: Done  30 out of  30 | elapsed:   37.0s finished\n"
          ],
          "name": "stderr"
        },
        {
          "output_type": "stream",
          "text": [
            "Fitting 3 folds for each of 10 candidates, totalling 30 fits\n"
          ],
          "name": "stdout"
        },
        {
          "output_type": "stream",
          "text": [
            "[Parallel(n_jobs=-1)]: Using backend LokyBackend with 2 concurrent workers.\n",
            "[Parallel(n_jobs=-1)]: Done   1 tasks      | elapsed:    2.6s\n",
            "[Parallel(n_jobs=-1)]: Done   4 tasks      | elapsed:    5.2s\n",
            "[Parallel(n_jobs=-1)]: Done   9 tasks      | elapsed:   13.0s\n",
            "[Parallel(n_jobs=-1)]: Done  14 tasks      | elapsed:   18.1s\n",
            "[Parallel(n_jobs=-1)]: Done  21 tasks      | elapsed:   28.4s\n",
            "[Parallel(n_jobs=-1)]: Done  30 out of  30 | elapsed:   39.4s finished\n"
          ],
          "name": "stderr"
        },
        {
          "output_type": "stream",
          "text": [
            "Fitting 3 folds for each of 10 candidates, totalling 30 fits\n"
          ],
          "name": "stdout"
        },
        {
          "output_type": "stream",
          "text": [
            "[Parallel(n_jobs=-1)]: Using backend LokyBackend with 2 concurrent workers.\n",
            "[Parallel(n_jobs=-1)]: Done   1 tasks      | elapsed:    2.5s\n",
            "[Parallel(n_jobs=-1)]: Done   4 tasks      | elapsed:    4.9s\n",
            "[Parallel(n_jobs=-1)]: Done   9 tasks      | elapsed:   12.1s\n",
            "[Parallel(n_jobs=-1)]: Done  14 tasks      | elapsed:   17.1s\n",
            "[Parallel(n_jobs=-1)]: Done  21 tasks      | elapsed:   26.8s\n",
            "[Parallel(n_jobs=-1)]: Done  30 out of  30 | elapsed:   36.5s finished\n"
          ],
          "name": "stderr"
        },
        {
          "output_type": "stream",
          "text": [
            "Fitting 3 folds for each of 10 candidates, totalling 30 fits\n"
          ],
          "name": "stdout"
        },
        {
          "output_type": "stream",
          "text": [
            "[Parallel(n_jobs=-1)]: Using backend LokyBackend with 2 concurrent workers.\n",
            "[Parallel(n_jobs=-1)]: Done   1 tasks      | elapsed:    2.4s\n",
            "[Parallel(n_jobs=-1)]: Done   4 tasks      | elapsed:    4.9s\n",
            "[Parallel(n_jobs=-1)]: Done   9 tasks      | elapsed:   12.2s\n",
            "[Parallel(n_jobs=-1)]: Done  14 tasks      | elapsed:   17.1s\n",
            "[Parallel(n_jobs=-1)]: Done  21 tasks      | elapsed:   26.8s\n",
            "[Parallel(n_jobs=-1)]: Done  30 out of  30 | elapsed:   37.2s finished\n"
          ],
          "name": "stderr"
        },
        {
          "output_type": "stream",
          "text": [
            "Fitting 3 folds for each of 10 candidates, totalling 30 fits\n"
          ],
          "name": "stdout"
        },
        {
          "output_type": "stream",
          "text": [
            "[Parallel(n_jobs=-1)]: Using backend LokyBackend with 2 concurrent workers.\n",
            "[Parallel(n_jobs=-1)]: Done   1 tasks      | elapsed:    2.7s\n",
            "[Parallel(n_jobs=-1)]: Done   4 tasks      | elapsed:    6.4s\n",
            "[Parallel(n_jobs=-1)]: Done   9 tasks      | elapsed:   14.0s\n",
            "[Parallel(n_jobs=-1)]: Done  14 tasks      | elapsed:   21.2s\n",
            "[Parallel(n_jobs=-1)]: Done  21 tasks      | elapsed:   33.3s\n",
            "[Parallel(n_jobs=-1)]: Done  30 out of  30 | elapsed:   44.5s finished\n"
          ],
          "name": "stderr"
        },
        {
          "output_type": "stream",
          "text": [
            "Fitting 3 folds for each of 10 candidates, totalling 30 fits\n"
          ],
          "name": "stdout"
        },
        {
          "output_type": "stream",
          "text": [
            "[Parallel(n_jobs=-1)]: Using backend LokyBackend with 2 concurrent workers.\n",
            "[Parallel(n_jobs=-1)]: Done   1 tasks      | elapsed:    2.5s\n",
            "[Parallel(n_jobs=-1)]: Done   4 tasks      | elapsed:    5.0s\n",
            "[Parallel(n_jobs=-1)]: Done   9 tasks      | elapsed:   12.6s\n",
            "[Parallel(n_jobs=-1)]: Done  14 tasks      | elapsed:   17.7s\n",
            "[Parallel(n_jobs=-1)]: Done  21 tasks      | elapsed:   28.0s\n",
            "[Parallel(n_jobs=-1)]: Done  30 out of  30 | elapsed:   38.4s finished\n"
          ],
          "name": "stderr"
        },
        {
          "output_type": "stream",
          "text": [
            "Fitting 3 folds for each of 10 candidates, totalling 30 fits\n"
          ],
          "name": "stdout"
        },
        {
          "output_type": "stream",
          "text": [
            "[Parallel(n_jobs=-1)]: Using backend LokyBackend with 2 concurrent workers.\n",
            "[Parallel(n_jobs=-1)]: Done   1 tasks      | elapsed:    2.5s\n",
            "[Parallel(n_jobs=-1)]: Done   4 tasks      | elapsed:    5.0s\n",
            "[Parallel(n_jobs=-1)]: Done   9 tasks      | elapsed:   12.7s\n",
            "[Parallel(n_jobs=-1)]: Done  14 tasks      | elapsed:   17.9s\n",
            "[Parallel(n_jobs=-1)]: Done  21 tasks      | elapsed:   28.1s\n",
            "[Parallel(n_jobs=-1)]: Done  30 out of  30 | elapsed:   38.5s finished\n"
          ],
          "name": "stderr"
        },
        {
          "output_type": "stream",
          "text": [
            "Fitting 3 folds for each of 10 candidates, totalling 30 fits\n"
          ],
          "name": "stdout"
        },
        {
          "output_type": "stream",
          "text": [
            "[Parallel(n_jobs=-1)]: Using backend LokyBackend with 2 concurrent workers.\n",
            "[Parallel(n_jobs=-1)]: Done   1 tasks      | elapsed:    6.2s\n",
            "[Parallel(n_jobs=-1)]: Done   4 tasks      | elapsed:   22.2s\n",
            "[Parallel(n_jobs=-1)]: Done   9 tasks      | elapsed:   37.0s\n",
            "[Parallel(n_jobs=-1)]: Done  14 tasks      | elapsed:   51.2s\n",
            "[Parallel(n_jobs=-1)]: Done  21 tasks      | elapsed:  1.3min\n",
            "[Parallel(n_jobs=-1)]: Done  30 out of  30 | elapsed:  1.7min finished\n"
          ],
          "name": "stderr"
        },
        {
          "output_type": "stream",
          "text": [
            "Hyper parameter tunning is finished.\n"
          ],
          "name": "stdout"
        }
      ]
    },
    {
      "cell_type": "markdown",
      "metadata": {
        "id": "7qBWRc0-0Fww",
        "colab_type": "text"
      },
      "source": [
        "# Model selection."
      ]
    },
    {
      "cell_type": "code",
      "metadata": {
        "id": "Qb5WNBI40GR_",
        "colab_type": "code",
        "colab": {
          "base_uri": "https://localhost:8080/",
          "height": 34
        },
        "outputId": "514627a8-6947-4964-d2fe-894658e9db52"
      },
      "source": [
        "# initiating an empty list to stre the validation scores of the optimized models\n",
        "optimized_model_validation_scores = []\n",
        "\n",
        "for optimized_model in hyper_parameter_optimized_models :\n",
        "  optimized_model_pipeline = Pipeline([('resampler', over_sampler), ('scaler', scaler), ('optimized_model', optimized_model)])\n",
        "  model_validation_scores = cross_val_score(optimized_model_pipeline, x_validation, y_validation.values.ravel(), cv=3, n_jobs = -1)\n",
        "  optimized_model_validation_scores.append(np.mean(model_validation_scores))\n",
        "\n",
        "# making a dictionary to store the results of the hyper-parameter optimization and the model selection process.\n",
        "results_dict = {'optimized_model':hyper_parameter_optimized_models,\n",
        "                'validation_score':optimized_model_validation_scores\n",
        "                }\n",
        "\n",
        "optimized_model_results = pd.DataFrame(results_dict)\n",
        "# saving the results of the hyper-parameter optimization and model_selection in a csv file\n",
        "optimized_model_results.to_csv('/content/drive/My Drive/data_for_HPO&MS/Marketing_response/model_optimizaion_report.csv')\n",
        "print('Model selection is finished')\n"
      ],
      "execution_count": 7,
      "outputs": [
        {
          "output_type": "stream",
          "text": [
            "Model selection is finished\n"
          ],
          "name": "stdout"
        }
      ]
    },
    {
      "cell_type": "markdown",
      "metadata": {
        "id": "w_uStoB60HJe",
        "colab_type": "text"
      },
      "source": [
        "# Best performing hyper-parameter optimised model."
      ]
    },
    {
      "cell_type": "code",
      "metadata": {
        "id": "olBhpvwX0Haj",
        "colab_type": "code",
        "colab": {
          "base_uri": "https://localhost:8080/",
          "height": 306
        },
        "outputId": "4d62831c-ec8d-4f6b-f484-2b2d3a847100"
      },
      "source": [
        "print('Initiating the process of our final phase to judge the average out-of-sample performance of our best found optimized model.')\n",
        "# selecting the best model by its index for the final predictions\n",
        "best_model_idx = optimized_model_results['validation_score'].idxmax(axis=0)\n",
        "best_model = optimized_model_results.iloc[best_model_idx,0]\n",
        "\n",
        "print('The best model to our finding is ', best_model)"
      ],
      "execution_count": 8,
      "outputs": [
        {
          "output_type": "stream",
          "text": [
            "Initiating the process of our final phase to judge the average out-of-sample performance of our best found optimized model.\n",
            "The best model to our finding is  Pipeline(memory=None,\n",
            "         steps=[('resampler',\n",
            "                 SMOTENC(categorical_features=[0, 1, 2, 3, 4, 5, 6, 14, 15, 16,\n",
            "                                               17, 18, 19, 20, 21, 22, 23, 24,\n",
            "                                               25, 26, 27],\n",
            "                         k_neighbors=5, n_jobs=1, random_state=42,\n",
            "                         sampling_strategy='auto')),\n",
            "                ('scaler',\n",
            "                 StandardScaler(copy=True, with_mean=True, with_std=True)),\n",
            "                ('model',\n",
            "                 SVC(C=100, break_ties=False, cache_size=200, class_weight=None,\n",
            "                     coef0=0.0, decision_function_shape='ovr', degree=3,\n",
            "                     gamma='auto', kernel='rbf', max_iter=-1, probability=False,\n",
            "                     random_state=None, shrinking=True, tol=0.001,\n",
            "                     verbose=False))],\n",
            "         verbose=False)\n"
          ],
          "name": "stdout"
        }
      ]
    },
    {
      "cell_type": "markdown",
      "metadata": {
        "id": "xbD_ZYMI1uuL",
        "colab_type": "text"
      },
      "source": [
        "# Defining the best model from the above findings, that will be futher used for the final prediction making."
      ]
    },
    {
      "cell_type": "code",
      "metadata": {
        "id": "RDDwBqYD1tzD",
        "colab_type": "code",
        "colab": {
          "base_uri": "https://localhost:8080/",
          "height": 85
        },
        "outputId": "3e9849d3-e968-4684-fb9b-49c81ea49517"
      },
      "source": [
        "# selecting the classifier algorithm from the pipeline of the best model found.\n",
        "final_model = best_model[2]\n",
        "final_model"
      ],
      "execution_count": 9,
      "outputs": [
        {
          "output_type": "execute_result",
          "data": {
            "text/plain": [
              "SVC(C=100, break_ties=False, cache_size=200, class_weight=None, coef0=0.0,\n",
              "    decision_function_shape='ovr', degree=3, gamma='auto', kernel='rbf',\n",
              "    max_iter=-1, probability=False, random_state=None, shrinking=True,\n",
              "    tol=0.001, verbose=False)"
            ]
          },
          "metadata": {
            "tags": []
          },
          "execution_count": 9
        }
      ]
    },
    {
      "cell_type": "markdown",
      "metadata": {
        "id": "T6vMtqe_0H01",
        "colab_type": "text"
      },
      "source": [
        "# Final Prediction."
      ]
    },
    {
      "cell_type": "code",
      "metadata": {
        "id": "rcwIg8x60Huw",
        "colab_type": "code",
        "colab": {
          "base_uri": "https://localhost:8080/",
          "height": 88
        },
        "outputId": "5370bfdf-7a5e-4643-d842-3044506105ec"
      },
      "source": [
        "# we are utilizing the whole training dataset for training the fianl model before making predictions on the test set.\n",
        "# resampling our training datasets, in order to prevent overfitting of our models on the majority class of the target feature in our training set\n",
        "x_train_resampled, y_train_resampled = over_sampler.fit_resample(x_train, y_train)\n",
        "# dropping the sythetic feature after resampling is done\n",
        "y_train_resampled = pd.DataFrame(y_train_resampled, columns = y_train.columns)\n",
        "x_train_resampled = pd.DataFrame(x_train_resampled, columns = x_train.columns)\n",
        "\n",
        "# scaling our features in the training dataset\n",
        "scaler = StandardScaler().fit(x_train_resampled)\n",
        "x_train_scaled = scaler.transform(x_train_resampled)\n",
        "x_test_scaled = scaler.transform(x_test)\n",
        "\n",
        "# re-fitting out best found optimized model to the whole training set\n",
        "final_model.fit(x_train_scaled, y_train_resampled.values.ravel())\n",
        "out_of_sample_predictions = final_model.predict(x_test_scaled)\n",
        "\n",
        "final_score = accuracy_score(y_test, out_of_sample_predictions)\n",
        "\n",
        "print('The final average out-of-sample performance score of our best optimized model is', final_score)"
      ],
      "execution_count": 10,
      "outputs": [
        {
          "output_type": "stream",
          "text": [
            "/usr/local/lib/python3.6/dist-packages/sklearn/utils/validation.py:760: DataConversionWarning: A column-vector y was passed when a 1d array was expected. Please change the shape of y to (n_samples, ), for example using ravel().\n",
            "  y = column_or_1d(y, warn=True)\n"
          ],
          "name": "stderr"
        },
        {
          "output_type": "stream",
          "text": [
            "The final average out-of-sample performance score of our best optimized model is 0.8610271903323263\n"
          ],
          "name": "stdout"
        }
      ]
    },
    {
      "cell_type": "markdown",
      "metadata": {
        "id": "5JFiQ8w50Hl9",
        "colab_type": "text"
      },
      "source": [
        "# Saving the model."
      ]
    },
    {
      "cell_type": "code",
      "metadata": {
        "id": "mlQh0ZAn1pOs",
        "colab_type": "code",
        "colab": {
          "base_uri": "https://localhost:8080/",
          "height": 34
        },
        "outputId": "846d2e40-951e-4b6b-8bbd-48e88c61284d"
      },
      "source": [
        "# saving our best found optimized model for this data, as a pickle file\n",
        "joblib.dump(best_model, '/content/drive/My Drive/data_for_HPO&MS/Marketing_response/best_model.pkl')\n",
        "joblib.dump(final_model, '/content/drive/My Drive/data_for_HPO&MS/Marketing_response/final_model.pkl')"
      ],
      "execution_count": 11,
      "outputs": [
        {
          "output_type": "execute_result",
          "data": {
            "text/plain": [
              "['/content/drive/My Drive/data_for_HPO&MS/Marketing_response/final_model.pkl']"
            ]
          },
          "metadata": {
            "tags": []
          },
          "execution_count": 11
        }
      ]
    },
    {
      "cell_type": "code",
      "metadata": {
        "id": "iJ3VKQRs4pG5",
        "colab_type": "code",
        "colab": {}
      },
      "source": [
        ""
      ],
      "execution_count": 12,
      "outputs": []
    }
  ]
}