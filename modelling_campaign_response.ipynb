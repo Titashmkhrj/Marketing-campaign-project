{
 "cells": [
  {
   "cell_type": "markdown",
   "metadata": {},
   "source": [
    "# Project Description.\n",
    "\n",
    "<b>Problem Statement :</b>\n",
    "A response model can provide a significant boost to the efficiency of a marketing campaign by increasing responses or reducing expenses. The objective is to predict who will respond to an offer for a product or service.\n",
    "\n",
    "<b>Objective :</b>\n",
    "* We are required to model the data relating to the various customer attributes and their response towards the marketting campaigns, and report the key-drivers of those responses.\n",
    "* The predictive model will be used to predict the response of a new customer towards a marketting campaign, in order to do targetted marketting which would lead to a better response-ratio for the compaigns and hence will cut down unnecessary costs.\n",
    "\n",
    "<b>Data source :</b>\n",
    "\n",
    "* Kaggle : https://www.kaggle.com/rodsaldanha/arketing-campaign"
   ]
  },
  {
   "cell_type": "markdown",
   "metadata": {},
   "source": [
    "# Importing libraries\n",
    "Okay so prima facie, lets import some of the libraries we will be needing for this project.\n",
    "(even if we are missing out on some library, we can always import it later on in the project.)"
   ]
  },
  {
   "cell_type": "code",
   "execution_count": 1,
   "metadata": {},
   "outputs": [],
   "source": [
    "import sys\n",
    "\n",
    "# library to handle vectorized data \n",
    "import numpy as np \n",
    "# library for data analsysis and manupulation\n",
    "import pandas as pd \n",
    "# so that the output is not trunacated by pandas when we actually want to see it \n",
    "# pd.set_option('display.max_columns', 100)\n",
    "# pd.set_option('display.max_rows', 1000)\n",
    "\n",
    "# for visualisations\n",
    "import seaborn as sns\n",
    "\n",
    "%matplotlib inline \n",
    "import matplotlib as mpl\n",
    "import matplotlib.pyplot as plt"
   ]
  },
  {
   "cell_type": "markdown",
   "metadata": {},
   "source": [
    "# Loading the data."
   ]
  },
  {
   "cell_type": "code",
   "execution_count": 2,
   "metadata": {},
   "outputs": [
    {
     "name": "stdout",
     "output_type": "stream",
     "text": [
      "The dimension of our data is : (2240, 29)\n"
     ]
    }
   ],
   "source": [
    "data = pd.read_csv('marketing_campaign.csv', sep = ';')\n",
    "print('The dimension of our data is :',data.shape)"
   ]
  },
  {
   "cell_type": "code",
   "execution_count": 3,
   "metadata": {},
   "outputs": [
    {
     "data": {
      "text/html": [
       "<div>\n",
       "<style scoped>\n",
       "    .dataframe tbody tr th:only-of-type {\n",
       "        vertical-align: middle;\n",
       "    }\n",
       "\n",
       "    .dataframe tbody tr th {\n",
       "        vertical-align: top;\n",
       "    }\n",
       "\n",
       "    .dataframe thead th {\n",
       "        text-align: right;\n",
       "    }\n",
       "</style>\n",
       "<table border=\"1\" class=\"dataframe\">\n",
       "  <thead>\n",
       "    <tr style=\"text-align: right;\">\n",
       "      <th></th>\n",
       "      <th>ID</th>\n",
       "      <th>Year_Birth</th>\n",
       "      <th>Education</th>\n",
       "      <th>Marital_Status</th>\n",
       "      <th>Income</th>\n",
       "      <th>Kidhome</th>\n",
       "      <th>Teenhome</th>\n",
       "      <th>Dt_Customer</th>\n",
       "      <th>Recency</th>\n",
       "      <th>MntWines</th>\n",
       "      <th>...</th>\n",
       "      <th>NumWebVisitsMonth</th>\n",
       "      <th>AcceptedCmp3</th>\n",
       "      <th>AcceptedCmp4</th>\n",
       "      <th>AcceptedCmp5</th>\n",
       "      <th>AcceptedCmp1</th>\n",
       "      <th>AcceptedCmp2</th>\n",
       "      <th>Complain</th>\n",
       "      <th>Z_CostContact</th>\n",
       "      <th>Z_Revenue</th>\n",
       "      <th>Response</th>\n",
       "    </tr>\n",
       "  </thead>\n",
       "  <tbody>\n",
       "    <tr>\n",
       "      <th>0</th>\n",
       "      <td>5524</td>\n",
       "      <td>1957</td>\n",
       "      <td>Graduation</td>\n",
       "      <td>Single</td>\n",
       "      <td>58138.0</td>\n",
       "      <td>0</td>\n",
       "      <td>0</td>\n",
       "      <td>2012-09-04</td>\n",
       "      <td>58</td>\n",
       "      <td>635</td>\n",
       "      <td>...</td>\n",
       "      <td>7</td>\n",
       "      <td>0</td>\n",
       "      <td>0</td>\n",
       "      <td>0</td>\n",
       "      <td>0</td>\n",
       "      <td>0</td>\n",
       "      <td>0</td>\n",
       "      <td>3</td>\n",
       "      <td>11</td>\n",
       "      <td>1</td>\n",
       "    </tr>\n",
       "    <tr>\n",
       "      <th>1</th>\n",
       "      <td>2174</td>\n",
       "      <td>1954</td>\n",
       "      <td>Graduation</td>\n",
       "      <td>Single</td>\n",
       "      <td>46344.0</td>\n",
       "      <td>1</td>\n",
       "      <td>1</td>\n",
       "      <td>2014-03-08</td>\n",
       "      <td>38</td>\n",
       "      <td>11</td>\n",
       "      <td>...</td>\n",
       "      <td>5</td>\n",
       "      <td>0</td>\n",
       "      <td>0</td>\n",
       "      <td>0</td>\n",
       "      <td>0</td>\n",
       "      <td>0</td>\n",
       "      <td>0</td>\n",
       "      <td>3</td>\n",
       "      <td>11</td>\n",
       "      <td>0</td>\n",
       "    </tr>\n",
       "    <tr>\n",
       "      <th>2</th>\n",
       "      <td>4141</td>\n",
       "      <td>1965</td>\n",
       "      <td>Graduation</td>\n",
       "      <td>Together</td>\n",
       "      <td>71613.0</td>\n",
       "      <td>0</td>\n",
       "      <td>0</td>\n",
       "      <td>2013-08-21</td>\n",
       "      <td>26</td>\n",
       "      <td>426</td>\n",
       "      <td>...</td>\n",
       "      <td>4</td>\n",
       "      <td>0</td>\n",
       "      <td>0</td>\n",
       "      <td>0</td>\n",
       "      <td>0</td>\n",
       "      <td>0</td>\n",
       "      <td>0</td>\n",
       "      <td>3</td>\n",
       "      <td>11</td>\n",
       "      <td>0</td>\n",
       "    </tr>\n",
       "    <tr>\n",
       "      <th>3</th>\n",
       "      <td>6182</td>\n",
       "      <td>1984</td>\n",
       "      <td>Graduation</td>\n",
       "      <td>Together</td>\n",
       "      <td>26646.0</td>\n",
       "      <td>1</td>\n",
       "      <td>0</td>\n",
       "      <td>2014-02-10</td>\n",
       "      <td>26</td>\n",
       "      <td>11</td>\n",
       "      <td>...</td>\n",
       "      <td>6</td>\n",
       "      <td>0</td>\n",
       "      <td>0</td>\n",
       "      <td>0</td>\n",
       "      <td>0</td>\n",
       "      <td>0</td>\n",
       "      <td>0</td>\n",
       "      <td>3</td>\n",
       "      <td>11</td>\n",
       "      <td>0</td>\n",
       "    </tr>\n",
       "    <tr>\n",
       "      <th>4</th>\n",
       "      <td>5324</td>\n",
       "      <td>1981</td>\n",
       "      <td>PhD</td>\n",
       "      <td>Married</td>\n",
       "      <td>58293.0</td>\n",
       "      <td>1</td>\n",
       "      <td>0</td>\n",
       "      <td>2014-01-19</td>\n",
       "      <td>94</td>\n",
       "      <td>173</td>\n",
       "      <td>...</td>\n",
       "      <td>5</td>\n",
       "      <td>0</td>\n",
       "      <td>0</td>\n",
       "      <td>0</td>\n",
       "      <td>0</td>\n",
       "      <td>0</td>\n",
       "      <td>0</td>\n",
       "      <td>3</td>\n",
       "      <td>11</td>\n",
       "      <td>0</td>\n",
       "    </tr>\n",
       "  </tbody>\n",
       "</table>\n",
       "<p>5 rows × 29 columns</p>\n",
       "</div>"
      ],
      "text/plain": [
       "     ID  Year_Birth   Education Marital_Status   Income  Kidhome  Teenhome  \\\n",
       "0  5524        1957  Graduation         Single  58138.0        0         0   \n",
       "1  2174        1954  Graduation         Single  46344.0        1         1   \n",
       "2  4141        1965  Graduation       Together  71613.0        0         0   \n",
       "3  6182        1984  Graduation       Together  26646.0        1         0   \n",
       "4  5324        1981         PhD        Married  58293.0        1         0   \n",
       "\n",
       "  Dt_Customer  Recency  MntWines  ...  NumWebVisitsMonth  AcceptedCmp3  \\\n",
       "0  2012-09-04       58       635  ...                  7             0   \n",
       "1  2014-03-08       38        11  ...                  5             0   \n",
       "2  2013-08-21       26       426  ...                  4             0   \n",
       "3  2014-02-10       26        11  ...                  6             0   \n",
       "4  2014-01-19       94       173  ...                  5             0   \n",
       "\n",
       "   AcceptedCmp4  AcceptedCmp5  AcceptedCmp1  AcceptedCmp2  Complain  \\\n",
       "0             0             0             0             0         0   \n",
       "1             0             0             0             0         0   \n",
       "2             0             0             0             0         0   \n",
       "3             0             0             0             0         0   \n",
       "4             0             0             0             0         0   \n",
       "\n",
       "   Z_CostContact  Z_Revenue  Response  \n",
       "0              3         11         1  \n",
       "1              3         11         0  \n",
       "2              3         11         0  \n",
       "3              3         11         0  \n",
       "4              3         11         0  \n",
       "\n",
       "[5 rows x 29 columns]"
      ]
     },
     "execution_count": 3,
     "metadata": {},
     "output_type": "execute_result"
    }
   ],
   "source": [
    "data.head()"
   ]
  },
  {
   "cell_type": "code",
   "execution_count": 4,
   "metadata": {},
   "outputs": [
    {
     "data": {
      "text/plain": [
       "ID                       int64\n",
       "Year_Birth               int64\n",
       "Education               object\n",
       "Marital_Status          object\n",
       "Income                 float64\n",
       "Kidhome                  int64\n",
       "Teenhome                 int64\n",
       "Dt_Customer             object\n",
       "Recency                  int64\n",
       "MntWines                 int64\n",
       "MntFruits                int64\n",
       "MntMeatProducts          int64\n",
       "MntFishProducts          int64\n",
       "MntSweetProducts         int64\n",
       "MntGoldProds             int64\n",
       "NumDealsPurchases        int64\n",
       "NumWebPurchases          int64\n",
       "NumCatalogPurchases      int64\n",
       "NumStorePurchases        int64\n",
       "NumWebVisitsMonth        int64\n",
       "AcceptedCmp3             int64\n",
       "AcceptedCmp4             int64\n",
       "AcceptedCmp5             int64\n",
       "AcceptedCmp1             int64\n",
       "AcceptedCmp2             int64\n",
       "Complain                 int64\n",
       "Z_CostContact            int64\n",
       "Z_Revenue                int64\n",
       "Response                 int64\n",
       "dtype: object"
      ]
     },
     "execution_count": 4,
     "metadata": {},
     "output_type": "execute_result"
    }
   ],
   "source": [
    "# let's have a look at the features and the corresponding data types of those features\\n\",\n",
    "data.dtypes"
   ]
  },
  {
   "cell_type": "code",
   "execution_count": 5,
   "metadata": {},
   "outputs": [
    {
     "data": {
      "text/html": [
       "<div>\n",
       "<style scoped>\n",
       "    .dataframe tbody tr th:only-of-type {\n",
       "        vertical-align: middle;\n",
       "    }\n",
       "\n",
       "    .dataframe tbody tr th {\n",
       "        vertical-align: top;\n",
       "    }\n",
       "\n",
       "    .dataframe thead th {\n",
       "        text-align: right;\n",
       "    }\n",
       "</style>\n",
       "<table border=\"1\" class=\"dataframe\">\n",
       "  <thead>\n",
       "    <tr style=\"text-align: right;\">\n",
       "      <th></th>\n",
       "      <th>ID</th>\n",
       "      <th>Year_Birth</th>\n",
       "      <th>Education</th>\n",
       "      <th>Marital_Status</th>\n",
       "      <th>Income</th>\n",
       "      <th>Kidhome</th>\n",
       "      <th>Teenhome</th>\n",
       "      <th>Dt_Customer</th>\n",
       "      <th>Recency</th>\n",
       "      <th>MntWines</th>\n",
       "      <th>...</th>\n",
       "      <th>NumWebVisitsMonth</th>\n",
       "      <th>AcceptedCmp3</th>\n",
       "      <th>AcceptedCmp4</th>\n",
       "      <th>AcceptedCmp5</th>\n",
       "      <th>AcceptedCmp1</th>\n",
       "      <th>AcceptedCmp2</th>\n",
       "      <th>Complain</th>\n",
       "      <th>Z_CostContact</th>\n",
       "      <th>Z_Revenue</th>\n",
       "      <th>Response</th>\n",
       "    </tr>\n",
       "  </thead>\n",
       "  <tbody>\n",
       "    <tr>\n",
       "      <th>0</th>\n",
       "      <td>5524</td>\n",
       "      <td>1957</td>\n",
       "      <td>Graduation</td>\n",
       "      <td>Single</td>\n",
       "      <td>58138.0</td>\n",
       "      <td>0</td>\n",
       "      <td>0</td>\n",
       "      <td>2012-09-04</td>\n",
       "      <td>58</td>\n",
       "      <td>635</td>\n",
       "      <td>...</td>\n",
       "      <td>7</td>\n",
       "      <td>0</td>\n",
       "      <td>0</td>\n",
       "      <td>0</td>\n",
       "      <td>0</td>\n",
       "      <td>0</td>\n",
       "      <td>0</td>\n",
       "      <td>3</td>\n",
       "      <td>11</td>\n",
       "      <td>1</td>\n",
       "    </tr>\n",
       "    <tr>\n",
       "      <th>1</th>\n",
       "      <td>2174</td>\n",
       "      <td>1954</td>\n",
       "      <td>Graduation</td>\n",
       "      <td>Single</td>\n",
       "      <td>46344.0</td>\n",
       "      <td>1</td>\n",
       "      <td>1</td>\n",
       "      <td>2014-03-08</td>\n",
       "      <td>38</td>\n",
       "      <td>11</td>\n",
       "      <td>...</td>\n",
       "      <td>5</td>\n",
       "      <td>0</td>\n",
       "      <td>0</td>\n",
       "      <td>0</td>\n",
       "      <td>0</td>\n",
       "      <td>0</td>\n",
       "      <td>0</td>\n",
       "      <td>3</td>\n",
       "      <td>11</td>\n",
       "      <td>0</td>\n",
       "    </tr>\n",
       "    <tr>\n",
       "      <th>2</th>\n",
       "      <td>4141</td>\n",
       "      <td>1965</td>\n",
       "      <td>Graduation</td>\n",
       "      <td>Together</td>\n",
       "      <td>71613.0</td>\n",
       "      <td>0</td>\n",
       "      <td>0</td>\n",
       "      <td>2013-08-21</td>\n",
       "      <td>26</td>\n",
       "      <td>426</td>\n",
       "      <td>...</td>\n",
       "      <td>4</td>\n",
       "      <td>0</td>\n",
       "      <td>0</td>\n",
       "      <td>0</td>\n",
       "      <td>0</td>\n",
       "      <td>0</td>\n",
       "      <td>0</td>\n",
       "      <td>3</td>\n",
       "      <td>11</td>\n",
       "      <td>0</td>\n",
       "    </tr>\n",
       "    <tr>\n",
       "      <th>3</th>\n",
       "      <td>6182</td>\n",
       "      <td>1984</td>\n",
       "      <td>Graduation</td>\n",
       "      <td>Together</td>\n",
       "      <td>26646.0</td>\n",
       "      <td>1</td>\n",
       "      <td>0</td>\n",
       "      <td>2014-02-10</td>\n",
       "      <td>26</td>\n",
       "      <td>11</td>\n",
       "      <td>...</td>\n",
       "      <td>6</td>\n",
       "      <td>0</td>\n",
       "      <td>0</td>\n",
       "      <td>0</td>\n",
       "      <td>0</td>\n",
       "      <td>0</td>\n",
       "      <td>0</td>\n",
       "      <td>3</td>\n",
       "      <td>11</td>\n",
       "      <td>0</td>\n",
       "    </tr>\n",
       "    <tr>\n",
       "      <th>4</th>\n",
       "      <td>5324</td>\n",
       "      <td>1981</td>\n",
       "      <td>PhD</td>\n",
       "      <td>Married</td>\n",
       "      <td>58293.0</td>\n",
       "      <td>1</td>\n",
       "      <td>0</td>\n",
       "      <td>2014-01-19</td>\n",
       "      <td>94</td>\n",
       "      <td>173</td>\n",
       "      <td>...</td>\n",
       "      <td>5</td>\n",
       "      <td>0</td>\n",
       "      <td>0</td>\n",
       "      <td>0</td>\n",
       "      <td>0</td>\n",
       "      <td>0</td>\n",
       "      <td>0</td>\n",
       "      <td>3</td>\n",
       "      <td>11</td>\n",
       "      <td>0</td>\n",
       "    </tr>\n",
       "  </tbody>\n",
       "</table>\n",
       "<p>5 rows × 29 columns</p>\n",
       "</div>"
      ],
      "text/plain": [
       "     ID  Year_Birth   Education Marital_Status   Income  Kidhome  Teenhome  \\\n",
       "0  5524        1957  Graduation         Single  58138.0        0         0   \n",
       "1  2174        1954  Graduation         Single  46344.0        1         1   \n",
       "2  4141        1965  Graduation       Together  71613.0        0         0   \n",
       "3  6182        1984  Graduation       Together  26646.0        1         0   \n",
       "4  5324        1981         PhD        Married  58293.0        1         0   \n",
       "\n",
       "  Dt_Customer  Recency  MntWines  ...  NumWebVisitsMonth  AcceptedCmp3  \\\n",
       "0  2012-09-04       58       635  ...                  7             0   \n",
       "1  2014-03-08       38        11  ...                  5             0   \n",
       "2  2013-08-21       26       426  ...                  4             0   \n",
       "3  2014-02-10       26        11  ...                  6             0   \n",
       "4  2014-01-19       94       173  ...                  5             0   \n",
       "\n",
       "   AcceptedCmp4  AcceptedCmp5  AcceptedCmp1  AcceptedCmp2  Complain  \\\n",
       "0             0             0             0             0         0   \n",
       "1             0             0             0             0         0   \n",
       "2             0             0             0             0         0   \n",
       "3             0             0             0             0         0   \n",
       "4             0             0             0             0         0   \n",
       "\n",
       "   Z_CostContact  Z_Revenue  Response  \n",
       "0              3         11         1  \n",
       "1              3         11         0  \n",
       "2              3         11         0  \n",
       "3              3         11         0  \n",
       "4              3         11         0  \n",
       "\n",
       "[5 rows x 29 columns]"
      ]
     },
     "execution_count": 5,
     "metadata": {},
     "output_type": "execute_result"
    }
   ],
   "source": [
    "data.head()"
   ]
  },
  {
   "cell_type": "markdown",
   "metadata": {},
   "source": [
    "# Exploratory data analysis and data cleaning."
   ]
  },
  {
   "cell_type": "markdown",
   "metadata": {},
   "source": [
    "### Feature : ' ID '"
   ]
  },
  {
   "cell_type": "code",
   "execution_count": 6,
   "metadata": {},
   "outputs": [
    {
     "data": {
      "text/plain": [
       "Int64Index([    0,     1,     9,    13,    17,    20,    22,    24,    25,\n",
       "               35,\n",
       "            ...\n",
       "            11133, 11148, 11166, 11171, 11176, 11178, 11181, 11187, 11188,\n",
       "            11191],\n",
       "           dtype='int64', length=2240)"
      ]
     },
     "execution_count": 6,
     "metadata": {},
     "output_type": "execute_result"
    }
   ],
   "source": [
    "data['ID'].value_counts().index.sort_values(ascending=True)"
   ]
  },
  {
   "cell_type": "markdown",
   "metadata": {},
   "source": [
    "Okay so we can see that the feature ID represents the customer IDs of the various customers over a period of time, but the data does not reflect a consecutive collection of data from all the customers, which is why the length of our data is no inline with the range of the customer IDs in this feature.  \n",
    "Due to the fact mentoined above, the feature is distorting the data a bit, so we will be dropping the feature from our data as it is not adding any value to our data and hence not required for our analysis."
   ]
  },
  {
   "cell_type": "code",
   "execution_count": 7,
   "metadata": {},
   "outputs": [],
   "source": [
    "data.drop('ID', axis=1, inplace=True)"
   ]
  },
  {
   "cell_type": "markdown",
   "metadata": {},
   "source": [
    "### Feature : ' Year_Birth '"
   ]
  },
  {
   "cell_type": "code",
   "execution_count": 8,
   "metadata": {},
   "outputs": [
    {
     "data": {
      "text/plain": [
       "Int64Index([1893, 1899, 1900, 1940, 1941, 1943, 1944, 1945, 1946, 1947, 1948,\n",
       "            1949, 1950, 1951, 1952, 1953, 1954, 1955, 1956, 1957, 1958, 1959,\n",
       "            1960, 1961, 1962, 1963, 1964, 1965, 1966, 1967, 1968, 1969, 1970,\n",
       "            1971, 1972, 1973, 1974, 1975, 1976, 1977, 1978, 1979, 1980, 1981,\n",
       "            1982, 1983, 1984, 1985, 1986, 1987, 1988, 1989, 1990, 1991, 1992,\n",
       "            1993, 1994, 1995, 1996],\n",
       "           dtype='int64')"
      ]
     },
     "execution_count": 8,
     "metadata": {},
     "output_type": "execute_result"
    }
   ],
   "source": [
    "data['Year_Birth'].value_counts().index.sort_values(ascending=True)"
   ]
  },
  {
   "cell_type": "markdown",
   "metadata": {},
   "source": [
    "Okay so from above we can observe the the feature 'Year_Birth' represents the different years of birth of the customers. The data collected contains some gaps in this feature; in terms of particular years in which customers were born. So our data does not contain all the years starting from 1893 to 1996."
   ]
  },
  {
   "cell_type": "markdown",
   "metadata": {},
   "source": [
    "### Feature : ' Education '"
   ]
  },
  {
   "cell_type": "code",
   "execution_count": 9,
   "metadata": {},
   "outputs": [
    {
     "data": {
      "text/plain": [
       "Index(['2n Cycle', 'Basic', 'Graduation', 'Master', 'PhD'], dtype='object')"
      ]
     },
     "execution_count": 9,
     "metadata": {},
     "output_type": "execute_result"
    }
   ],
   "source": [
    "data['Education'].value_counts().index.sort_values(ascending=True)"
   ]
  },
  {
   "cell_type": "markdown",
   "metadata": {},
   "source": [
    "We can see that there are  classes in this feature, but there are 2 among them which mean the same but are represented in two different ways; i.e. '2n Cycle' and 'Master'. So we will replace all occurances of he class'2n Cycle' with 'Master', for a better value representation."
   ]
  },
  {
   "cell_type": "code",
   "execution_count": 10,
   "metadata": {},
   "outputs": [],
   "source": [
    "data['Education'] = data[\"Education\"].replace('2n Cycle', \"Master\")"
   ]
  },
  {
   "cell_type": "markdown",
   "metadata": {},
   "source": [
    "### Feature : ' Marital_Status '"
   ]
  },
  {
   "cell_type": "code",
   "execution_count": 11,
   "metadata": {},
   "outputs": [
    {
     "data": {
      "text/plain": [
       "Married     864\n",
       "Together    580\n",
       "Single      480\n",
       "Divorced    232\n",
       "Widow        77\n",
       "Alone         3\n",
       "Absurd        2\n",
       "YOLO          2\n",
       "Name: Marital_Status, dtype: int64"
      ]
     },
     "execution_count": 11,
     "metadata": {},
     "output_type": "execute_result"
    }
   ],
   "source": [
    "data['Marital_Status'].value_counts()"
   ]
  },
  {
   "cell_type": "markdown",
   "metadata": {},
   "source": [
    "okay so this feature has 8 classes inour data, for the purpose of a better value representation in this feature, we will be doing the following transformations to some of the classes :\n",
    "* 'Together' > replaced by 'live_in',\n",
    "* 'Alone', 'YOLO' and 'Absurd' > replaced by 'single' ."
   ]
  },
  {
   "cell_type": "code",
   "execution_count": 12,
   "metadata": {},
   "outputs": [],
   "source": [
    "data['Marital_Status'] = data['Marital_Status'].replace('Together', 'Live_in')\n",
    "data['Marital_Status'] = data['Marital_Status'].replace(['YOLO', 'Alone', 'Absurd'], 'Single')"
   ]
  },
  {
   "cell_type": "markdown",
   "metadata": {},
   "source": [
    "### Feature : ' Dt_Customer '"
   ]
  },
  {
   "cell_type": "code",
   "execution_count": 13,
   "metadata": {},
   "outputs": [
    {
     "data": {
      "text/plain": [
       "Index(['2012-07-30', '2012-07-31', '2012-08-01', '2012-08-02', '2012-08-03',\n",
       "       '2012-08-04', '2012-08-05', '2012-08-06', '2012-08-07', '2012-08-08',\n",
       "       ...\n",
       "       '2014-06-20', '2014-06-21', '2014-06-22', '2014-06-23', '2014-06-24',\n",
       "       '2014-06-25', '2014-06-26', '2014-06-27', '2014-06-28', '2014-06-29'],\n",
       "      dtype='object', length=663)"
      ]
     },
     "execution_count": 13,
     "metadata": {},
     "output_type": "execute_result"
    }
   ],
   "source": [
    "data['Dt_Customer'].value_counts().index.sort_values(ascending=True)"
   ]
  },
  {
   "cell_type": "markdown",
   "metadata": {},
   "source": [
    "The feature Dt_Customer represents dates of customer’s enrolment with the company. The data in this feature is represented in type str. In order to improve the value representation of this feture, and to do meaningful feature engineering with this feature, we will be converting the values in this feaure to data type datetime."
   ]
  },
  {
   "cell_type": "code",
   "execution_count": 14,
   "metadata": {},
   "outputs": [],
   "source": [
    "data['Dt_Customer'] = pd.to_datetime(data['Dt_Customer'], format=\"%Y-%m-%d\")"
   ]
  },
  {
   "cell_type": "code",
   "execution_count": 15,
   "metadata": {},
   "outputs": [
    {
     "data": {
      "text/plain": [
       "DatetimeIndex(['2012-07-30', '2012-07-31', '2012-08-01', '2012-08-02',\n",
       "               '2012-08-03', '2012-08-04', '2012-08-05', '2012-08-06',\n",
       "               '2012-08-07', '2012-08-08',\n",
       "               ...\n",
       "               '2014-06-20', '2014-06-21', '2014-06-22', '2014-06-23',\n",
       "               '2014-06-24', '2014-06-25', '2014-06-26', '2014-06-27',\n",
       "               '2014-06-28', '2014-06-29'],\n",
       "              dtype='datetime64[ns]', length=663, freq=None)"
      ]
     },
     "execution_count": 15,
     "metadata": {},
     "output_type": "execute_result"
    }
   ],
   "source": [
    "data['Dt_Customer'].value_counts().index.sort_values(ascending=True)"
   ]
  },
  {
   "cell_type": "markdown",
   "metadata": {},
   "source": [
    "As we can see that the data type has been converted into datetime64[ns], without effecting the data itself."
   ]
  },
  {
   "cell_type": "markdown",
   "metadata": {},
   "source": [
    "# Descriptive analysis."
   ]
  },
  {
   "cell_type": "code",
   "execution_count": 16,
   "metadata": {},
   "outputs": [
    {
     "data": {
      "text/html": [
       "<div>\n",
       "<style scoped>\n",
       "    .dataframe tbody tr th:only-of-type {\n",
       "        vertical-align: middle;\n",
       "    }\n",
       "\n",
       "    .dataframe tbody tr th {\n",
       "        vertical-align: top;\n",
       "    }\n",
       "\n",
       "    .dataframe thead th {\n",
       "        text-align: right;\n",
       "    }\n",
       "</style>\n",
       "<table border=\"1\" class=\"dataframe\">\n",
       "  <thead>\n",
       "    <tr style=\"text-align: right;\">\n",
       "      <th></th>\n",
       "      <th>Year_Birth</th>\n",
       "      <th>Income</th>\n",
       "      <th>Kidhome</th>\n",
       "      <th>Teenhome</th>\n",
       "      <th>Recency</th>\n",
       "      <th>MntWines</th>\n",
       "      <th>MntFruits</th>\n",
       "      <th>MntMeatProducts</th>\n",
       "      <th>MntFishProducts</th>\n",
       "      <th>MntSweetProducts</th>\n",
       "      <th>...</th>\n",
       "      <th>NumWebVisitsMonth</th>\n",
       "      <th>AcceptedCmp3</th>\n",
       "      <th>AcceptedCmp4</th>\n",
       "      <th>AcceptedCmp5</th>\n",
       "      <th>AcceptedCmp1</th>\n",
       "      <th>AcceptedCmp2</th>\n",
       "      <th>Complain</th>\n",
       "      <th>Z_CostContact</th>\n",
       "      <th>Z_Revenue</th>\n",
       "      <th>Response</th>\n",
       "    </tr>\n",
       "  </thead>\n",
       "  <tbody>\n",
       "    <tr>\n",
       "      <th>count</th>\n",
       "      <td>2240.000000</td>\n",
       "      <td>2216.000000</td>\n",
       "      <td>2240.000000</td>\n",
       "      <td>2240.000000</td>\n",
       "      <td>2240.000000</td>\n",
       "      <td>2240.000000</td>\n",
       "      <td>2240.000000</td>\n",
       "      <td>2240.000000</td>\n",
       "      <td>2240.000000</td>\n",
       "      <td>2240.000000</td>\n",
       "      <td>...</td>\n",
       "      <td>2240.000000</td>\n",
       "      <td>2240.000000</td>\n",
       "      <td>2240.000000</td>\n",
       "      <td>2240.000000</td>\n",
       "      <td>2240.000000</td>\n",
       "      <td>2240.000000</td>\n",
       "      <td>2240.000000</td>\n",
       "      <td>2240.0</td>\n",
       "      <td>2240.0</td>\n",
       "      <td>2240.000000</td>\n",
       "    </tr>\n",
       "    <tr>\n",
       "      <th>mean</th>\n",
       "      <td>1968.805804</td>\n",
       "      <td>52247.251354</td>\n",
       "      <td>0.444196</td>\n",
       "      <td>0.506250</td>\n",
       "      <td>49.109375</td>\n",
       "      <td>303.935714</td>\n",
       "      <td>26.302232</td>\n",
       "      <td>166.950000</td>\n",
       "      <td>37.525446</td>\n",
       "      <td>27.062946</td>\n",
       "      <td>...</td>\n",
       "      <td>5.316518</td>\n",
       "      <td>0.072768</td>\n",
       "      <td>0.074554</td>\n",
       "      <td>0.072768</td>\n",
       "      <td>0.064286</td>\n",
       "      <td>0.013393</td>\n",
       "      <td>0.009375</td>\n",
       "      <td>3.0</td>\n",
       "      <td>11.0</td>\n",
       "      <td>0.149107</td>\n",
       "    </tr>\n",
       "    <tr>\n",
       "      <th>std</th>\n",
       "      <td>11.984069</td>\n",
       "      <td>25173.076661</td>\n",
       "      <td>0.538398</td>\n",
       "      <td>0.544538</td>\n",
       "      <td>28.962453</td>\n",
       "      <td>336.597393</td>\n",
       "      <td>39.773434</td>\n",
       "      <td>225.715373</td>\n",
       "      <td>54.628979</td>\n",
       "      <td>41.280498</td>\n",
       "      <td>...</td>\n",
       "      <td>2.426645</td>\n",
       "      <td>0.259813</td>\n",
       "      <td>0.262728</td>\n",
       "      <td>0.259813</td>\n",
       "      <td>0.245316</td>\n",
       "      <td>0.114976</td>\n",
       "      <td>0.096391</td>\n",
       "      <td>0.0</td>\n",
       "      <td>0.0</td>\n",
       "      <td>0.356274</td>\n",
       "    </tr>\n",
       "    <tr>\n",
       "      <th>min</th>\n",
       "      <td>1893.000000</td>\n",
       "      <td>1730.000000</td>\n",
       "      <td>0.000000</td>\n",
       "      <td>0.000000</td>\n",
       "      <td>0.000000</td>\n",
       "      <td>0.000000</td>\n",
       "      <td>0.000000</td>\n",
       "      <td>0.000000</td>\n",
       "      <td>0.000000</td>\n",
       "      <td>0.000000</td>\n",
       "      <td>...</td>\n",
       "      <td>0.000000</td>\n",
       "      <td>0.000000</td>\n",
       "      <td>0.000000</td>\n",
       "      <td>0.000000</td>\n",
       "      <td>0.000000</td>\n",
       "      <td>0.000000</td>\n",
       "      <td>0.000000</td>\n",
       "      <td>3.0</td>\n",
       "      <td>11.0</td>\n",
       "      <td>0.000000</td>\n",
       "    </tr>\n",
       "    <tr>\n",
       "      <th>25%</th>\n",
       "      <td>1959.000000</td>\n",
       "      <td>35303.000000</td>\n",
       "      <td>0.000000</td>\n",
       "      <td>0.000000</td>\n",
       "      <td>24.000000</td>\n",
       "      <td>23.750000</td>\n",
       "      <td>1.000000</td>\n",
       "      <td>16.000000</td>\n",
       "      <td>3.000000</td>\n",
       "      <td>1.000000</td>\n",
       "      <td>...</td>\n",
       "      <td>3.000000</td>\n",
       "      <td>0.000000</td>\n",
       "      <td>0.000000</td>\n",
       "      <td>0.000000</td>\n",
       "      <td>0.000000</td>\n",
       "      <td>0.000000</td>\n",
       "      <td>0.000000</td>\n",
       "      <td>3.0</td>\n",
       "      <td>11.0</td>\n",
       "      <td>0.000000</td>\n",
       "    </tr>\n",
       "    <tr>\n",
       "      <th>50%</th>\n",
       "      <td>1970.000000</td>\n",
       "      <td>51381.500000</td>\n",
       "      <td>0.000000</td>\n",
       "      <td>0.000000</td>\n",
       "      <td>49.000000</td>\n",
       "      <td>173.500000</td>\n",
       "      <td>8.000000</td>\n",
       "      <td>67.000000</td>\n",
       "      <td>12.000000</td>\n",
       "      <td>8.000000</td>\n",
       "      <td>...</td>\n",
       "      <td>6.000000</td>\n",
       "      <td>0.000000</td>\n",
       "      <td>0.000000</td>\n",
       "      <td>0.000000</td>\n",
       "      <td>0.000000</td>\n",
       "      <td>0.000000</td>\n",
       "      <td>0.000000</td>\n",
       "      <td>3.0</td>\n",
       "      <td>11.0</td>\n",
       "      <td>0.000000</td>\n",
       "    </tr>\n",
       "    <tr>\n",
       "      <th>75%</th>\n",
       "      <td>1977.000000</td>\n",
       "      <td>68522.000000</td>\n",
       "      <td>1.000000</td>\n",
       "      <td>1.000000</td>\n",
       "      <td>74.000000</td>\n",
       "      <td>504.250000</td>\n",
       "      <td>33.000000</td>\n",
       "      <td>232.000000</td>\n",
       "      <td>50.000000</td>\n",
       "      <td>33.000000</td>\n",
       "      <td>...</td>\n",
       "      <td>7.000000</td>\n",
       "      <td>0.000000</td>\n",
       "      <td>0.000000</td>\n",
       "      <td>0.000000</td>\n",
       "      <td>0.000000</td>\n",
       "      <td>0.000000</td>\n",
       "      <td>0.000000</td>\n",
       "      <td>3.0</td>\n",
       "      <td>11.0</td>\n",
       "      <td>0.000000</td>\n",
       "    </tr>\n",
       "    <tr>\n",
       "      <th>max</th>\n",
       "      <td>1996.000000</td>\n",
       "      <td>666666.000000</td>\n",
       "      <td>2.000000</td>\n",
       "      <td>2.000000</td>\n",
       "      <td>99.000000</td>\n",
       "      <td>1493.000000</td>\n",
       "      <td>199.000000</td>\n",
       "      <td>1725.000000</td>\n",
       "      <td>259.000000</td>\n",
       "      <td>263.000000</td>\n",
       "      <td>...</td>\n",
       "      <td>20.000000</td>\n",
       "      <td>1.000000</td>\n",
       "      <td>1.000000</td>\n",
       "      <td>1.000000</td>\n",
       "      <td>1.000000</td>\n",
       "      <td>1.000000</td>\n",
       "      <td>1.000000</td>\n",
       "      <td>3.0</td>\n",
       "      <td>11.0</td>\n",
       "      <td>1.000000</td>\n",
       "    </tr>\n",
       "  </tbody>\n",
       "</table>\n",
       "<p>8 rows × 25 columns</p>\n",
       "</div>"
      ],
      "text/plain": [
       "        Year_Birth         Income      Kidhome     Teenhome      Recency  \\\n",
       "count  2240.000000    2216.000000  2240.000000  2240.000000  2240.000000   \n",
       "mean   1968.805804   52247.251354     0.444196     0.506250    49.109375   \n",
       "std      11.984069   25173.076661     0.538398     0.544538    28.962453   \n",
       "min    1893.000000    1730.000000     0.000000     0.000000     0.000000   \n",
       "25%    1959.000000   35303.000000     0.000000     0.000000    24.000000   \n",
       "50%    1970.000000   51381.500000     0.000000     0.000000    49.000000   \n",
       "75%    1977.000000   68522.000000     1.000000     1.000000    74.000000   \n",
       "max    1996.000000  666666.000000     2.000000     2.000000    99.000000   \n",
       "\n",
       "          MntWines    MntFruits  MntMeatProducts  MntFishProducts  \\\n",
       "count  2240.000000  2240.000000      2240.000000      2240.000000   \n",
       "mean    303.935714    26.302232       166.950000        37.525446   \n",
       "std     336.597393    39.773434       225.715373        54.628979   \n",
       "min       0.000000     0.000000         0.000000         0.000000   \n",
       "25%      23.750000     1.000000        16.000000         3.000000   \n",
       "50%     173.500000     8.000000        67.000000        12.000000   \n",
       "75%     504.250000    33.000000       232.000000        50.000000   \n",
       "max    1493.000000   199.000000      1725.000000       259.000000   \n",
       "\n",
       "       MntSweetProducts  ...  NumWebVisitsMonth  AcceptedCmp3  AcceptedCmp4  \\\n",
       "count       2240.000000  ...        2240.000000   2240.000000   2240.000000   \n",
       "mean          27.062946  ...           5.316518      0.072768      0.074554   \n",
       "std           41.280498  ...           2.426645      0.259813      0.262728   \n",
       "min            0.000000  ...           0.000000      0.000000      0.000000   \n",
       "25%            1.000000  ...           3.000000      0.000000      0.000000   \n",
       "50%            8.000000  ...           6.000000      0.000000      0.000000   \n",
       "75%           33.000000  ...           7.000000      0.000000      0.000000   \n",
       "max          263.000000  ...          20.000000      1.000000      1.000000   \n",
       "\n",
       "       AcceptedCmp5  AcceptedCmp1  AcceptedCmp2     Complain  Z_CostContact  \\\n",
       "count   2240.000000   2240.000000   2240.000000  2240.000000         2240.0   \n",
       "mean       0.072768      0.064286      0.013393     0.009375            3.0   \n",
       "std        0.259813      0.245316      0.114976     0.096391            0.0   \n",
       "min        0.000000      0.000000      0.000000     0.000000            3.0   \n",
       "25%        0.000000      0.000000      0.000000     0.000000            3.0   \n",
       "50%        0.000000      0.000000      0.000000     0.000000            3.0   \n",
       "75%        0.000000      0.000000      0.000000     0.000000            3.0   \n",
       "max        1.000000      1.000000      1.000000     1.000000            3.0   \n",
       "\n",
       "       Z_Revenue     Response  \n",
       "count     2240.0  2240.000000  \n",
       "mean        11.0     0.149107  \n",
       "std          0.0     0.356274  \n",
       "min         11.0     0.000000  \n",
       "25%         11.0     0.000000  \n",
       "50%         11.0     0.000000  \n",
       "75%         11.0     0.000000  \n",
       "max         11.0     1.000000  \n",
       "\n",
       "[8 rows x 25 columns]"
      ]
     },
     "execution_count": 16,
     "metadata": {},
     "output_type": "execute_result"
    }
   ],
   "source": [
    "data.describe()"
   ]
  },
  {
   "cell_type": "markdown",
   "metadata": {},
   "source": [
    "As we can see from above the numerical features are on very different scales with respect to each other, this tells us that we will need to scale the numerical features in the future before using for modelling the data."
   ]
  },
  {
   "cell_type": "code",
   "execution_count": 17,
   "metadata": {},
   "outputs": [
    {
     "data": {
      "text/html": [
       "<div>\n",
       "<style scoped>\n",
       "    .dataframe tbody tr th:only-of-type {\n",
       "        vertical-align: middle;\n",
       "    }\n",
       "\n",
       "    .dataframe tbody tr th {\n",
       "        vertical-align: top;\n",
       "    }\n",
       "\n",
       "    .dataframe thead th {\n",
       "        text-align: right;\n",
       "    }\n",
       "</style>\n",
       "<table border=\"1\" class=\"dataframe\">\n",
       "  <thead>\n",
       "    <tr style=\"text-align: right;\">\n",
       "      <th></th>\n",
       "      <th>Year_Birth</th>\n",
       "      <th>Income</th>\n",
       "      <th>Kidhome</th>\n",
       "      <th>Teenhome</th>\n",
       "      <th>Recency</th>\n",
       "      <th>MntWines</th>\n",
       "      <th>MntFruits</th>\n",
       "      <th>MntMeatProducts</th>\n",
       "      <th>MntFishProducts</th>\n",
       "      <th>MntSweetProducts</th>\n",
       "      <th>...</th>\n",
       "      <th>NumWebVisitsMonth</th>\n",
       "      <th>AcceptedCmp3</th>\n",
       "      <th>AcceptedCmp4</th>\n",
       "      <th>AcceptedCmp5</th>\n",
       "      <th>AcceptedCmp1</th>\n",
       "      <th>AcceptedCmp2</th>\n",
       "      <th>Complain</th>\n",
       "      <th>Z_CostContact</th>\n",
       "      <th>Z_Revenue</th>\n",
       "      <th>Response</th>\n",
       "    </tr>\n",
       "  </thead>\n",
       "  <tbody>\n",
       "    <tr>\n",
       "      <th>Year_Birth</th>\n",
       "      <td>1.000000</td>\n",
       "      <td>-0.161791</td>\n",
       "      <td>0.230176</td>\n",
       "      <td>-0.352111</td>\n",
       "      <td>-0.019871</td>\n",
       "      <td>-0.157773</td>\n",
       "      <td>-0.017917</td>\n",
       "      <td>-0.030872</td>\n",
       "      <td>-0.041625</td>\n",
       "      <td>-0.018133</td>\n",
       "      <td>...</td>\n",
       "      <td>0.121139</td>\n",
       "      <td>0.061774</td>\n",
       "      <td>-0.060510</td>\n",
       "      <td>0.007123</td>\n",
       "      <td>-0.005930</td>\n",
       "      <td>-0.006539</td>\n",
       "      <td>-0.030128</td>\n",
       "      <td>NaN</td>\n",
       "      <td>NaN</td>\n",
       "      <td>0.021325</td>\n",
       "    </tr>\n",
       "    <tr>\n",
       "      <th>Income</th>\n",
       "      <td>-0.161791</td>\n",
       "      <td>1.000000</td>\n",
       "      <td>-0.428669</td>\n",
       "      <td>0.019133</td>\n",
       "      <td>-0.003970</td>\n",
       "      <td>0.578650</td>\n",
       "      <td>0.430842</td>\n",
       "      <td>0.584633</td>\n",
       "      <td>0.438871</td>\n",
       "      <td>0.440744</td>\n",
       "      <td>...</td>\n",
       "      <td>-0.553088</td>\n",
       "      <td>-0.016174</td>\n",
       "      <td>0.184400</td>\n",
       "      <td>0.335943</td>\n",
       "      <td>0.276820</td>\n",
       "      <td>0.087545</td>\n",
       "      <td>-0.027225</td>\n",
       "      <td>NaN</td>\n",
       "      <td>NaN</td>\n",
       "      <td>0.133047</td>\n",
       "    </tr>\n",
       "    <tr>\n",
       "      <th>Kidhome</th>\n",
       "      <td>0.230176</td>\n",
       "      <td>-0.428669</td>\n",
       "      <td>1.000000</td>\n",
       "      <td>-0.036133</td>\n",
       "      <td>0.008827</td>\n",
       "      <td>-0.496297</td>\n",
       "      <td>-0.372581</td>\n",
       "      <td>-0.437129</td>\n",
       "      <td>-0.387644</td>\n",
       "      <td>-0.370673</td>\n",
       "      <td>...</td>\n",
       "      <td>0.447846</td>\n",
       "      <td>0.014674</td>\n",
       "      <td>-0.161600</td>\n",
       "      <td>-0.205634</td>\n",
       "      <td>-0.172339</td>\n",
       "      <td>-0.081716</td>\n",
       "      <td>0.040207</td>\n",
       "      <td>NaN</td>\n",
       "      <td>NaN</td>\n",
       "      <td>-0.080008</td>\n",
       "    </tr>\n",
       "    <tr>\n",
       "      <th>Teenhome</th>\n",
       "      <td>-0.352111</td>\n",
       "      <td>0.019133</td>\n",
       "      <td>-0.036133</td>\n",
       "      <td>1.000000</td>\n",
       "      <td>0.016198</td>\n",
       "      <td>0.004846</td>\n",
       "      <td>-0.176764</td>\n",
       "      <td>-0.261160</td>\n",
       "      <td>-0.204187</td>\n",
       "      <td>-0.162475</td>\n",
       "      <td>...</td>\n",
       "      <td>0.134884</td>\n",
       "      <td>-0.042677</td>\n",
       "      <td>0.038886</td>\n",
       "      <td>-0.191050</td>\n",
       "      <td>-0.140090</td>\n",
       "      <td>-0.015605</td>\n",
       "      <td>0.003138</td>\n",
       "      <td>NaN</td>\n",
       "      <td>NaN</td>\n",
       "      <td>-0.154446</td>\n",
       "    </tr>\n",
       "    <tr>\n",
       "      <th>Recency</th>\n",
       "      <td>-0.019871</td>\n",
       "      <td>-0.003970</td>\n",
       "      <td>0.008827</td>\n",
       "      <td>0.016198</td>\n",
       "      <td>1.000000</td>\n",
       "      <td>0.016064</td>\n",
       "      <td>-0.004306</td>\n",
       "      <td>0.023056</td>\n",
       "      <td>0.001079</td>\n",
       "      <td>0.022670</td>\n",
       "      <td>...</td>\n",
       "      <td>-0.021445</td>\n",
       "      <td>-0.032991</td>\n",
       "      <td>0.018826</td>\n",
       "      <td>0.000129</td>\n",
       "      <td>-0.019283</td>\n",
       "      <td>-0.001781</td>\n",
       "      <td>0.013231</td>\n",
       "      <td>NaN</td>\n",
       "      <td>NaN</td>\n",
       "      <td>-0.198437</td>\n",
       "    </tr>\n",
       "    <tr>\n",
       "      <th>MntWines</th>\n",
       "      <td>-0.157773</td>\n",
       "      <td>0.578650</td>\n",
       "      <td>-0.496297</td>\n",
       "      <td>0.004846</td>\n",
       "      <td>0.016064</td>\n",
       "      <td>1.000000</td>\n",
       "      <td>0.389637</td>\n",
       "      <td>0.562667</td>\n",
       "      <td>0.399753</td>\n",
       "      <td>0.386581</td>\n",
       "      <td>...</td>\n",
       "      <td>-0.320653</td>\n",
       "      <td>0.062202</td>\n",
       "      <td>0.373286</td>\n",
       "      <td>0.472613</td>\n",
       "      <td>0.354133</td>\n",
       "      <td>0.205907</td>\n",
       "      <td>-0.039007</td>\n",
       "      <td>NaN</td>\n",
       "      <td>NaN</td>\n",
       "      <td>0.247254</td>\n",
       "    </tr>\n",
       "    <tr>\n",
       "      <th>MntFruits</th>\n",
       "      <td>-0.017917</td>\n",
       "      <td>0.430842</td>\n",
       "      <td>-0.372581</td>\n",
       "      <td>-0.176764</td>\n",
       "      <td>-0.004306</td>\n",
       "      <td>0.389637</td>\n",
       "      <td>1.000000</td>\n",
       "      <td>0.543105</td>\n",
       "      <td>0.594804</td>\n",
       "      <td>0.567164</td>\n",
       "      <td>...</td>\n",
       "      <td>-0.418383</td>\n",
       "      <td>0.014727</td>\n",
       "      <td>0.010152</td>\n",
       "      <td>0.215833</td>\n",
       "      <td>0.194748</td>\n",
       "      <td>-0.009773</td>\n",
       "      <td>-0.005166</td>\n",
       "      <td>NaN</td>\n",
       "      <td>NaN</td>\n",
       "      <td>0.125289</td>\n",
       "    </tr>\n",
       "    <tr>\n",
       "      <th>MntMeatProducts</th>\n",
       "      <td>-0.030872</td>\n",
       "      <td>0.584633</td>\n",
       "      <td>-0.437129</td>\n",
       "      <td>-0.261160</td>\n",
       "      <td>0.023056</td>\n",
       "      <td>0.562667</td>\n",
       "      <td>0.543105</td>\n",
       "      <td>1.000000</td>\n",
       "      <td>0.568402</td>\n",
       "      <td>0.523846</td>\n",
       "      <td>...</td>\n",
       "      <td>-0.539470</td>\n",
       "      <td>0.018272</td>\n",
       "      <td>0.102912</td>\n",
       "      <td>0.373769</td>\n",
       "      <td>0.309761</td>\n",
       "      <td>0.043033</td>\n",
       "      <td>-0.023483</td>\n",
       "      <td>NaN</td>\n",
       "      <td>NaN</td>\n",
       "      <td>0.236335</td>\n",
       "    </tr>\n",
       "    <tr>\n",
       "      <th>MntFishProducts</th>\n",
       "      <td>-0.041625</td>\n",
       "      <td>0.438871</td>\n",
       "      <td>-0.387644</td>\n",
       "      <td>-0.204187</td>\n",
       "      <td>0.001079</td>\n",
       "      <td>0.399753</td>\n",
       "      <td>0.594804</td>\n",
       "      <td>0.568402</td>\n",
       "      <td>1.000000</td>\n",
       "      <td>0.579870</td>\n",
       "      <td>...</td>\n",
       "      <td>-0.446003</td>\n",
       "      <td>0.000357</td>\n",
       "      <td>0.016843</td>\n",
       "      <td>0.199578</td>\n",
       "      <td>0.260762</td>\n",
       "      <td>0.002577</td>\n",
       "      <td>-0.020953</td>\n",
       "      <td>NaN</td>\n",
       "      <td>NaN</td>\n",
       "      <td>0.111331</td>\n",
       "    </tr>\n",
       "    <tr>\n",
       "      <th>MntSweetProducts</th>\n",
       "      <td>-0.018133</td>\n",
       "      <td>0.440744</td>\n",
       "      <td>-0.370673</td>\n",
       "      <td>-0.162475</td>\n",
       "      <td>0.022670</td>\n",
       "      <td>0.386581</td>\n",
       "      <td>0.567164</td>\n",
       "      <td>0.523846</td>\n",
       "      <td>0.579870</td>\n",
       "      <td>1.000000</td>\n",
       "      <td>...</td>\n",
       "      <td>-0.423294</td>\n",
       "      <td>0.001530</td>\n",
       "      <td>0.028641</td>\n",
       "      <td>0.259590</td>\n",
       "      <td>0.241818</td>\n",
       "      <td>0.009985</td>\n",
       "      <td>-0.022485</td>\n",
       "      <td>NaN</td>\n",
       "      <td>NaN</td>\n",
       "      <td>0.117372</td>\n",
       "    </tr>\n",
       "    <tr>\n",
       "      <th>MntGoldProds</th>\n",
       "      <td>-0.061818</td>\n",
       "      <td>0.325916</td>\n",
       "      <td>-0.349595</td>\n",
       "      <td>-0.021725</td>\n",
       "      <td>0.016693</td>\n",
       "      <td>0.387516</td>\n",
       "      <td>0.392995</td>\n",
       "      <td>0.350609</td>\n",
       "      <td>0.422875</td>\n",
       "      <td>0.369724</td>\n",
       "      <td>...</td>\n",
       "      <td>-0.250719</td>\n",
       "      <td>0.123091</td>\n",
       "      <td>0.022268</td>\n",
       "      <td>0.181021</td>\n",
       "      <td>0.166396</td>\n",
       "      <td>0.049990</td>\n",
       "      <td>-0.030861</td>\n",
       "      <td>NaN</td>\n",
       "      <td>NaN</td>\n",
       "      <td>0.139850</td>\n",
       "    </tr>\n",
       "    <tr>\n",
       "      <th>NumDealsPurchases</th>\n",
       "      <td>-0.060846</td>\n",
       "      <td>-0.083101</td>\n",
       "      <td>0.221798</td>\n",
       "      <td>0.387741</td>\n",
       "      <td>-0.001098</td>\n",
       "      <td>0.010940</td>\n",
       "      <td>-0.132114</td>\n",
       "      <td>-0.122415</td>\n",
       "      <td>-0.139361</td>\n",
       "      <td>-0.120100</td>\n",
       "      <td>...</td>\n",
       "      <td>0.347633</td>\n",
       "      <td>-0.023109</td>\n",
       "      <td>0.015594</td>\n",
       "      <td>-0.183248</td>\n",
       "      <td>-0.123244</td>\n",
       "      <td>-0.037695</td>\n",
       "      <td>0.000420</td>\n",
       "      <td>NaN</td>\n",
       "      <td>NaN</td>\n",
       "      <td>0.002238</td>\n",
       "    </tr>\n",
       "    <tr>\n",
       "      <th>NumWebPurchases</th>\n",
       "      <td>-0.145040</td>\n",
       "      <td>0.387878</td>\n",
       "      <td>-0.361647</td>\n",
       "      <td>0.155500</td>\n",
       "      <td>-0.010726</td>\n",
       "      <td>0.542265</td>\n",
       "      <td>0.296735</td>\n",
       "      <td>0.293761</td>\n",
       "      <td>0.293681</td>\n",
       "      <td>0.348544</td>\n",
       "      <td>...</td>\n",
       "      <td>-0.055846</td>\n",
       "      <td>0.042176</td>\n",
       "      <td>0.155903</td>\n",
       "      <td>0.138684</td>\n",
       "      <td>0.155143</td>\n",
       "      <td>0.034188</td>\n",
       "      <td>-0.016310</td>\n",
       "      <td>NaN</td>\n",
       "      <td>NaN</td>\n",
       "      <td>0.148730</td>\n",
       "    </tr>\n",
       "    <tr>\n",
       "      <th>NumCatalogPurchases</th>\n",
       "      <td>-0.121275</td>\n",
       "      <td>0.589162</td>\n",
       "      <td>-0.502237</td>\n",
       "      <td>-0.110769</td>\n",
       "      <td>0.025110</td>\n",
       "      <td>0.635226</td>\n",
       "      <td>0.487917</td>\n",
       "      <td>0.723827</td>\n",
       "      <td>0.534478</td>\n",
       "      <td>0.490924</td>\n",
       "      <td>...</td>\n",
       "      <td>-0.520364</td>\n",
       "      <td>0.104730</td>\n",
       "      <td>0.139247</td>\n",
       "      <td>0.322321</td>\n",
       "      <td>0.308097</td>\n",
       "      <td>0.099852</td>\n",
       "      <td>-0.020453</td>\n",
       "      <td>NaN</td>\n",
       "      <td>NaN</td>\n",
       "      <td>0.220810</td>\n",
       "    </tr>\n",
       "    <tr>\n",
       "      <th>NumStorePurchases</th>\n",
       "      <td>-0.128272</td>\n",
       "      <td>0.529362</td>\n",
       "      <td>-0.499683</td>\n",
       "      <td>0.050695</td>\n",
       "      <td>0.000799</td>\n",
       "      <td>0.642100</td>\n",
       "      <td>0.461758</td>\n",
       "      <td>0.479659</td>\n",
       "      <td>0.459855</td>\n",
       "      <td>0.448756</td>\n",
       "      <td>...</td>\n",
       "      <td>-0.428473</td>\n",
       "      <td>-0.067577</td>\n",
       "      <td>0.179379</td>\n",
       "      <td>0.214790</td>\n",
       "      <td>0.183249</td>\n",
       "      <td>0.085189</td>\n",
       "      <td>-0.016524</td>\n",
       "      <td>NaN</td>\n",
       "      <td>NaN</td>\n",
       "      <td>0.039363</td>\n",
       "    </tr>\n",
       "    <tr>\n",
       "      <th>NumWebVisitsMonth</th>\n",
       "      <td>0.121139</td>\n",
       "      <td>-0.553088</td>\n",
       "      <td>0.447846</td>\n",
       "      <td>0.134884</td>\n",
       "      <td>-0.021445</td>\n",
       "      <td>-0.320653</td>\n",
       "      <td>-0.418383</td>\n",
       "      <td>-0.539470</td>\n",
       "      <td>-0.446003</td>\n",
       "      <td>-0.423294</td>\n",
       "      <td>...</td>\n",
       "      <td>1.000000</td>\n",
       "      <td>0.061211</td>\n",
       "      <td>-0.032126</td>\n",
       "      <td>-0.278113</td>\n",
       "      <td>-0.192502</td>\n",
       "      <td>-0.007196</td>\n",
       "      <td>0.019769</td>\n",
       "      <td>NaN</td>\n",
       "      <td>NaN</td>\n",
       "      <td>-0.003987</td>\n",
       "    </tr>\n",
       "    <tr>\n",
       "      <th>AcceptedCmp3</th>\n",
       "      <td>0.061774</td>\n",
       "      <td>-0.016174</td>\n",
       "      <td>0.014674</td>\n",
       "      <td>-0.042677</td>\n",
       "      <td>-0.032991</td>\n",
       "      <td>0.062202</td>\n",
       "      <td>0.014727</td>\n",
       "      <td>0.018272</td>\n",
       "      <td>0.000357</td>\n",
       "      <td>0.001530</td>\n",
       "      <td>...</td>\n",
       "      <td>0.061211</td>\n",
       "      <td>1.000000</td>\n",
       "      <td>-0.079512</td>\n",
       "      <td>0.080316</td>\n",
       "      <td>0.094751</td>\n",
       "      <td>0.072020</td>\n",
       "      <td>0.008415</td>\n",
       "      <td>NaN</td>\n",
       "      <td>NaN</td>\n",
       "      <td>0.254258</td>\n",
       "    </tr>\n",
       "    <tr>\n",
       "      <th>AcceptedCmp4</th>\n",
       "      <td>-0.060510</td>\n",
       "      <td>0.184400</td>\n",
       "      <td>-0.161600</td>\n",
       "      <td>0.038886</td>\n",
       "      <td>0.018826</td>\n",
       "      <td>0.373286</td>\n",
       "      <td>0.010152</td>\n",
       "      <td>0.102912</td>\n",
       "      <td>0.016843</td>\n",
       "      <td>0.028641</td>\n",
       "      <td>...</td>\n",
       "      <td>-0.032126</td>\n",
       "      <td>-0.079512</td>\n",
       "      <td>1.000000</td>\n",
       "      <td>0.306526</td>\n",
       "      <td>0.251300</td>\n",
       "      <td>0.292210</td>\n",
       "      <td>-0.027611</td>\n",
       "      <td>NaN</td>\n",
       "      <td>NaN</td>\n",
       "      <td>0.177019</td>\n",
       "    </tr>\n",
       "    <tr>\n",
       "      <th>AcceptedCmp5</th>\n",
       "      <td>0.007123</td>\n",
       "      <td>0.335943</td>\n",
       "      <td>-0.205634</td>\n",
       "      <td>-0.191050</td>\n",
       "      <td>0.000129</td>\n",
       "      <td>0.472613</td>\n",
       "      <td>0.215833</td>\n",
       "      <td>0.373769</td>\n",
       "      <td>0.199578</td>\n",
       "      <td>0.259590</td>\n",
       "      <td>...</td>\n",
       "      <td>-0.278113</td>\n",
       "      <td>0.080316</td>\n",
       "      <td>0.306526</td>\n",
       "      <td>1.000000</td>\n",
       "      <td>0.403078</td>\n",
       "      <td>0.221533</td>\n",
       "      <td>-0.009419</td>\n",
       "      <td>NaN</td>\n",
       "      <td>NaN</td>\n",
       "      <td>0.326634</td>\n",
       "    </tr>\n",
       "    <tr>\n",
       "      <th>AcceptedCmp1</th>\n",
       "      <td>-0.005930</td>\n",
       "      <td>0.276820</td>\n",
       "      <td>-0.172339</td>\n",
       "      <td>-0.140090</td>\n",
       "      <td>-0.019283</td>\n",
       "      <td>0.354133</td>\n",
       "      <td>0.194748</td>\n",
       "      <td>0.309761</td>\n",
       "      <td>0.260762</td>\n",
       "      <td>0.241818</td>\n",
       "      <td>...</td>\n",
       "      <td>-0.192502</td>\n",
       "      <td>0.094751</td>\n",
       "      <td>0.251300</td>\n",
       "      <td>0.403078</td>\n",
       "      <td>1.000000</td>\n",
       "      <td>0.175315</td>\n",
       "      <td>-0.025499</td>\n",
       "      <td>NaN</td>\n",
       "      <td>NaN</td>\n",
       "      <td>0.293982</td>\n",
       "    </tr>\n",
       "    <tr>\n",
       "      <th>AcceptedCmp2</th>\n",
       "      <td>-0.006539</td>\n",
       "      <td>0.087545</td>\n",
       "      <td>-0.081716</td>\n",
       "      <td>-0.015605</td>\n",
       "      <td>-0.001781</td>\n",
       "      <td>0.205907</td>\n",
       "      <td>-0.009773</td>\n",
       "      <td>0.043033</td>\n",
       "      <td>0.002577</td>\n",
       "      <td>0.009985</td>\n",
       "      <td>...</td>\n",
       "      <td>-0.007196</td>\n",
       "      <td>0.072020</td>\n",
       "      <td>0.292210</td>\n",
       "      <td>0.221533</td>\n",
       "      <td>0.175315</td>\n",
       "      <td>1.000000</td>\n",
       "      <td>-0.011334</td>\n",
       "      <td>NaN</td>\n",
       "      <td>NaN</td>\n",
       "      <td>0.169293</td>\n",
       "    </tr>\n",
       "    <tr>\n",
       "      <th>Complain</th>\n",
       "      <td>-0.030128</td>\n",
       "      <td>-0.027225</td>\n",
       "      <td>0.040207</td>\n",
       "      <td>0.003138</td>\n",
       "      <td>0.013231</td>\n",
       "      <td>-0.039007</td>\n",
       "      <td>-0.005166</td>\n",
       "      <td>-0.023483</td>\n",
       "      <td>-0.020953</td>\n",
       "      <td>-0.022485</td>\n",
       "      <td>...</td>\n",
       "      <td>0.019769</td>\n",
       "      <td>0.008415</td>\n",
       "      <td>-0.027611</td>\n",
       "      <td>-0.009419</td>\n",
       "      <td>-0.025499</td>\n",
       "      <td>-0.011334</td>\n",
       "      <td>1.000000</td>\n",
       "      <td>NaN</td>\n",
       "      <td>NaN</td>\n",
       "      <td>-0.001707</td>\n",
       "    </tr>\n",
       "    <tr>\n",
       "      <th>Z_CostContact</th>\n",
       "      <td>NaN</td>\n",
       "      <td>NaN</td>\n",
       "      <td>NaN</td>\n",
       "      <td>NaN</td>\n",
       "      <td>NaN</td>\n",
       "      <td>NaN</td>\n",
       "      <td>NaN</td>\n",
       "      <td>NaN</td>\n",
       "      <td>NaN</td>\n",
       "      <td>NaN</td>\n",
       "      <td>...</td>\n",
       "      <td>NaN</td>\n",
       "      <td>NaN</td>\n",
       "      <td>NaN</td>\n",
       "      <td>NaN</td>\n",
       "      <td>NaN</td>\n",
       "      <td>NaN</td>\n",
       "      <td>NaN</td>\n",
       "      <td>NaN</td>\n",
       "      <td>NaN</td>\n",
       "      <td>NaN</td>\n",
       "    </tr>\n",
       "    <tr>\n",
       "      <th>Z_Revenue</th>\n",
       "      <td>NaN</td>\n",
       "      <td>NaN</td>\n",
       "      <td>NaN</td>\n",
       "      <td>NaN</td>\n",
       "      <td>NaN</td>\n",
       "      <td>NaN</td>\n",
       "      <td>NaN</td>\n",
       "      <td>NaN</td>\n",
       "      <td>NaN</td>\n",
       "      <td>NaN</td>\n",
       "      <td>...</td>\n",
       "      <td>NaN</td>\n",
       "      <td>NaN</td>\n",
       "      <td>NaN</td>\n",
       "      <td>NaN</td>\n",
       "      <td>NaN</td>\n",
       "      <td>NaN</td>\n",
       "      <td>NaN</td>\n",
       "      <td>NaN</td>\n",
       "      <td>NaN</td>\n",
       "      <td>NaN</td>\n",
       "    </tr>\n",
       "    <tr>\n",
       "      <th>Response</th>\n",
       "      <td>0.021325</td>\n",
       "      <td>0.133047</td>\n",
       "      <td>-0.080008</td>\n",
       "      <td>-0.154446</td>\n",
       "      <td>-0.198437</td>\n",
       "      <td>0.247254</td>\n",
       "      <td>0.125289</td>\n",
       "      <td>0.236335</td>\n",
       "      <td>0.111331</td>\n",
       "      <td>0.117372</td>\n",
       "      <td>...</td>\n",
       "      <td>-0.003987</td>\n",
       "      <td>0.254258</td>\n",
       "      <td>0.177019</td>\n",
       "      <td>0.326634</td>\n",
       "      <td>0.293982</td>\n",
       "      <td>0.169293</td>\n",
       "      <td>-0.001707</td>\n",
       "      <td>NaN</td>\n",
       "      <td>NaN</td>\n",
       "      <td>1.000000</td>\n",
       "    </tr>\n",
       "  </tbody>\n",
       "</table>\n",
       "<p>25 rows × 25 columns</p>\n",
       "</div>"
      ],
      "text/plain": [
       "                     Year_Birth    Income   Kidhome  Teenhome   Recency  \\\n",
       "Year_Birth             1.000000 -0.161791  0.230176 -0.352111 -0.019871   \n",
       "Income                -0.161791  1.000000 -0.428669  0.019133 -0.003970   \n",
       "Kidhome                0.230176 -0.428669  1.000000 -0.036133  0.008827   \n",
       "Teenhome              -0.352111  0.019133 -0.036133  1.000000  0.016198   \n",
       "Recency               -0.019871 -0.003970  0.008827  0.016198  1.000000   \n",
       "MntWines              -0.157773  0.578650 -0.496297  0.004846  0.016064   \n",
       "MntFruits             -0.017917  0.430842 -0.372581 -0.176764 -0.004306   \n",
       "MntMeatProducts       -0.030872  0.584633 -0.437129 -0.261160  0.023056   \n",
       "MntFishProducts       -0.041625  0.438871 -0.387644 -0.204187  0.001079   \n",
       "MntSweetProducts      -0.018133  0.440744 -0.370673 -0.162475  0.022670   \n",
       "MntGoldProds          -0.061818  0.325916 -0.349595 -0.021725  0.016693   \n",
       "NumDealsPurchases     -0.060846 -0.083101  0.221798  0.387741 -0.001098   \n",
       "NumWebPurchases       -0.145040  0.387878 -0.361647  0.155500 -0.010726   \n",
       "NumCatalogPurchases   -0.121275  0.589162 -0.502237 -0.110769  0.025110   \n",
       "NumStorePurchases     -0.128272  0.529362 -0.499683  0.050695  0.000799   \n",
       "NumWebVisitsMonth      0.121139 -0.553088  0.447846  0.134884 -0.021445   \n",
       "AcceptedCmp3           0.061774 -0.016174  0.014674 -0.042677 -0.032991   \n",
       "AcceptedCmp4          -0.060510  0.184400 -0.161600  0.038886  0.018826   \n",
       "AcceptedCmp5           0.007123  0.335943 -0.205634 -0.191050  0.000129   \n",
       "AcceptedCmp1          -0.005930  0.276820 -0.172339 -0.140090 -0.019283   \n",
       "AcceptedCmp2          -0.006539  0.087545 -0.081716 -0.015605 -0.001781   \n",
       "Complain              -0.030128 -0.027225  0.040207  0.003138  0.013231   \n",
       "Z_CostContact               NaN       NaN       NaN       NaN       NaN   \n",
       "Z_Revenue                   NaN       NaN       NaN       NaN       NaN   \n",
       "Response               0.021325  0.133047 -0.080008 -0.154446 -0.198437   \n",
       "\n",
       "                     MntWines  MntFruits  MntMeatProducts  MntFishProducts  \\\n",
       "Year_Birth          -0.157773  -0.017917        -0.030872        -0.041625   \n",
       "Income               0.578650   0.430842         0.584633         0.438871   \n",
       "Kidhome             -0.496297  -0.372581        -0.437129        -0.387644   \n",
       "Teenhome             0.004846  -0.176764        -0.261160        -0.204187   \n",
       "Recency              0.016064  -0.004306         0.023056         0.001079   \n",
       "MntWines             1.000000   0.389637         0.562667         0.399753   \n",
       "MntFruits            0.389637   1.000000         0.543105         0.594804   \n",
       "MntMeatProducts      0.562667   0.543105         1.000000         0.568402   \n",
       "MntFishProducts      0.399753   0.594804         0.568402         1.000000   \n",
       "MntSweetProducts     0.386581   0.567164         0.523846         0.579870   \n",
       "MntGoldProds         0.387516   0.392995         0.350609         0.422875   \n",
       "NumDealsPurchases    0.010940  -0.132114        -0.122415        -0.139361   \n",
       "NumWebPurchases      0.542265   0.296735         0.293761         0.293681   \n",
       "NumCatalogPurchases  0.635226   0.487917         0.723827         0.534478   \n",
       "NumStorePurchases    0.642100   0.461758         0.479659         0.459855   \n",
       "NumWebVisitsMonth   -0.320653  -0.418383        -0.539470        -0.446003   \n",
       "AcceptedCmp3         0.062202   0.014727         0.018272         0.000357   \n",
       "AcceptedCmp4         0.373286   0.010152         0.102912         0.016843   \n",
       "AcceptedCmp5         0.472613   0.215833         0.373769         0.199578   \n",
       "AcceptedCmp1         0.354133   0.194748         0.309761         0.260762   \n",
       "AcceptedCmp2         0.205907  -0.009773         0.043033         0.002577   \n",
       "Complain            -0.039007  -0.005166        -0.023483        -0.020953   \n",
       "Z_CostContact             NaN        NaN              NaN              NaN   \n",
       "Z_Revenue                 NaN        NaN              NaN              NaN   \n",
       "Response             0.247254   0.125289         0.236335         0.111331   \n",
       "\n",
       "                     MntSweetProducts  ...  NumWebVisitsMonth  AcceptedCmp3  \\\n",
       "Year_Birth                  -0.018133  ...           0.121139      0.061774   \n",
       "Income                       0.440744  ...          -0.553088     -0.016174   \n",
       "Kidhome                     -0.370673  ...           0.447846      0.014674   \n",
       "Teenhome                    -0.162475  ...           0.134884     -0.042677   \n",
       "Recency                      0.022670  ...          -0.021445     -0.032991   \n",
       "MntWines                     0.386581  ...          -0.320653      0.062202   \n",
       "MntFruits                    0.567164  ...          -0.418383      0.014727   \n",
       "MntMeatProducts              0.523846  ...          -0.539470      0.018272   \n",
       "MntFishProducts              0.579870  ...          -0.446003      0.000357   \n",
       "MntSweetProducts             1.000000  ...          -0.423294      0.001530   \n",
       "MntGoldProds                 0.369724  ...          -0.250719      0.123091   \n",
       "NumDealsPurchases           -0.120100  ...           0.347633     -0.023109   \n",
       "NumWebPurchases              0.348544  ...          -0.055846      0.042176   \n",
       "NumCatalogPurchases          0.490924  ...          -0.520364      0.104730   \n",
       "NumStorePurchases            0.448756  ...          -0.428473     -0.067577   \n",
       "NumWebVisitsMonth           -0.423294  ...           1.000000      0.061211   \n",
       "AcceptedCmp3                 0.001530  ...           0.061211      1.000000   \n",
       "AcceptedCmp4                 0.028641  ...          -0.032126     -0.079512   \n",
       "AcceptedCmp5                 0.259590  ...          -0.278113      0.080316   \n",
       "AcceptedCmp1                 0.241818  ...          -0.192502      0.094751   \n",
       "AcceptedCmp2                 0.009985  ...          -0.007196      0.072020   \n",
       "Complain                    -0.022485  ...           0.019769      0.008415   \n",
       "Z_CostContact                     NaN  ...                NaN           NaN   \n",
       "Z_Revenue                         NaN  ...                NaN           NaN   \n",
       "Response                     0.117372  ...          -0.003987      0.254258   \n",
       "\n",
       "                     AcceptedCmp4  AcceptedCmp5  AcceptedCmp1  AcceptedCmp2  \\\n",
       "Year_Birth              -0.060510      0.007123     -0.005930     -0.006539   \n",
       "Income                   0.184400      0.335943      0.276820      0.087545   \n",
       "Kidhome                 -0.161600     -0.205634     -0.172339     -0.081716   \n",
       "Teenhome                 0.038886     -0.191050     -0.140090     -0.015605   \n",
       "Recency                  0.018826      0.000129     -0.019283     -0.001781   \n",
       "MntWines                 0.373286      0.472613      0.354133      0.205907   \n",
       "MntFruits                0.010152      0.215833      0.194748     -0.009773   \n",
       "MntMeatProducts          0.102912      0.373769      0.309761      0.043033   \n",
       "MntFishProducts          0.016843      0.199578      0.260762      0.002577   \n",
       "MntSweetProducts         0.028641      0.259590      0.241818      0.009985   \n",
       "MntGoldProds             0.022268      0.181021      0.166396      0.049990   \n",
       "NumDealsPurchases        0.015594     -0.183248     -0.123244     -0.037695   \n",
       "NumWebPurchases          0.155903      0.138684      0.155143      0.034188   \n",
       "NumCatalogPurchases      0.139247      0.322321      0.308097      0.099852   \n",
       "NumStorePurchases        0.179379      0.214790      0.183249      0.085189   \n",
       "NumWebVisitsMonth       -0.032126     -0.278113     -0.192502     -0.007196   \n",
       "AcceptedCmp3            -0.079512      0.080316      0.094751      0.072020   \n",
       "AcceptedCmp4             1.000000      0.306526      0.251300      0.292210   \n",
       "AcceptedCmp5             0.306526      1.000000      0.403078      0.221533   \n",
       "AcceptedCmp1             0.251300      0.403078      1.000000      0.175315   \n",
       "AcceptedCmp2             0.292210      0.221533      0.175315      1.000000   \n",
       "Complain                -0.027611     -0.009419     -0.025499     -0.011334   \n",
       "Z_CostContact                 NaN           NaN           NaN           NaN   \n",
       "Z_Revenue                     NaN           NaN           NaN           NaN   \n",
       "Response                 0.177019      0.326634      0.293982      0.169293   \n",
       "\n",
       "                     Complain  Z_CostContact  Z_Revenue  Response  \n",
       "Year_Birth          -0.030128            NaN        NaN  0.021325  \n",
       "Income              -0.027225            NaN        NaN  0.133047  \n",
       "Kidhome              0.040207            NaN        NaN -0.080008  \n",
       "Teenhome             0.003138            NaN        NaN -0.154446  \n",
       "Recency              0.013231            NaN        NaN -0.198437  \n",
       "MntWines            -0.039007            NaN        NaN  0.247254  \n",
       "MntFruits           -0.005166            NaN        NaN  0.125289  \n",
       "MntMeatProducts     -0.023483            NaN        NaN  0.236335  \n",
       "MntFishProducts     -0.020953            NaN        NaN  0.111331  \n",
       "MntSweetProducts    -0.022485            NaN        NaN  0.117372  \n",
       "MntGoldProds        -0.030861            NaN        NaN  0.139850  \n",
       "NumDealsPurchases    0.000420            NaN        NaN  0.002238  \n",
       "NumWebPurchases     -0.016310            NaN        NaN  0.148730  \n",
       "NumCatalogPurchases -0.020453            NaN        NaN  0.220810  \n",
       "NumStorePurchases   -0.016524            NaN        NaN  0.039363  \n",
       "NumWebVisitsMonth    0.019769            NaN        NaN -0.003987  \n",
       "AcceptedCmp3         0.008415            NaN        NaN  0.254258  \n",
       "AcceptedCmp4        -0.027611            NaN        NaN  0.177019  \n",
       "AcceptedCmp5        -0.009419            NaN        NaN  0.326634  \n",
       "AcceptedCmp1        -0.025499            NaN        NaN  0.293982  \n",
       "AcceptedCmp2        -0.011334            NaN        NaN  0.169293  \n",
       "Complain             1.000000            NaN        NaN -0.001707  \n",
       "Z_CostContact             NaN            NaN        NaN       NaN  \n",
       "Z_Revenue                 NaN            NaN        NaN       NaN  \n",
       "Response            -0.001707            NaN        NaN  1.000000  \n",
       "\n",
       "[25 rows x 25 columns]"
      ]
     },
     "execution_count": 17,
     "metadata": {},
     "output_type": "execute_result"
    }
   ],
   "source": [
    "data.corr()"
   ]
  },
  {
   "cell_type": "code",
   "execution_count": 18,
   "metadata": {},
   "outputs": [
    {
     "data": {
      "text/plain": [
       "<matplotlib.axes._subplots.AxesSubplot at 0x7f191e961280>"
      ]
     },
     "execution_count": 18,
     "metadata": {},
     "output_type": "execute_result"
    },
    {
     "data": {
      "image/png": "[encoded data removed]",
      "text/plain": [
       "<Figure size 432x288 with 2 Axes>"
      ]
     },
     "metadata": {
      "needs_background": "light"
     },
     "output_type": "display_data"
    }
   ],
   "source": [
    "# Visualization of the correlation between the features.\n",
    "corr_matrix = data.corr()\n",
    "sns.heatmap(corr_matrix)"
   ]
  },
  {
   "cell_type": "markdown",
   "metadata": {},
   "source": [
    "We can see from above that a lot of values in the heat map representing the correlations between the features are null values (excluding the diagonal values); this is due to the presence of imbalanced data in some of the features in our data which basically leads to 0 variance, resulting in a null value for correlation with those features.  \n",
    "The features with imbalanced features wll be handled in the later stage of the modelling."
   ]
  },
  {
   "cell_type": "markdown",
   "metadata": {},
   "source": [
    "# Handling missing-values."
   ]
  },
  {
   "cell_type": "code",
   "execution_count": 19,
   "metadata": {},
   "outputs": [
    {
     "data": {
      "text/plain": [
       "Year_Birth              0\n",
       "Education               0\n",
       "Marital_Status          0\n",
       "Income                 24\n",
       "Kidhome                 0\n",
       "Teenhome                0\n",
       "Dt_Customer             0\n",
       "Recency                 0\n",
       "MntWines                0\n",
       "MntFruits               0\n",
       "MntMeatProducts         0\n",
       "MntFishProducts         0\n",
       "MntSweetProducts        0\n",
       "MntGoldProds            0\n",
       "NumDealsPurchases       0\n",
       "NumWebPurchases         0\n",
       "NumCatalogPurchases     0\n",
       "NumStorePurchases       0\n",
       "NumWebVisitsMonth       0\n",
       "AcceptedCmp3            0\n",
       "AcceptedCmp4            0\n",
       "AcceptedCmp5            0\n",
       "AcceptedCmp1            0\n",
       "AcceptedCmp2            0\n",
       "Complain                0\n",
       "Z_CostContact           0\n",
       "Z_Revenue               0\n",
       "Response                0\n",
       "dtype: int64"
      ]
     },
     "execution_count": 19,
     "metadata": {},
     "output_type": "execute_result"
    }
   ],
   "source": [
    "# Let's check for missing values in our data\n",
    "data.isnull().sum()"
   ]
  },
  {
   "cell_type": "code",
   "execution_count": 20,
   "metadata": {},
   "outputs": [
    {
     "data": {
      "text/plain": [
       "<matplotlib.axes._subplots.AxesSubplot at 0x7f191bff9b20>"
      ]
     },
     "execution_count": 20,
     "metadata": {},
     "output_type": "execute_result"
    },
    {
     "data": {
      "image/png": "[encoded data removed]",
      "text/plain": [
       "<Figure size 1800x720 with 2 Axes>"
      ]
     },
     "metadata": {
      "needs_background": "light"
     },
     "output_type": "display_data"
    }
   ],
   "source": [
    "# Let's visualize the fragmentation of the data feature-wise due to the presence of the missing values.\n",
    "import missingno as msno\n",
    "msno.matrix(data)"
   ]
  },
  {
   "cell_type": "markdown",
   "metadata": {},
   "source": [
    "We can see that the data is fairly oh high quality due to the fact that very less number of missing values are present in the data.  \n",
    "Given that, we do see 24 missing values in the feature 'Income'. The best ways to impute the missing values in this feature, is strategies which utilise relative imputation strategies.  \n",
    "For exampe we can use the mode of the feature for imputation purposes of the missing values in this feature if we assume that the data is a high degree representation of the bigger population, which means that any new data point will be in line with the distribution of the data we have.  \n",
    "Otherwise, we can use the **sklearn.impute.KNNImputer** for imputation purposes of the missing values in this feature, which utilises the K-nearest-neighbors algorithm to figure out the value with highest probality, and uses it for imputation.  \n",
    "Because of the fact we cannot be sure of how representative our data is of the larger population, we will be using KNNImputer in this case."
   ]
  },
  {
   "cell_type": "code",
   "execution_count": 21,
   "metadata": {},
   "outputs": [
    {
     "data": {
      "text/plain": [
       "664936.0"
      ]
     },
     "execution_count": 21,
     "metadata": {},
     "output_type": "execute_result"
    }
   ],
   "source": [
    "# let's check the range of the feature Income\n",
    "data['Income'].max() - data['Income'].min()"
   ]
  },
  {
   "cell_type": "code",
   "execution_count": 22,
   "metadata": {},
   "outputs": [],
   "source": [
    "from sklearn.impute import KNNImputer\n",
    "data['Income'] = KNNImputer(n_neighbors=4).fit_transform(data['Income'].values.reshape(-1,1))"
   ]
  },
  {
   "cell_type": "code",
   "execution_count": 23,
   "metadata": {},
   "outputs": [
    {
     "data": {
      "text/plain": [
       "0"
      ]
     },
     "execution_count": 23,
     "metadata": {},
     "output_type": "execute_result"
    }
   ],
   "source": [
    "data['Income'].isnull().sum()"
   ]
  },
  {
   "cell_type": "markdown",
   "metadata": {},
   "source": [
    "# Outliers detection and removal."
   ]
  },
  {
   "cell_type": "markdown",
   "metadata": {},
   "source": [
    "Removing the following features :\n",
    "* categorical feature with only one class\n",
    "* feature with only a singular value"
   ]
  },
  {
   "cell_type": "code",
   "execution_count": 24,
   "metadata": {},
   "outputs": [
    {
     "name": "stdout",
     "output_type": "stream",
     "text": [
      "3    2240\n",
      "Name: Z_CostContact, dtype: int64\n",
      "11    2240\n",
      "Name: Z_Revenue, dtype: int64\n"
     ]
    }
   ],
   "source": [
    "# filtering the features with only one class or singular value\n",
    "for col in data.columns :\n",
    "    if len(data[col].value_counts()) == 1 :\n",
    "        print(data[col].value_counts())"
   ]
  },
  {
   "cell_type": "markdown",
   "metadata": {},
   "source": [
    "As we can see there are two features in our dataset have constant values, hence dropping them."
   ]
  },
  {
   "cell_type": "code",
   "execution_count": 25,
   "metadata": {},
   "outputs": [],
   "source": [
    "data.drop(['Z_CostContact', 'Z_Revenue'], axis=1, inplace=True)"
   ]
  },
  {
   "cell_type": "code",
   "execution_count": 26,
   "metadata": {},
   "outputs": [
    {
     "data": {
      "text/plain": [
       "Index(['Year_Birth', 'Education', 'Marital_Status', 'Income', 'Kidhome',\n",
       "       'Teenhome', 'Dt_Customer', 'Recency', 'MntWines', 'MntFruits',\n",
       "       'MntMeatProducts', 'MntFishProducts', 'MntSweetProducts',\n",
       "       'MntGoldProds', 'NumDealsPurchases', 'NumWebPurchases',\n",
       "       'NumCatalogPurchases', 'NumStorePurchases', 'NumWebVisitsMonth',\n",
       "       'AcceptedCmp3', 'AcceptedCmp4', 'AcceptedCmp5', 'AcceptedCmp1',\n",
       "       'AcceptedCmp2', 'Complain', 'Response'],\n",
       "      dtype='object')"
      ]
     },
     "execution_count": 26,
     "metadata": {},
     "output_type": "execute_result"
    }
   ],
   "source": [
    "data.columns"
   ]
  },
  {
   "cell_type": "markdown",
   "metadata": {},
   "source": [
    "Let's explore the features with binary categorical classes to check for imbalanced data."
   ]
  },
  {
   "cell_type": "code",
   "execution_count": 27,
   "metadata": {},
   "outputs": [
    {
     "name": "stdout",
     "output_type": "stream",
     "text": [
      "0    2077\n",
      "1     163\n",
      "Name: AcceptedCmp3, dtype: int64\n",
      "0    2073\n",
      "1     167\n",
      "Name: AcceptedCmp4, dtype: int64\n",
      "0    2077\n",
      "1     163\n",
      "Name: AcceptedCmp5, dtype: int64\n",
      "0    2096\n",
      "1     144\n",
      "Name: AcceptedCmp1, dtype: int64\n",
      "0    2210\n",
      "1      30\n",
      "Name: AcceptedCmp2, dtype: int64\n",
      "0    2219\n",
      "1      21\n",
      "Name: Complain, dtype: int64\n",
      "0    1906\n",
      "1     334\n",
      "Name: Response, dtype: int64\n"
     ]
    }
   ],
   "source": [
    "# filtering the features with binary classes to check for presence of imbalanced data \n",
    "for col in data.columns :\n",
    "    if len(data[col].value_counts()) == 2 :\n",
    "        print(data[col].value_counts())"
   ]
  },
  {
   "cell_type": "markdown",
   "metadata": {},
   "source": [
    "As we can see from above, the feature 'AcceptedCmp1', 'AcceptedCmp2', 'AcceptedCmp3', 'AcceptedCmp4', 'AcceptedCmp5', 'Complain', and 'Response', are binary categorical features with imbalanced data.  \n",
    "In order to prevent false outlier detection of the minority classes in the above mentioned features, we will be excluding them from the outlier detection and removal step.\n",
    "And in order to prevent majority class prediction by the classification algorithms, we will be handling the above features to balance the frequency of the binary classes later in the process."
   ]
  },
  {
   "cell_type": "markdown",
   "metadata": {},
   "source": [
    " Mean and standard deviation of the features, before removing outliers, for aiding the analysis of the presence and absence of outliers in our data."
   ]
  },
  {
   "cell_type": "code",
   "execution_count": 28,
   "metadata": {
    "scrolled": true
   },
   "outputs": [
    {
     "data": {
      "text/html": [
       "<div>\n",
       "<style scoped>\n",
       "    .dataframe tbody tr th:only-of-type {\n",
       "        vertical-align: middle;\n",
       "    }\n",
       "\n",
       "    .dataframe tbody tr th {\n",
       "        vertical-align: top;\n",
       "    }\n",
       "\n",
       "    .dataframe thead th {\n",
       "        text-align: right;\n",
       "    }\n",
       "</style>\n",
       "<table border=\"1\" class=\"dataframe\">\n",
       "  <thead>\n",
       "    <tr style=\"text-align: right;\">\n",
       "      <th></th>\n",
       "      <th>initial_mean</th>\n",
       "      <th>initial_SD</th>\n",
       "    </tr>\n",
       "  </thead>\n",
       "  <tbody>\n",
       "    <tr>\n",
       "      <th>Year_Birth</th>\n",
       "      <td>1968.805804</td>\n",
       "      <td>11.984069</td>\n",
       "    </tr>\n",
       "    <tr>\n",
       "      <th>Income</th>\n",
       "      <td>52247.251354</td>\n",
       "      <td>25037.797168</td>\n",
       "    </tr>\n",
       "    <tr>\n",
       "      <th>Kidhome</th>\n",
       "      <td>0.444196</td>\n",
       "      <td>0.538398</td>\n",
       "    </tr>\n",
       "    <tr>\n",
       "      <th>Teenhome</th>\n",
       "      <td>0.506250</td>\n",
       "      <td>0.544538</td>\n",
       "    </tr>\n",
       "    <tr>\n",
       "      <th>Recency</th>\n",
       "      <td>49.109375</td>\n",
       "      <td>28.962453</td>\n",
       "    </tr>\n",
       "    <tr>\n",
       "      <th>MntWines</th>\n",
       "      <td>303.935714</td>\n",
       "      <td>336.597393</td>\n",
       "    </tr>\n",
       "    <tr>\n",
       "      <th>MntFruits</th>\n",
       "      <td>26.302232</td>\n",
       "      <td>39.773434</td>\n",
       "    </tr>\n",
       "    <tr>\n",
       "      <th>MntMeatProducts</th>\n",
       "      <td>166.950000</td>\n",
       "      <td>225.715373</td>\n",
       "    </tr>\n",
       "    <tr>\n",
       "      <th>MntFishProducts</th>\n",
       "      <td>37.525446</td>\n",
       "      <td>54.628979</td>\n",
       "    </tr>\n",
       "    <tr>\n",
       "      <th>MntSweetProducts</th>\n",
       "      <td>27.062946</td>\n",
       "      <td>41.280498</td>\n",
       "    </tr>\n",
       "    <tr>\n",
       "      <th>MntGoldProds</th>\n",
       "      <td>44.021875</td>\n",
       "      <td>52.167439</td>\n",
       "    </tr>\n",
       "    <tr>\n",
       "      <th>NumDealsPurchases</th>\n",
       "      <td>2.325000</td>\n",
       "      <td>1.932238</td>\n",
       "    </tr>\n",
       "    <tr>\n",
       "      <th>NumWebPurchases</th>\n",
       "      <td>4.084821</td>\n",
       "      <td>2.778714</td>\n",
       "    </tr>\n",
       "    <tr>\n",
       "      <th>NumCatalogPurchases</th>\n",
       "      <td>2.662054</td>\n",
       "      <td>2.923101</td>\n",
       "    </tr>\n",
       "    <tr>\n",
       "      <th>NumStorePurchases</th>\n",
       "      <td>5.790179</td>\n",
       "      <td>3.250958</td>\n",
       "    </tr>\n",
       "    <tr>\n",
       "      <th>NumWebVisitsMonth</th>\n",
       "      <td>5.316518</td>\n",
       "      <td>2.426645</td>\n",
       "    </tr>\n",
       "    <tr>\n",
       "      <th>AcceptedCmp3</th>\n",
       "      <td>0.072768</td>\n",
       "      <td>0.259813</td>\n",
       "    </tr>\n",
       "    <tr>\n",
       "      <th>AcceptedCmp4</th>\n",
       "      <td>0.074554</td>\n",
       "      <td>0.262728</td>\n",
       "    </tr>\n",
       "    <tr>\n",
       "      <th>AcceptedCmp5</th>\n",
       "      <td>0.072768</td>\n",
       "      <td>0.259813</td>\n",
       "    </tr>\n",
       "    <tr>\n",
       "      <th>AcceptedCmp1</th>\n",
       "      <td>0.064286</td>\n",
       "      <td>0.245316</td>\n",
       "    </tr>\n",
       "    <tr>\n",
       "      <th>AcceptedCmp2</th>\n",
       "      <td>0.013393</td>\n",
       "      <td>0.114976</td>\n",
       "    </tr>\n",
       "    <tr>\n",
       "      <th>Complain</th>\n",
       "      <td>0.009375</td>\n",
       "      <td>0.096391</td>\n",
       "    </tr>\n",
       "    <tr>\n",
       "      <th>Response</th>\n",
       "      <td>0.149107</td>\n",
       "      <td>0.356274</td>\n",
       "    </tr>\n",
       "  </tbody>\n",
       "</table>\n",
       "</div>"
      ],
      "text/plain": [
       "                     initial_mean    initial_SD\n",
       "Year_Birth            1968.805804     11.984069\n",
       "Income               52247.251354  25037.797168\n",
       "Kidhome                  0.444196      0.538398\n",
       "Teenhome                 0.506250      0.544538\n",
       "Recency                 49.109375     28.962453\n",
       "MntWines               303.935714    336.597393\n",
       "MntFruits               26.302232     39.773434\n",
       "MntMeatProducts        166.950000    225.715373\n",
       "MntFishProducts         37.525446     54.628979\n",
       "MntSweetProducts        27.062946     41.280498\n",
       "MntGoldProds            44.021875     52.167439\n",
       "NumDealsPurchases        2.325000      1.932238\n",
       "NumWebPurchases          4.084821      2.778714\n",
       "NumCatalogPurchases      2.662054      2.923101\n",
       "NumStorePurchases        5.790179      3.250958\n",
       "NumWebVisitsMonth        5.316518      2.426645\n",
       "AcceptedCmp3             0.072768      0.259813\n",
       "AcceptedCmp4             0.074554      0.262728\n",
       "AcceptedCmp5             0.072768      0.259813\n",
       "AcceptedCmp1             0.064286      0.245316\n",
       "AcceptedCmp2             0.013393      0.114976\n",
       "Complain                 0.009375      0.096391\n",
       "Response                 0.149107      0.356274"
      ]
     },
     "execution_count": 28,
     "metadata": {},
     "output_type": "execute_result"
    }
   ],
   "source": [
    "outliers_effect = pd.DataFrame(data.describe().iloc[1:3, :]).rename(index={'mean':'initial_mean', 'std':'initial_SD'})\n",
    "outliers_effect = outliers_effect.T\n",
    "outliers_effect"
   ]
  },
  {
   "cell_type": "markdown",
   "metadata": {},
   "source": [
    "Outlier detection using Local Outlier Factor."
   ]
  },
  {
   "cell_type": "code",
   "execution_count": 29,
   "metadata": {},
   "outputs": [
    {
     "data": {
      "text/plain": [
       "Index(['Year_Birth', 'Income', 'Kidhome', 'Teenhome', 'Recency', 'MntWines',\n",
       "       'MntFruits', 'MntMeatProducts', 'MntFishProducts', 'MntSweetProducts',\n",
       "       'MntGoldProds', 'NumDealsPurchases', 'NumWebPurchases',\n",
       "       'NumCatalogPurchases', 'NumStorePurchases', 'NumWebVisitsMonth'],\n",
       "      dtype='object')"
      ]
     },
     "execution_count": 29,
     "metadata": {},
     "output_type": "execute_result"
    }
   ],
   "source": [
    "# filtering the features to apply outlier detection and removal step. \n",
    "col_to_exclude = []\n",
    "'''\n",
    "Filtering the features with binary classes to exclude from outlier detection and removal step.\n",
    "The reason we can use a simple filter like this is,\n",
    "due to the fact that we know this filter screens out all the desired features,\n",
    "as already demonstrated above.\n",
    "'''\n",
    "for col in data.columns :\n",
    "    if len(data[col].value_counts()) == 2 :    \n",
    "        col_to_exclude.append(col)\n",
    "col_to_include = (data.select_dtypes(include=['float64', 'int64'])).drop(col_to_exclude, axis=1).columns\n",
    "col_to_include"
   ]
  },
  {
   "cell_type": "markdown",
   "metadata": {},
   "source": [
    "Let's figure out the optimum number of neghbors for the LocalOutlierFactor, for our dataset."
   ]
  },
  {
   "cell_type": "code",
   "execution_count": 30,
   "metadata": {},
   "outputs": [
    {
     "data": {
      "text/plain": [
       "<matplotlib.axes._subplots.AxesSubplot at 0x7f191bc4ecd0>"
      ]
     },
     "execution_count": 30,
     "metadata": {},
     "output_type": "execute_result"
    },
    {
     "data": {
      "image/png": "[encoded data removed]",
      "text/plain": [
       "<Figure size 432x288 with 1 Axes>"
      ]
     },
     "metadata": {
      "needs_background": "light"
     },
     "output_type": "display_data"
    }
   ],
   "source": [
    "from sklearn.neighbors import LocalOutlierFactor\n",
    "# we are taking a range of odd numbers, because of the use of 'VOTING' n the algorithm.\n",
    "neighbors_LOF = np.arange(1, 40, 2)\n",
    "num_outliers = []\n",
    "for n in neighbors_LOF :\n",
    "    outlier_detector = LocalOutlierFactor(n_neighbors = n)\n",
    "    outliers = pd.Series(outlier_detector.fit_predict(data[col_to_include]))\n",
    "    num_outliers.append(outliers.value_counts()[-1])\n",
    "    \n",
    "sns.barplot(x = neighbors_LOF, y = num_outliers)"
   ]
  },
  {
   "cell_type": "markdown",
   "metadata": {},
   "source": [
    "As we can see from above that, the number of outliers detected by the LOF algorithm decreases as we increase the number of neighbor, which is inline with our expectations.  \n",
    "From above we can clearly see that, the 21 nearest neighbor is the optimum numner of neighbors to detect outliers in this dataset, because number of nearest neighbors more than 21 is not bringing ay significant resuts.  "
   ]
  },
  {
   "cell_type": "code",
   "execution_count": 31,
   "metadata": {},
   "outputs": [
    {
     "name": "stdout",
     "output_type": "stream",
     "text": [
      "The number of outliers detected by LOF are >  34\n"
     ]
    }
   ],
   "source": [
    "final_outlier_detector = LocalOutlierFactor(n_neighbors = 21)\n",
    "outliers = pd.Series(final_outlier_detector.fit_predict(data[col_to_include]))\n",
    "print('The number of outliers detected by LOF are > ',outliers.value_counts()[-1])"
   ]
  },
  {
   "cell_type": "code",
   "execution_count": 32,
   "metadata": {},
   "outputs": [
    {
     "name": "stdout",
     "output_type": "stream",
     "text": [
      "The dimension of the data after removing outliers is (2206, 26)\n"
     ]
    }
   ],
   "source": [
    "outliers_indices = [ x for x in range(len(outliers)) if outliers[x] == -1]\n",
    "data.drop(data.index[outliers_indices], inplace = True)\n",
    "print('The dimension of the data after removing outliers is', data.shape)"
   ]
  },
  {
   "cell_type": "markdown",
   "metadata": {},
   "source": [
    "We can see the effect of removing the outliers from our data in terms of the mean and SD of the features before and after removal of the outliers."
   ]
  },
  {
   "cell_type": "code",
   "execution_count": 33,
   "metadata": {
    "scrolled": true
   },
   "outputs": [
    {
     "data": {
      "text/html": [
       "<div>\n",
       "<style scoped>\n",
       "    .dataframe tbody tr th:only-of-type {\n",
       "        vertical-align: middle;\n",
       "    }\n",
       "\n",
       "    .dataframe tbody tr th {\n",
       "        vertical-align: top;\n",
       "    }\n",
       "\n",
       "    .dataframe thead th {\n",
       "        text-align: right;\n",
       "    }\n",
       "</style>\n",
       "<table border=\"1\" class=\"dataframe\">\n",
       "  <thead>\n",
       "    <tr style=\"text-align: right;\">\n",
       "      <th></th>\n",
       "      <th>initial_mean</th>\n",
       "      <th>initial_SD</th>\n",
       "      <th>mean_after_outlier_removal</th>\n",
       "      <th>SD_after_outlier_removal</th>\n",
       "    </tr>\n",
       "  </thead>\n",
       "  <tbody>\n",
       "    <tr>\n",
       "      <th>Year_Birth</th>\n",
       "      <td>1968.805804</td>\n",
       "      <td>11.984069</td>\n",
       "      <td>1968.779238</td>\n",
       "      <td>11.991560</td>\n",
       "    </tr>\n",
       "    <tr>\n",
       "      <th>Income</th>\n",
       "      <td>52247.251354</td>\n",
       "      <td>25037.797168</td>\n",
       "      <td>51552.570956</td>\n",
       "      <td>20332.490622</td>\n",
       "    </tr>\n",
       "    <tr>\n",
       "      <th>Kidhome</th>\n",
       "      <td>0.444196</td>\n",
       "      <td>0.538398</td>\n",
       "      <td>0.447869</td>\n",
       "      <td>0.539381</td>\n",
       "    </tr>\n",
       "    <tr>\n",
       "      <th>Teenhome</th>\n",
       "      <td>0.506250</td>\n",
       "      <td>0.544538</td>\n",
       "      <td>0.511786</td>\n",
       "      <td>0.545105</td>\n",
       "    </tr>\n",
       "    <tr>\n",
       "      <th>Recency</th>\n",
       "      <td>49.109375</td>\n",
       "      <td>28.962453</td>\n",
       "      <td>49.139166</td>\n",
       "      <td>29.014644</td>\n",
       "    </tr>\n",
       "    <tr>\n",
       "      <th>MntWines</th>\n",
       "      <td>303.935714</td>\n",
       "      <td>336.597393</td>\n",
       "      <td>301.420671</td>\n",
       "      <td>332.852938</td>\n",
       "    </tr>\n",
       "    <tr>\n",
       "      <th>MntFruits</th>\n",
       "      <td>26.302232</td>\n",
       "      <td>39.773434</td>\n",
       "      <td>26.374887</td>\n",
       "      <td>39.775794</td>\n",
       "    </tr>\n",
       "    <tr>\n",
       "      <th>MntMeatProducts</th>\n",
       "      <td>166.950000</td>\n",
       "      <td>225.715373</td>\n",
       "      <td>163.481414</td>\n",
       "      <td>214.059526</td>\n",
       "    </tr>\n",
       "    <tr>\n",
       "      <th>MntFishProducts</th>\n",
       "      <td>37.525446</td>\n",
       "      <td>54.628979</td>\n",
       "      <td>37.674977</td>\n",
       "      <td>54.694949</td>\n",
       "    </tr>\n",
       "    <tr>\n",
       "      <th>MntSweetProducts</th>\n",
       "      <td>27.062946</td>\n",
       "      <td>41.280498</td>\n",
       "      <td>26.753853</td>\n",
       "      <td>40.416838</td>\n",
       "    </tr>\n",
       "    <tr>\n",
       "      <th>MntGoldProds</th>\n",
       "      <td>44.021875</td>\n",
       "      <td>52.167439</td>\n",
       "      <td>43.907525</td>\n",
       "      <td>51.670485</td>\n",
       "    </tr>\n",
       "    <tr>\n",
       "      <th>NumDealsPurchases</th>\n",
       "      <td>2.325000</td>\n",
       "      <td>1.932238</td>\n",
       "      <td>2.317770</td>\n",
       "      <td>1.857295</td>\n",
       "    </tr>\n",
       "    <tr>\n",
       "      <th>NumWebPurchases</th>\n",
       "      <td>4.084821</td>\n",
       "      <td>2.778714</td>\n",
       "      <td>4.074796</td>\n",
       "      <td>2.687728</td>\n",
       "    </tr>\n",
       "    <tr>\n",
       "      <th>NumCatalogPurchases</th>\n",
       "      <td>2.662054</td>\n",
       "      <td>2.923101</td>\n",
       "      <td>2.603808</td>\n",
       "      <td>2.726183</td>\n",
       "    </tr>\n",
       "    <tr>\n",
       "      <th>NumStorePurchases</th>\n",
       "      <td>5.790179</td>\n",
       "      <td>3.250958</td>\n",
       "      <td>5.796917</td>\n",
       "      <td>3.218218</td>\n",
       "    </tr>\n",
       "    <tr>\n",
       "      <th>NumWebVisitsMonth</th>\n",
       "      <td>5.316518</td>\n",
       "      <td>2.426645</td>\n",
       "      <td>5.329556</td>\n",
       "      <td>2.379372</td>\n",
       "    </tr>\n",
       "    <tr>\n",
       "      <th>AcceptedCmp3</th>\n",
       "      <td>0.072768</td>\n",
       "      <td>0.259813</td>\n",
       "      <td>0.072983</td>\n",
       "      <td>0.260167</td>\n",
       "    </tr>\n",
       "    <tr>\n",
       "      <th>AcceptedCmp4</th>\n",
       "      <td>0.074554</td>\n",
       "      <td>0.262728</td>\n",
       "      <td>0.070263</td>\n",
       "      <td>0.255648</td>\n",
       "    </tr>\n",
       "    <tr>\n",
       "      <th>AcceptedCmp5</th>\n",
       "      <td>0.072768</td>\n",
       "      <td>0.259813</td>\n",
       "      <td>0.070263</td>\n",
       "      <td>0.255648</td>\n",
       "    </tr>\n",
       "    <tr>\n",
       "      <th>AcceptedCmp1</th>\n",
       "      <td>0.064286</td>\n",
       "      <td>0.245316</td>\n",
       "      <td>0.062557</td>\n",
       "      <td>0.242219</td>\n",
       "    </tr>\n",
       "    <tr>\n",
       "      <th>AcceptedCmp2</th>\n",
       "      <td>0.013393</td>\n",
       "      <td>0.114976</td>\n",
       "      <td>0.011786</td>\n",
       "      <td>0.107946</td>\n",
       "    </tr>\n",
       "    <tr>\n",
       "      <th>Complain</th>\n",
       "      <td>0.009375</td>\n",
       "      <td>0.096391</td>\n",
       "      <td>0.009519</td>\n",
       "      <td>0.097124</td>\n",
       "    </tr>\n",
       "    <tr>\n",
       "      <th>Response</th>\n",
       "      <td>0.149107</td>\n",
       "      <td>0.356274</td>\n",
       "      <td>0.146872</td>\n",
       "      <td>0.354059</td>\n",
       "    </tr>\n",
       "  </tbody>\n",
       "</table>\n",
       "</div>"
      ],
      "text/plain": [
       "                     initial_mean    initial_SD  mean_after_outlier_removal  \\\n",
       "Year_Birth            1968.805804     11.984069                 1968.779238   \n",
       "Income               52247.251354  25037.797168                51552.570956   \n",
       "Kidhome                  0.444196      0.538398                    0.447869   \n",
       "Teenhome                 0.506250      0.544538                    0.511786   \n",
       "Recency                 49.109375     28.962453                   49.139166   \n",
       "MntWines               303.935714    336.597393                  301.420671   \n",
       "MntFruits               26.302232     39.773434                   26.374887   \n",
       "MntMeatProducts        166.950000    225.715373                  163.481414   \n",
       "MntFishProducts         37.525446     54.628979                   37.674977   \n",
       "MntSweetProducts        27.062946     41.280498                   26.753853   \n",
       "MntGoldProds            44.021875     52.167439                   43.907525   \n",
       "NumDealsPurchases        2.325000      1.932238                    2.317770   \n",
       "NumWebPurchases          4.084821      2.778714                    4.074796   \n",
       "NumCatalogPurchases      2.662054      2.923101                    2.603808   \n",
       "NumStorePurchases        5.790179      3.250958                    5.796917   \n",
       "NumWebVisitsMonth        5.316518      2.426645                    5.329556   \n",
       "AcceptedCmp3             0.072768      0.259813                    0.072983   \n",
       "AcceptedCmp4             0.074554      0.262728                    0.070263   \n",
       "AcceptedCmp5             0.072768      0.259813                    0.070263   \n",
       "AcceptedCmp1             0.064286      0.245316                    0.062557   \n",
       "AcceptedCmp2             0.013393      0.114976                    0.011786   \n",
       "Complain                 0.009375      0.096391                    0.009519   \n",
       "Response                 0.149107      0.356274                    0.146872   \n",
       "\n",
       "                     SD_after_outlier_removal  \n",
       "Year_Birth                          11.991560  \n",
       "Income                           20332.490622  \n",
       "Kidhome                              0.539381  \n",
       "Teenhome                             0.545105  \n",
       "Recency                             29.014644  \n",
       "MntWines                           332.852938  \n",
       "MntFruits                           39.775794  \n",
       "MntMeatProducts                    214.059526  \n",
       "MntFishProducts                     54.694949  \n",
       "MntSweetProducts                    40.416838  \n",
       "MntGoldProds                        51.670485  \n",
       "NumDealsPurchases                    1.857295  \n",
       "NumWebPurchases                      2.687728  \n",
       "NumCatalogPurchases                  2.726183  \n",
       "NumStorePurchases                    3.218218  \n",
       "NumWebVisitsMonth                    2.379372  \n",
       "AcceptedCmp3                         0.260167  \n",
       "AcceptedCmp4                         0.255648  \n",
       "AcceptedCmp5                         0.255648  \n",
       "AcceptedCmp1                         0.242219  \n",
       "AcceptedCmp2                         0.107946  \n",
       "Complain                             0.097124  \n",
       "Response                             0.354059  "
      ]
     },
     "execution_count": 33,
     "metadata": {},
     "output_type": "execute_result"
    }
   ],
   "source": [
    "outliers_effect[\"mean_after_outlier_removal\"] = data.describe().iloc[1,:]\n",
    "outliers_effect[\"SD_after_outlier_removal\"] = data.describe().iloc[2,:]\n",
    "outliers_effect"
   ]
  },
  {
   "cell_type": "markdown",
   "metadata": {},
   "source": [
    "# Feature engineering."
   ]
  },
  {
   "cell_type": "markdown",
   "metadata": {},
   "source": [
    "Creating the feature 'Customer_age' from the feature 'Year_birth'"
   ]
  },
  {
   "cell_type": "code",
   "execution_count": 34,
   "metadata": {},
   "outputs": [
    {
     "data": {
      "text/plain": [
       "0    63\n",
       "1    66\n",
       "2    55\n",
       "3    36\n",
       "4    39\n",
       "Name: Customer_age, dtype: int64"
      ]
     },
     "execution_count": 34,
     "metadata": {},
     "output_type": "execute_result"
    }
   ],
   "source": [
    "# calculating age as it is in the year 2020\n",
    "data['Customer_age'] = 2020 - data['Year_Birth']\n",
    "# dropping the 'year_Birth' feature from the data as it is now redundant\n",
    "data.drop('Year_Birth', axis=1, inplace=True)\n",
    "data['Customer_age'].head()"
   ]
  },
  {
   "cell_type": "markdown",
   "metadata": {},
   "source": [
    "Further exploring the feature 'Customer_age'."
   ]
  },
  {
   "cell_type": "code",
   "execution_count": 35,
   "metadata": {},
   "outputs": [
    {
     "data": {
      "text/plain": [
       "Int64Index([ 24,  25,  26,  27,  28,  29,  30,  31,  32,  33,  34,  35,  36,\n",
       "             37,  38,  39,  40,  41,  42,  43,  44,  45,  46,  47,  48,  49,\n",
       "             50,  51,  52,  53,  54,  55,  56,  57,  58,  59,  60,  61,  62,\n",
       "             63,  64,  65,  66,  67,  68,  69,  70,  71,  72,  73,  74,  75,\n",
       "             76,  77,  79,  80, 120, 121, 127],\n",
       "           dtype='int64')"
      ]
     },
     "execution_count": 35,
     "metadata": {},
     "output_type": "execute_result"
    }
   ],
   "source": [
    "data['Customer_age'].value_counts().index.sort_values(ascending = True)"
   ]
  },
  {
   "cell_type": "markdown",
   "metadata": {},
   "source": [
    "Okay so we can see that age of the customers in our dataset is ranging from 25 years to 80 years old. That gives us a range of 55 years of age gap between our youngest and oldest targeted customer.  \n",
    "In order to improve the signal-noise ratio in our data, we will be further discretizing this feature into 11 bins, where each bin would represent a range of 5 years. "
   ]
  },
  {
   "cell_type": "code",
   "execution_count": 36,
   "metadata": {},
   "outputs": [],
   "source": [
    "data['Customer_age'] = pd.cut(data['Customer_age'], bins=11, labels=False, include_lowest=True)"
   ]
  },
  {
   "cell_type": "markdown",
   "metadata": {},
   "source": [
    "The feature 'Kidhome' represents the number of small children in customer’s household.  \n",
    "And the feature 'Teenhome' represents the number of teenagers in customer’s household.  \n",
    "Creating the feature 'n_kids' from the above two features, and transformig the above two feature into percentage of the new feature 'n_kids'."
   ]
  },
  {
   "cell_type": "code",
   "execution_count": 37,
   "metadata": {},
   "outputs": [],
   "source": [
    "data['n_kids'] = data['Kidhome'] + data['Teenhome'] \n",
    "data['Kidhome'] = (data['Kidhome']/data['n_kids'])*100\n",
    "data['Teenhome'] = (data['Teenhome']/data['n_kids'])*100"
   ]
  },
  {
   "cell_type": "code",
   "execution_count": 38,
   "metadata": {},
   "outputs": [
    {
     "data": {
      "text/html": [
       "<div>\n",
       "<style scoped>\n",
       "    .dataframe tbody tr th:only-of-type {\n",
       "        vertical-align: middle;\n",
       "    }\n",
       "\n",
       "    .dataframe tbody tr th {\n",
       "        vertical-align: top;\n",
       "    }\n",
       "\n",
       "    .dataframe thead th {\n",
       "        text-align: right;\n",
       "    }\n",
       "</style>\n",
       "<table border=\"1\" class=\"dataframe\">\n",
       "  <thead>\n",
       "    <tr style=\"text-align: right;\">\n",
       "      <th></th>\n",
       "      <th>n_kids</th>\n",
       "      <th>Kidhome</th>\n",
       "      <th>Teenhome</th>\n",
       "    </tr>\n",
       "  </thead>\n",
       "  <tbody>\n",
       "    <tr>\n",
       "      <th>0</th>\n",
       "      <td>0</td>\n",
       "      <td>NaN</td>\n",
       "      <td>NaN</td>\n",
       "    </tr>\n",
       "    <tr>\n",
       "      <th>1</th>\n",
       "      <td>2</td>\n",
       "      <td>50.0</td>\n",
       "      <td>50.0</td>\n",
       "    </tr>\n",
       "    <tr>\n",
       "      <th>2</th>\n",
       "      <td>0</td>\n",
       "      <td>NaN</td>\n",
       "      <td>NaN</td>\n",
       "    </tr>\n",
       "    <tr>\n",
       "      <th>3</th>\n",
       "      <td>1</td>\n",
       "      <td>100.0</td>\n",
       "      <td>0.0</td>\n",
       "    </tr>\n",
       "    <tr>\n",
       "      <th>4</th>\n",
       "      <td>1</td>\n",
       "      <td>100.0</td>\n",
       "      <td>0.0</td>\n",
       "    </tr>\n",
       "  </tbody>\n",
       "</table>\n",
       "</div>"
      ],
      "text/plain": [
       "   n_kids  Kidhome  Teenhome\n",
       "0       0      NaN       NaN\n",
       "1       2     50.0      50.0\n",
       "2       0      NaN       NaN\n",
       "3       1    100.0       0.0\n",
       "4       1    100.0       0.0"
      ]
     },
     "execution_count": 38,
     "metadata": {},
     "output_type": "execute_result"
    }
   ],
   "source": [
    "data[['n_kids', 'Kidhome', 'Teenhome']].head()"
   ]
  },
  {
   "cell_type": "markdown",
   "metadata": {},
   "source": [
    "We can see that there are null-values in the transformed features 'Kidhome' and Teenhome', this is due to the fact that there were 0 in that rows of that feature, whch is why after the transformation, it is showing as NaN.  \n",
    "Hence we will be filling the NaN values in the feature 'Kidhome' and 'Teenhome' with 0,  which would also be inline with the true data.  "
   ]
  },
  {
   "cell_type": "code",
   "execution_count": 39,
   "metadata": {},
   "outputs": [],
   "source": [
    "data['Kidhome'].fillna(0, inplace=True)\n",
    "data['Teenhome'].fillna(0, inplace=True)"
   ]
  },
  {
   "cell_type": "code",
   "execution_count": 40,
   "metadata": {},
   "outputs": [],
   "source": [
    "# renaming the feature 'Kidhome' and 'Teenhome'\n",
    "data = data.rename(columns= {'Kidhome':'percent_kids', 'Teenhome':'percent_teenagers'})"
   ]
  },
  {
   "cell_type": "code",
   "execution_count": 41,
   "metadata": {},
   "outputs": [
    {
     "data": {
      "text/plain": [
       "0.000000      1266\n",
       "100.000000     514\n",
       "50.000000      373\n",
       "66.666667       31\n",
       "33.333333       22\n",
       "Name: percent_kids, dtype: int64"
      ]
     },
     "execution_count": 41,
     "metadata": {},
     "output_type": "execute_result"
    }
   ],
   "source": [
    "data['percent_kids'].value_counts()"
   ]
  },
  {
   "cell_type": "code",
   "execution_count": 42,
   "metadata": {},
   "outputs": [
    {
     "data": {
      "text/plain": [
       "0.000000      1129\n",
       "100.000000     651\n",
       "50.000000      373\n",
       "33.333333       31\n",
       "66.666667       22\n",
       "Name: percent_teenagers, dtype: int64"
      ]
     },
     "execution_count": 42,
     "metadata": {},
     "output_type": "execute_result"
    }
   ],
   "source": [
    "data['percent_teenagers'].value_counts()"
   ]
  },
  {
   "cell_type": "code",
   "execution_count": 43,
   "metadata": {},
   "outputs": [],
   "source": [
    "# rounding up the values in percent_kids and percent_teenagers to 0 decimals.\n",
    "data['percent_kids'] = data['percent_kids'].apply(lambda x: round(x, 0))\n",
    "data['percent_teenagers'] = data['percent_teenagers'].apply(lambda x: round(x, 0))"
   ]
  },
  {
   "cell_type": "markdown",
   "metadata": {},
   "source": [
    "The feature 'Dt_custome' represents the date of customer’s enrolment with the company.  \n",
    "Creating new feature 'Days_with_company' representing the number of days the customer has been associated with the company, calculated from the customer's registration date with the company."
   ]
  },
  {
   "cell_type": "code",
   "execution_count": 44,
   "metadata": {},
   "outputs": [],
   "source": [
    "import datetime\n",
    "from datetime import datetime, date\n",
    "\n",
    "for i in range(0, len(data)):\n",
    "    data['Days_with_company'] = datetime.today().date()-data['Dt_Customer'].dt.date"
   ]
  },
  {
   "cell_type": "code",
   "execution_count": 45,
   "metadata": {},
   "outputs": [
    {
     "name": "stdout",
     "output_type": "stream",
     "text": [
      "timedelta64[ns]\n"
     ]
    },
    {
     "data": {
      "text/plain": [
       "0   2929 days\n",
       "1   2379 days\n",
       "2   2578 days\n",
       "3   2405 days\n",
       "4   2427 days\n",
       "Name: Days_with_company, dtype: timedelta64[ns]"
      ]
     },
     "execution_count": 45,
     "metadata": {},
     "output_type": "execute_result"
    }
   ],
   "source": [
    "print(data['Days_with_company'].dtype)\n",
    "data['Days_with_company'].head()"
   ]
  },
  {
   "cell_type": "markdown",
   "metadata": {},
   "source": [
    "We can see that in the value representation of the feature 'Days_with_company', the values have been represented in the data type timedelta64[ns], which is why we will be converting the values in the feature to integers, as doing so will not result in any kind of information loss, and in turn it will be a better value representation for the purposes of predictive modelling."
   ]
  },
  {
   "cell_type": "code",
   "execution_count": 46,
   "metadata": {},
   "outputs": [
    {
     "data": {
      "text/plain": [
       "dtype('int64')"
      ]
     },
     "execution_count": 46,
     "metadata": {},
     "output_type": "execute_result"
    }
   ],
   "source": [
    "data['Days_with_company'] = data['Days_with_company'].apply(lambda x: int(x/np.timedelta64(1, 'D')))\n",
    "data['Days_with_company'].dtype"
   ]
  },
  {
   "cell_type": "code",
   "execution_count": 47,
   "metadata": {},
   "outputs": [
    {
     "data": {
      "text/plain": [
       "0    2929\n",
       "1    2379\n",
       "2    2578\n",
       "3    2405\n",
       "4    2427\n",
       "Name: Days_with_company, dtype: int64"
      ]
     },
     "execution_count": 47,
     "metadata": {},
     "output_type": "execute_result"
    }
   ],
   "source": [
    "# dopping the feature 'Dt_Customer' as it is not essential for our analysis\n",
    "data.drop('Dt_Customer', axis=1, inplace=True)\n",
    "data['Days_with_company'].head()"
   ]
  },
  {
   "cell_type": "markdown",
   "metadata": {},
   "source": [
    "Further exploring the new feature 'Days_with_company'."
   ]
  },
  {
   "cell_type": "code",
   "execution_count": 48,
   "metadata": {},
   "outputs": [
    {
     "data": {
      "text/plain": [
       "Int64Index([2266, 2267, 2268, 2269, 2270, 2271, 2272, 2273, 2274, 2275,\n",
       "            ...\n",
       "            2956, 2957, 2958, 2959, 2960, 2961, 2962, 2963, 2964, 2965],\n",
       "           dtype='int64', length=661)"
      ]
     },
     "execution_count": 48,
     "metadata": {},
     "output_type": "execute_result"
    }
   ],
   "source": [
    "data['Days_with_company'].value_counts().index.sort_values(ascending=True)"
   ]
  },
  {
   "cell_type": "markdown",
   "metadata": {},
   "source": [
    "We can see that the number of days the customers are associted with the company ranges from 2167 days to 2864 days, that is a range of 697 days.  \n",
    "In order to improve the signal-noise ratio in the data we can further discreticize the feature based on the 4 quartiles.  \n",
    "This would in turn also maintain balanced classes in the feature.  \n",
    "Each bin representing the following : \n",
    "* bin 0 > legacy customer\n",
    "* bin 1 > old customer\n",
    "* bin 2 > new customer\n",
    "* bin 3 > current customer"
   ]
  },
  {
   "cell_type": "code",
   "execution_count": 49,
   "metadata": {},
   "outputs": [
    {
     "data": {
      "text/plain": [
       "0    553\n",
       "2    552\n",
       "1    551\n",
       "3    550\n",
       "Name: Days_with_company, dtype: int64"
      ]
     },
     "execution_count": 49,
     "metadata": {},
     "output_type": "execute_result"
    }
   ],
   "source": [
    "data['Days_with_company'] = pd.qcut(data['Days_with_company'], q=4, labels=False, precision=0)\n",
    "data['Days_with_company'].value_counts()"
   ]
  },
  {
   "cell_type": "markdown",
   "metadata": {},
   "source": [
    "The feature 'Recency' represents the number of days since the last purchase, i.e. in other terms it shows the last activity in terms of a purchase.  \n",
    "Creating new feature 'last_purchase_day_type', which will represent the type of day of the last purchase, i.e. 'Weekday' or 'Weekend'."
   ]
  },
  {
   "cell_type": "code",
   "execution_count": 50,
   "metadata": {},
   "outputs": [
    {
     "data": {
      "text/plain": [
       "0    Wednesday\n",
       "1      Tuesday\n",
       "2       Sunday\n",
       "3       Sunday\n",
       "4      Tuesday\n",
       "Name: last_purchase_day_type, dtype: object"
      ]
     },
     "execution_count": 50,
     "metadata": {},
     "output_type": "execute_result"
    }
   ],
   "source": [
    "from datetime import timedelta\n",
    "\n",
    "days_list = []\n",
    "for val in data['Recency'].values :\n",
    "     days_list.append((datetime.today().date() - timedelta(days=int(val))).strftime('%A'))\n",
    "data['last_purchase_day_type'] = days_list\n",
    "data['last_purchase_day_type'].head()"
   ]
  },
  {
   "cell_type": "code",
   "execution_count": 51,
   "metadata": {},
   "outputs": [],
   "source": [
    "data['last_purchase_day_type'] = data['last_purchase_day_type'].apply(lambda x: 'Weekend' if x in ['Saturday', 'Sunday'] else 'Weekday')"
   ]
  },
  {
   "cell_type": "code",
   "execution_count": 52,
   "metadata": {},
   "outputs": [
    {
     "data": {
      "text/plain": [
       "0    Weekday\n",
       "1    Weekday\n",
       "2    Weekend\n",
       "3    Weekend\n",
       "4    Weekday\n",
       "Name: last_purchase_day_type, dtype: object"
      ]
     },
     "execution_count": 52,
     "metadata": {},
     "output_type": "execute_result"
    }
   ],
   "source": [
    "data['last_purchase_day_type'].head()"
   ]
  },
  {
   "cell_type": "markdown",
   "metadata": {},
   "source": [
    "The features 'MntWines', 'MntFruits', 'MntMeatProducts', 'MntFishProducts', 'MntSweetProducts', 'MntGoldProds'; represent the total amount spent on wine, fruits, meat, fish, sweet, gold products in the last 2 years respectively.  \n",
    "Creating new feature 'Total_amnt_spent', representing the total amount spent by a customer in the last 2 years.  \n",
    "And transforming the above mention original features to represent the percentage of money spent on those products with respect to the total amount spent, in the last 2 years.  "
   ]
  },
  {
   "cell_type": "code",
   "execution_count": 53,
   "metadata": {},
   "outputs": [],
   "source": [
    "data['Tot_amnt_spent'] = (data['MntWines']+data['MntFruits']+data['MntMeatProducts']+data['MntFishProducts']+data['MntSweetProducts']+data['MntGoldProds'])"
   ]
  },
  {
   "cell_type": "code",
   "execution_count": 54,
   "metadata": {},
   "outputs": [],
   "source": [
    "data['MntWines'] = round((data['MntWines']/data['Tot_amnt_spent'])*100, 2)\n",
    "data['MntFruits'] = round((data['MntFruits']/data['Tot_amnt_spent'])*100, 2)\n",
    "data['MntMeatProducts'] = round((data['MntMeatProducts']/data['Tot_amnt_spent'])*100, 2)\n",
    "data['MntFishProducts'] = round((data['MntFishProducts']/data['Tot_amnt_spent'])*100, 2)\n",
    "data['MntSweetProducts'] = round((data['MntSweetProducts']/data['Tot_amnt_spent'])*100, 2)\n",
    "data['MntGoldProds'] = round((data['MntGoldProds']/data['Tot_amnt_spent'])*100, 2)"
   ]
  },
  {
   "cell_type": "code",
   "execution_count": 55,
   "metadata": {},
   "outputs": [
    {
     "data": {
      "text/plain": [
       "Float64Index([ 4023.0,  4428.0,  4861.0,  5305.0,  5648.0,  6560.0,  6835.0,\n",
       "               7144.0,  7500.0,  8028.0,\n",
       "              ...\n",
       "              93027.0, 93404.0, 93790.0, 94384.0, 94472.0, 94642.0, 94871.0,\n",
       "              95169.0, 95529.0, 96547.0],\n",
       "             dtype='float64', length=1944)"
      ]
     },
     "execution_count": 55,
     "metadata": {},
     "output_type": "execute_result"
    }
   ],
   "source": [
    "data['Income'].value_counts().index.sort_values(ascending=True)"
   ]
  },
  {
   "cell_type": "markdown",
   "metadata": {},
   "source": [
    "As we can see from above that monthly income of the customers in our dataset range from 3502 (minimum) to 162397 (maximum).  \n",
    "In order to improve the signal-noise ratio of our data we will be discretizing the feature into 5 bins according to the quantiles of the feature, where each bin represents the following :  \n",
    "* bin 0 > represents low income\n",
    "* bin 1 > represents below average income\n",
    "* bin 2 > represents average income\n",
    "* bin 3 > represents above average income\n",
    "* bin 4 > represents high income\n",
    "\n",
    "Using the quantiles to discretize the feature would also make sure that the discrete bins are of fairly same count, hence maintaining a balanced feruency of the discrete classes in the feature."
   ]
  },
  {
   "cell_type": "code",
   "execution_count": 56,
   "metadata": {},
   "outputs": [
    {
     "data": {
      "text/plain": [
       "0    442\n",
       "3    441\n",
       "1    441\n",
       "4    441\n",
       "2    441\n",
       "Name: Income, dtype: int64"
      ]
     },
     "execution_count": 56,
     "metadata": {},
     "output_type": "execute_result"
    }
   ],
   "source": [
    "data['Income'] = pd.qcut(data['Income'], q=5, labels=False, precision=0)\n",
    "data['Income'].value_counts()"
   ]
  },
  {
   "cell_type": "markdown",
   "metadata": {},
   "source": [
    "# Data analysis utilising visualizations."
   ]
  },
  {
   "cell_type": "markdown",
   "metadata": {},
   "source": [
    "Visualization of Education and Income with Response of the customers."
   ]
  },
  {
   "cell_type": "code",
   "execution_count": 57,
   "metadata": {},
   "outputs": [
    {
     "data": {
      "text/plain": [
       "<seaborn.axisgrid.FacetGrid at 0x7f191974fdc0>"
      ]
     },
     "execution_count": 57,
     "metadata": {},
     "output_type": "execute_result"
    },
    {
     "data": {
      "image/png": "[encoded data removed]",
      "text/plain": [
       "<Figure size 1484.5x360 with 4 Axes>"
      ]
     },
     "metadata": {
      "needs_background": "light"
     },
     "output_type": "display_data"
    }
   ],
   "source": [
    "sns.catplot(x='Response', hue='Income', col='Education', data=data, kind='count')"
   ]
  },
  {
   "cell_type": "markdown",
   "metadata": {},
   "source": [
    "Observation : \n",
    "* customers who have a education level of 'Graduation' show the highest rejection levels to the last campaign, where the effect of 'Income' was insignificant towards the kind of response.\n",
    "* customers who have a educational background of 'PhD' and 'Master', show approximately similar levels of rejection towards the last campaign. \n",
    "* Among the customers having a 'PhD', we can see the lowest levels of rejection response towards the last campaign is being showed by the customers having a low income, and the level of rejection responses gradually grows as the income levels increase peaking at the customers with above average income and then a slight decrease of rejection levels by customers with high income.\n",
    "* The level of the customer's income is insignificant towards their levels of a rejection response, for the customers having a 'Master' in education.\n",
    "* Fr the customers with a 'Basic' educational background we can see tht the rejection levels are reletively lower than for customers with other educational backgrounds; but within these class of customers, the ones having a low level of income show significantly higher level of a rejection response towards the last campaign."
   ]
  },
  {
   "cell_type": "markdown",
   "metadata": {},
   "source": [
    "Visualizatoin of Marital_Status and n_kids with Response."
   ]
  },
  {
   "cell_type": "code",
   "execution_count": 58,
   "metadata": {},
   "outputs": [
    {
     "data": {
      "text/plain": [
       "<seaborn.axisgrid.FacetGrid at 0x7f191bba1f10>"
      ]
     },
     "execution_count": 58,
     "metadata": {},
     "output_type": "execute_result"
    },
    {
     "data": {
      "image/png": "[encoded data removed]",
      "text/plain": [
       "<Figure size 1842.38x360 with 5 Axes>"
      ]
     },
     "metadata": {
      "needs_background": "light"
     },
     "output_type": "display_data"
    }
   ],
   "source": [
    "sns.catplot(x='Response', hue='n_kids', col='Marital_Status', data=data, kind='count')"
   ]
  },
  {
   "cell_type": "markdown",
   "metadata": {},
   "source": [
    "Observtions : \n",
    "* We can clearly see that a majority of the rejection responses towards the last campaign is from customers who are married, followed by customers who are in a live-in relationship and who are single.\n",
    "* We can also see a clear pattern, that customers having 1 kid irrespective of their maritl status, show the relatively highest rejection responses across the population."
   ]
  },
  {
   "cell_type": "markdown",
   "metadata": {},
   "source": [
    "Visualization of Customer_age, Days_with_company and Response."
   ]
  },
  {
   "cell_type": "code",
   "execution_count": 59,
   "metadata": {},
   "outputs": [
    {
     "data": {
      "text/plain": [
       "<seaborn.axisgrid.FacetGrid at 0x7f191b95f7c0>"
      ]
     },
     "execution_count": 59,
     "metadata": {},
     "output_type": "execute_result"
    },
    {
     "data": {
      "image/png": "[encoded data removed]",
      "text/plain": [
       "<Figure size 1519.88x360 with 4 Axes>"
      ]
     },
     "metadata": {
      "needs_background": "light"
     },
     "output_type": "display_data"
    }
   ],
   "source": [
    "sns.catplot(x='Response', hue='Customer_age', col='Days_with_company', data=data, kind='count')"
   ]
  },
  {
   "cell_type": "markdown",
   "metadata": {},
   "source": [
    "Observations :\n",
    "* We can see a similar level of  relatively higher rejection responses from customers who are legecy and old customers.\n",
    "* We can also see a similar level of relatively lower but independently higher, rejection levels from new and current customers.\n",
    "* A common pttern among all kinds of customers is that the highest levels of rejection responses are shown by the cutomers in the age bin of 3 to 7.\n"
   ]
  },
  {
   "cell_type": "markdown",
   "metadata": {},
   "source": [
    "Visualization of percent_kids, percent_teenager with Response."
   ]
  },
  {
   "cell_type": "code",
   "execution_count": 60,
   "metadata": {},
   "outputs": [
    {
     "data": {
      "text/plain": [
       "<seaborn.axisgrid.FacetGrid at 0x7f191b79beb0>"
      ]
     },
     "execution_count": 60,
     "metadata": {},
     "output_type": "execute_result"
    },
    {
     "data": {
      "image/png": "[encoded data removed]",
      "text/plain": [
       "<Figure size 1871.38x360 with 5 Axes>"
      ]
     },
     "metadata": {
      "needs_background": "light"
     },
     "output_type": "display_data"
    }
   ],
   "source": [
    "sns.catplot(x='Response', hue='percent_kids', col='percent_teenagers', data=data, kind='count')"
   ]
  },
  {
   "cell_type": "markdown",
   "metadata": {},
   "source": [
    "Observations : \n",
    "* We can see high levels of rejection responses from customers :\n",
    "    * having 0 teenagers or kids\n",
    "    * having only kids and o teenagers\n",
    "    * having equally kids and teenagers\n",
    "    * having only teenagers\n",
    "* On the contrary, customers with 70% kids and 30% teenagers are showing lower rejection responses towards the last campaign.\n",
    "* To summarize the above observations, customers with all kinds of combinations of kids and teenagers (except 30-70 ratio) in their family show similarly high rejection responses."
   ]
  },
  {
   "cell_type": "markdown",
   "metadata": {},
   "source": [
    "Visualization of NumDealsPurchases, NumWebPurchases with Response."
   ]
  },
  {
   "cell_type": "code",
   "execution_count": 61,
   "metadata": {},
   "outputs": [
    {
     "data": {
      "text/plain": [
       "<seaborn.axisgrid.FacetGrid at 0x7f191b83ed60>"
      ]
     },
     "execution_count": 61,
     "metadata": {},
     "output_type": "execute_result"
    },
    {
     "data": {
      "image/png": "[encoded data removed]",
      "text/plain": [
       "<Figure size 1550.38x1440 with 14 Axes>"
      ]
     },
     "metadata": {
      "needs_background": "light"
     },
     "output_type": "display_data"
    }
   ],
   "source": [
    "sns.catplot(x='Response', hue='NumDealsPurchases', col='NumWebPurchases', data=data, kind='count', legend_out = True, col_wrap=4)"
   ]
  },
  {
   "cell_type": "markdown",
   "metadata": {},
   "source": [
    "We can observe from above that there is a high level of rejection responses from customers belonging to the type : \n",
    "* customers who did 1 to 4 purchases from the company website\n",
    "    * and customers who did 1 to 4 purchases with discount deals."
   ]
  },
  {
   "cell_type": "markdown",
   "metadata": {},
   "source": [
    "Visualization of NumCatalogPurchases, NumStorePurchases with Response."
   ]
  },
  {
   "cell_type": "code",
   "execution_count": 62,
   "metadata": {},
   "outputs": [
    {
     "data": {
      "text/plain": [
       "<seaborn.axisgrid.FacetGrid at 0x7f1918c02220>"
      ]
     },
     "execution_count": 62,
     "metadata": {},
     "output_type": "execute_result"
    },
    {
     "data": {
      "image/png": "[encoded data removed]",
      "text/plain": [
       "<Figure size 1920.5x1080 with 14 Axes>"
      ]
     },
     "metadata": {
      "needs_background": "light"
     },
     "output_type": "display_data"
    }
   ],
   "source": [
    "sns.catplot(x='Response', hue='NumCatalogPurchases', col='NumStorePurchases', data=data, kind='count', legend_out=True, col_wrap=5)"
   ]
  },
  {
   "cell_type": "markdown",
   "metadata": {},
   "source": [
    "We can see from above that there is a high level of rejection responses coming from customers who did 2 to 4 purchases directly from the stores and among them the customers who did 1 to 3 purchases from the catalog, are showing relatively higher rejection responses."
   ]
  },
  {
   "cell_type": "markdown",
   "metadata": {},
   "source": [
    "Visualization of NumWebVisitsMonth, last_purchase_day_type with Response."
   ]
  },
  {
   "cell_type": "code",
   "execution_count": 63,
   "metadata": {},
   "outputs": [
    {
     "data": {
      "text/plain": [
       "<seaborn.axisgrid.FacetGrid at 0x7f19184e54f0>"
      ]
     },
     "execution_count": 63,
     "metadata": {},
     "output_type": "execute_result"
    },
    {
     "data": {
      "image/png": "[encoded data removed]",
      "text/plain": [
       "<Figure size 831.125x360 with 2 Axes>"
      ]
     },
     "metadata": {
      "needs_background": "light"
     },
     "output_type": "display_data"
    }
   ],
   "source": [
    "sns.catplot(x='Response', hue='NumWebVisitsMonth', col='last_purchase_day_type', data=data, kind='count')"
   ]
  },
  {
   "cell_type": "markdown",
   "metadata": {},
   "source": [
    "We can see fromabove tat the customers who were visiting the website from 1 to 8 times a month on a weekday, are showing the relatively highest rejection responses; and the same apples for weekends but the magnitude of the rejection responses are relatively lower than on the weendays."
   ]
  },
  {
   "cell_type": "markdown",
   "metadata": {},
   "source": [
    "Visualization of AcceptedCmp1, Complain with Response."
   ]
  },
  {
   "cell_type": "code",
   "execution_count": 64,
   "metadata": {},
   "outputs": [
    {
     "data": {
      "text/plain": [
       "<seaborn.axisgrid.FacetGrid at 0x7f191852d5e0>"
      ]
     },
     "execution_count": 64,
     "metadata": {},
     "output_type": "execute_result"
    },
    {
     "data": {
      "image/png": "[encoded data removed]",
      "text/plain": [
       "<Figure size 803.625x360 with 2 Axes>"
      ]
     },
     "metadata": {
      "needs_background": "light"
     },
     "output_type": "display_data"
    }
   ],
   "source": [
    "sns.catplot(x='Response', hue='AcceptedCmp1', col='Complain', data=data, kind='count')"
   ]
  },
  {
   "cell_type": "markdown",
   "metadata": {},
   "source": [
    "We can observe from above that, customers who do not complain are showing a higher level of rejection responses."
   ]
  },
  {
   "cell_type": "markdown",
   "metadata": {},
   "source": [
    "Visualization of AcceptedCmp2, Complain with Response."
   ]
  },
  {
   "cell_type": "code",
   "execution_count": 65,
   "metadata": {},
   "outputs": [
    {
     "data": {
      "text/plain": [
       "<seaborn.axisgrid.FacetGrid at 0x7f191821cc70>"
      ]
     },
     "execution_count": 65,
     "metadata": {},
     "output_type": "execute_result"
    },
    {
     "data": {
      "image/png": "[encoded data removed]",
      "text/plain": [
       "<Figure size 803.625x360 with 2 Axes>"
      ]
     },
     "metadata": {
      "needs_background": "light"
     },
     "output_type": "display_data"
    }
   ],
   "source": [
    "sns.catplot(x='Response', hue='AcceptedCmp2', col='Complain', data=data, kind='count')"
   ]
  },
  {
   "cell_type": "markdown",
   "metadata": {},
   "source": [
    "We can observe from above that, customers who do not complain are showing a higher level of rejection responses."
   ]
  },
  {
   "cell_type": "markdown",
   "metadata": {},
   "source": [
    "Visualization of AcceptedCmp3, Complain with Response."
   ]
  },
  {
   "cell_type": "code",
   "execution_count": 66,
   "metadata": {},
   "outputs": [
    {
     "data": {
      "text/plain": [
       "<seaborn.axisgrid.FacetGrid at 0x7f191843adc0>"
      ]
     },
     "execution_count": 66,
     "metadata": {},
     "output_type": "execute_result"
    },
    {
     "data": {
      "image/png": "[encoded data removed]",
      "text/plain": [
       "<Figure size 803.625x360 with 2 Axes>"
      ]
     },
     "metadata": {
      "needs_background": "light"
     },
     "output_type": "display_data"
    }
   ],
   "source": [
    "sns.catplot(x='Response', hue='AcceptedCmp3', col='Complain', data=data, kind='count')"
   ]
  },
  {
   "cell_type": "markdown",
   "metadata": {},
   "source": [
    "We can observe from above that, customers who do not complain are showing a higher level of rejection responses."
   ]
  },
  {
   "cell_type": "markdown",
   "metadata": {},
   "source": [
    "Visualization of AcceptedCmp4, Complain with Response."
   ]
  },
  {
   "cell_type": "code",
   "execution_count": 67,
   "metadata": {},
   "outputs": [
    {
     "data": {
      "text/plain": [
       "<seaborn.axisgrid.FacetGrid at 0x7f19181690a0>"
      ]
     },
     "execution_count": 67,
     "metadata": {},
     "output_type": "execute_result"
    },
    {
     "data": {
      "image/png": "[encoded data removed]",
      "text/plain": [
       "<Figure size 803.625x360 with 2 Axes>"
      ]
     },
     "metadata": {
      "needs_background": "light"
     },
     "output_type": "display_data"
    }
   ],
   "source": [
    "sns.catplot(x='Response', hue='AcceptedCmp4', col='Complain', data=data, kind='count')"
   ]
  },
  {
   "cell_type": "markdown",
   "metadata": {},
   "source": [
    "We can observe from above that, customers who do not complain are showing a higher level of rejection responses, but they ae also showing a relatively lower but globally higher levels of acceptance responses to the campaign."
   ]
  },
  {
   "cell_type": "markdown",
   "metadata": {},
   "source": [
    "Visualization of AcceptedCmp5, Complain with Response."
   ]
  },
  {
   "cell_type": "code",
   "execution_count": 68,
   "metadata": {
    "scrolled": true
   },
   "outputs": [
    {
     "data": {
      "text/plain": [
       "<seaborn.axisgrid.FacetGrid at 0x7f19180847f0>"
      ]
     },
     "execution_count": 68,
     "metadata": {},
     "output_type": "execute_result"
    },
    {
     "data": {
      "image/png": "[encoded data removed]",
      "text/plain": [
       "<Figure size 803.625x360 with 2 Axes>"
      ]
     },
     "metadata": {
      "needs_background": "light"
     },
     "output_type": "display_data"
    }
   ],
   "source": [
    "sns.catplot(x='Response', hue='AcceptedCmp5', col='Complain', data=data, kind='count')"
   ]
  },
  {
   "cell_type": "markdown",
   "metadata": {},
   "source": [
    "We can observe from above that, customers who do not complain are showing a higher level of rejection responses, but they ae also showing a relatively lower but globally higher levels of acceptance responses to the campaign."
   ]
  },
  {
   "cell_type": "markdown",
   "metadata": {},
   "source": [
    "# Feature encoding."
   ]
  },
  {
   "cell_type": "code",
   "execution_count": 69,
   "metadata": {},
   "outputs": [
    {
     "name": "stderr",
     "output_type": "stream",
     "text": [
      "/home/titashmkhrj/anaconda3/lib/python3.8/site-packages/sklearn/utils/validation.py:73: DataConversionWarning: A column-vector y was passed when a 1d array was expected. Please change the shape of y to (n_samples, ), for example using ravel().\n",
      "  return f(**kwargs)\n"
     ]
    }
   ],
   "source": [
    "# one hot encoding the nominal categorical feature 'last_purchase_day_type'\n",
    "enc_feature_df = pd.get_dummies(data['last_purchase_day_type'],prefix='last_purchase_day_type', prefix_sep='_')\n",
    "data = pd.concat([enc_feature_df,data], axis=1)\n",
    "data.drop('last_purchase_day_type', axis=1, inplace=True)\n",
    "\n",
    "# label encoding\n",
    "# importing required libraies\n",
    "from sklearn.preprocessing import LabelEncoder\n",
    "data['Education'] = LabelEncoder().fit_transform(data['Education'].values.reshape(-1,1))\n",
    "data['Marital_Status'] = LabelEncoder().fit_transform(data['Marital_Status'].values.reshape(-1,1))"
   ]
  },
  {
   "cell_type": "markdown",
   "metadata": {},
   "source": [
    "# Making the feature and target space."
   ]
  },
  {
   "cell_type": "code",
   "execution_count": 70,
   "metadata": {},
   "outputs": [],
   "source": [
    "# making our x and y data\n",
    "x_data = data.drop('Response', axis=1)\n",
    "y_data = data['Response']\n",
    "\n",
    "#saving the above as csv files\n",
    "x_data.to_csv('feature_space.csv')\n",
    "y_data.to_csv('target_space.csv')"
   ]
  }
 ],
 "metadata": {
  "kernelspec": {
   "display_name": "Python 3",
   "language": "python",
   "name": "python3"
  },
  "language_info": {
   "codemirror_mode": {
    "name": "ipython",
    "version": 3
   },
   "file_extension": ".py",
   "mimetype": "text/x-python",
   "name": "python",
   "nbconvert_exporter": "python",
   "pygments_lexer": "ipython3",
   "version": "3.8.3"
  }
 },
 "nbformat": 4,
 "nbformat_minor": 2
}
