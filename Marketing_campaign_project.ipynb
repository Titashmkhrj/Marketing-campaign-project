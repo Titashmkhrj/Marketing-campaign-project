{
  "nbformat": 4,
  "nbformat_minor": 0,
  "metadata": {
    "kernelspec": {
      "display_name": "Python 3",
      "language": "python",
      "name": "python3"
    },
    "language_info": {
      "codemirror_mode": {
        "name": "ipython",
        "version": 3
      },
      "file_extension": ".py",
      "mimetype": "text/x-python",
      "name": "python",
      "nbconvert_exporter": "python",
      "pygments_lexer": "ipython3",
      "version": "3.7.0"
    },
    "colab": {
      "name": "Marketing_campaign_project.ipynb",
      "provenance": []
    }
  },
  "cells": [
    {
      "cell_type": "markdown",
      "metadata": {
        "id": "g44SAunRuEG_",
        "colab_type": "text"
      },
      "source": [
        "# Project Desription\n",
        "#### PROBLEM STATEMENT <i>(according to the data provider on Kaggle)</i>     \n",
        "\n",
        "\"A response model can provide a significant boost to the efficiency of a marketing campaign by increasing responses or reducing expenses. The objective is to predict who will respond to an offer for a product or service.\"  \n",
        "\n",
        "##### GOAL OF THE PROJECT    \n",
        "\n",
        "We are required to model and train a predictive model which allows the company to maximize the profit of the next marketing campaign, leveraging the resulting key-drivers of the model.  \n",
        "\n",
        "##### DATA SOURCE  \n",
        "\n",
        "* FROM Kaggle - https://www.kaggle.com/rodsaldanha/arketing-campaign\n"
      ]
    },
    {
      "cell_type": "markdown",
      "metadata": {
        "id": "jHF1XBUpuPkd",
        "colab_type": "text"
      },
      "source": [
        "**Okay so prima facie, lets import some of the libraries we will be needing for this project.**  \n",
        "(even if we are missing out on some library, we can always import it later on in the project.)\n"
      ]
    },
    {
      "cell_type": "code",
      "metadata": {
        "id": "7B8c6O3fuUCg",
        "colab_type": "code",
        "colab": {
          "base_uri": "https://localhost:8080/",
          "height": 71
        },
        "outputId": "f97c0925-b3b4-45d2-a22b-dd7e559c18d3"
      },
      "source": [
        "import sys\n",
        "\n",
        "# library to handle vectorized data \n",
        "import numpy as np \n",
        "# library for data analsysis and man\n",
        "import pandas as pd\n",
        "\n",
        "# for visualisations\n",
        "import seaborn as sns\n",
        "\n",
        "%matplotlib inline \n",
        "import matplotlib as mpl\n",
        "import matplotlib.pyplot as plt"
      ],
      "execution_count": 1,
      "outputs": [
        {
          "output_type": "stream",
          "text": [
            "/usr/local/lib/python3.6/dist-packages/statsmodels/tools/_testing.py:19: FutureWarning: pandas.util.testing is deprecated. Use the functions in the public API at pandas.testing instead.\n",
            "  import pandas.util.testing as tm\n"
          ],
          "name": "stderr"
        }
      ]
    },
    {
      "cell_type": "code",
      "metadata": {
        "id": "639AUzAevIcU",
        "colab_type": "code",
        "colab": {
          "base_uri": "https://localhost:8080/",
          "height": 122
        },
        "outputId": "8b59b5f2-1fd1-4079-880f-7f9539639a32"
      },
      "source": [
        "from google.colab import drive\n",
        "drive.mount('/content/drive')"
      ],
      "execution_count": 2,
      "outputs": [
        {
          "output_type": "stream",
          "text": [
            "Go to this URL in a browser: https://accounts.google.com/o/oauth2/auth?client_id=947318989803-6bn6qk8qdgf4n4g3pfee6491hc0brc4i.apps.googleusercontent.com&redirect_uri=urn%3aietf%3awg%3aoauth%3a2.0%3aoob&response_type=code&scope=email%20https%3a%2f%2fwww.googleapis.com%2fauth%2fdocs.test%20https%3a%2f%2fwww.googleapis.com%2fauth%2fdrive%20https%3a%2f%2fwww.googleapis.com%2fauth%2fdrive.photos.readonly%20https%3a%2f%2fwww.googleapis.com%2fauth%2fpeopleapi.readonly\n",
            "\n",
            "Enter your authorization code:\n",
            "··········\n",
            "Mounted at /content/drive\n"
          ],
          "name": "stdout"
        }
      ]
    },
    {
      "cell_type": "markdown",
      "metadata": {
        "id": "QJI_KjvTvh3-",
        "colab_type": "text"
      },
      "source": [
        "# Loading the data."
      ]
    },
    {
      "cell_type": "code",
      "metadata": {
        "id": "-X5G-SeavnUY",
        "colab_type": "code",
        "colab": {
          "base_uri": "https://localhost:8080/",
          "height": 34
        },
        "outputId": "1fb0a0c0-05f4-4390-874f-e92814ed8798"
      },
      "source": [
        "data = pd.read_csv('/content/drive/My Drive/Github_projects/Marketing_campaign_project/marketing_campaign.csv')\n",
        "print('The dimension of our data is :',data.shape)"
      ],
      "execution_count": 3,
      "outputs": [
        {
          "output_type": "stream",
          "text": [
            "The dimension of our data is : (2240, 29)\n"
          ],
          "name": "stdout"
        }
      ]
    },
    {
      "cell_type": "code",
      "metadata": {
        "id": "Kr0Ktflkvv4d",
        "colab_type": "code",
        "colab": {
          "base_uri": "https://localhost:8080/",
          "height": 527
        },
        "outputId": "ea0d79d0-db68-45f3-f092-bc07d5e47e3d"
      },
      "source": [
        "# let's have a look at the features and the corresponding data types of those features\n",
        "data.dtypes"
      ],
      "execution_count": 4,
      "outputs": [
        {
          "output_type": "execute_result",
          "data": {
            "text/plain": [
              "ID                       int64\n",
              "Year_Birth               int64\n",
              "Education               object\n",
              "Marital_Status          object\n",
              "Income                 float64\n",
              "Kidhome                  int64\n",
              "Teenhome                 int64\n",
              "Dt_Customer             object\n",
              "Recency                  int64\n",
              "MntWines                 int64\n",
              "MntFruits                int64\n",
              "MntMeatProducts          int64\n",
              "MntFishProducts          int64\n",
              "MntSweetProducts         int64\n",
              "MntGoldProds             int64\n",
              "NumDealsPurchases        int64\n",
              "NumWebPurchases          int64\n",
              "NumCatalogPurchases      int64\n",
              "NumStorePurchases        int64\n",
              "NumWebVisitsMonth        int64\n",
              "AcceptedCmp3             int64\n",
              "AcceptedCmp4             int64\n",
              "AcceptedCmp5             int64\n",
              "AcceptedCmp1             int64\n",
              "AcceptedCmp2             int64\n",
              "Complain                 int64\n",
              "Z_CostContact            int64\n",
              "Z_Revenue                int64\n",
              "Response                 int64\n",
              "dtype: object"
            ]
          },
          "metadata": {
            "tags": []
          },
          "execution_count": 4
        }
      ]
    },
    {
      "cell_type": "code",
      "metadata": {
        "id": "vRV6aRyEv2vx",
        "colab_type": "code",
        "colab": {
          "base_uri": "https://localhost:8080/",
          "height": 224
        },
        "outputId": "e265f1d4-0e7a-405e-9f4c-751b897f98a0"
      },
      "source": [
        "# Let's have a look at the data\n",
        "data.head()"
      ],
      "execution_count": 5,
      "outputs": [
        {
          "output_type": "execute_result",
          "data": {
            "text/html": [
              "<div>\n",
              "<style scoped>\n",
              "    .dataframe tbody tr th:only-of-type {\n",
              "        vertical-align: middle;\n",
              "    }\n",
              "\n",
              "    .dataframe tbody tr th {\n",
              "        vertical-align: top;\n",
              "    }\n",
              "\n",
              "    .dataframe thead th {\n",
              "        text-align: right;\n",
              "    }\n",
              "</style>\n",
              "<table border=\"1\" class=\"dataframe\">\n",
              "  <thead>\n",
              "    <tr style=\"text-align: right;\">\n",
              "      <th></th>\n",
              "      <th>ID</th>\n",
              "      <th>Year_Birth</th>\n",
              "      <th>Education</th>\n",
              "      <th>Marital_Status</th>\n",
              "      <th>Income</th>\n",
              "      <th>Kidhome</th>\n",
              "      <th>Teenhome</th>\n",
              "      <th>Dt_Customer</th>\n",
              "      <th>Recency</th>\n",
              "      <th>MntWines</th>\n",
              "      <th>MntFruits</th>\n",
              "      <th>MntMeatProducts</th>\n",
              "      <th>MntFishProducts</th>\n",
              "      <th>MntSweetProducts</th>\n",
              "      <th>MntGoldProds</th>\n",
              "      <th>NumDealsPurchases</th>\n",
              "      <th>NumWebPurchases</th>\n",
              "      <th>NumCatalogPurchases</th>\n",
              "      <th>NumStorePurchases</th>\n",
              "      <th>NumWebVisitsMonth</th>\n",
              "      <th>AcceptedCmp3</th>\n",
              "      <th>AcceptedCmp4</th>\n",
              "      <th>AcceptedCmp5</th>\n",
              "      <th>AcceptedCmp1</th>\n",
              "      <th>AcceptedCmp2</th>\n",
              "      <th>Complain</th>\n",
              "      <th>Z_CostContact</th>\n",
              "      <th>Z_Revenue</th>\n",
              "      <th>Response</th>\n",
              "    </tr>\n",
              "  </thead>\n",
              "  <tbody>\n",
              "    <tr>\n",
              "      <th>0</th>\n",
              "      <td>5524</td>\n",
              "      <td>1957</td>\n",
              "      <td>Graduation</td>\n",
              "      <td>Single</td>\n",
              "      <td>58138.0</td>\n",
              "      <td>0</td>\n",
              "      <td>0</td>\n",
              "      <td>2012-09-04</td>\n",
              "      <td>58</td>\n",
              "      <td>635</td>\n",
              "      <td>88</td>\n",
              "      <td>546</td>\n",
              "      <td>172</td>\n",
              "      <td>88</td>\n",
              "      <td>88</td>\n",
              "      <td>3</td>\n",
              "      <td>8</td>\n",
              "      <td>10</td>\n",
              "      <td>4</td>\n",
              "      <td>7</td>\n",
              "      <td>0</td>\n",
              "      <td>0</td>\n",
              "      <td>0</td>\n",
              "      <td>0</td>\n",
              "      <td>0</td>\n",
              "      <td>0</td>\n",
              "      <td>3</td>\n",
              "      <td>11</td>\n",
              "      <td>1</td>\n",
              "    </tr>\n",
              "    <tr>\n",
              "      <th>1</th>\n",
              "      <td>2174</td>\n",
              "      <td>1954</td>\n",
              "      <td>Graduation</td>\n",
              "      <td>Single</td>\n",
              "      <td>46344.0</td>\n",
              "      <td>1</td>\n",
              "      <td>1</td>\n",
              "      <td>2014-03-08</td>\n",
              "      <td>38</td>\n",
              "      <td>11</td>\n",
              "      <td>1</td>\n",
              "      <td>6</td>\n",
              "      <td>2</td>\n",
              "      <td>1</td>\n",
              "      <td>6</td>\n",
              "      <td>2</td>\n",
              "      <td>1</td>\n",
              "      <td>1</td>\n",
              "      <td>2</td>\n",
              "      <td>5</td>\n",
              "      <td>0</td>\n",
              "      <td>0</td>\n",
              "      <td>0</td>\n",
              "      <td>0</td>\n",
              "      <td>0</td>\n",
              "      <td>0</td>\n",
              "      <td>3</td>\n",
              "      <td>11</td>\n",
              "      <td>0</td>\n",
              "    </tr>\n",
              "    <tr>\n",
              "      <th>2</th>\n",
              "      <td>4141</td>\n",
              "      <td>1965</td>\n",
              "      <td>Graduation</td>\n",
              "      <td>Together</td>\n",
              "      <td>71613.0</td>\n",
              "      <td>0</td>\n",
              "      <td>0</td>\n",
              "      <td>2013-08-21</td>\n",
              "      <td>26</td>\n",
              "      <td>426</td>\n",
              "      <td>49</td>\n",
              "      <td>127</td>\n",
              "      <td>111</td>\n",
              "      <td>21</td>\n",
              "      <td>42</td>\n",
              "      <td>1</td>\n",
              "      <td>8</td>\n",
              "      <td>2</td>\n",
              "      <td>10</td>\n",
              "      <td>4</td>\n",
              "      <td>0</td>\n",
              "      <td>0</td>\n",
              "      <td>0</td>\n",
              "      <td>0</td>\n",
              "      <td>0</td>\n",
              "      <td>0</td>\n",
              "      <td>3</td>\n",
              "      <td>11</td>\n",
              "      <td>0</td>\n",
              "    </tr>\n",
              "    <tr>\n",
              "      <th>3</th>\n",
              "      <td>6182</td>\n",
              "      <td>1984</td>\n",
              "      <td>Graduation</td>\n",
              "      <td>Together</td>\n",
              "      <td>26646.0</td>\n",
              "      <td>1</td>\n",
              "      <td>0</td>\n",
              "      <td>2014-02-10</td>\n",
              "      <td>26</td>\n",
              "      <td>11</td>\n",
              "      <td>4</td>\n",
              "      <td>20</td>\n",
              "      <td>10</td>\n",
              "      <td>3</td>\n",
              "      <td>5</td>\n",
              "      <td>2</td>\n",
              "      <td>2</td>\n",
              "      <td>0</td>\n",
              "      <td>4</td>\n",
              "      <td>6</td>\n",
              "      <td>0</td>\n",
              "      <td>0</td>\n",
              "      <td>0</td>\n",
              "      <td>0</td>\n",
              "      <td>0</td>\n",
              "      <td>0</td>\n",
              "      <td>3</td>\n",
              "      <td>11</td>\n",
              "      <td>0</td>\n",
              "    </tr>\n",
              "    <tr>\n",
              "      <th>4</th>\n",
              "      <td>5324</td>\n",
              "      <td>1981</td>\n",
              "      <td>PhD</td>\n",
              "      <td>Married</td>\n",
              "      <td>58293.0</td>\n",
              "      <td>1</td>\n",
              "      <td>0</td>\n",
              "      <td>2014-01-19</td>\n",
              "      <td>94</td>\n",
              "      <td>173</td>\n",
              "      <td>43</td>\n",
              "      <td>118</td>\n",
              "      <td>46</td>\n",
              "      <td>27</td>\n",
              "      <td>15</td>\n",
              "      <td>5</td>\n",
              "      <td>5</td>\n",
              "      <td>3</td>\n",
              "      <td>6</td>\n",
              "      <td>5</td>\n",
              "      <td>0</td>\n",
              "      <td>0</td>\n",
              "      <td>0</td>\n",
              "      <td>0</td>\n",
              "      <td>0</td>\n",
              "      <td>0</td>\n",
              "      <td>3</td>\n",
              "      <td>11</td>\n",
              "      <td>0</td>\n",
              "    </tr>\n",
              "  </tbody>\n",
              "</table>\n",
              "</div>"
            ],
            "text/plain": [
              "     ID  Year_Birth   Education  ... Z_CostContact  Z_Revenue  Response\n",
              "0  5524        1957  Graduation  ...             3         11         1\n",
              "1  2174        1954  Graduation  ...             3         11         0\n",
              "2  4141        1965  Graduation  ...             3         11         0\n",
              "3  6182        1984  Graduation  ...             3         11         0\n",
              "4  5324        1981         PhD  ...             3         11         0\n",
              "\n",
              "[5 rows x 29 columns]"
            ]
          },
          "metadata": {
            "tags": []
          },
          "execution_count": 5
        }
      ]
    },
    {
      "cell_type": "markdown",
      "metadata": {
        "id": "kXcSQ1IRv5G7",
        "colab_type": "text"
      },
      "source": [
        "# Exploratory data analysis.\n",
        "## And data cleaning if required."
      ]
    },
    {
      "cell_type": "markdown",
      "metadata": {
        "id": "fHwex3GYv9YW",
        "colab_type": "text"
      },
      "source": [
        "### Feature : ' ID '"
      ]
    },
    {
      "cell_type": "code",
      "metadata": {
        "id": "adxJHOUXwAWn",
        "colab_type": "code",
        "colab": {
          "base_uri": "https://localhost:8080/",
          "height": 119
        },
        "outputId": "0adcbce9-0b37-473d-f0ab-bbddf2d639ee"
      },
      "source": [
        "data['ID'].value_counts().index.sort_values(ascending=True)"
      ],
      "execution_count": 6,
      "outputs": [
        {
          "output_type": "execute_result",
          "data": {
            "text/plain": [
              "Int64Index([    0,     1,     9,    13,    17,    20,    22,    24,    25,\n",
              "               35,\n",
              "            ...\n",
              "            11133, 11148, 11166, 11171, 11176, 11178, 11181, 11187, 11188,\n",
              "            11191],\n",
              "           dtype='int64', length=2240)"
            ]
          },
          "metadata": {
            "tags": []
          },
          "execution_count": 6
        }
      ]
    },
    {
      "cell_type": "markdown",
      "metadata": {
        "id": "mTGNBs4IwELH",
        "colab_type": "text"
      },
      "source": [
        "Okay so we can see that the feature ID represents the customer IDs of the various customers over a period of time, but the data does not reflect a consecutive collection of data from all the customers, which is why the length of our data is no inline with the range of the customer IDs in this feature.  \n",
        "Due to the fact mentoined above, the feature is distorting the data a bit, so we will be dropping the feature from our data as it is not adding any value to our data and hence not required for our analysis.\n"
      ]
    },
    {
      "cell_type": "code",
      "metadata": {
        "id": "5-BOaG-FwHA1",
        "colab_type": "code",
        "colab": {}
      },
      "source": [
        "data.drop('ID', axis=1, inplace=True)"
      ],
      "execution_count": 0,
      "outputs": []
    },
    {
      "cell_type": "markdown",
      "metadata": {
        "id": "ZAyapr-AwJtS",
        "colab_type": "text"
      },
      "source": [
        "### Feature : ' Year_Birth '"
      ]
    },
    {
      "cell_type": "code",
      "metadata": {
        "id": "0fxH9pXhwM22",
        "colab_type": "code",
        "colab": {
          "base_uri": "https://localhost:8080/",
          "height": 136
        },
        "outputId": "d287a7a0-225e-48d0-ad02-9897a6402bef"
      },
      "source": [
        "data['Year_Birth'].value_counts().index.sort_values(ascending=True)"
      ],
      "execution_count": 8,
      "outputs": [
        {
          "output_type": "execute_result",
          "data": {
            "text/plain": [
              "Int64Index([1893, 1899, 1900, 1940, 1941, 1943, 1944, 1945, 1946, 1947, 1948,\n",
              "            1949, 1950, 1951, 1952, 1953, 1954, 1955, 1956, 1957, 1958, 1959,\n",
              "            1960, 1961, 1962, 1963, 1964, 1965, 1966, 1967, 1968, 1969, 1970,\n",
              "            1971, 1972, 1973, 1974, 1975, 1976, 1977, 1978, 1979, 1980, 1981,\n",
              "            1982, 1983, 1984, 1985, 1986, 1987, 1988, 1989, 1990, 1991, 1992,\n",
              "            1993, 1994, 1995, 1996],\n",
              "           dtype='int64')"
            ]
          },
          "metadata": {
            "tags": []
          },
          "execution_count": 8
        }
      ]
    },
    {
      "cell_type": "markdown",
      "metadata": {
        "id": "xswbTE8swPMs",
        "colab_type": "text"
      },
      "source": [
        "Okay so from above we can observe the the feature 'Year_Birth' represents the different years of birth of the customers. The data collected contains some gaps in this feature; in terms of particular years in which customers were born. So our data does not contain all the years starting from 1893 to 1996.\n"
      ]
    },
    {
      "cell_type": "markdown",
      "metadata": {
        "id": "ZFAA8AnawRrP",
        "colab_type": "text"
      },
      "source": [
        "### Feature : 'Education'"
      ]
    },
    {
      "cell_type": "code",
      "metadata": {
        "id": "iRF7b0BRwUP7",
        "colab_type": "code",
        "colab": {
          "base_uri": "https://localhost:8080/",
          "height": 34
        },
        "outputId": "f0ec9c0d-6020-4f7a-9cf8-e132d3ad7f32"
      },
      "source": [
        "data['Education'].value_counts().index.sort_values(ascending=True)"
      ],
      "execution_count": 9,
      "outputs": [
        {
          "output_type": "execute_result",
          "data": {
            "text/plain": [
              "Index(['2n Cycle', 'Basic', 'Graduation', 'Master', 'PhD'], dtype='object')"
            ]
          },
          "metadata": {
            "tags": []
          },
          "execution_count": 9
        }
      ]
    },
    {
      "cell_type": "markdown",
      "metadata": {
        "id": "s1U34CdnwWr1",
        "colab_type": "text"
      },
      "source": [
        "We can see that there are  classes in this feature, but there are 2 among them which mean the same but are represented in two different ways; i.e. '2n Cycle' and 'Master'. So we will replace all occurances of he class'2n Cycle' with 'Master', for a better value representation.\n"
      ]
    },
    {
      "cell_type": "code",
      "metadata": {
        "id": "mUDHDo5lwY9u",
        "colab_type": "code",
        "colab": {}
      },
      "source": [
        "data['Education'] = data[\"Education\"].replace('2n Cycle', \"Master\")"
      ],
      "execution_count": 0,
      "outputs": []
    },
    {
      "cell_type": "markdown",
      "metadata": {
        "id": "PfYVviZgwdAp",
        "colab_type": "text"
      },
      "source": [
        "### Feature : 'Marital_Status'"
      ]
    },
    {
      "cell_type": "code",
      "metadata": {
        "id": "-wWTDfxBwgMR",
        "colab_type": "code",
        "colab": {
          "base_uri": "https://localhost:8080/",
          "height": 170
        },
        "outputId": "d889587c-e53c-4fb6-aa93-d41ddbbcced9"
      },
      "source": [
        "data['Marital_Status'].value_counts()"
      ],
      "execution_count": 11,
      "outputs": [
        {
          "output_type": "execute_result",
          "data": {
            "text/plain": [
              "Married     864\n",
              "Together    580\n",
              "Single      480\n",
              "Divorced    232\n",
              "Widow        77\n",
              "Alone         3\n",
              "Absurd        2\n",
              "YOLO          2\n",
              "Name: Marital_Status, dtype: int64"
            ]
          },
          "metadata": {
            "tags": []
          },
          "execution_count": 11
        }
      ]
    },
    {
      "cell_type": "markdown",
      "metadata": {
        "id": "33wR2NMAwmGd",
        "colab_type": "text"
      },
      "source": [
        "okay so this feature has 8 classes inour data, for the purpose of a better value representation in this feature, we will be doing the following transformations to some of the classes :\n",
        "* 'Together' > replaced by 'live_in'\n",
        "* 'Alone', 'YOLO' and 'Absurd' > replaced by 'single'"
      ]
    },
    {
      "cell_type": "code",
      "metadata": {
        "id": "LpWYb4QAwtah",
        "colab_type": "code",
        "colab": {}
      },
      "source": [
        "data['Marital_Status'] = data['Marital_Status'].replace('Together', 'Live_in')\n",
        "data['Marital_Status'] = data['Marital_Status'].replace(['YOLO', 'Alone', 'Absurd'], 'Single')"
      ],
      "execution_count": 0,
      "outputs": []
    },
    {
      "cell_type": "markdown",
      "metadata": {
        "id": "en0g1XTlwwm4",
        "colab_type": "text"
      },
      "source": [
        "### Feature : 'Dt_Customer'"
      ]
    },
    {
      "cell_type": "code",
      "metadata": {
        "id": "HeKvf8PKw4Ke",
        "colab_type": "code",
        "colab": {
          "base_uri": "https://localhost:8080/",
          "height": 119
        },
        "outputId": "7df05eb1-0dc0-46bd-d747-f62d6b159227"
      },
      "source": [
        "data['Dt_Customer'].value_counts().index.sort_values(ascending=True)"
      ],
      "execution_count": 13,
      "outputs": [
        {
          "output_type": "execute_result",
          "data": {
            "text/plain": [
              "Index(['2012-07-30', '2012-07-31', '2012-08-01', '2012-08-02', '2012-08-03',\n",
              "       '2012-08-04', '2012-08-05', '2012-08-06', '2012-08-07', '2012-08-08',\n",
              "       ...\n",
              "       '2014-06-20', '2014-06-21', '2014-06-22', '2014-06-23', '2014-06-24',\n",
              "       '2014-06-25', '2014-06-26', '2014-06-27', '2014-06-28', '2014-06-29'],\n",
              "      dtype='object', length=663)"
            ]
          },
          "metadata": {
            "tags": []
          },
          "execution_count": 13
        }
      ]
    },
    {
      "cell_type": "markdown",
      "metadata": {
        "id": "jq3C2bejw7Gi",
        "colab_type": "text"
      },
      "source": [
        "The feature Dt_Customer represents dates of customer’s enrolment with the company. The data in this feature is represented in type str. In order to improve the value representation of this feture, and to do meaningful feature engineering with this feature, we will be converting the values in this feaure to data type datetime.\n"
      ]
    },
    {
      "cell_type": "code",
      "metadata": {
        "id": "rF4z33Mtw_V2",
        "colab_type": "code",
        "colab": {
          "base_uri": "https://localhost:8080/",
          "height": 153
        },
        "outputId": "4a408f2b-d546-4f6b-affc-8630ad45dd6e"
      },
      "source": [
        "data['Dt_Customer'] = pd.to_datetime(data['Dt_Customer'], format=\"%Y-%m-%d\")\n",
        "data['Dt_Customer'].value_counts().index.sort_values(ascending=True)"
      ],
      "execution_count": 14,
      "outputs": [
        {
          "output_type": "execute_result",
          "data": {
            "text/plain": [
              "DatetimeIndex(['2012-07-30', '2012-07-31', '2012-08-01', '2012-08-02',\n",
              "               '2012-08-03', '2012-08-04', '2012-08-05', '2012-08-06',\n",
              "               '2012-08-07', '2012-08-08',\n",
              "               ...\n",
              "               '2014-06-20', '2014-06-21', '2014-06-22', '2014-06-23',\n",
              "               '2014-06-24', '2014-06-25', '2014-06-26', '2014-06-27',\n",
              "               '2014-06-28', '2014-06-29'],\n",
              "              dtype='datetime64[ns]', length=663, freq=None)"
            ]
          },
          "metadata": {
            "tags": []
          },
          "execution_count": 14
        }
      ]
    },
    {
      "cell_type": "markdown",
      "metadata": {
        "id": "h7-mTGpXxDE4",
        "colab_type": "text"
      },
      "source": [
        "As we can see that the data type has been converted into datetime64[ns], without effecting the data itself."
      ]
    },
    {
      "cell_type": "markdown",
      "metadata": {
        "id": "UbReCIOaxFv0",
        "colab_type": "text"
      },
      "source": [
        "## Summary of the descriptive statistics of the features."
      ]
    },
    {
      "cell_type": "code",
      "metadata": {
        "id": "nqH8F1fwxH56",
        "colab_type": "code",
        "colab": {
          "base_uri": "https://localhost:8080/",
          "height": 317
        },
        "outputId": "0b5218f7-0c16-4384-b440-9cf4c7d29edb"
      },
      "source": [
        "data.describe()"
      ],
      "execution_count": 15,
      "outputs": [
        {
          "output_type": "execute_result",
          "data": {
            "text/html": [
              "<div>\n",
              "<style scoped>\n",
              "    .dataframe tbody tr th:only-of-type {\n",
              "        vertical-align: middle;\n",
              "    }\n",
              "\n",
              "    .dataframe tbody tr th {\n",
              "        vertical-align: top;\n",
              "    }\n",
              "\n",
              "    .dataframe thead th {\n",
              "        text-align: right;\n",
              "    }\n",
              "</style>\n",
              "<table border=\"1\" class=\"dataframe\">\n",
              "  <thead>\n",
              "    <tr style=\"text-align: right;\">\n",
              "      <th></th>\n",
              "      <th>Year_Birth</th>\n",
              "      <th>Income</th>\n",
              "      <th>Kidhome</th>\n",
              "      <th>Teenhome</th>\n",
              "      <th>Recency</th>\n",
              "      <th>MntWines</th>\n",
              "      <th>MntFruits</th>\n",
              "      <th>MntMeatProducts</th>\n",
              "      <th>MntFishProducts</th>\n",
              "      <th>MntSweetProducts</th>\n",
              "      <th>MntGoldProds</th>\n",
              "      <th>NumDealsPurchases</th>\n",
              "      <th>NumWebPurchases</th>\n",
              "      <th>NumCatalogPurchases</th>\n",
              "      <th>NumStorePurchases</th>\n",
              "      <th>NumWebVisitsMonth</th>\n",
              "      <th>AcceptedCmp3</th>\n",
              "      <th>AcceptedCmp4</th>\n",
              "      <th>AcceptedCmp5</th>\n",
              "      <th>AcceptedCmp1</th>\n",
              "      <th>AcceptedCmp2</th>\n",
              "      <th>Complain</th>\n",
              "      <th>Z_CostContact</th>\n",
              "      <th>Z_Revenue</th>\n",
              "      <th>Response</th>\n",
              "    </tr>\n",
              "  </thead>\n",
              "  <tbody>\n",
              "    <tr>\n",
              "      <th>count</th>\n",
              "      <td>2240.000000</td>\n",
              "      <td>2216.000000</td>\n",
              "      <td>2240.000000</td>\n",
              "      <td>2240.000000</td>\n",
              "      <td>2240.000000</td>\n",
              "      <td>2240.000000</td>\n",
              "      <td>2240.000000</td>\n",
              "      <td>2240.000000</td>\n",
              "      <td>2240.000000</td>\n",
              "      <td>2240.000000</td>\n",
              "      <td>2240.000000</td>\n",
              "      <td>2240.000000</td>\n",
              "      <td>2240.000000</td>\n",
              "      <td>2240.000000</td>\n",
              "      <td>2240.000000</td>\n",
              "      <td>2240.000000</td>\n",
              "      <td>2240.000000</td>\n",
              "      <td>2240.000000</td>\n",
              "      <td>2240.000000</td>\n",
              "      <td>2240.000000</td>\n",
              "      <td>2240.000000</td>\n",
              "      <td>2240.000000</td>\n",
              "      <td>2240.0</td>\n",
              "      <td>2240.0</td>\n",
              "      <td>2240.000000</td>\n",
              "    </tr>\n",
              "    <tr>\n",
              "      <th>mean</th>\n",
              "      <td>1968.805804</td>\n",
              "      <td>52247.251354</td>\n",
              "      <td>0.444196</td>\n",
              "      <td>0.506250</td>\n",
              "      <td>49.109375</td>\n",
              "      <td>303.935714</td>\n",
              "      <td>26.302232</td>\n",
              "      <td>166.950000</td>\n",
              "      <td>37.525446</td>\n",
              "      <td>27.062946</td>\n",
              "      <td>44.021875</td>\n",
              "      <td>2.325000</td>\n",
              "      <td>4.084821</td>\n",
              "      <td>2.662054</td>\n",
              "      <td>5.790179</td>\n",
              "      <td>5.316518</td>\n",
              "      <td>0.072768</td>\n",
              "      <td>0.074554</td>\n",
              "      <td>0.072768</td>\n",
              "      <td>0.064286</td>\n",
              "      <td>0.013393</td>\n",
              "      <td>0.009375</td>\n",
              "      <td>3.0</td>\n",
              "      <td>11.0</td>\n",
              "      <td>0.149107</td>\n",
              "    </tr>\n",
              "    <tr>\n",
              "      <th>std</th>\n",
              "      <td>11.984069</td>\n",
              "      <td>25173.076661</td>\n",
              "      <td>0.538398</td>\n",
              "      <td>0.544538</td>\n",
              "      <td>28.962453</td>\n",
              "      <td>336.597393</td>\n",
              "      <td>39.773434</td>\n",
              "      <td>225.715373</td>\n",
              "      <td>54.628979</td>\n",
              "      <td>41.280498</td>\n",
              "      <td>52.167439</td>\n",
              "      <td>1.932238</td>\n",
              "      <td>2.778714</td>\n",
              "      <td>2.923101</td>\n",
              "      <td>3.250958</td>\n",
              "      <td>2.426645</td>\n",
              "      <td>0.259813</td>\n",
              "      <td>0.262728</td>\n",
              "      <td>0.259813</td>\n",
              "      <td>0.245316</td>\n",
              "      <td>0.114976</td>\n",
              "      <td>0.096391</td>\n",
              "      <td>0.0</td>\n",
              "      <td>0.0</td>\n",
              "      <td>0.356274</td>\n",
              "    </tr>\n",
              "    <tr>\n",
              "      <th>min</th>\n",
              "      <td>1893.000000</td>\n",
              "      <td>1730.000000</td>\n",
              "      <td>0.000000</td>\n",
              "      <td>0.000000</td>\n",
              "      <td>0.000000</td>\n",
              "      <td>0.000000</td>\n",
              "      <td>0.000000</td>\n",
              "      <td>0.000000</td>\n",
              "      <td>0.000000</td>\n",
              "      <td>0.000000</td>\n",
              "      <td>0.000000</td>\n",
              "      <td>0.000000</td>\n",
              "      <td>0.000000</td>\n",
              "      <td>0.000000</td>\n",
              "      <td>0.000000</td>\n",
              "      <td>0.000000</td>\n",
              "      <td>0.000000</td>\n",
              "      <td>0.000000</td>\n",
              "      <td>0.000000</td>\n",
              "      <td>0.000000</td>\n",
              "      <td>0.000000</td>\n",
              "      <td>0.000000</td>\n",
              "      <td>3.0</td>\n",
              "      <td>11.0</td>\n",
              "      <td>0.000000</td>\n",
              "    </tr>\n",
              "    <tr>\n",
              "      <th>25%</th>\n",
              "      <td>1959.000000</td>\n",
              "      <td>35303.000000</td>\n",
              "      <td>0.000000</td>\n",
              "      <td>0.000000</td>\n",
              "      <td>24.000000</td>\n",
              "      <td>23.750000</td>\n",
              "      <td>1.000000</td>\n",
              "      <td>16.000000</td>\n",
              "      <td>3.000000</td>\n",
              "      <td>1.000000</td>\n",
              "      <td>9.000000</td>\n",
              "      <td>1.000000</td>\n",
              "      <td>2.000000</td>\n",
              "      <td>0.000000</td>\n",
              "      <td>3.000000</td>\n",
              "      <td>3.000000</td>\n",
              "      <td>0.000000</td>\n",
              "      <td>0.000000</td>\n",
              "      <td>0.000000</td>\n",
              "      <td>0.000000</td>\n",
              "      <td>0.000000</td>\n",
              "      <td>0.000000</td>\n",
              "      <td>3.0</td>\n",
              "      <td>11.0</td>\n",
              "      <td>0.000000</td>\n",
              "    </tr>\n",
              "    <tr>\n",
              "      <th>50%</th>\n",
              "      <td>1970.000000</td>\n",
              "      <td>51381.500000</td>\n",
              "      <td>0.000000</td>\n",
              "      <td>0.000000</td>\n",
              "      <td>49.000000</td>\n",
              "      <td>173.500000</td>\n",
              "      <td>8.000000</td>\n",
              "      <td>67.000000</td>\n",
              "      <td>12.000000</td>\n",
              "      <td>8.000000</td>\n",
              "      <td>24.000000</td>\n",
              "      <td>2.000000</td>\n",
              "      <td>4.000000</td>\n",
              "      <td>2.000000</td>\n",
              "      <td>5.000000</td>\n",
              "      <td>6.000000</td>\n",
              "      <td>0.000000</td>\n",
              "      <td>0.000000</td>\n",
              "      <td>0.000000</td>\n",
              "      <td>0.000000</td>\n",
              "      <td>0.000000</td>\n",
              "      <td>0.000000</td>\n",
              "      <td>3.0</td>\n",
              "      <td>11.0</td>\n",
              "      <td>0.000000</td>\n",
              "    </tr>\n",
              "    <tr>\n",
              "      <th>75%</th>\n",
              "      <td>1977.000000</td>\n",
              "      <td>68522.000000</td>\n",
              "      <td>1.000000</td>\n",
              "      <td>1.000000</td>\n",
              "      <td>74.000000</td>\n",
              "      <td>504.250000</td>\n",
              "      <td>33.000000</td>\n",
              "      <td>232.000000</td>\n",
              "      <td>50.000000</td>\n",
              "      <td>33.000000</td>\n",
              "      <td>56.000000</td>\n",
              "      <td>3.000000</td>\n",
              "      <td>6.000000</td>\n",
              "      <td>4.000000</td>\n",
              "      <td>8.000000</td>\n",
              "      <td>7.000000</td>\n",
              "      <td>0.000000</td>\n",
              "      <td>0.000000</td>\n",
              "      <td>0.000000</td>\n",
              "      <td>0.000000</td>\n",
              "      <td>0.000000</td>\n",
              "      <td>0.000000</td>\n",
              "      <td>3.0</td>\n",
              "      <td>11.0</td>\n",
              "      <td>0.000000</td>\n",
              "    </tr>\n",
              "    <tr>\n",
              "      <th>max</th>\n",
              "      <td>1996.000000</td>\n",
              "      <td>666666.000000</td>\n",
              "      <td>2.000000</td>\n",
              "      <td>2.000000</td>\n",
              "      <td>99.000000</td>\n",
              "      <td>1493.000000</td>\n",
              "      <td>199.000000</td>\n",
              "      <td>1725.000000</td>\n",
              "      <td>259.000000</td>\n",
              "      <td>263.000000</td>\n",
              "      <td>362.000000</td>\n",
              "      <td>15.000000</td>\n",
              "      <td>27.000000</td>\n",
              "      <td>28.000000</td>\n",
              "      <td>13.000000</td>\n",
              "      <td>20.000000</td>\n",
              "      <td>1.000000</td>\n",
              "      <td>1.000000</td>\n",
              "      <td>1.000000</td>\n",
              "      <td>1.000000</td>\n",
              "      <td>1.000000</td>\n",
              "      <td>1.000000</td>\n",
              "      <td>3.0</td>\n",
              "      <td>11.0</td>\n",
              "      <td>1.000000</td>\n",
              "    </tr>\n",
              "  </tbody>\n",
              "</table>\n",
              "</div>"
            ],
            "text/plain": [
              "        Year_Birth         Income  ...  Z_Revenue     Response\n",
              "count  2240.000000    2216.000000  ...     2240.0  2240.000000\n",
              "mean   1968.805804   52247.251354  ...       11.0     0.149107\n",
              "std      11.984069   25173.076661  ...        0.0     0.356274\n",
              "min    1893.000000    1730.000000  ...       11.0     0.000000\n",
              "25%    1959.000000   35303.000000  ...       11.0     0.000000\n",
              "50%    1970.000000   51381.500000  ...       11.0     0.000000\n",
              "75%    1977.000000   68522.000000  ...       11.0     0.000000\n",
              "max    1996.000000  666666.000000  ...       11.0     1.000000\n",
              "\n",
              "[8 rows x 25 columns]"
            ]
          },
          "metadata": {
            "tags": []
          },
          "execution_count": 15
        }
      ]
    },
    {
      "cell_type": "markdown",
      "metadata": {
        "id": "jEsT4-yXxN-n",
        "colab_type": "text"
      },
      "source": [
        "As we can see from above the numerical features are on very different scales with respect to each other, this tells us that we will need to scale the numerical features in the future before using for modelling the data.\n"
      ]
    },
    {
      "cell_type": "markdown",
      "metadata": {
        "id": "2ZoOXqYwxP8S",
        "colab_type": "text"
      },
      "source": [
        "## Correlational analysis of the features."
      ]
    },
    {
      "cell_type": "code",
      "metadata": {
        "id": "AXEKKRkPxUgP",
        "colab_type": "code",
        "colab": {
          "base_uri": "https://localhost:8080/",
          "height": 844
        },
        "outputId": "0aba8cf0-a643-4f41-97fe-4b62675bc2b1"
      },
      "source": [
        "data.corr()"
      ],
      "execution_count": 16,
      "outputs": [
        {
          "output_type": "execute_result",
          "data": {
            "text/html": [
              "<div>\n",
              "<style scoped>\n",
              "    .dataframe tbody tr th:only-of-type {\n",
              "        vertical-align: middle;\n",
              "    }\n",
              "\n",
              "    .dataframe tbody tr th {\n",
              "        vertical-align: top;\n",
              "    }\n",
              "\n",
              "    .dataframe thead th {\n",
              "        text-align: right;\n",
              "    }\n",
              "</style>\n",
              "<table border=\"1\" class=\"dataframe\">\n",
              "  <thead>\n",
              "    <tr style=\"text-align: right;\">\n",
              "      <th></th>\n",
              "      <th>Year_Birth</th>\n",
              "      <th>Income</th>\n",
              "      <th>Kidhome</th>\n",
              "      <th>Teenhome</th>\n",
              "      <th>Recency</th>\n",
              "      <th>MntWines</th>\n",
              "      <th>MntFruits</th>\n",
              "      <th>MntMeatProducts</th>\n",
              "      <th>MntFishProducts</th>\n",
              "      <th>MntSweetProducts</th>\n",
              "      <th>MntGoldProds</th>\n",
              "      <th>NumDealsPurchases</th>\n",
              "      <th>NumWebPurchases</th>\n",
              "      <th>NumCatalogPurchases</th>\n",
              "      <th>NumStorePurchases</th>\n",
              "      <th>NumWebVisitsMonth</th>\n",
              "      <th>AcceptedCmp3</th>\n",
              "      <th>AcceptedCmp4</th>\n",
              "      <th>AcceptedCmp5</th>\n",
              "      <th>AcceptedCmp1</th>\n",
              "      <th>AcceptedCmp2</th>\n",
              "      <th>Complain</th>\n",
              "      <th>Z_CostContact</th>\n",
              "      <th>Z_Revenue</th>\n",
              "      <th>Response</th>\n",
              "    </tr>\n",
              "  </thead>\n",
              "  <tbody>\n",
              "    <tr>\n",
              "      <th>Year_Birth</th>\n",
              "      <td>1.000000</td>\n",
              "      <td>-0.161791</td>\n",
              "      <td>0.230176</td>\n",
              "      <td>-0.352111</td>\n",
              "      <td>-0.019871</td>\n",
              "      <td>-0.157773</td>\n",
              "      <td>-0.017917</td>\n",
              "      <td>-0.030872</td>\n",
              "      <td>-0.041625</td>\n",
              "      <td>-0.018133</td>\n",
              "      <td>-0.061818</td>\n",
              "      <td>-0.060846</td>\n",
              "      <td>-0.145040</td>\n",
              "      <td>-0.121275</td>\n",
              "      <td>-0.128272</td>\n",
              "      <td>0.121139</td>\n",
              "      <td>0.061774</td>\n",
              "      <td>-0.060510</td>\n",
              "      <td>0.007123</td>\n",
              "      <td>-0.005930</td>\n",
              "      <td>-0.006539</td>\n",
              "      <td>-0.030128</td>\n",
              "      <td>NaN</td>\n",
              "      <td>NaN</td>\n",
              "      <td>0.021325</td>\n",
              "    </tr>\n",
              "    <tr>\n",
              "      <th>Income</th>\n",
              "      <td>-0.161791</td>\n",
              "      <td>1.000000</td>\n",
              "      <td>-0.428669</td>\n",
              "      <td>0.019133</td>\n",
              "      <td>-0.003970</td>\n",
              "      <td>0.578650</td>\n",
              "      <td>0.430842</td>\n",
              "      <td>0.584633</td>\n",
              "      <td>0.438871</td>\n",
              "      <td>0.440744</td>\n",
              "      <td>0.325916</td>\n",
              "      <td>-0.083101</td>\n",
              "      <td>0.387878</td>\n",
              "      <td>0.589162</td>\n",
              "      <td>0.529362</td>\n",
              "      <td>-0.553088</td>\n",
              "      <td>-0.016174</td>\n",
              "      <td>0.184400</td>\n",
              "      <td>0.335943</td>\n",
              "      <td>0.276820</td>\n",
              "      <td>0.087545</td>\n",
              "      <td>-0.027225</td>\n",
              "      <td>NaN</td>\n",
              "      <td>NaN</td>\n",
              "      <td>0.133047</td>\n",
              "    </tr>\n",
              "    <tr>\n",
              "      <th>Kidhome</th>\n",
              "      <td>0.230176</td>\n",
              "      <td>-0.428669</td>\n",
              "      <td>1.000000</td>\n",
              "      <td>-0.036133</td>\n",
              "      <td>0.008827</td>\n",
              "      <td>-0.496297</td>\n",
              "      <td>-0.372581</td>\n",
              "      <td>-0.437129</td>\n",
              "      <td>-0.387644</td>\n",
              "      <td>-0.370673</td>\n",
              "      <td>-0.349595</td>\n",
              "      <td>0.221798</td>\n",
              "      <td>-0.361647</td>\n",
              "      <td>-0.502237</td>\n",
              "      <td>-0.499683</td>\n",
              "      <td>0.447846</td>\n",
              "      <td>0.014674</td>\n",
              "      <td>-0.161600</td>\n",
              "      <td>-0.205634</td>\n",
              "      <td>-0.172339</td>\n",
              "      <td>-0.081716</td>\n",
              "      <td>0.040207</td>\n",
              "      <td>NaN</td>\n",
              "      <td>NaN</td>\n",
              "      <td>-0.080008</td>\n",
              "    </tr>\n",
              "    <tr>\n",
              "      <th>Teenhome</th>\n",
              "      <td>-0.352111</td>\n",
              "      <td>0.019133</td>\n",
              "      <td>-0.036133</td>\n",
              "      <td>1.000000</td>\n",
              "      <td>0.016198</td>\n",
              "      <td>0.004846</td>\n",
              "      <td>-0.176764</td>\n",
              "      <td>-0.261160</td>\n",
              "      <td>-0.204187</td>\n",
              "      <td>-0.162475</td>\n",
              "      <td>-0.021725</td>\n",
              "      <td>0.387741</td>\n",
              "      <td>0.155500</td>\n",
              "      <td>-0.110769</td>\n",
              "      <td>0.050695</td>\n",
              "      <td>0.134884</td>\n",
              "      <td>-0.042677</td>\n",
              "      <td>0.038886</td>\n",
              "      <td>-0.191050</td>\n",
              "      <td>-0.140090</td>\n",
              "      <td>-0.015605</td>\n",
              "      <td>0.003138</td>\n",
              "      <td>NaN</td>\n",
              "      <td>NaN</td>\n",
              "      <td>-0.154446</td>\n",
              "    </tr>\n",
              "    <tr>\n",
              "      <th>Recency</th>\n",
              "      <td>-0.019871</td>\n",
              "      <td>-0.003970</td>\n",
              "      <td>0.008827</td>\n",
              "      <td>0.016198</td>\n",
              "      <td>1.000000</td>\n",
              "      <td>0.016064</td>\n",
              "      <td>-0.004306</td>\n",
              "      <td>0.023056</td>\n",
              "      <td>0.001079</td>\n",
              "      <td>0.022670</td>\n",
              "      <td>0.016693</td>\n",
              "      <td>-0.001098</td>\n",
              "      <td>-0.010726</td>\n",
              "      <td>0.025110</td>\n",
              "      <td>0.000799</td>\n",
              "      <td>-0.021445</td>\n",
              "      <td>-0.032991</td>\n",
              "      <td>0.018826</td>\n",
              "      <td>0.000129</td>\n",
              "      <td>-0.019283</td>\n",
              "      <td>-0.001781</td>\n",
              "      <td>0.013231</td>\n",
              "      <td>NaN</td>\n",
              "      <td>NaN</td>\n",
              "      <td>-0.198437</td>\n",
              "    </tr>\n",
              "    <tr>\n",
              "      <th>MntWines</th>\n",
              "      <td>-0.157773</td>\n",
              "      <td>0.578650</td>\n",
              "      <td>-0.496297</td>\n",
              "      <td>0.004846</td>\n",
              "      <td>0.016064</td>\n",
              "      <td>1.000000</td>\n",
              "      <td>0.389637</td>\n",
              "      <td>0.562667</td>\n",
              "      <td>0.399753</td>\n",
              "      <td>0.386581</td>\n",
              "      <td>0.387516</td>\n",
              "      <td>0.010940</td>\n",
              "      <td>0.542265</td>\n",
              "      <td>0.635226</td>\n",
              "      <td>0.642100</td>\n",
              "      <td>-0.320653</td>\n",
              "      <td>0.062202</td>\n",
              "      <td>0.373286</td>\n",
              "      <td>0.472613</td>\n",
              "      <td>0.354133</td>\n",
              "      <td>0.205907</td>\n",
              "      <td>-0.039007</td>\n",
              "      <td>NaN</td>\n",
              "      <td>NaN</td>\n",
              "      <td>0.247254</td>\n",
              "    </tr>\n",
              "    <tr>\n",
              "      <th>MntFruits</th>\n",
              "      <td>-0.017917</td>\n",
              "      <td>0.430842</td>\n",
              "      <td>-0.372581</td>\n",
              "      <td>-0.176764</td>\n",
              "      <td>-0.004306</td>\n",
              "      <td>0.389637</td>\n",
              "      <td>1.000000</td>\n",
              "      <td>0.543105</td>\n",
              "      <td>0.594804</td>\n",
              "      <td>0.567164</td>\n",
              "      <td>0.392995</td>\n",
              "      <td>-0.132114</td>\n",
              "      <td>0.296735</td>\n",
              "      <td>0.487917</td>\n",
              "      <td>0.461758</td>\n",
              "      <td>-0.418383</td>\n",
              "      <td>0.014727</td>\n",
              "      <td>0.010152</td>\n",
              "      <td>0.215833</td>\n",
              "      <td>0.194748</td>\n",
              "      <td>-0.009773</td>\n",
              "      <td>-0.005166</td>\n",
              "      <td>NaN</td>\n",
              "      <td>NaN</td>\n",
              "      <td>0.125289</td>\n",
              "    </tr>\n",
              "    <tr>\n",
              "      <th>MntMeatProducts</th>\n",
              "      <td>-0.030872</td>\n",
              "      <td>0.584633</td>\n",
              "      <td>-0.437129</td>\n",
              "      <td>-0.261160</td>\n",
              "      <td>0.023056</td>\n",
              "      <td>0.562667</td>\n",
              "      <td>0.543105</td>\n",
              "      <td>1.000000</td>\n",
              "      <td>0.568402</td>\n",
              "      <td>0.523846</td>\n",
              "      <td>0.350609</td>\n",
              "      <td>-0.122415</td>\n",
              "      <td>0.293761</td>\n",
              "      <td>0.723827</td>\n",
              "      <td>0.479659</td>\n",
              "      <td>-0.539470</td>\n",
              "      <td>0.018272</td>\n",
              "      <td>0.102912</td>\n",
              "      <td>0.373769</td>\n",
              "      <td>0.309761</td>\n",
              "      <td>0.043033</td>\n",
              "      <td>-0.023483</td>\n",
              "      <td>NaN</td>\n",
              "      <td>NaN</td>\n",
              "      <td>0.236335</td>\n",
              "    </tr>\n",
              "    <tr>\n",
              "      <th>MntFishProducts</th>\n",
              "      <td>-0.041625</td>\n",
              "      <td>0.438871</td>\n",
              "      <td>-0.387644</td>\n",
              "      <td>-0.204187</td>\n",
              "      <td>0.001079</td>\n",
              "      <td>0.399753</td>\n",
              "      <td>0.594804</td>\n",
              "      <td>0.568402</td>\n",
              "      <td>1.000000</td>\n",
              "      <td>0.579870</td>\n",
              "      <td>0.422875</td>\n",
              "      <td>-0.139361</td>\n",
              "      <td>0.293681</td>\n",
              "      <td>0.534478</td>\n",
              "      <td>0.459855</td>\n",
              "      <td>-0.446003</td>\n",
              "      <td>0.000357</td>\n",
              "      <td>0.016843</td>\n",
              "      <td>0.199578</td>\n",
              "      <td>0.260762</td>\n",
              "      <td>0.002577</td>\n",
              "      <td>-0.020953</td>\n",
              "      <td>NaN</td>\n",
              "      <td>NaN</td>\n",
              "      <td>0.111331</td>\n",
              "    </tr>\n",
              "    <tr>\n",
              "      <th>MntSweetProducts</th>\n",
              "      <td>-0.018133</td>\n",
              "      <td>0.440744</td>\n",
              "      <td>-0.370673</td>\n",
              "      <td>-0.162475</td>\n",
              "      <td>0.022670</td>\n",
              "      <td>0.386581</td>\n",
              "      <td>0.567164</td>\n",
              "      <td>0.523846</td>\n",
              "      <td>0.579870</td>\n",
              "      <td>1.000000</td>\n",
              "      <td>0.369724</td>\n",
              "      <td>-0.120100</td>\n",
              "      <td>0.348544</td>\n",
              "      <td>0.490924</td>\n",
              "      <td>0.448756</td>\n",
              "      <td>-0.423294</td>\n",
              "      <td>0.001530</td>\n",
              "      <td>0.028641</td>\n",
              "      <td>0.259590</td>\n",
              "      <td>0.241818</td>\n",
              "      <td>0.009985</td>\n",
              "      <td>-0.022485</td>\n",
              "      <td>NaN</td>\n",
              "      <td>NaN</td>\n",
              "      <td>0.117372</td>\n",
              "    </tr>\n",
              "    <tr>\n",
              "      <th>MntGoldProds</th>\n",
              "      <td>-0.061818</td>\n",
              "      <td>0.325916</td>\n",
              "      <td>-0.349595</td>\n",
              "      <td>-0.021725</td>\n",
              "      <td>0.016693</td>\n",
              "      <td>0.387516</td>\n",
              "      <td>0.392995</td>\n",
              "      <td>0.350609</td>\n",
              "      <td>0.422875</td>\n",
              "      <td>0.369724</td>\n",
              "      <td>1.000000</td>\n",
              "      <td>0.049085</td>\n",
              "      <td>0.421836</td>\n",
              "      <td>0.437697</td>\n",
              "      <td>0.381678</td>\n",
              "      <td>-0.250719</td>\n",
              "      <td>0.123091</td>\n",
              "      <td>0.022268</td>\n",
              "      <td>0.181021</td>\n",
              "      <td>0.166396</td>\n",
              "      <td>0.049990</td>\n",
              "      <td>-0.030861</td>\n",
              "      <td>NaN</td>\n",
              "      <td>NaN</td>\n",
              "      <td>0.139850</td>\n",
              "    </tr>\n",
              "    <tr>\n",
              "      <th>NumDealsPurchases</th>\n",
              "      <td>-0.060846</td>\n",
              "      <td>-0.083101</td>\n",
              "      <td>0.221798</td>\n",
              "      <td>0.387741</td>\n",
              "      <td>-0.001098</td>\n",
              "      <td>0.010940</td>\n",
              "      <td>-0.132114</td>\n",
              "      <td>-0.122415</td>\n",
              "      <td>-0.139361</td>\n",
              "      <td>-0.120100</td>\n",
              "      <td>0.049085</td>\n",
              "      <td>1.000000</td>\n",
              "      <td>0.234185</td>\n",
              "      <td>-0.008617</td>\n",
              "      <td>0.068879</td>\n",
              "      <td>0.347633</td>\n",
              "      <td>-0.023109</td>\n",
              "      <td>0.015594</td>\n",
              "      <td>-0.183248</td>\n",
              "      <td>-0.123244</td>\n",
              "      <td>-0.037695</td>\n",
              "      <td>0.000420</td>\n",
              "      <td>NaN</td>\n",
              "      <td>NaN</td>\n",
              "      <td>0.002238</td>\n",
              "    </tr>\n",
              "    <tr>\n",
              "      <th>NumWebPurchases</th>\n",
              "      <td>-0.145040</td>\n",
              "      <td>0.387878</td>\n",
              "      <td>-0.361647</td>\n",
              "      <td>0.155500</td>\n",
              "      <td>-0.010726</td>\n",
              "      <td>0.542265</td>\n",
              "      <td>0.296735</td>\n",
              "      <td>0.293761</td>\n",
              "      <td>0.293681</td>\n",
              "      <td>0.348544</td>\n",
              "      <td>0.421836</td>\n",
              "      <td>0.234185</td>\n",
              "      <td>1.000000</td>\n",
              "      <td>0.378376</td>\n",
              "      <td>0.502713</td>\n",
              "      <td>-0.055846</td>\n",
              "      <td>0.042176</td>\n",
              "      <td>0.155903</td>\n",
              "      <td>0.138684</td>\n",
              "      <td>0.155143</td>\n",
              "      <td>0.034188</td>\n",
              "      <td>-0.016310</td>\n",
              "      <td>NaN</td>\n",
              "      <td>NaN</td>\n",
              "      <td>0.148730</td>\n",
              "    </tr>\n",
              "    <tr>\n",
              "      <th>NumCatalogPurchases</th>\n",
              "      <td>-0.121275</td>\n",
              "      <td>0.589162</td>\n",
              "      <td>-0.502237</td>\n",
              "      <td>-0.110769</td>\n",
              "      <td>0.025110</td>\n",
              "      <td>0.635226</td>\n",
              "      <td>0.487917</td>\n",
              "      <td>0.723827</td>\n",
              "      <td>0.534478</td>\n",
              "      <td>0.490924</td>\n",
              "      <td>0.437697</td>\n",
              "      <td>-0.008617</td>\n",
              "      <td>0.378376</td>\n",
              "      <td>1.000000</td>\n",
              "      <td>0.518738</td>\n",
              "      <td>-0.520364</td>\n",
              "      <td>0.104730</td>\n",
              "      <td>0.139247</td>\n",
              "      <td>0.322321</td>\n",
              "      <td>0.308097</td>\n",
              "      <td>0.099852</td>\n",
              "      <td>-0.020453</td>\n",
              "      <td>NaN</td>\n",
              "      <td>NaN</td>\n",
              "      <td>0.220810</td>\n",
              "    </tr>\n",
              "    <tr>\n",
              "      <th>NumStorePurchases</th>\n",
              "      <td>-0.128272</td>\n",
              "      <td>0.529362</td>\n",
              "      <td>-0.499683</td>\n",
              "      <td>0.050695</td>\n",
              "      <td>0.000799</td>\n",
              "      <td>0.642100</td>\n",
              "      <td>0.461758</td>\n",
              "      <td>0.479659</td>\n",
              "      <td>0.459855</td>\n",
              "      <td>0.448756</td>\n",
              "      <td>0.381678</td>\n",
              "      <td>0.068879</td>\n",
              "      <td>0.502713</td>\n",
              "      <td>0.518738</td>\n",
              "      <td>1.000000</td>\n",
              "      <td>-0.428473</td>\n",
              "      <td>-0.067577</td>\n",
              "      <td>0.179379</td>\n",
              "      <td>0.214790</td>\n",
              "      <td>0.183249</td>\n",
              "      <td>0.085189</td>\n",
              "      <td>-0.016524</td>\n",
              "      <td>NaN</td>\n",
              "      <td>NaN</td>\n",
              "      <td>0.039363</td>\n",
              "    </tr>\n",
              "    <tr>\n",
              "      <th>NumWebVisitsMonth</th>\n",
              "      <td>0.121139</td>\n",
              "      <td>-0.553088</td>\n",
              "      <td>0.447846</td>\n",
              "      <td>0.134884</td>\n",
              "      <td>-0.021445</td>\n",
              "      <td>-0.320653</td>\n",
              "      <td>-0.418383</td>\n",
              "      <td>-0.539470</td>\n",
              "      <td>-0.446003</td>\n",
              "      <td>-0.423294</td>\n",
              "      <td>-0.250719</td>\n",
              "      <td>0.347633</td>\n",
              "      <td>-0.055846</td>\n",
              "      <td>-0.520364</td>\n",
              "      <td>-0.428473</td>\n",
              "      <td>1.000000</td>\n",
              "      <td>0.061211</td>\n",
              "      <td>-0.032126</td>\n",
              "      <td>-0.278113</td>\n",
              "      <td>-0.192502</td>\n",
              "      <td>-0.007196</td>\n",
              "      <td>0.019769</td>\n",
              "      <td>NaN</td>\n",
              "      <td>NaN</td>\n",
              "      <td>-0.003987</td>\n",
              "    </tr>\n",
              "    <tr>\n",
              "      <th>AcceptedCmp3</th>\n",
              "      <td>0.061774</td>\n",
              "      <td>-0.016174</td>\n",
              "      <td>0.014674</td>\n",
              "      <td>-0.042677</td>\n",
              "      <td>-0.032991</td>\n",
              "      <td>0.062202</td>\n",
              "      <td>0.014727</td>\n",
              "      <td>0.018272</td>\n",
              "      <td>0.000357</td>\n",
              "      <td>0.001530</td>\n",
              "      <td>0.123091</td>\n",
              "      <td>-0.023109</td>\n",
              "      <td>0.042176</td>\n",
              "      <td>0.104730</td>\n",
              "      <td>-0.067577</td>\n",
              "      <td>0.061211</td>\n",
              "      <td>1.000000</td>\n",
              "      <td>-0.079512</td>\n",
              "      <td>0.080316</td>\n",
              "      <td>0.094751</td>\n",
              "      <td>0.072020</td>\n",
              "      <td>0.008415</td>\n",
              "      <td>NaN</td>\n",
              "      <td>NaN</td>\n",
              "      <td>0.254258</td>\n",
              "    </tr>\n",
              "    <tr>\n",
              "      <th>AcceptedCmp4</th>\n",
              "      <td>-0.060510</td>\n",
              "      <td>0.184400</td>\n",
              "      <td>-0.161600</td>\n",
              "      <td>0.038886</td>\n",
              "      <td>0.018826</td>\n",
              "      <td>0.373286</td>\n",
              "      <td>0.010152</td>\n",
              "      <td>0.102912</td>\n",
              "      <td>0.016843</td>\n",
              "      <td>0.028641</td>\n",
              "      <td>0.022268</td>\n",
              "      <td>0.015594</td>\n",
              "      <td>0.155903</td>\n",
              "      <td>0.139247</td>\n",
              "      <td>0.179379</td>\n",
              "      <td>-0.032126</td>\n",
              "      <td>-0.079512</td>\n",
              "      <td>1.000000</td>\n",
              "      <td>0.306526</td>\n",
              "      <td>0.251300</td>\n",
              "      <td>0.292210</td>\n",
              "      <td>-0.027611</td>\n",
              "      <td>NaN</td>\n",
              "      <td>NaN</td>\n",
              "      <td>0.177019</td>\n",
              "    </tr>\n",
              "    <tr>\n",
              "      <th>AcceptedCmp5</th>\n",
              "      <td>0.007123</td>\n",
              "      <td>0.335943</td>\n",
              "      <td>-0.205634</td>\n",
              "      <td>-0.191050</td>\n",
              "      <td>0.000129</td>\n",
              "      <td>0.472613</td>\n",
              "      <td>0.215833</td>\n",
              "      <td>0.373769</td>\n",
              "      <td>0.199578</td>\n",
              "      <td>0.259590</td>\n",
              "      <td>0.181021</td>\n",
              "      <td>-0.183248</td>\n",
              "      <td>0.138684</td>\n",
              "      <td>0.322321</td>\n",
              "      <td>0.214790</td>\n",
              "      <td>-0.278113</td>\n",
              "      <td>0.080316</td>\n",
              "      <td>0.306526</td>\n",
              "      <td>1.000000</td>\n",
              "      <td>0.403078</td>\n",
              "      <td>0.221533</td>\n",
              "      <td>-0.009419</td>\n",
              "      <td>NaN</td>\n",
              "      <td>NaN</td>\n",
              "      <td>0.326634</td>\n",
              "    </tr>\n",
              "    <tr>\n",
              "      <th>AcceptedCmp1</th>\n",
              "      <td>-0.005930</td>\n",
              "      <td>0.276820</td>\n",
              "      <td>-0.172339</td>\n",
              "      <td>-0.140090</td>\n",
              "      <td>-0.019283</td>\n",
              "      <td>0.354133</td>\n",
              "      <td>0.194748</td>\n",
              "      <td>0.309761</td>\n",
              "      <td>0.260762</td>\n",
              "      <td>0.241818</td>\n",
              "      <td>0.166396</td>\n",
              "      <td>-0.123244</td>\n",
              "      <td>0.155143</td>\n",
              "      <td>0.308097</td>\n",
              "      <td>0.183249</td>\n",
              "      <td>-0.192502</td>\n",
              "      <td>0.094751</td>\n",
              "      <td>0.251300</td>\n",
              "      <td>0.403078</td>\n",
              "      <td>1.000000</td>\n",
              "      <td>0.175315</td>\n",
              "      <td>-0.025499</td>\n",
              "      <td>NaN</td>\n",
              "      <td>NaN</td>\n",
              "      <td>0.293982</td>\n",
              "    </tr>\n",
              "    <tr>\n",
              "      <th>AcceptedCmp2</th>\n",
              "      <td>-0.006539</td>\n",
              "      <td>0.087545</td>\n",
              "      <td>-0.081716</td>\n",
              "      <td>-0.015605</td>\n",
              "      <td>-0.001781</td>\n",
              "      <td>0.205907</td>\n",
              "      <td>-0.009773</td>\n",
              "      <td>0.043033</td>\n",
              "      <td>0.002577</td>\n",
              "      <td>0.009985</td>\n",
              "      <td>0.049990</td>\n",
              "      <td>-0.037695</td>\n",
              "      <td>0.034188</td>\n",
              "      <td>0.099852</td>\n",
              "      <td>0.085189</td>\n",
              "      <td>-0.007196</td>\n",
              "      <td>0.072020</td>\n",
              "      <td>0.292210</td>\n",
              "      <td>0.221533</td>\n",
              "      <td>0.175315</td>\n",
              "      <td>1.000000</td>\n",
              "      <td>-0.011334</td>\n",
              "      <td>NaN</td>\n",
              "      <td>NaN</td>\n",
              "      <td>0.169293</td>\n",
              "    </tr>\n",
              "    <tr>\n",
              "      <th>Complain</th>\n",
              "      <td>-0.030128</td>\n",
              "      <td>-0.027225</td>\n",
              "      <td>0.040207</td>\n",
              "      <td>0.003138</td>\n",
              "      <td>0.013231</td>\n",
              "      <td>-0.039007</td>\n",
              "      <td>-0.005166</td>\n",
              "      <td>-0.023483</td>\n",
              "      <td>-0.020953</td>\n",
              "      <td>-0.022485</td>\n",
              "      <td>-0.030861</td>\n",
              "      <td>0.000420</td>\n",
              "      <td>-0.016310</td>\n",
              "      <td>-0.020453</td>\n",
              "      <td>-0.016524</td>\n",
              "      <td>0.019769</td>\n",
              "      <td>0.008415</td>\n",
              "      <td>-0.027611</td>\n",
              "      <td>-0.009419</td>\n",
              "      <td>-0.025499</td>\n",
              "      <td>-0.011334</td>\n",
              "      <td>1.000000</td>\n",
              "      <td>NaN</td>\n",
              "      <td>NaN</td>\n",
              "      <td>-0.001707</td>\n",
              "    </tr>\n",
              "    <tr>\n",
              "      <th>Z_CostContact</th>\n",
              "      <td>NaN</td>\n",
              "      <td>NaN</td>\n",
              "      <td>NaN</td>\n",
              "      <td>NaN</td>\n",
              "      <td>NaN</td>\n",
              "      <td>NaN</td>\n",
              "      <td>NaN</td>\n",
              "      <td>NaN</td>\n",
              "      <td>NaN</td>\n",
              "      <td>NaN</td>\n",
              "      <td>NaN</td>\n",
              "      <td>NaN</td>\n",
              "      <td>NaN</td>\n",
              "      <td>NaN</td>\n",
              "      <td>NaN</td>\n",
              "      <td>NaN</td>\n",
              "      <td>NaN</td>\n",
              "      <td>NaN</td>\n",
              "      <td>NaN</td>\n",
              "      <td>NaN</td>\n",
              "      <td>NaN</td>\n",
              "      <td>NaN</td>\n",
              "      <td>NaN</td>\n",
              "      <td>NaN</td>\n",
              "      <td>NaN</td>\n",
              "    </tr>\n",
              "    <tr>\n",
              "      <th>Z_Revenue</th>\n",
              "      <td>NaN</td>\n",
              "      <td>NaN</td>\n",
              "      <td>NaN</td>\n",
              "      <td>NaN</td>\n",
              "      <td>NaN</td>\n",
              "      <td>NaN</td>\n",
              "      <td>NaN</td>\n",
              "      <td>NaN</td>\n",
              "      <td>NaN</td>\n",
              "      <td>NaN</td>\n",
              "      <td>NaN</td>\n",
              "      <td>NaN</td>\n",
              "      <td>NaN</td>\n",
              "      <td>NaN</td>\n",
              "      <td>NaN</td>\n",
              "      <td>NaN</td>\n",
              "      <td>NaN</td>\n",
              "      <td>NaN</td>\n",
              "      <td>NaN</td>\n",
              "      <td>NaN</td>\n",
              "      <td>NaN</td>\n",
              "      <td>NaN</td>\n",
              "      <td>NaN</td>\n",
              "      <td>NaN</td>\n",
              "      <td>NaN</td>\n",
              "    </tr>\n",
              "    <tr>\n",
              "      <th>Response</th>\n",
              "      <td>0.021325</td>\n",
              "      <td>0.133047</td>\n",
              "      <td>-0.080008</td>\n",
              "      <td>-0.154446</td>\n",
              "      <td>-0.198437</td>\n",
              "      <td>0.247254</td>\n",
              "      <td>0.125289</td>\n",
              "      <td>0.236335</td>\n",
              "      <td>0.111331</td>\n",
              "      <td>0.117372</td>\n",
              "      <td>0.139850</td>\n",
              "      <td>0.002238</td>\n",
              "      <td>0.148730</td>\n",
              "      <td>0.220810</td>\n",
              "      <td>0.039363</td>\n",
              "      <td>-0.003987</td>\n",
              "      <td>0.254258</td>\n",
              "      <td>0.177019</td>\n",
              "      <td>0.326634</td>\n",
              "      <td>0.293982</td>\n",
              "      <td>0.169293</td>\n",
              "      <td>-0.001707</td>\n",
              "      <td>NaN</td>\n",
              "      <td>NaN</td>\n",
              "      <td>1.000000</td>\n",
              "    </tr>\n",
              "  </tbody>\n",
              "</table>\n",
              "</div>"
            ],
            "text/plain": [
              "                     Year_Birth    Income  ...  Z_Revenue  Response\n",
              "Year_Birth             1.000000 -0.161791  ...        NaN  0.021325\n",
              "Income                -0.161791  1.000000  ...        NaN  0.133047\n",
              "Kidhome                0.230176 -0.428669  ...        NaN -0.080008\n",
              "Teenhome              -0.352111  0.019133  ...        NaN -0.154446\n",
              "Recency               -0.019871 -0.003970  ...        NaN -0.198437\n",
              "MntWines              -0.157773  0.578650  ...        NaN  0.247254\n",
              "MntFruits             -0.017917  0.430842  ...        NaN  0.125289\n",
              "MntMeatProducts       -0.030872  0.584633  ...        NaN  0.236335\n",
              "MntFishProducts       -0.041625  0.438871  ...        NaN  0.111331\n",
              "MntSweetProducts      -0.018133  0.440744  ...        NaN  0.117372\n",
              "MntGoldProds          -0.061818  0.325916  ...        NaN  0.139850\n",
              "NumDealsPurchases     -0.060846 -0.083101  ...        NaN  0.002238\n",
              "NumWebPurchases       -0.145040  0.387878  ...        NaN  0.148730\n",
              "NumCatalogPurchases   -0.121275  0.589162  ...        NaN  0.220810\n",
              "NumStorePurchases     -0.128272  0.529362  ...        NaN  0.039363\n",
              "NumWebVisitsMonth      0.121139 -0.553088  ...        NaN -0.003987\n",
              "AcceptedCmp3           0.061774 -0.016174  ...        NaN  0.254258\n",
              "AcceptedCmp4          -0.060510  0.184400  ...        NaN  0.177019\n",
              "AcceptedCmp5           0.007123  0.335943  ...        NaN  0.326634\n",
              "AcceptedCmp1          -0.005930  0.276820  ...        NaN  0.293982\n",
              "AcceptedCmp2          -0.006539  0.087545  ...        NaN  0.169293\n",
              "Complain              -0.030128 -0.027225  ...        NaN -0.001707\n",
              "Z_CostContact               NaN       NaN  ...        NaN       NaN\n",
              "Z_Revenue                   NaN       NaN  ...        NaN       NaN\n",
              "Response               0.021325  0.133047  ...        NaN  1.000000\n",
              "\n",
              "[25 rows x 25 columns]"
            ]
          },
          "metadata": {
            "tags": []
          },
          "execution_count": 16
        }
      ]
    },
    {
      "cell_type": "markdown",
      "metadata": {
        "id": "IeOhpK-txYJF",
        "colab_type": "text"
      },
      "source": [
        "Visualization of the correlational relationships of the features.\n"
      ]
    },
    {
      "cell_type": "code",
      "metadata": {
        "id": "lp5Ijr1rxbAw",
        "colab_type": "code",
        "colab": {
          "base_uri": "https://localhost:8080/",
          "height": 389
        },
        "outputId": "8aaa7065-e890-4b6f-e095-ea6d3711ae7e"
      },
      "source": [
        "corr_matrix = data.corr()\n",
        "sns.heatmap(corr_matrix)"
      ],
      "execution_count": 17,
      "outputs": [
        {
          "output_type": "execute_result",
          "data": {
            "text/plain": [
              "<matplotlib.axes._subplots.AxesSubplot at 0x7f77199cbb38>"
            ]
          },
          "metadata": {
            "tags": []
          },
          "execution_count": 17
        },
        {
          "output_type": "display_data",
          "data": {
            "image/png": "[encoded data removed]",
            "text/plain": [
              "<Figure size 432x288 with 2 Axes>"
            ]
          },
          "metadata": {
            "tags": [],
            "needs_background": "light"
          }
        }
      ]
    },
    {
      "cell_type": "markdown",
      "metadata": {
        "id": "wOof9jjLxfb8",
        "colab_type": "text"
      },
      "source": [
        "# Handling missing values."
      ]
    },
    {
      "cell_type": "markdown",
      "metadata": {
        "id": "mnOxnD68xnZp",
        "colab_type": "text"
      },
      "source": [
        "Let's check for missing values in our data."
      ]
    },
    {
      "cell_type": "code",
      "metadata": {
        "id": "d-ho7KOQxpY7",
        "colab_type": "code",
        "colab": {
          "base_uri": "https://localhost:8080/",
          "height": 510
        },
        "outputId": "3ce0527e-e6fb-4281-a527-b2da022d4e83"
      },
      "source": [
        "data.isnull().sum()"
      ],
      "execution_count": 18,
      "outputs": [
        {
          "output_type": "execute_result",
          "data": {
            "text/plain": [
              "Year_Birth              0\n",
              "Education               0\n",
              "Marital_Status          0\n",
              "Income                 24\n",
              "Kidhome                 0\n",
              "Teenhome                0\n",
              "Dt_Customer             0\n",
              "Recency                 0\n",
              "MntWines                0\n",
              "MntFruits               0\n",
              "MntMeatProducts         0\n",
              "MntFishProducts         0\n",
              "MntSweetProducts        0\n",
              "MntGoldProds            0\n",
              "NumDealsPurchases       0\n",
              "NumWebPurchases         0\n",
              "NumCatalogPurchases     0\n",
              "NumStorePurchases       0\n",
              "NumWebVisitsMonth       0\n",
              "AcceptedCmp3            0\n",
              "AcceptedCmp4            0\n",
              "AcceptedCmp5            0\n",
              "AcceptedCmp1            0\n",
              "AcceptedCmp2            0\n",
              "Complain                0\n",
              "Z_CostContact           0\n",
              "Z_Revenue               0\n",
              "Response                0\n",
              "dtype: int64"
            ]
          },
          "metadata": {
            "tags": []
          },
          "execution_count": 18
        }
      ]
    },
    {
      "cell_type": "markdown",
      "metadata": {
        "id": "CGLNAMIPxw1s",
        "colab_type": "text"
      },
      "source": [
        "Let's visualize the fragmentation of the data feature-wise due to the presence of the missing values."
      ]
    },
    {
      "cell_type": "code",
      "metadata": {
        "id": "yyMW4H7Wxzy8",
        "colab_type": "code",
        "colab": {
          "base_uri": "https://localhost:8080/",
          "height": 632
        },
        "outputId": "469a8e2e-dae0-4a58-9ef7-c567d37c141f"
      },
      "source": [
        "import missingno as msno\n",
        "msno.matrix(data)"
      ],
      "execution_count": 19,
      "outputs": [
        {
          "output_type": "execute_result",
          "data": {
            "text/plain": [
              "<matplotlib.axes._subplots.AxesSubplot at 0x7f7715884550>"
            ]
          },
          "metadata": {
            "tags": []
          },
          "execution_count": 19
        },
        {
          "output_type": "display_data",
          "data": {
            "image/png": "[encoded data removed]",
            "text/plain": [
              "<Figure size 1800x720 with 2 Axes>"
            ]
          },
          "metadata": {
            "tags": [],
            "needs_background": "light"
          }
        }
      ]
    },
    {
      "cell_type": "markdown",
      "metadata": {
        "id": "CoOYxW6Ux2td",
        "colab_type": "text"
      },
      "source": [
        "\n",
        "\n",
        "We can see that the data is fairly oh high quality due to the fact that very less number of missing values are present in the data.  \n",
        "Given that, we do see 24 missing values in the feature 'Income'. The best ways to impute the missing values in this feature, is strategies which utilise relative imputation strategies.  \n",
        "For exampe we can use the mode of the feature for imputation purposes of the missing values in this feature if we assume that the data is a high degree representation of the bigger population, which means that any new data point will be in line with the distribution of the data we have.  \n",
        "Otherwise, we can use the **sklearn.impute.KNNImputer** for imputation purposes of the missing values in this feature, which utilises the K-nearest-neighbors algorithm to figure out the value with highest probality, and uses it for imputation.  \n",
        "Because of the fact we cannot be sure of how representative our data is of the larger population, we will be using KNNImputer in this case."
      ]
    },
    {
      "cell_type": "code",
      "metadata": {
        "id": "BjmB4Kesx6_w",
        "colab_type": "code",
        "colab": {
          "base_uri": "https://localhost:8080/",
          "height": 34
        },
        "outputId": "4688fa14-0841-4e42-c3d6-f114b2a6ac79"
      },
      "source": [
        "# let's check the range of the feature Income \n",
        "data['Income'].max() - data['Income'].min() "
      ],
      "execution_count": 20,
      "outputs": [
        {
          "output_type": "execute_result",
          "data": {
            "text/plain": [
              "664936.0"
            ]
          },
          "metadata": {
            "tags": []
          },
          "execution_count": 20
        }
      ]
    },
    {
      "cell_type": "code",
      "metadata": {
        "id": "sIEtRvflx851",
        "colab_type": "code",
        "colab": {}
      },
      "source": [
        "from sklearn.impute import KNNImputer\n",
        "data['Income'] = KNNImputer(n_neighbors=4).fit_transform(data['Income'].values.reshape(-1,1))"
      ],
      "execution_count": 0,
      "outputs": []
    },
    {
      "cell_type": "code",
      "metadata": {
        "id": "DkF8YlMIyCw7",
        "colab_type": "code",
        "colab": {
          "base_uri": "https://localhost:8080/",
          "height": 34
        },
        "outputId": "5d65ff7f-8303-49a9-aaff-720cfea3d539"
      },
      "source": [
        "# Let's check for null-values after imputation.\n",
        "data['Income'].isnull().sum()"
      ],
      "execution_count": 22,
      "outputs": [
        {
          "output_type": "execute_result",
          "data": {
            "text/plain": [
              "0"
            ]
          },
          "metadata": {
            "tags": []
          },
          "execution_count": 22
        }
      ]
    },
    {
      "cell_type": "markdown",
      "metadata": {
        "id": "mOyVXNjDyJZR",
        "colab_type": "text"
      },
      "source": [
        "# Feature Engineering."
      ]
    },
    {
      "cell_type": "markdown",
      "metadata": {
        "id": "ibwpQf1wyOe3",
        "colab_type": "text"
      },
      "source": [
        "# Outliers detection and removal."
      ]
    },
    {
      "cell_type": "markdown",
      "metadata": {
        "id": "3ELNFZKqyYTO",
        "colab_type": "text"
      },
      "source": [
        "# Data analysis by utilizing visualizations."
      ]
    },
    {
      "cell_type": "markdown",
      "metadata": {
        "id": "xYBoBJuGyhNK",
        "colab_type": "text"
      },
      "source": [
        "# Feature Encoding."
      ]
    },
    {
      "cell_type": "markdown",
      "metadata": {
        "id": "ptZMvvunyjoD",
        "colab_type": "text"
      },
      "source": [
        "# Splitting the data."
      ]
    },
    {
      "cell_type": "markdown",
      "metadata": {
        "id": "K626h8wbymis",
        "colab_type": "text"
      },
      "source": [
        "# Feature Scaling."
      ]
    },
    {
      "cell_type": "markdown",
      "metadata": {
        "id": "RIj13bfnyoj0",
        "colab_type": "text"
      },
      "source": [
        "# Hyper-Parameter Optimization."
      ]
    },
    {
      "cell_type": "markdown",
      "metadata": {
        "id": "pShfLq8JysEC",
        "colab_type": "text"
      },
      "source": [
        "# Model Validation."
      ]
    },
    {
      "cell_type": "markdown",
      "metadata": {
        "id": "ipY3F2elyuSB",
        "colab_type": "text"
      },
      "source": [
        "# Final prediction."
      ]
    }
  ]
}