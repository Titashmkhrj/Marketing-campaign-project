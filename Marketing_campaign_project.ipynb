{
  "nbformat": 4,
  "nbformat_minor": 0,
  "metadata": {
    "kernelspec": {
      "display_name": "Python 3",
      "language": "python",
      "name": "python3"
    },
    "language_info": {
      "codemirror_mode": {
        "name": "ipython",
        "version": 3
      },
      "file_extension": ".py",
      "mimetype": "text/x-python",
      "name": "python",
      "nbconvert_exporter": "python",
      "pygments_lexer": "ipython3",
      "version": "3.7.0"
    },
    "colab": {
      "name": "Marketing_campaign_project.ipynb",
      "provenance": []
    }
  },
  "cells": [
    {
      "cell_type": "markdown",
      "metadata": {
        "id": "F_HS-fmO4YaD",
        "colab_type": "text"
      },
      "source": [
        "# Project Desription\n",
        "#### PROBLEM STATEMENT <i>(according to the data provider on Kaggle)</i>     \n",
        "\n",
        "\"A response model can provide a significant boost to the efficiency of a marketing campaign by increasing responses or reducing expenses. The objective is to predict who will respond to an offer for a product or service.\"  \n",
        "\n",
        "##### GOAL OF THE PROJECT    \n",
        "\n",
        "We are required to model and train a predictive model which allows the company to maximize the profit of the next marketing campaign, leveraging the resulting key-drivers of the model.  \n",
        "\n",
        "##### DATA SOURCE  \n",
        "\n",
        "* FROM Kaggle - https://www.kaggle.com/rodsaldanha/arketing-campaign\n"
      ]
    },
    {
      "cell_type": "markdown",
      "metadata": {
        "id": "gXi62-pl4YaE",
        "colab_type": "text"
      },
      "source": [
        "**Okay so prima facie, lets import some of the libraries we will be needing for this project.**  \n",
        "(even if we are missing out on some library, we can always import it later on in the project.)"
      ]
    },
    {
      "cell_type": "code",
      "metadata": {
        "id": "IAbAP4Ij4YaF",
        "colab_type": "code",
        "outputId": "4365020a-eccb-4336-d836-7ddc90698b24",
        "colab": {
          "base_uri": "https://localhost:8080/",
          "height": 71
        }
      },
      "source": [
        "import sys\n",
        "\n",
        "# library to handle vectorized data \n",
        "import numpy as np \n",
        "# library for data analsysis and man\n",
        "\n",
        "import pandas as pd \n",
        "\n",
        "# for visualisations\n",
        "import seaborn as sns\n",
        "\n",
        "%matplotlib inline \n",
        "import matplotlib as mpl\n",
        "import matplotlib.pyplot as plt\n"
      ],
      "execution_count": 0,
      "outputs": [
        {
          "output_type": "stream",
          "text": [
            "/usr/local/lib/python3.6/dist-packages/statsmodels/tools/_testing.py:19: FutureWarning: pandas.util.testing is deprecated. Use the functions in the public API at pandas.testing instead.\n",
            "  import pandas.util.testing as tm\n"
          ],
          "name": "stderr"
        }
      ]
    },
    {
      "cell_type": "markdown",
      "metadata": {
        "id": "ofuDfAxy4YaL",
        "colab_type": "text"
      },
      "source": [
        "# Loading the data."
      ]
    },
    {
      "cell_type": "code",
      "metadata": {
        "id": "2NTuVaFn7-Z1",
        "colab_type": "code",
        "colab": {}
      },
      "source": [
        ""
      ],
      "execution_count": 0,
      "outputs": []
    }
  ]
}