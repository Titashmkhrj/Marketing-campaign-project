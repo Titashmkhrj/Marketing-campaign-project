{
 "cells": [
  {
   "cell_type": "markdown",
   "metadata": {},
   "source": [
    "# Project Desription\n",
    "#### PROBLEM STATEMENT <i>(according to the data provider on Kaggle)</i>     \n",
    "\n",
    "\"A response model can provide a significant boost to the efficiency of a marketing campaign by increasing responses or reducing expenses. The objective is to predict who will respond to an offer for a product or service.\"  \n",
    "\n",
    "##### GOAL OF THE PROJECT    \n",
    "\n",
    "We are required to model and train a predictive model which allows the company to maximize the profit of the next marketing campaign, leveraging the resulting key-drivers of the model.  \n",
    "\n",
    "##### DATA SOURCE  \n",
    "\n",
    "* FROM Kaggle - https://www.kaggle.com/rodsaldanha/arketing-campaign\n"
   ]
  },
  {
   "cell_type": "markdown",
   "metadata": {},
   "source": [
    "**Okay so prima facie, lets import some of the libraries we will be needing for this project.**  \n",
    "(even if we are missing out on some library, we can always import it later on in the project.)"
   ]
  },
  {
   "cell_type": "code",
   "execution_count": 1,
   "metadata": {},
   "outputs": [],
   "source": [
    "import sys\n",
    "\n",
    "# library to handle vectorized data \n",
    "import numpy as np \n",
    "# library for data analsysis and man\n",
    "import pandas as pd\n",
    "\n",
    "# for visualisations\n",
    "import seaborn as sns\n",
    "\n",
    "%matplotlib inline \n",
    "import matplotlib as mpl\n",
    "import matplotlib.pyplot as plt\n"
   ]
  },
  {
   "cell_type": "markdown",
   "metadata": {},
   "source": [
    "# Loading the data."
   ]
  },
  {
   "cell_type": "code",
   "execution_count": 2,
   "metadata": {},
   "outputs": [
    {
     "name": "stdout",
     "output_type": "stream",
     "text": [
      "The dimension of our data is : (2240, 29)\n"
     ]
    }
   ],
   "source": [
    "data = pd.read_csv('marketing_campaign.csv')\n",
    "print('The dimension of our data is :',data.shape)"
   ]
  },
  {
   "cell_type": "code",
   "execution_count": 3,
   "metadata": {},
   "outputs": [
    {
<<<<<<< HEAD
     "data": {
      "text/plain": [
       "ID                       int64\n",
       "Year_Birth               int64\n",
       "Education               object\n",
       "Marital_Status          object\n",
       "Income                 float64\n",
       "Kidhome                  int64\n",
       "Teenhome                 int64\n",
       "Dt_Customer             object\n",
       "Recency                  int64\n",
       "MntWines                 int64\n",
       "MntFruits                int64\n",
       "MntMeatProducts          int64\n",
       "MntFishProducts          int64\n",
       "MntSweetProducts         int64\n",
       "MntGoldProds             int64\n",
       "NumDealsPurchases        int64\n",
       "NumWebPurchases          int64\n",
       "NumCatalogPurchases      int64\n",
       "NumStorePurchases        int64\n",
       "NumWebVisitsMonth        int64\n",
       "AcceptedCmp3             int64\n",
       "AcceptedCmp4             int64\n",
       "AcceptedCmp5             int64\n",
       "AcceptedCmp1             int64\n",
       "AcceptedCmp2             int64\n",
       "Complain                 int64\n",
       "Z_CostContact            int64\n",
       "Z_Revenue                int64\n",
       "Response                 int64\n",
       "dtype: object"
      ]
     },
     "execution_count": 3,
     "metadata": {},
     "output_type": "execute_result"
    }
   ],
   "source": [
    "# let's have a look at the features and the corresponding data types of those features\n",
    "data.dtypes"
   ]
  },
  {
   "cell_type": "code",
   "execution_count": 4,
   "metadata": {},
   "outputs": [
    {
     "data": {
      "text/html": [
       "<div>\n",
       "<style scoped>\n",
       "    .dataframe tbody tr th:only-of-type {\n",
       "        vertical-align: middle;\n",
       "    }\n",
       "\n",
       "    .dataframe tbody tr th {\n",
       "        vertical-align: top;\n",
       "    }\n",
       "\n",
       "    .dataframe thead th {\n",
       "        text-align: right;\n",
       "    }\n",
       "</style>\n",
       "<table border=\"1\" class=\"dataframe\">\n",
       "  <thead>\n",
       "    <tr style=\"text-align: right;\">\n",
       "      <th></th>\n",
       "      <th>ID</th>\n",
       "      <th>Year_Birth</th>\n",
       "      <th>Education</th>\n",
       "      <th>Marital_Status</th>\n",
       "      <th>Income</th>\n",
       "      <th>Kidhome</th>\n",
       "      <th>Teenhome</th>\n",
       "      <th>Dt_Customer</th>\n",
       "      <th>Recency</th>\n",
       "      <th>MntWines</th>\n",
       "      <th>...</th>\n",
       "      <th>NumWebVisitsMonth</th>\n",
       "      <th>AcceptedCmp3</th>\n",
       "      <th>AcceptedCmp4</th>\n",
       "      <th>AcceptedCmp5</th>\n",
       "      <th>AcceptedCmp1</th>\n",
       "      <th>AcceptedCmp2</th>\n",
       "      <th>Complain</th>\n",
       "      <th>Z_CostContact</th>\n",
       "      <th>Z_Revenue</th>\n",
       "      <th>Response</th>\n",
       "    </tr>\n",
       "  </thead>\n",
       "  <tbody>\n",
       "    <tr>\n",
       "      <th>0</th>\n",
       "      <td>5524</td>\n",
       "      <td>1957</td>\n",
       "      <td>Graduation</td>\n",
       "      <td>Single</td>\n",
       "      <td>58138.0</td>\n",
       "      <td>0</td>\n",
       "      <td>0</td>\n",
       "      <td>2012-09-04</td>\n",
       "      <td>58</td>\n",
       "      <td>635</td>\n",
       "      <td>...</td>\n",
       "      <td>7</td>\n",
       "      <td>0</td>\n",
       "      <td>0</td>\n",
       "      <td>0</td>\n",
       "      <td>0</td>\n",
       "      <td>0</td>\n",
       "      <td>0</td>\n",
       "      <td>3</td>\n",
       "      <td>11</td>\n",
       "      <td>1</td>\n",
       "    </tr>\n",
       "    <tr>\n",
       "      <th>1</th>\n",
       "      <td>2174</td>\n",
       "      <td>1954</td>\n",
       "      <td>Graduation</td>\n",
       "      <td>Single</td>\n",
       "      <td>46344.0</td>\n",
       "      <td>1</td>\n",
       "      <td>1</td>\n",
       "      <td>2014-03-08</td>\n",
       "      <td>38</td>\n",
       "      <td>11</td>\n",
       "      <td>...</td>\n",
       "      <td>5</td>\n",
       "      <td>0</td>\n",
       "      <td>0</td>\n",
       "      <td>0</td>\n",
       "      <td>0</td>\n",
       "      <td>0</td>\n",
       "      <td>0</td>\n",
       "      <td>3</td>\n",
       "      <td>11</td>\n",
       "      <td>0</td>\n",
       "    </tr>\n",
       "    <tr>\n",
       "      <th>2</th>\n",
       "      <td>4141</td>\n",
       "      <td>1965</td>\n",
       "      <td>Graduation</td>\n",
       "      <td>Together</td>\n",
       "      <td>71613.0</td>\n",
       "      <td>0</td>\n",
       "      <td>0</td>\n",
       "      <td>2013-08-21</td>\n",
       "      <td>26</td>\n",
       "      <td>426</td>\n",
       "      <td>...</td>\n",
       "      <td>4</td>\n",
       "      <td>0</td>\n",
       "      <td>0</td>\n",
       "      <td>0</td>\n",
       "      <td>0</td>\n",
       "      <td>0</td>\n",
       "      <td>0</td>\n",
       "      <td>3</td>\n",
       "      <td>11</td>\n",
       "      <td>0</td>\n",
       "    </tr>\n",
       "    <tr>\n",
       "      <th>3</th>\n",
       "      <td>6182</td>\n",
       "      <td>1984</td>\n",
       "      <td>Graduation</td>\n",
       "      <td>Together</td>\n",
       "      <td>26646.0</td>\n",
       "      <td>1</td>\n",
       "      <td>0</td>\n",
       "      <td>2014-02-10</td>\n",
       "      <td>26</td>\n",
       "      <td>11</td>\n",
       "      <td>...</td>\n",
       "      <td>6</td>\n",
       "      <td>0</td>\n",
       "      <td>0</td>\n",
       "      <td>0</td>\n",
       "      <td>0</td>\n",
       "      <td>0</td>\n",
       "      <td>0</td>\n",
       "      <td>3</td>\n",
       "      <td>11</td>\n",
       "      <td>0</td>\n",
       "    </tr>\n",
       "    <tr>\n",
       "      <th>4</th>\n",
       "      <td>5324</td>\n",
       "      <td>1981</td>\n",
       "      <td>PhD</td>\n",
       "      <td>Married</td>\n",
       "      <td>58293.0</td>\n",
       "      <td>1</td>\n",
       "      <td>0</td>\n",
       "      <td>2014-01-19</td>\n",
       "      <td>94</td>\n",
       "      <td>173</td>\n",
       "      <td>...</td>\n",
       "      <td>5</td>\n",
       "      <td>0</td>\n",
       "      <td>0</td>\n",
       "      <td>0</td>\n",
       "      <td>0</td>\n",
       "      <td>0</td>\n",
       "      <td>0</td>\n",
       "      <td>3</td>\n",
       "      <td>11</td>\n",
       "      <td>0</td>\n",
       "    </tr>\n",
       "  </tbody>\n",
       "</table>\n",
       "<p>5 rows × 29 columns</p>\n",
       "</div>"
      ],
      "text/plain": [
       "     ID  Year_Birth   Education Marital_Status   Income  Kidhome  Teenhome  \\\n",
       "0  5524        1957  Graduation         Single  58138.0        0         0   \n",
       "1  2174        1954  Graduation         Single  46344.0        1         1   \n",
       "2  4141        1965  Graduation       Together  71613.0        0         0   \n",
       "3  6182        1984  Graduation       Together  26646.0        1         0   \n",
       "4  5324        1981         PhD        Married  58293.0        1         0   \n",
       "\n",
       "  Dt_Customer  Recency  MntWines    ...     NumWebVisitsMonth  AcceptedCmp3  \\\n",
       "0  2012-09-04       58       635    ...                     7             0   \n",
       "1  2014-03-08       38        11    ...                     5             0   \n",
       "2  2013-08-21       26       426    ...                     4             0   \n",
       "3  2014-02-10       26        11    ...                     6             0   \n",
       "4  2014-01-19       94       173    ...                     5             0   \n",
       "\n",
       "   AcceptedCmp4  AcceptedCmp5  AcceptedCmp1  AcceptedCmp2  Complain  \\\n",
       "0             0             0             0             0         0   \n",
       "1             0             0             0             0         0   \n",
       "2             0             0             0             0         0   \n",
       "3             0             0             0             0         0   \n",
       "4             0             0             0             0         0   \n",
       "\n",
       "   Z_CostContact  Z_Revenue  Response  \n",
       "0              3         11         1  \n",
       "1              3         11         0  \n",
       "2              3         11         0  \n",
       "3              3         11         0  \n",
       "4              3         11         0  \n",
       "\n",
       "[5 rows x 29 columns]"
      ]
     },
     "execution_count": 4,
     "metadata": {},
     "output_type": "execute_result"
    }
   ],
   "source": [
    "# Let's have a look at the data\n",
    "data.head()"
   ]
  },
  {
   "cell_type": "markdown",
   "metadata": {},
   "source": [
    "# Exploratory data analysis.\n",
    "## And data cleaning if required."
   ]
  },
  {
   "cell_type": "markdown",
   "metadata": {},
   "source": [
    "### Feature : ' ID '"
   ]
  },
  {
   "cell_type": "code",
   "execution_count": 5,
   "metadata": {},
   "outputs": [
    {
     "data": {
      "text/plain": [
       "Int64Index([    0,     1,     9,    13,    17,    20,    22,    24,    25,\n",
       "               35,\n",
       "            ...\n",
       "            11133, 11148, 11166, 11171, 11176, 11178, 11181, 11187, 11188,\n",
       "            11191],\n",
       "           dtype='int64', length=2240)"
      ]
     },
     "execution_count": 5,
     "metadata": {},
     "output_type": "execute_result"
    }
   ],
   "source": [
    "data['ID'].value_counts().index.sort_values(ascending=True)"
   ]
  },
  {
   "cell_type": "markdown",
   "metadata": {},
   "source": [
    "Okay so we can see that the feature ID represents the customer IDs of the various customers over a period of time, but the data does not reflect a consecutive collection of data from all the customers, which is why the length of our data is no inline with the range of the customer IDs in this feature.  \n",
    "Due to the fact mentoined above, the feature is distorting the data a bit, so we will be dropping the feature from our data as it is not adding any value to our data and hence not required for our analysis."
   ]
  },
  {
   "cell_type": "code",
   "execution_count": 6,
   "metadata": {},
   "outputs": [],
   "source": [
    "data.drop('ID', axis=1, inplace=True)"
   ]
  },
  {
   "cell_type": "markdown",
   "metadata": {},
   "source": [
    "### Feature : ' Year_Birth '"
   ]
  },
  {
   "cell_type": "code",
   "execution_count": 7,
   "metadata": {},
   "outputs": [
    {
     "data": {
      "text/plain": [
       "Int64Index([1893, 1899, 1900, 1940, 1941, 1943, 1944, 1945, 1946, 1947, 1948,\n",
       "            1949, 1950, 1951, 1952, 1953, 1954, 1955, 1956, 1957, 1958, 1959,\n",
       "            1960, 1961, 1962, 1963, 1964, 1965, 1966, 1967, 1968, 1969, 1970,\n",
       "            1971, 1972, 1973, 1974, 1975, 1976, 1977, 1978, 1979, 1980, 1981,\n",
       "            1982, 1983, 1984, 1985, 1986, 1987, 1988, 1989, 1990, 1991, 1992,\n",
       "            1993, 1994, 1995, 1996],\n",
       "           dtype='int64')"
      ]
     },
     "execution_count": 7,
     "metadata": {},
     "output_type": "execute_result"
    }
   ],
   "source": [
    "data['Year_Birth'].value_counts().index.sort_values(ascending=True)"
   ]
  },
  {
   "cell_type": "markdown",
   "metadata": {},
   "source": [
    "Okay so from above we can observe the the feature 'Year_Birth' represents the different years of birth of the customers. The data collected contains some gaps in this feature; in terms of particular years in which customers were born. So our data does not contain all the years starting from 1893 to 1996."
   ]
  },
  {
   "cell_type": "markdown",
   "metadata": {},
   "source": [
    "### Feature : 'Education'"
   ]
  },
  {
   "cell_type": "code",
   "execution_count": 8,
   "metadata": {},
   "outputs": [
    {
     "data": {
      "text/plain": [
       "Index(['2n Cycle', 'Basic', 'Graduation', 'Master', 'PhD'], dtype='object')"
      ]
     },
     "execution_count": 8,
     "metadata": {},
     "output_type": "execute_result"
    }
   ],
   "source": [
    "data['Education'].value_counts().index.sort_values(ascending=True)"
   ]
  },
  {
   "cell_type": "markdown",
   "metadata": {},
   "source": [
    "We can see that there are  classes in this feature, but there are 2 among them which mean the same but are represented in two different ways; i.e. '2n Cycle' and 'Master'. So we will replace all occurances of he class'2n Cycle' with 'Master', for a better value representation."
   ]
  },
  {
   "cell_type": "code",
   "execution_count": 9,
   "metadata": {},
   "outputs": [],
   "source": [
    "data['Education'] = data[\"Education\"].replace('2n Cycle', \"Master\")"
   ]
  },
  {
   "cell_type": "markdown",
   "metadata": {},
   "source": [
    "### Feature : 'Marital_Status'"
   ]
  },
  {
   "cell_type": "code",
   "execution_count": 10,
   "metadata": {},
   "outputs": [
    {
     "data": {
      "text/plain": [
       "Married     864\n",
       "Together    580\n",
       "Single      480\n",
       "Divorced    232\n",
       "Widow        77\n",
       "Alone         3\n",
       "YOLO          2\n",
       "Absurd        2\n",
       "Name: Marital_Status, dtype: int64"
      ]
     },
     "execution_count": 10,
     "metadata": {},
     "output_type": "execute_result"
    }
   ],
   "source": [
    "data['Marital_Status'].value_counts()"
   ]
  },
  {
   "cell_type": "markdown",
   "metadata": {},
   "source": [
    "okay so this feature has 8 classes inour data, for the purpose of a better value representation in this feature, we will be doing the following transformations to some of the classes :  \n",
    "* 'Together' > replaced by 'live_in'\n",
    "* 'Alone', 'YOLO' and 'Absurd' > replaced by 'single'"
   ]
  },
  {
   "cell_type": "code",
   "execution_count": 11,
   "metadata": {},
   "outputs": [],
   "source": [
    "data['Marital_Status'] = data['Marital_Status'].replace('Together', 'Live_in')\n",
    "data['Marital_Status'] = data['Marital_Status'].replace(['YOLO', 'Alone', 'Absurd'], 'Single')"
   ]
  },
  {
   "cell_type": "markdown",
   "metadata": {},
   "source": [
    "### Feature : 'Dt_Customer'"
   ]
  },
  {
   "cell_type": "code",
   "execution_count": 13,
   "metadata": {},
   "outputs": [
    {
     "data": {
      "text/plain": [
       "Index(['2012-07-30', '2012-07-31', '2012-08-01', '2012-08-02', '2012-08-03',\n",
       "       '2012-08-04', '2012-08-05', '2012-08-06', '2012-08-07', '2012-08-08',\n",
       "       ...\n",
       "       '2014-06-20', '2014-06-21', '2014-06-22', '2014-06-23', '2014-06-24',\n",
       "       '2014-06-25', '2014-06-26', '2014-06-27', '2014-06-28', '2014-06-29'],\n",
       "      dtype='object', length=663)"
      ]
     },
     "execution_count": 13,
     "metadata": {},
     "output_type": "execute_result"
    }
   ],
   "source": [
    "data['Dt_Customer'].value_counts().index.sort_values(ascending=True)"
   ]
  },
  {
   "cell_type": "markdown",
   "metadata": {},
   "source": [
    "The feature Dt_Customer represents dates of customer’s enrolment with the company. The data in this feature is represented in type str. In order to improve the value representation of this feture, and to do meaningful feature engineering with this feature, we will be converting the values in this feaure to data type datetime."
   ]
  },
  {
   "cell_type": "code",
   "execution_count": 16,
   "metadata": {},
   "outputs": [],
   "source": [
    "data['Dt_Customer'] = pd.to_datetime(data['Dt_Customer'], format=\"%Y-%m-%d\")"
   ]
  },
  {
   "cell_type": "code",
   "execution_count": 18,
   "metadata": {},
   "outputs": [
    {
     "data": {
      "text/plain": [
       "DatetimeIndex(['2012-07-30', '2012-07-31', '2012-08-01', '2012-08-02',\n",
       "               '2012-08-03', '2012-08-04', '2012-08-05', '2012-08-06',\n",
       "               '2012-08-07', '2012-08-08',\n",
       "               ...\n",
       "               '2014-06-20', '2014-06-21', '2014-06-22', '2014-06-23',\n",
       "               '2014-06-24', '2014-06-25', '2014-06-26', '2014-06-27',\n",
       "               '2014-06-28', '2014-06-29'],\n",
       "              dtype='datetime64[ns]', length=663, freq=None)"
      ]
     },
     "execution_count": 18,
     "metadata": {},
     "output_type": "execute_result"
    }
   ],
   "source": [
    "data['Dt_Customer'].value_counts().index.sort_values(ascending=True)"
   ]
  },
  {
   "cell_type": "markdown",
   "metadata": {},
   "source": [
    "As we can see that the data type has been converted into datetime64[ns], without effecting the data itself."
   ]
  },
  {
   "cell_type": "markdown",
   "metadata": {},
   "source": [
    "## Summary of the descriptive statistics of the features."
   ]
  },
  {
   "cell_type": "code",
   "execution_count": 25,
   "metadata": {},
   "outputs": [
    {
     "data": {
      "text/html": [
       "<div>\n",
       "<style scoped>\n",
       "    .dataframe tbody tr th:only-of-type {\n",
       "        vertical-align: middle;\n",
       "    }\n",
       "\n",
       "    .dataframe tbody tr th {\n",
       "        vertical-align: top;\n",
       "    }\n",
       "\n",
       "    .dataframe thead th {\n",
       "        text-align: right;\n",
       "    }\n",
       "</style>\n",
       "<table border=\"1\" class=\"dataframe\">\n",
       "  <thead>\n",
       "    <tr style=\"text-align: right;\">\n",
       "      <th></th>\n",
       "      <th>Year_Birth</th>\n",
       "      <th>Income</th>\n",
       "      <th>Kidhome</th>\n",
       "      <th>Teenhome</th>\n",
       "      <th>Recency</th>\n",
       "      <th>MntWines</th>\n",
       "      <th>MntFruits</th>\n",
       "      <th>MntMeatProducts</th>\n",
       "      <th>MntFishProducts</th>\n",
       "      <th>MntSweetProducts</th>\n",
       "      <th>...</th>\n",
       "      <th>NumWebVisitsMonth</th>\n",
       "      <th>AcceptedCmp3</th>\n",
       "      <th>AcceptedCmp4</th>\n",
       "      <th>AcceptedCmp5</th>\n",
       "      <th>AcceptedCmp1</th>\n",
       "      <th>AcceptedCmp2</th>\n",
       "      <th>Complain</th>\n",
       "      <th>Z_CostContact</th>\n",
       "      <th>Z_Revenue</th>\n",
       "      <th>Response</th>\n",
       "    </tr>\n",
       "  </thead>\n",
       "  <tbody>\n",
       "    <tr>\n",
       "      <th>count</th>\n",
       "      <td>2240.000000</td>\n",
       "      <td>2216.000000</td>\n",
       "      <td>2240.000000</td>\n",
       "      <td>2240.000000</td>\n",
       "      <td>2240.000000</td>\n",
       "      <td>2240.000000</td>\n",
       "      <td>2240.000000</td>\n",
       "      <td>2240.000000</td>\n",
       "      <td>2240.000000</td>\n",
       "      <td>2240.000000</td>\n",
       "      <td>...</td>\n",
       "      <td>2240.000000</td>\n",
       "      <td>2240.000000</td>\n",
       "      <td>2240.000000</td>\n",
       "      <td>2240.000000</td>\n",
       "      <td>2240.000000</td>\n",
       "      <td>2240.000000</td>\n",
       "      <td>2240.000000</td>\n",
       "      <td>2240.0</td>\n",
       "      <td>2240.0</td>\n",
       "      <td>2240.000000</td>\n",
       "    </tr>\n",
       "    <tr>\n",
       "      <th>mean</th>\n",
       "      <td>1968.805804</td>\n",
       "      <td>52247.251354</td>\n",
       "      <td>0.444196</td>\n",
       "      <td>0.506250</td>\n",
       "      <td>49.109375</td>\n",
       "      <td>303.935714</td>\n",
       "      <td>26.302232</td>\n",
       "      <td>166.950000</td>\n",
       "      <td>37.525446</td>\n",
       "      <td>27.062946</td>\n",
       "      <td>...</td>\n",
       "      <td>5.316518</td>\n",
       "      <td>0.072768</td>\n",
       "      <td>0.074554</td>\n",
       "      <td>0.072768</td>\n",
       "      <td>0.064286</td>\n",
       "      <td>0.013393</td>\n",
       "      <td>0.009375</td>\n",
       "      <td>3.0</td>\n",
       "      <td>11.0</td>\n",
       "      <td>0.149107</td>\n",
       "    </tr>\n",
       "    <tr>\n",
       "      <th>std</th>\n",
       "      <td>11.984069</td>\n",
       "      <td>25173.076661</td>\n",
       "      <td>0.538398</td>\n",
       "      <td>0.544538</td>\n",
       "      <td>28.962453</td>\n",
       "      <td>336.597393</td>\n",
       "      <td>39.773434</td>\n",
       "      <td>225.715373</td>\n",
       "      <td>54.628979</td>\n",
       "      <td>41.280498</td>\n",
       "      <td>...</td>\n",
       "      <td>2.426645</td>\n",
       "      <td>0.259813</td>\n",
       "      <td>0.262728</td>\n",
       "      <td>0.259813</td>\n",
       "      <td>0.245316</td>\n",
       "      <td>0.114976</td>\n",
       "      <td>0.096391</td>\n",
       "      <td>0.0</td>\n",
       "      <td>0.0</td>\n",
       "      <td>0.356274</td>\n",
       "    </tr>\n",
       "    <tr>\n",
       "      <th>min</th>\n",
       "      <td>1893.000000</td>\n",
       "      <td>1730.000000</td>\n",
       "      <td>0.000000</td>\n",
       "      <td>0.000000</td>\n",
       "      <td>0.000000</td>\n",
       "      <td>0.000000</td>\n",
       "      <td>0.000000</td>\n",
       "      <td>0.000000</td>\n",
       "      <td>0.000000</td>\n",
       "      <td>0.000000</td>\n",
       "      <td>...</td>\n",
       "      <td>0.000000</td>\n",
       "      <td>0.000000</td>\n",
       "      <td>0.000000</td>\n",
       "      <td>0.000000</td>\n",
       "      <td>0.000000</td>\n",
       "      <td>0.000000</td>\n",
       "      <td>0.000000</td>\n",
       "      <td>3.0</td>\n",
       "      <td>11.0</td>\n",
       "      <td>0.000000</td>\n",
       "    </tr>\n",
       "    <tr>\n",
       "      <th>25%</th>\n",
       "      <td>1959.000000</td>\n",
       "      <td>35303.000000</td>\n",
       "      <td>0.000000</td>\n",
       "      <td>0.000000</td>\n",
       "      <td>24.000000</td>\n",
       "      <td>23.750000</td>\n",
       "      <td>1.000000</td>\n",
       "      <td>16.000000</td>\n",
       "      <td>3.000000</td>\n",
       "      <td>1.000000</td>\n",
       "      <td>...</td>\n",
       "      <td>3.000000</td>\n",
       "      <td>0.000000</td>\n",
       "      <td>0.000000</td>\n",
       "      <td>0.000000</td>\n",
       "      <td>0.000000</td>\n",
       "      <td>0.000000</td>\n",
       "      <td>0.000000</td>\n",
       "      <td>3.0</td>\n",
       "      <td>11.0</td>\n",
       "      <td>0.000000</td>\n",
       "    </tr>\n",
       "    <tr>\n",
       "      <th>50%</th>\n",
       "      <td>1970.000000</td>\n",
       "      <td>51381.500000</td>\n",
       "      <td>0.000000</td>\n",
       "      <td>0.000000</td>\n",
       "      <td>49.000000</td>\n",
       "      <td>173.500000</td>\n",
       "      <td>8.000000</td>\n",
       "      <td>67.000000</td>\n",
       "      <td>12.000000</td>\n",
       "      <td>8.000000</td>\n",
       "      <td>...</td>\n",
       "      <td>6.000000</td>\n",
       "      <td>0.000000</td>\n",
       "      <td>0.000000</td>\n",
       "      <td>0.000000</td>\n",
       "      <td>0.000000</td>\n",
       "      <td>0.000000</td>\n",
       "      <td>0.000000</td>\n",
       "      <td>3.0</td>\n",
       "      <td>11.0</td>\n",
       "      <td>0.000000</td>\n",
       "    </tr>\n",
       "    <tr>\n",
       "      <th>75%</th>\n",
       "      <td>1977.000000</td>\n",
       "      <td>68522.000000</td>\n",
       "      <td>1.000000</td>\n",
       "      <td>1.000000</td>\n",
       "      <td>74.000000</td>\n",
       "      <td>504.250000</td>\n",
       "      <td>33.000000</td>\n",
       "      <td>232.000000</td>\n",
       "      <td>50.000000</td>\n",
       "      <td>33.000000</td>\n",
       "      <td>...</td>\n",
       "      <td>7.000000</td>\n",
       "      <td>0.000000</td>\n",
       "      <td>0.000000</td>\n",
       "      <td>0.000000</td>\n",
       "      <td>0.000000</td>\n",
       "      <td>0.000000</td>\n",
       "      <td>0.000000</td>\n",
       "      <td>3.0</td>\n",
       "      <td>11.0</td>\n",
       "      <td>0.000000</td>\n",
       "    </tr>\n",
       "    <tr>\n",
       "      <th>max</th>\n",
       "      <td>1996.000000</td>\n",
       "      <td>666666.000000</td>\n",
       "      <td>2.000000</td>\n",
       "      <td>2.000000</td>\n",
       "      <td>99.000000</td>\n",
       "      <td>1493.000000</td>\n",
       "      <td>199.000000</td>\n",
       "      <td>1725.000000</td>\n",
       "      <td>259.000000</td>\n",
       "      <td>263.000000</td>\n",
       "      <td>...</td>\n",
       "      <td>20.000000</td>\n",
       "      <td>1.000000</td>\n",
       "      <td>1.000000</td>\n",
       "      <td>1.000000</td>\n",
       "      <td>1.000000</td>\n",
       "      <td>1.000000</td>\n",
       "      <td>1.000000</td>\n",
       "      <td>3.0</td>\n",
       "      <td>11.0</td>\n",
       "      <td>1.000000</td>\n",
       "    </tr>\n",
       "  </tbody>\n",
       "</table>\n",
       "<p>8 rows × 25 columns</p>\n",
       "</div>"
      ],
      "text/plain": [
       "        Year_Birth         Income      Kidhome     Teenhome      Recency  \\\n",
       "count  2240.000000    2216.000000  2240.000000  2240.000000  2240.000000   \n",
       "mean   1968.805804   52247.251354     0.444196     0.506250    49.109375   \n",
       "std      11.984069   25173.076661     0.538398     0.544538    28.962453   \n",
       "min    1893.000000    1730.000000     0.000000     0.000000     0.000000   \n",
       "25%    1959.000000   35303.000000     0.000000     0.000000    24.000000   \n",
       "50%    1970.000000   51381.500000     0.000000     0.000000    49.000000   \n",
       "75%    1977.000000   68522.000000     1.000000     1.000000    74.000000   \n",
       "max    1996.000000  666666.000000     2.000000     2.000000    99.000000   \n",
       "\n",
       "          MntWines    MntFruits  MntMeatProducts  MntFishProducts  \\\n",
       "count  2240.000000  2240.000000      2240.000000      2240.000000   \n",
       "mean    303.935714    26.302232       166.950000        37.525446   \n",
       "std     336.597393    39.773434       225.715373        54.628979   \n",
       "min       0.000000     0.000000         0.000000         0.000000   \n",
       "25%      23.750000     1.000000        16.000000         3.000000   \n",
       "50%     173.500000     8.000000        67.000000        12.000000   \n",
       "75%     504.250000    33.000000       232.000000        50.000000   \n",
       "max    1493.000000   199.000000      1725.000000       259.000000   \n",
       "\n",
       "       MntSweetProducts     ...       NumWebVisitsMonth  AcceptedCmp3  \\\n",
       "count       2240.000000     ...             2240.000000   2240.000000   \n",
       "mean          27.062946     ...                5.316518      0.072768   \n",
       "std           41.280498     ...                2.426645      0.259813   \n",
       "min            0.000000     ...                0.000000      0.000000   \n",
       "25%            1.000000     ...                3.000000      0.000000   \n",
       "50%            8.000000     ...                6.000000      0.000000   \n",
       "75%           33.000000     ...                7.000000      0.000000   \n",
       "max          263.000000     ...               20.000000      1.000000   \n",
       "\n",
       "       AcceptedCmp4  AcceptedCmp5  AcceptedCmp1  AcceptedCmp2     Complain  \\\n",
       "count   2240.000000   2240.000000   2240.000000   2240.000000  2240.000000   \n",
       "mean       0.074554      0.072768      0.064286      0.013393     0.009375   \n",
       "std        0.262728      0.259813      0.245316      0.114976     0.096391   \n",
       "min        0.000000      0.000000      0.000000      0.000000     0.000000   \n",
       "25%        0.000000      0.000000      0.000000      0.000000     0.000000   \n",
       "50%        0.000000      0.000000      0.000000      0.000000     0.000000   \n",
       "75%        0.000000      0.000000      0.000000      0.000000     0.000000   \n",
       "max        1.000000      1.000000      1.000000      1.000000     1.000000   \n",
       "\n",
       "       Z_CostContact  Z_Revenue     Response  \n",
       "count         2240.0     2240.0  2240.000000  \n",
       "mean             3.0       11.0     0.149107  \n",
       "std              0.0        0.0     0.356274  \n",
       "min              3.0       11.0     0.000000  \n",
       "25%              3.0       11.0     0.000000  \n",
       "50%              3.0       11.0     0.000000  \n",
       "75%              3.0       11.0     0.000000  \n",
       "max              3.0       11.0     1.000000  \n",
       "\n",
       "[8 rows x 25 columns]"
      ]
     },
     "execution_count": 25,
     "metadata": {},
     "output_type": "execute_result"
    }
   ],
   "source": [
    "data.describe()"
   ]
  },
  {
   "cell_type": "markdown",
   "metadata": {},
   "source": [
    "As we can see from above the numerical features are on very different scales with respect to each other, this tells us that we will need to scale the numerical features in the future before using for modelling the data."
   ]
  },
  {
   "cell_type": "markdown",
   "metadata": {},
   "source": [
    "## Correlational analysis of the features."
   ]
  },
  {
   "cell_type": "code",
   "execution_count": 27,
   "metadata": {},
   "outputs": [
    {
     "data": {
      "text/html": [
       "<div>\n",
       "<style scoped>\n",
       "    .dataframe tbody tr th:only-of-type {\n",
       "        vertical-align: middle;\n",
       "    }\n",
       "\n",
       "    .dataframe tbody tr th {\n",
       "        vertical-align: top;\n",
       "    }\n",
       "\n",
       "    .dataframe thead th {\n",
       "        text-align: right;\n",
       "    }\n",
       "</style>\n",
       "<table border=\"1\" class=\"dataframe\">\n",
       "  <thead>\n",
       "    <tr style=\"text-align: right;\">\n",
       "      <th></th>\n",
       "      <th>Year_Birth</th>\n",
       "      <th>Income</th>\n",
       "      <th>Kidhome</th>\n",
       "      <th>Teenhome</th>\n",
       "      <th>Recency</th>\n",
       "      <th>MntWines</th>\n",
       "      <th>MntFruits</th>\n",
       "      <th>MntMeatProducts</th>\n",
       "      <th>MntFishProducts</th>\n",
       "      <th>MntSweetProducts</th>\n",
       "      <th>...</th>\n",
       "      <th>NumWebVisitsMonth</th>\n",
       "      <th>AcceptedCmp3</th>\n",
       "      <th>AcceptedCmp4</th>\n",
       "      <th>AcceptedCmp5</th>\n",
       "      <th>AcceptedCmp1</th>\n",
       "      <th>AcceptedCmp2</th>\n",
       "      <th>Complain</th>\n",
       "      <th>Z_CostContact</th>\n",
       "      <th>Z_Revenue</th>\n",
       "      <th>Response</th>\n",
       "    </tr>\n",
       "  </thead>\n",
       "  <tbody>\n",
       "    <tr>\n",
       "      <th>Year_Birth</th>\n",
       "      <td>1.000000</td>\n",
       "      <td>-0.161791</td>\n",
       "      <td>0.230176</td>\n",
       "      <td>-0.352111</td>\n",
       "      <td>-0.019871</td>\n",
       "      <td>-0.157773</td>\n",
       "      <td>-0.017917</td>\n",
       "      <td>-0.030872</td>\n",
       "      <td>-0.041625</td>\n",
       "      <td>-0.018133</td>\n",
       "      <td>...</td>\n",
       "      <td>0.121139</td>\n",
       "      <td>0.061774</td>\n",
       "      <td>-0.060510</td>\n",
       "      <td>0.007123</td>\n",
       "      <td>-0.005930</td>\n",
       "      <td>-0.006539</td>\n",
       "      <td>-0.030128</td>\n",
       "      <td>NaN</td>\n",
       "      <td>NaN</td>\n",
       "      <td>0.021325</td>\n",
       "    </tr>\n",
       "    <tr>\n",
       "      <th>Income</th>\n",
       "      <td>-0.161791</td>\n",
       "      <td>1.000000</td>\n",
       "      <td>-0.428669</td>\n",
       "      <td>0.019133</td>\n",
       "      <td>-0.003970</td>\n",
       "      <td>0.578650</td>\n",
       "      <td>0.430842</td>\n",
       "      <td>0.584633</td>\n",
       "      <td>0.438871</td>\n",
       "      <td>0.440744</td>\n",
       "      <td>...</td>\n",
       "      <td>-0.553088</td>\n",
       "      <td>-0.016174</td>\n",
       "      <td>0.184400</td>\n",
       "      <td>0.335943</td>\n",
       "      <td>0.276820</td>\n",
       "      <td>0.087545</td>\n",
       "      <td>-0.027225</td>\n",
       "      <td>NaN</td>\n",
       "      <td>NaN</td>\n",
       "      <td>0.133047</td>\n",
       "    </tr>\n",
       "    <tr>\n",
       "      <th>Kidhome</th>\n",
       "      <td>0.230176</td>\n",
       "      <td>-0.428669</td>\n",
       "      <td>1.000000</td>\n",
       "      <td>-0.036133</td>\n",
       "      <td>0.008827</td>\n",
       "      <td>-0.496297</td>\n",
       "      <td>-0.372581</td>\n",
       "      <td>-0.437129</td>\n",
       "      <td>-0.387644</td>\n",
       "      <td>-0.370673</td>\n",
       "      <td>...</td>\n",
       "      <td>0.447846</td>\n",
       "      <td>0.014674</td>\n",
       "      <td>-0.161600</td>\n",
       "      <td>-0.205634</td>\n",
       "      <td>-0.172339</td>\n",
       "      <td>-0.081716</td>\n",
       "      <td>0.040207</td>\n",
       "      <td>NaN</td>\n",
       "      <td>NaN</td>\n",
       "      <td>-0.080008</td>\n",
       "    </tr>\n",
       "    <tr>\n",
       "      <th>Teenhome</th>\n",
       "      <td>-0.352111</td>\n",
       "      <td>0.019133</td>\n",
       "      <td>-0.036133</td>\n",
       "      <td>1.000000</td>\n",
       "      <td>0.016198</td>\n",
       "      <td>0.004846</td>\n",
       "      <td>-0.176764</td>\n",
       "      <td>-0.261160</td>\n",
       "      <td>-0.204187</td>\n",
       "      <td>-0.162475</td>\n",
       "      <td>...</td>\n",
       "      <td>0.134884</td>\n",
       "      <td>-0.042677</td>\n",
       "      <td>0.038886</td>\n",
       "      <td>-0.191050</td>\n",
       "      <td>-0.140090</td>\n",
       "      <td>-0.015605</td>\n",
       "      <td>0.003138</td>\n",
       "      <td>NaN</td>\n",
       "      <td>NaN</td>\n",
       "      <td>-0.154446</td>\n",
       "    </tr>\n",
       "    <tr>\n",
       "      <th>Recency</th>\n",
       "      <td>-0.019871</td>\n",
       "      <td>-0.003970</td>\n",
       "      <td>0.008827</td>\n",
       "      <td>0.016198</td>\n",
       "      <td>1.000000</td>\n",
       "      <td>0.016064</td>\n",
       "      <td>-0.004306</td>\n",
       "      <td>0.023056</td>\n",
       "      <td>0.001079</td>\n",
       "      <td>0.022670</td>\n",
       "      <td>...</td>\n",
       "      <td>-0.021445</td>\n",
       "      <td>-0.032991</td>\n",
       "      <td>0.018826</td>\n",
       "      <td>0.000129</td>\n",
       "      <td>-0.019283</td>\n",
       "      <td>-0.001781</td>\n",
       "      <td>0.013231</td>\n",
       "      <td>NaN</td>\n",
       "      <td>NaN</td>\n",
       "      <td>-0.198437</td>\n",
       "    </tr>\n",
       "    <tr>\n",
       "      <th>MntWines</th>\n",
       "      <td>-0.157773</td>\n",
       "      <td>0.578650</td>\n",
       "      <td>-0.496297</td>\n",
       "      <td>0.004846</td>\n",
       "      <td>0.016064</td>\n",
       "      <td>1.000000</td>\n",
       "      <td>0.389637</td>\n",
       "      <td>0.562667</td>\n",
       "      <td>0.399753</td>\n",
       "      <td>0.386581</td>\n",
       "      <td>...</td>\n",
       "      <td>-0.320653</td>\n",
       "      <td>0.062202</td>\n",
       "      <td>0.373286</td>\n",
       "      <td>0.472613</td>\n",
       "      <td>0.354133</td>\n",
       "      <td>0.205907</td>\n",
       "      <td>-0.039007</td>\n",
       "      <td>NaN</td>\n",
       "      <td>NaN</td>\n",
       "      <td>0.247254</td>\n",
       "    </tr>\n",
       "    <tr>\n",
       "      <th>MntFruits</th>\n",
       "      <td>-0.017917</td>\n",
       "      <td>0.430842</td>\n",
       "      <td>-0.372581</td>\n",
       "      <td>-0.176764</td>\n",
       "      <td>-0.004306</td>\n",
       "      <td>0.389637</td>\n",
       "      <td>1.000000</td>\n",
       "      <td>0.543105</td>\n",
       "      <td>0.594804</td>\n",
       "      <td>0.567164</td>\n",
       "      <td>...</td>\n",
       "      <td>-0.418383</td>\n",
       "      <td>0.014727</td>\n",
       "      <td>0.010152</td>\n",
       "      <td>0.215833</td>\n",
       "      <td>0.194748</td>\n",
       "      <td>-0.009773</td>\n",
       "      <td>-0.005166</td>\n",
       "      <td>NaN</td>\n",
       "      <td>NaN</td>\n",
       "      <td>0.125289</td>\n",
       "    </tr>\n",
       "    <tr>\n",
       "      <th>MntMeatProducts</th>\n",
       "      <td>-0.030872</td>\n",
       "      <td>0.584633</td>\n",
       "      <td>-0.437129</td>\n",
       "      <td>-0.261160</td>\n",
       "      <td>0.023056</td>\n",
       "      <td>0.562667</td>\n",
       "      <td>0.543105</td>\n",
       "      <td>1.000000</td>\n",
       "      <td>0.568402</td>\n",
       "      <td>0.523846</td>\n",
       "      <td>...</td>\n",
       "      <td>-0.539470</td>\n",
       "      <td>0.018272</td>\n",
       "      <td>0.102912</td>\n",
       "      <td>0.373769</td>\n",
       "      <td>0.309761</td>\n",
       "      <td>0.043033</td>\n",
       "      <td>-0.023483</td>\n",
       "      <td>NaN</td>\n",
       "      <td>NaN</td>\n",
       "      <td>0.236335</td>\n",
       "    </tr>\n",
       "    <tr>\n",
       "      <th>MntFishProducts</th>\n",
       "      <td>-0.041625</td>\n",
       "      <td>0.438871</td>\n",
       "      <td>-0.387644</td>\n",
       "      <td>-0.204187</td>\n",
       "      <td>0.001079</td>\n",
       "      <td>0.399753</td>\n",
       "      <td>0.594804</td>\n",
       "      <td>0.568402</td>\n",
       "      <td>1.000000</td>\n",
       "      <td>0.579870</td>\n",
       "      <td>...</td>\n",
       "      <td>-0.446003</td>\n",
       "      <td>0.000357</td>\n",
       "      <td>0.016843</td>\n",
       "      <td>0.199578</td>\n",
       "      <td>0.260762</td>\n",
       "      <td>0.002577</td>\n",
       "      <td>-0.020953</td>\n",
       "      <td>NaN</td>\n",
       "      <td>NaN</td>\n",
       "      <td>0.111331</td>\n",
       "    </tr>\n",
       "    <tr>\n",
       "      <th>MntSweetProducts</th>\n",
       "      <td>-0.018133</td>\n",
       "      <td>0.440744</td>\n",
       "      <td>-0.370673</td>\n",
       "      <td>-0.162475</td>\n",
       "      <td>0.022670</td>\n",
       "      <td>0.386581</td>\n",
       "      <td>0.567164</td>\n",
       "      <td>0.523846</td>\n",
       "      <td>0.579870</td>\n",
       "      <td>1.000000</td>\n",
       "      <td>...</td>\n",
       "      <td>-0.423294</td>\n",
       "      <td>0.001530</td>\n",
       "      <td>0.028641</td>\n",
       "      <td>0.259590</td>\n",
       "      <td>0.241818</td>\n",
       "      <td>0.009985</td>\n",
       "      <td>-0.022485</td>\n",
       "      <td>NaN</td>\n",
       "      <td>NaN</td>\n",
       "      <td>0.117372</td>\n",
       "    </tr>\n",
       "    <tr>\n",
       "      <th>MntGoldProds</th>\n",
       "      <td>-0.061818</td>\n",
       "      <td>0.325916</td>\n",
       "      <td>-0.349595</td>\n",
       "      <td>-0.021725</td>\n",
       "      <td>0.016693</td>\n",
       "      <td>0.387516</td>\n",
       "      <td>0.392995</td>\n",
       "      <td>0.350609</td>\n",
       "      <td>0.422875</td>\n",
       "      <td>0.369724</td>\n",
       "      <td>...</td>\n",
       "      <td>-0.250719</td>\n",
       "      <td>0.123091</td>\n",
       "      <td>0.022268</td>\n",
       "      <td>0.181021</td>\n",
       "      <td>0.166396</td>\n",
       "      <td>0.049990</td>\n",
       "      <td>-0.030861</td>\n",
       "      <td>NaN</td>\n",
       "      <td>NaN</td>\n",
       "      <td>0.139850</td>\n",
       "    </tr>\n",
       "    <tr>\n",
       "      <th>NumDealsPurchases</th>\n",
       "      <td>-0.060846</td>\n",
       "      <td>-0.083101</td>\n",
       "      <td>0.221798</td>\n",
       "      <td>0.387741</td>\n",
       "      <td>-0.001098</td>\n",
       "      <td>0.010940</td>\n",
       "      <td>-0.132114</td>\n",
       "      <td>-0.122415</td>\n",
       "      <td>-0.139361</td>\n",
       "      <td>-0.120100</td>\n",
       "      <td>...</td>\n",
       "      <td>0.347633</td>\n",
       "      <td>-0.023109</td>\n",
       "      <td>0.015594</td>\n",
       "      <td>-0.183248</td>\n",
       "      <td>-0.123244</td>\n",
       "      <td>-0.037695</td>\n",
       "      <td>0.000420</td>\n",
       "      <td>NaN</td>\n",
       "      <td>NaN</td>\n",
       "      <td>0.002238</td>\n",
       "    </tr>\n",
       "    <tr>\n",
       "      <th>NumWebPurchases</th>\n",
       "      <td>-0.145040</td>\n",
       "      <td>0.387878</td>\n",
       "      <td>-0.361647</td>\n",
       "      <td>0.155500</td>\n",
       "      <td>-0.010726</td>\n",
       "      <td>0.542265</td>\n",
       "      <td>0.296735</td>\n",
       "      <td>0.293761</td>\n",
       "      <td>0.293681</td>\n",
       "      <td>0.348544</td>\n",
       "      <td>...</td>\n",
       "      <td>-0.055846</td>\n",
       "      <td>0.042176</td>\n",
       "      <td>0.155903</td>\n",
       "      <td>0.138684</td>\n",
       "      <td>0.155143</td>\n",
       "      <td>0.034188</td>\n",
       "      <td>-0.016310</td>\n",
       "      <td>NaN</td>\n",
       "      <td>NaN</td>\n",
       "      <td>0.148730</td>\n",
       "    </tr>\n",
       "    <tr>\n",
       "      <th>NumCatalogPurchases</th>\n",
       "      <td>-0.121275</td>\n",
       "      <td>0.589162</td>\n",
       "      <td>-0.502237</td>\n",
       "      <td>-0.110769</td>\n",
       "      <td>0.025110</td>\n",
       "      <td>0.635226</td>\n",
       "      <td>0.487917</td>\n",
       "      <td>0.723827</td>\n",
       "      <td>0.534478</td>\n",
       "      <td>0.490924</td>\n",
       "      <td>...</td>\n",
       "      <td>-0.520364</td>\n",
       "      <td>0.104730</td>\n",
       "      <td>0.139247</td>\n",
       "      <td>0.322321</td>\n",
       "      <td>0.308097</td>\n",
       "      <td>0.099852</td>\n",
       "      <td>-0.020453</td>\n",
       "      <td>NaN</td>\n",
       "      <td>NaN</td>\n",
       "      <td>0.220810</td>\n",
       "    </tr>\n",
       "    <tr>\n",
       "      <th>NumStorePurchases</th>\n",
       "      <td>-0.128272</td>\n",
       "      <td>0.529362</td>\n",
       "      <td>-0.499683</td>\n",
       "      <td>0.050695</td>\n",
       "      <td>0.000799</td>\n",
       "      <td>0.642100</td>\n",
       "      <td>0.461758</td>\n",
       "      <td>0.479659</td>\n",
       "      <td>0.459855</td>\n",
       "      <td>0.448756</td>\n",
       "      <td>...</td>\n",
       "      <td>-0.428473</td>\n",
       "      <td>-0.067577</td>\n",
       "      <td>0.179379</td>\n",
       "      <td>0.214790</td>\n",
       "      <td>0.183249</td>\n",
       "      <td>0.085189</td>\n",
       "      <td>-0.016524</td>\n",
       "      <td>NaN</td>\n",
       "      <td>NaN</td>\n",
       "      <td>0.039363</td>\n",
       "    </tr>\n",
       "    <tr>\n",
       "      <th>NumWebVisitsMonth</th>\n",
       "      <td>0.121139</td>\n",
       "      <td>-0.553088</td>\n",
       "      <td>0.447846</td>\n",
       "      <td>0.134884</td>\n",
       "      <td>-0.021445</td>\n",
       "      <td>-0.320653</td>\n",
       "      <td>-0.418383</td>\n",
       "      <td>-0.539470</td>\n",
       "      <td>-0.446003</td>\n",
       "      <td>-0.423294</td>\n",
       "      <td>...</td>\n",
       "      <td>1.000000</td>\n",
       "      <td>0.061211</td>\n",
       "      <td>-0.032126</td>\n",
       "      <td>-0.278113</td>\n",
       "      <td>-0.192502</td>\n",
       "      <td>-0.007196</td>\n",
       "      <td>0.019769</td>\n",
       "      <td>NaN</td>\n",
       "      <td>NaN</td>\n",
       "      <td>-0.003987</td>\n",
       "    </tr>\n",
       "    <tr>\n",
       "      <th>AcceptedCmp3</th>\n",
       "      <td>0.061774</td>\n",
       "      <td>-0.016174</td>\n",
       "      <td>0.014674</td>\n",
       "      <td>-0.042677</td>\n",
       "      <td>-0.032991</td>\n",
       "      <td>0.062202</td>\n",
       "      <td>0.014727</td>\n",
       "      <td>0.018272</td>\n",
       "      <td>0.000357</td>\n",
       "      <td>0.001530</td>\n",
       "      <td>...</td>\n",
       "      <td>0.061211</td>\n",
       "      <td>1.000000</td>\n",
       "      <td>-0.079512</td>\n",
       "      <td>0.080316</td>\n",
       "      <td>0.094751</td>\n",
       "      <td>0.072020</td>\n",
       "      <td>0.008415</td>\n",
       "      <td>NaN</td>\n",
       "      <td>NaN</td>\n",
       "      <td>0.254258</td>\n",
       "    </tr>\n",
       "    <tr>\n",
       "      <th>AcceptedCmp4</th>\n",
       "      <td>-0.060510</td>\n",
       "      <td>0.184400</td>\n",
       "      <td>-0.161600</td>\n",
       "      <td>0.038886</td>\n",
       "      <td>0.018826</td>\n",
       "      <td>0.373286</td>\n",
       "      <td>0.010152</td>\n",
       "      <td>0.102912</td>\n",
       "      <td>0.016843</td>\n",
       "      <td>0.028641</td>\n",
       "      <td>...</td>\n",
       "      <td>-0.032126</td>\n",
       "      <td>-0.079512</td>\n",
       "      <td>1.000000</td>\n",
       "      <td>0.306526</td>\n",
       "      <td>0.251300</td>\n",
       "      <td>0.292210</td>\n",
       "      <td>-0.027611</td>\n",
       "      <td>NaN</td>\n",
       "      <td>NaN</td>\n",
       "      <td>0.177019</td>\n",
       "    </tr>\n",
       "    <tr>\n",
       "      <th>AcceptedCmp5</th>\n",
       "      <td>0.007123</td>\n",
       "      <td>0.335943</td>\n",
       "      <td>-0.205634</td>\n",
       "      <td>-0.191050</td>\n",
       "      <td>0.000129</td>\n",
       "      <td>0.472613</td>\n",
       "      <td>0.215833</td>\n",
       "      <td>0.373769</td>\n",
       "      <td>0.199578</td>\n",
       "      <td>0.259590</td>\n",
       "      <td>...</td>\n",
       "      <td>-0.278113</td>\n",
       "      <td>0.080316</td>\n",
       "      <td>0.306526</td>\n",
       "      <td>1.000000</td>\n",
       "      <td>0.403078</td>\n",
       "      <td>0.221533</td>\n",
       "      <td>-0.009419</td>\n",
       "      <td>NaN</td>\n",
       "      <td>NaN</td>\n",
       "      <td>0.326634</td>\n",
       "    </tr>\n",
       "    <tr>\n",
       "      <th>AcceptedCmp1</th>\n",
       "      <td>-0.005930</td>\n",
       "      <td>0.276820</td>\n",
       "      <td>-0.172339</td>\n",
       "      <td>-0.140090</td>\n",
       "      <td>-0.019283</td>\n",
       "      <td>0.354133</td>\n",
       "      <td>0.194748</td>\n",
       "      <td>0.309761</td>\n",
       "      <td>0.260762</td>\n",
       "      <td>0.241818</td>\n",
       "      <td>...</td>\n",
       "      <td>-0.192502</td>\n",
       "      <td>0.094751</td>\n",
       "      <td>0.251300</td>\n",
       "      <td>0.403078</td>\n",
       "      <td>1.000000</td>\n",
       "      <td>0.175315</td>\n",
       "      <td>-0.025499</td>\n",
       "      <td>NaN</td>\n",
       "      <td>NaN</td>\n",
       "      <td>0.293982</td>\n",
       "    </tr>\n",
       "    <tr>\n",
       "      <th>AcceptedCmp2</th>\n",
       "      <td>-0.006539</td>\n",
       "      <td>0.087545</td>\n",
       "      <td>-0.081716</td>\n",
       "      <td>-0.015605</td>\n",
       "      <td>-0.001781</td>\n",
       "      <td>0.205907</td>\n",
       "      <td>-0.009773</td>\n",
       "      <td>0.043033</td>\n",
       "      <td>0.002577</td>\n",
       "      <td>0.009985</td>\n",
       "      <td>...</td>\n",
       "      <td>-0.007196</td>\n",
       "      <td>0.072020</td>\n",
       "      <td>0.292210</td>\n",
       "      <td>0.221533</td>\n",
       "      <td>0.175315</td>\n",
       "      <td>1.000000</td>\n",
       "      <td>-0.011334</td>\n",
       "      <td>NaN</td>\n",
       "      <td>NaN</td>\n",
       "      <td>0.169293</td>\n",
       "    </tr>\n",
       "    <tr>\n",
       "      <th>Complain</th>\n",
       "      <td>-0.030128</td>\n",
       "      <td>-0.027225</td>\n",
       "      <td>0.040207</td>\n",
       "      <td>0.003138</td>\n",
       "      <td>0.013231</td>\n",
       "      <td>-0.039007</td>\n",
       "      <td>-0.005166</td>\n",
       "      <td>-0.023483</td>\n",
       "      <td>-0.020953</td>\n",
       "      <td>-0.022485</td>\n",
       "      <td>...</td>\n",
       "      <td>0.019769</td>\n",
       "      <td>0.008415</td>\n",
       "      <td>-0.027611</td>\n",
       "      <td>-0.009419</td>\n",
       "      <td>-0.025499</td>\n",
       "      <td>-0.011334</td>\n",
       "      <td>1.000000</td>\n",
       "      <td>NaN</td>\n",
       "      <td>NaN</td>\n",
       "      <td>-0.001707</td>\n",
       "    </tr>\n",
       "    <tr>\n",
       "      <th>Z_CostContact</th>\n",
       "      <td>NaN</td>\n",
       "      <td>NaN</td>\n",
       "      <td>NaN</td>\n",
       "      <td>NaN</td>\n",
       "      <td>NaN</td>\n",
       "      <td>NaN</td>\n",
       "      <td>NaN</td>\n",
       "      <td>NaN</td>\n",
       "      <td>NaN</td>\n",
       "      <td>NaN</td>\n",
       "      <td>...</td>\n",
       "      <td>NaN</td>\n",
       "      <td>NaN</td>\n",
       "      <td>NaN</td>\n",
       "      <td>NaN</td>\n",
       "      <td>NaN</td>\n",
       "      <td>NaN</td>\n",
       "      <td>NaN</td>\n",
       "      <td>NaN</td>\n",
       "      <td>NaN</td>\n",
       "      <td>NaN</td>\n",
       "    </tr>\n",
       "    <tr>\n",
       "      <th>Z_Revenue</th>\n",
       "      <td>NaN</td>\n",
       "      <td>NaN</td>\n",
       "      <td>NaN</td>\n",
       "      <td>NaN</td>\n",
       "      <td>NaN</td>\n",
       "      <td>NaN</td>\n",
       "      <td>NaN</td>\n",
       "      <td>NaN</td>\n",
       "      <td>NaN</td>\n",
       "      <td>NaN</td>\n",
       "      <td>...</td>\n",
       "      <td>NaN</td>\n",
       "      <td>NaN</td>\n",
       "      <td>NaN</td>\n",
       "      <td>NaN</td>\n",
       "      <td>NaN</td>\n",
       "      <td>NaN</td>\n",
       "      <td>NaN</td>\n",
       "      <td>NaN</td>\n",
       "      <td>NaN</td>\n",
       "      <td>NaN</td>\n",
       "    </tr>\n",
       "    <tr>\n",
       "      <th>Response</th>\n",
       "      <td>0.021325</td>\n",
       "      <td>0.133047</td>\n",
       "      <td>-0.080008</td>\n",
       "      <td>-0.154446</td>\n",
       "      <td>-0.198437</td>\n",
       "      <td>0.247254</td>\n",
       "      <td>0.125289</td>\n",
       "      <td>0.236335</td>\n",
       "      <td>0.111331</td>\n",
       "      <td>0.117372</td>\n",
       "      <td>...</td>\n",
       "      <td>-0.003987</td>\n",
       "      <td>0.254258</td>\n",
       "      <td>0.177019</td>\n",
       "      <td>0.326634</td>\n",
       "      <td>0.293982</td>\n",
       "      <td>0.169293</td>\n",
       "      <td>-0.001707</td>\n",
       "      <td>NaN</td>\n",
       "      <td>NaN</td>\n",
       "      <td>1.000000</td>\n",
       "    </tr>\n",
       "  </tbody>\n",
       "</table>\n",
       "<p>25 rows × 25 columns</p>\n",
       "</div>"
      ],
      "text/plain": [
       "                     Year_Birth    Income   Kidhome  Teenhome   Recency  \\\n",
       "Year_Birth             1.000000 -0.161791  0.230176 -0.352111 -0.019871   \n",
       "Income                -0.161791  1.000000 -0.428669  0.019133 -0.003970   \n",
       "Kidhome                0.230176 -0.428669  1.000000 -0.036133  0.008827   \n",
       "Teenhome              -0.352111  0.019133 -0.036133  1.000000  0.016198   \n",
       "Recency               -0.019871 -0.003970  0.008827  0.016198  1.000000   \n",
       "MntWines              -0.157773  0.578650 -0.496297  0.004846  0.016064   \n",
       "MntFruits             -0.017917  0.430842 -0.372581 -0.176764 -0.004306   \n",
       "MntMeatProducts       -0.030872  0.584633 -0.437129 -0.261160  0.023056   \n",
       "MntFishProducts       -0.041625  0.438871 -0.387644 -0.204187  0.001079   \n",
       "MntSweetProducts      -0.018133  0.440744 -0.370673 -0.162475  0.022670   \n",
       "MntGoldProds          -0.061818  0.325916 -0.349595 -0.021725  0.016693   \n",
       "NumDealsPurchases     -0.060846 -0.083101  0.221798  0.387741 -0.001098   \n",
       "NumWebPurchases       -0.145040  0.387878 -0.361647  0.155500 -0.010726   \n",
       "NumCatalogPurchases   -0.121275  0.589162 -0.502237 -0.110769  0.025110   \n",
       "NumStorePurchases     -0.128272  0.529362 -0.499683  0.050695  0.000799   \n",
       "NumWebVisitsMonth      0.121139 -0.553088  0.447846  0.134884 -0.021445   \n",
       "AcceptedCmp3           0.061774 -0.016174  0.014674 -0.042677 -0.032991   \n",
       "AcceptedCmp4          -0.060510  0.184400 -0.161600  0.038886  0.018826   \n",
       "AcceptedCmp5           0.007123  0.335943 -0.205634 -0.191050  0.000129   \n",
       "AcceptedCmp1          -0.005930  0.276820 -0.172339 -0.140090 -0.019283   \n",
       "AcceptedCmp2          -0.006539  0.087545 -0.081716 -0.015605 -0.001781   \n",
       "Complain              -0.030128 -0.027225  0.040207  0.003138  0.013231   \n",
       "Z_CostContact               NaN       NaN       NaN       NaN       NaN   \n",
       "Z_Revenue                   NaN       NaN       NaN       NaN       NaN   \n",
       "Response               0.021325  0.133047 -0.080008 -0.154446 -0.198437   \n",
       "\n",
       "                     MntWines  MntFruits  MntMeatProducts  MntFishProducts  \\\n",
       "Year_Birth          -0.157773  -0.017917        -0.030872        -0.041625   \n",
       "Income               0.578650   0.430842         0.584633         0.438871   \n",
       "Kidhome             -0.496297  -0.372581        -0.437129        -0.387644   \n",
       "Teenhome             0.004846  -0.176764        -0.261160        -0.204187   \n",
       "Recency              0.016064  -0.004306         0.023056         0.001079   \n",
       "MntWines             1.000000   0.389637         0.562667         0.399753   \n",
       "MntFruits            0.389637   1.000000         0.543105         0.594804   \n",
       "MntMeatProducts      0.562667   0.543105         1.000000         0.568402   \n",
       "MntFishProducts      0.399753   0.594804         0.568402         1.000000   \n",
       "MntSweetProducts     0.386581   0.567164         0.523846         0.579870   \n",
       "MntGoldProds         0.387516   0.392995         0.350609         0.422875   \n",
       "NumDealsPurchases    0.010940  -0.132114        -0.122415        -0.139361   \n",
       "NumWebPurchases      0.542265   0.296735         0.293761         0.293681   \n",
       "NumCatalogPurchases  0.635226   0.487917         0.723827         0.534478   \n",
       "NumStorePurchases    0.642100   0.461758         0.479659         0.459855   \n",
       "NumWebVisitsMonth   -0.320653  -0.418383        -0.539470        -0.446003   \n",
       "AcceptedCmp3         0.062202   0.014727         0.018272         0.000357   \n",
       "AcceptedCmp4         0.373286   0.010152         0.102912         0.016843   \n",
       "AcceptedCmp5         0.472613   0.215833         0.373769         0.199578   \n",
       "AcceptedCmp1         0.354133   0.194748         0.309761         0.260762   \n",
       "AcceptedCmp2         0.205907  -0.009773         0.043033         0.002577   \n",
       "Complain            -0.039007  -0.005166        -0.023483        -0.020953   \n",
       "Z_CostContact             NaN        NaN              NaN              NaN   \n",
       "Z_Revenue                 NaN        NaN              NaN              NaN   \n",
       "Response             0.247254   0.125289         0.236335         0.111331   \n",
       "\n",
       "                     MntSweetProducts    ...     NumWebVisitsMonth  \\\n",
       "Year_Birth                  -0.018133    ...              0.121139   \n",
       "Income                       0.440744    ...             -0.553088   \n",
       "Kidhome                     -0.370673    ...              0.447846   \n",
       "Teenhome                    -0.162475    ...              0.134884   \n",
       "Recency                      0.022670    ...             -0.021445   \n",
       "MntWines                     0.386581    ...             -0.320653   \n",
       "MntFruits                    0.567164    ...             -0.418383   \n",
       "MntMeatProducts              0.523846    ...             -0.539470   \n",
       "MntFishProducts              0.579870    ...             -0.446003   \n",
       "MntSweetProducts             1.000000    ...             -0.423294   \n",
       "MntGoldProds                 0.369724    ...             -0.250719   \n",
       "NumDealsPurchases           -0.120100    ...              0.347633   \n",
       "NumWebPurchases              0.348544    ...             -0.055846   \n",
       "NumCatalogPurchases          0.490924    ...             -0.520364   \n",
       "NumStorePurchases            0.448756    ...             -0.428473   \n",
       "NumWebVisitsMonth           -0.423294    ...              1.000000   \n",
       "AcceptedCmp3                 0.001530    ...              0.061211   \n",
       "AcceptedCmp4                 0.028641    ...             -0.032126   \n",
       "AcceptedCmp5                 0.259590    ...             -0.278113   \n",
       "AcceptedCmp1                 0.241818    ...             -0.192502   \n",
       "AcceptedCmp2                 0.009985    ...             -0.007196   \n",
       "Complain                    -0.022485    ...              0.019769   \n",
       "Z_CostContact                     NaN    ...                   NaN   \n",
       "Z_Revenue                         NaN    ...                   NaN   \n",
       "Response                     0.117372    ...             -0.003987   \n",
       "\n",
       "                     AcceptedCmp3  AcceptedCmp4  AcceptedCmp5  AcceptedCmp1  \\\n",
       "Year_Birth               0.061774     -0.060510      0.007123     -0.005930   \n",
       "Income                  -0.016174      0.184400      0.335943      0.276820   \n",
       "Kidhome                  0.014674     -0.161600     -0.205634     -0.172339   \n",
       "Teenhome                -0.042677      0.038886     -0.191050     -0.140090   \n",
       "Recency                 -0.032991      0.018826      0.000129     -0.019283   \n",
       "MntWines                 0.062202      0.373286      0.472613      0.354133   \n",
       "MntFruits                0.014727      0.010152      0.215833      0.194748   \n",
       "MntMeatProducts          0.018272      0.102912      0.373769      0.309761   \n",
       "MntFishProducts          0.000357      0.016843      0.199578      0.260762   \n",
       "MntSweetProducts         0.001530      0.028641      0.259590      0.241818   \n",
       "MntGoldProds             0.123091      0.022268      0.181021      0.166396   \n",
       "NumDealsPurchases       -0.023109      0.015594     -0.183248     -0.123244   \n",
       "NumWebPurchases          0.042176      0.155903      0.138684      0.155143   \n",
       "NumCatalogPurchases      0.104730      0.139247      0.322321      0.308097   \n",
       "NumStorePurchases       -0.067577      0.179379      0.214790      0.183249   \n",
       "NumWebVisitsMonth        0.061211     -0.032126     -0.278113     -0.192502   \n",
       "AcceptedCmp3             1.000000     -0.079512      0.080316      0.094751   \n",
       "AcceptedCmp4            -0.079512      1.000000      0.306526      0.251300   \n",
       "AcceptedCmp5             0.080316      0.306526      1.000000      0.403078   \n",
       "AcceptedCmp1             0.094751      0.251300      0.403078      1.000000   \n",
       "AcceptedCmp2             0.072020      0.292210      0.221533      0.175315   \n",
       "Complain                 0.008415     -0.027611     -0.009419     -0.025499   \n",
       "Z_CostContact                 NaN           NaN           NaN           NaN   \n",
       "Z_Revenue                     NaN           NaN           NaN           NaN   \n",
       "Response                 0.254258      0.177019      0.326634      0.293982   \n",
       "\n",
       "                     AcceptedCmp2  Complain  Z_CostContact  Z_Revenue  \\\n",
       "Year_Birth              -0.006539 -0.030128            NaN        NaN   \n",
       "Income                   0.087545 -0.027225            NaN        NaN   \n",
       "Kidhome                 -0.081716  0.040207            NaN        NaN   \n",
       "Teenhome                -0.015605  0.003138            NaN        NaN   \n",
       "Recency                 -0.001781  0.013231            NaN        NaN   \n",
       "MntWines                 0.205907 -0.039007            NaN        NaN   \n",
       "MntFruits               -0.009773 -0.005166            NaN        NaN   \n",
       "MntMeatProducts          0.043033 -0.023483            NaN        NaN   \n",
       "MntFishProducts          0.002577 -0.020953            NaN        NaN   \n",
       "MntSweetProducts         0.009985 -0.022485            NaN        NaN   \n",
       "MntGoldProds             0.049990 -0.030861            NaN        NaN   \n",
       "NumDealsPurchases       -0.037695  0.000420            NaN        NaN   \n",
       "NumWebPurchases          0.034188 -0.016310            NaN        NaN   \n",
       "NumCatalogPurchases      0.099852 -0.020453            NaN        NaN   \n",
       "NumStorePurchases        0.085189 -0.016524            NaN        NaN   \n",
       "NumWebVisitsMonth       -0.007196  0.019769            NaN        NaN   \n",
       "AcceptedCmp3             0.072020  0.008415            NaN        NaN   \n",
       "AcceptedCmp4             0.292210 -0.027611            NaN        NaN   \n",
       "AcceptedCmp5             0.221533 -0.009419            NaN        NaN   \n",
       "AcceptedCmp1             0.175315 -0.025499            NaN        NaN   \n",
       "AcceptedCmp2             1.000000 -0.011334            NaN        NaN   \n",
       "Complain                -0.011334  1.000000            NaN        NaN   \n",
       "Z_CostContact                 NaN       NaN            NaN        NaN   \n",
       "Z_Revenue                     NaN       NaN            NaN        NaN   \n",
       "Response                 0.169293 -0.001707            NaN        NaN   \n",
       "\n",
       "                     Response  \n",
       "Year_Birth           0.021325  \n",
       "Income               0.133047  \n",
       "Kidhome             -0.080008  \n",
       "Teenhome            -0.154446  \n",
       "Recency             -0.198437  \n",
       "MntWines             0.247254  \n",
       "MntFruits            0.125289  \n",
       "MntMeatProducts      0.236335  \n",
       "MntFishProducts      0.111331  \n",
       "MntSweetProducts     0.117372  \n",
       "MntGoldProds         0.139850  \n",
       "NumDealsPurchases    0.002238  \n",
       "NumWebPurchases      0.148730  \n",
       "NumCatalogPurchases  0.220810  \n",
       "NumStorePurchases    0.039363  \n",
       "NumWebVisitsMonth   -0.003987  \n",
       "AcceptedCmp3         0.254258  \n",
       "AcceptedCmp4         0.177019  \n",
       "AcceptedCmp5         0.326634  \n",
       "AcceptedCmp1         0.293982  \n",
       "AcceptedCmp2         0.169293  \n",
       "Complain            -0.001707  \n",
       "Z_CostContact             NaN  \n",
       "Z_Revenue                 NaN  \n",
       "Response             1.000000  \n",
       "\n",
       "[25 rows x 25 columns]"
      ]
     },
     "execution_count": 27,
     "metadata": {},
     "output_type": "execute_result"
    }
   ],
   "source": [
    "data.corr()"
   ]
  },
  {
   "cell_type": "markdown",
   "metadata": {},
   "source": [
    "Visualization of the correlational relationships of the features."
   ]
  },
  {
   "cell_type": "code",
   "execution_count": 33,
   "metadata": {},
   "outputs": [
    {
     "data": {
      "text/plain": [
       "<matplotlib.axes._subplots.AxesSubplot at 0x26866240da0>"
=======
      "cell_type": "markdown",
      "metadata": {
        "id": "g44SAunRuEG_",
        "colab_type": "text"
      },
      "source": [
        "# Project Desription\n",
        "#### PROBLEM STATEMENT <i>(according to the data provider on Kaggle)</i>     \n",
        "\n",
        "\"A response model can provide a significant boost to the efficiency of a marketing campaign by increasing responses or reducing expenses. The objective is to predict who will respond to an offer for a product or service.\"  \n",
        "\n",
        "##### GOAL OF THE PROJECT    \n",
        "\n",
        "We are required to model and train a predictive model which allows the company to maximize the profit of the next marketing campaign, leveraging the resulting key-drivers of the model.  \n",
        "\n",
        "##### DATA SOURCE  \n",
        "\n",
        "* FROM Kaggle - https://www.kaggle.com/rodsaldanha/arketing-campaign\n"
>>>>>>> e91e0fe8099ff527afd5a0bab415d527d5f7ba46
      ]
     },
     "execution_count": 33,
     "metadata": {},
     "output_type": "execute_result"
    },
    {
<<<<<<< HEAD
     "data": {
      "image/png": "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\n",
      "text/plain": [
       "<Figure size 432x288 with 2 Axes>"
=======
      "cell_type": "markdown",
      "metadata": {
        "id": "jHF1XBUpuPkd",
        "colab_type": "text"
      },
      "source": [
        "**Okay so prima facie, lets import some of the libraries we will be needing for this project.**  \n",
        "(even if we are missing out on some library, we can always import it later on in the project.)\n"
>>>>>>> e91e0fe8099ff527afd5a0bab415d527d5f7ba46
      ]
     },
     "metadata": {
      "needs_background": "light"
     },
     "output_type": "display_data"
    }
   ],
   "source": [
    "corr_matrix = data.corr()\n",
    "sns.heatmap(corr_matrix)"
   ]
  },
  {
   "cell_type": "markdown",
   "metadata": {},
   "source": [
    "# Handling missing values."
   ]
  },
  {
   "cell_type": "markdown",
   "metadata": {},
   "source": [
    "Let's check for missing values in our data."
   ]
  },
  {
   "cell_type": "code",
   "execution_count": 34,
   "metadata": {},
   "outputs": [
    {
<<<<<<< HEAD
     "data": {
      "text/plain": [
       "Year_Birth              0\n",
       "Education               0\n",
       "Marital_Status          0\n",
       "Income                 24\n",
       "Kidhome                 0\n",
       "Teenhome                0\n",
       "Dt_Customer             0\n",
       "Recency                 0\n",
       "MntWines                0\n",
       "MntFruits               0\n",
       "MntMeatProducts         0\n",
       "MntFishProducts         0\n",
       "MntSweetProducts        0\n",
       "MntGoldProds            0\n",
       "NumDealsPurchases       0\n",
       "NumWebPurchases         0\n",
       "NumCatalogPurchases     0\n",
       "NumStorePurchases       0\n",
       "NumWebVisitsMonth       0\n",
       "AcceptedCmp3            0\n",
       "AcceptedCmp4            0\n",
       "AcceptedCmp5            0\n",
       "AcceptedCmp1            0\n",
       "AcceptedCmp2            0\n",
       "Complain                0\n",
       "Z_CostContact           0\n",
       "Z_Revenue               0\n",
       "Response                0\n",
       "dtype: int64"
=======
      "cell_type": "code",
      "metadata": {
        "id": "7B8c6O3fuUCg",
        "colab_type": "code",
        "colab": {
          "base_uri": "https://localhost:8080/",
          "height": 71
        },
        "outputId": "f97c0925-b3b4-45d2-a22b-dd7e559c18d3"
      },
      "source": [
        "import sys\n",
        "\n",
        "# library to handle vectorized data \n",
        "import numpy as np \n",
        "# library for data analsysis and man\n",
        "import pandas as pd\n",
        "\n",
        "# for visualisations\n",
        "import seaborn as sns\n",
        "\n",
        "%matplotlib inline \n",
        "import matplotlib as mpl\n",
        "import matplotlib.pyplot as plt"
      ],
      "execution_count": 1,
      "outputs": [
        {
          "output_type": "stream",
          "text": [
            "/usr/local/lib/python3.6/dist-packages/statsmodels/tools/_testing.py:19: FutureWarning: pandas.util.testing is deprecated. Use the functions in the public API at pandas.testing instead.\n",
            "  import pandas.util.testing as tm\n"
          ],
          "name": "stderr"
        }
>>>>>>> e91e0fe8099ff527afd5a0bab415d527d5f7ba46
      ]
     },
     "execution_count": 34,
     "metadata": {},
     "output_type": "execute_result"
    }
   ],
   "source": [
    "data.isnull().sum()"
   ]
  },
  {
   "cell_type": "markdown",
   "metadata": {},
   "source": [
    "Let's visualize the fragmentation of the data feature-wise due to the presence of the missing values."
   ]
  },
  {
   "cell_type": "code",
   "execution_count": 41,
   "metadata": {},
   "outputs": [
    {
<<<<<<< HEAD
     "data": {
      "text/plain": [
       "<matplotlib.axes._subplots.AxesSubplot at 0x268652b3dd8>"
=======
      "cell_type": "code",
      "metadata": {
        "id": "639AUzAevIcU",
        "colab_type": "code",
        "colab": {
          "base_uri": "https://localhost:8080/",
          "height": 122
        },
        "outputId": "8b59b5f2-1fd1-4079-880f-7f9539639a32"
      },
      "source": [
        "from google.colab import drive\n",
        "drive.mount('/content/drive')"
      ],
      "execution_count": 2,
      "outputs": [
        {
          "output_type": "stream",
          "text": [
            "Go to this URL in a browser: https://accounts.google.com/o/oauth2/auth?client_id=947318989803-6bn6qk8qdgf4n4g3pfee6491hc0brc4i.apps.googleusercontent.com&redirect_uri=urn%3aietf%3awg%3aoauth%3a2.0%3aoob&response_type=code&scope=email%20https%3a%2f%2fwww.googleapis.com%2fauth%2fdocs.test%20https%3a%2f%2fwww.googleapis.com%2fauth%2fdrive%20https%3a%2f%2fwww.googleapis.com%2fauth%2fdrive.photos.readonly%20https%3a%2f%2fwww.googleapis.com%2fauth%2fpeopleapi.readonly\n",
            "\n",
            "Enter your authorization code:\n",
            "··········\n",
            "Mounted at /content/drive\n"
          ],
          "name": "stdout"
        }
      ]
    },
    {
      "cell_type": "markdown",
      "metadata": {
        "id": "QJI_KjvTvh3-",
        "colab_type": "text"
      },
      "source": [
        "# Loading the data."
>>>>>>> e91e0fe8099ff527afd5a0bab415d527d5f7ba46
      ]
     },
     "execution_count": 41,
     "metadata": {},
     "output_type": "execute_result"
    },
    {
<<<<<<< HEAD
     "data": {
      "image/png": "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\n",
      "text/plain": [
       "<Figure size 1800x720 with 2 Axes>"
=======
      "cell_type": "code",
      "metadata": {
        "id": "-X5G-SeavnUY",
        "colab_type": "code",
        "colab": {
          "base_uri": "https://localhost:8080/",
          "height": 34
        },
        "outputId": "1fb0a0c0-05f4-4390-874f-e92814ed8798"
      },
      "source": [
        "data = pd.read_csv('/content/drive/My Drive/Github_projects/Marketing_campaign_project/marketing_campaign.csv')\n",
        "print('The dimension of our data is :',data.shape)"
      ],
      "execution_count": 3,
      "outputs": [
        {
          "output_type": "stream",
          "text": [
            "The dimension of our data is : (2240, 29)\n"
          ],
          "name": "stdout"
        }
      ]
    },
    {
      "cell_type": "code",
      "metadata": {
        "id": "Kr0Ktflkvv4d",
        "colab_type": "code",
        "colab": {
          "base_uri": "https://localhost:8080/",
          "height": 527
        },
        "outputId": "ea0d79d0-db68-45f3-f092-bc07d5e47e3d"
      },
      "source": [
        "# let's have a look at the features and the corresponding data types of those features\n",
        "data.dtypes"
      ],
      "execution_count": 4,
      "outputs": [
        {
          "output_type": "execute_result",
          "data": {
            "text/plain": [
              "ID                       int64\n",
              "Year_Birth               int64\n",
              "Education               object\n",
              "Marital_Status          object\n",
              "Income                 float64\n",
              "Kidhome                  int64\n",
              "Teenhome                 int64\n",
              "Dt_Customer             object\n",
              "Recency                  int64\n",
              "MntWines                 int64\n",
              "MntFruits                int64\n",
              "MntMeatProducts          int64\n",
              "MntFishProducts          int64\n",
              "MntSweetProducts         int64\n",
              "MntGoldProds             int64\n",
              "NumDealsPurchases        int64\n",
              "NumWebPurchases          int64\n",
              "NumCatalogPurchases      int64\n",
              "NumStorePurchases        int64\n",
              "NumWebVisitsMonth        int64\n",
              "AcceptedCmp3             int64\n",
              "AcceptedCmp4             int64\n",
              "AcceptedCmp5             int64\n",
              "AcceptedCmp1             int64\n",
              "AcceptedCmp2             int64\n",
              "Complain                 int64\n",
              "Z_CostContact            int64\n",
              "Z_Revenue                int64\n",
              "Response                 int64\n",
              "dtype: object"
            ]
          },
          "metadata": {
            "tags": []
          },
          "execution_count": 4
        }
>>>>>>> e91e0fe8099ff527afd5a0bab415d527d5f7ba46
      ]
     },
     "metadata": {
      "needs_background": "light"
     },
     "output_type": "display_data"
    }
   ],
   "source": [
    "import missingno as msno\n",
    "msno.matrix(data)"
   ]
  },
  {
   "cell_type": "markdown",
   "metadata": {},
   "source": [
    "We can see that the data is fairly oh high quality due to the fact that very less number of missing values are present in the data.  \n",
    "Given that, we do see 24 missing values in the feature 'Income'. The best ways to impute the missing values in this feature, is strategies which utilise relative imputation strategies.  \n",
    "For exampe we can use the mode of the feature for imputation purposes of the missing values in this feature if we assume that the data is a high degree representation of the bigger population, which means that any new data point will be in line with the distribution of the data we have.  \n",
    "Otherwise, we can use the **sklearn.impute.KNNImputer** for imputation purposes of the missing values in this feature, which utilises the K-nearest-neighbors algorithm to figure out the value with highest probality, and uses it for imputation.  \n",
    "Because of the fact we cannot be sure of how representative our data is of the larger population, we will be using KNNImputer in this case."
   ]
  },
  {
   "cell_type": "code",
   "execution_count": 45,
   "metadata": {},
   "outputs": [
    {
<<<<<<< HEAD
     "data": {
      "text/plain": [
       "664936.0"
=======
      "cell_type": "code",
      "metadata": {
        "id": "vRV6aRyEv2vx",
        "colab_type": "code",
        "colab": {
          "base_uri": "https://localhost:8080/",
          "height": 224
        },
        "outputId": "e265f1d4-0e7a-405e-9f4c-751b897f98a0"
      },
      "source": [
        "# Let's have a look at the data\n",
        "data.head()"
      ],
      "execution_count": 5,
      "outputs": [
        {
          "output_type": "execute_result",
          "data": {
            "text/html": [
              "<div>\n",
              "<style scoped>\n",
              "    .dataframe tbody tr th:only-of-type {\n",
              "        vertical-align: middle;\n",
              "    }\n",
              "\n",
              "    .dataframe tbody tr th {\n",
              "        vertical-align: top;\n",
              "    }\n",
              "\n",
              "    .dataframe thead th {\n",
              "        text-align: right;\n",
              "    }\n",
              "</style>\n",
              "<table border=\"1\" class=\"dataframe\">\n",
              "  <thead>\n",
              "    <tr style=\"text-align: right;\">\n",
              "      <th></th>\n",
              "      <th>ID</th>\n",
              "      <th>Year_Birth</th>\n",
              "      <th>Education</th>\n",
              "      <th>Marital_Status</th>\n",
              "      <th>Income</th>\n",
              "      <th>Kidhome</th>\n",
              "      <th>Teenhome</th>\n",
              "      <th>Dt_Customer</th>\n",
              "      <th>Recency</th>\n",
              "      <th>MntWines</th>\n",
              "      <th>MntFruits</th>\n",
              "      <th>MntMeatProducts</th>\n",
              "      <th>MntFishProducts</th>\n",
              "      <th>MntSweetProducts</th>\n",
              "      <th>MntGoldProds</th>\n",
              "      <th>NumDealsPurchases</th>\n",
              "      <th>NumWebPurchases</th>\n",
              "      <th>NumCatalogPurchases</th>\n",
              "      <th>NumStorePurchases</th>\n",
              "      <th>NumWebVisitsMonth</th>\n",
              "      <th>AcceptedCmp3</th>\n",
              "      <th>AcceptedCmp4</th>\n",
              "      <th>AcceptedCmp5</th>\n",
              "      <th>AcceptedCmp1</th>\n",
              "      <th>AcceptedCmp2</th>\n",
              "      <th>Complain</th>\n",
              "      <th>Z_CostContact</th>\n",
              "      <th>Z_Revenue</th>\n",
              "      <th>Response</th>\n",
              "    </tr>\n",
              "  </thead>\n",
              "  <tbody>\n",
              "    <tr>\n",
              "      <th>0</th>\n",
              "      <td>5524</td>\n",
              "      <td>1957</td>\n",
              "      <td>Graduation</td>\n",
              "      <td>Single</td>\n",
              "      <td>58138.0</td>\n",
              "      <td>0</td>\n",
              "      <td>0</td>\n",
              "      <td>2012-09-04</td>\n",
              "      <td>58</td>\n",
              "      <td>635</td>\n",
              "      <td>88</td>\n",
              "      <td>546</td>\n",
              "      <td>172</td>\n",
              "      <td>88</td>\n",
              "      <td>88</td>\n",
              "      <td>3</td>\n",
              "      <td>8</td>\n",
              "      <td>10</td>\n",
              "      <td>4</td>\n",
              "      <td>7</td>\n",
              "      <td>0</td>\n",
              "      <td>0</td>\n",
              "      <td>0</td>\n",
              "      <td>0</td>\n",
              "      <td>0</td>\n",
              "      <td>0</td>\n",
              "      <td>3</td>\n",
              "      <td>11</td>\n",
              "      <td>1</td>\n",
              "    </tr>\n",
              "    <tr>\n",
              "      <th>1</th>\n",
              "      <td>2174</td>\n",
              "      <td>1954</td>\n",
              "      <td>Graduation</td>\n",
              "      <td>Single</td>\n",
              "      <td>46344.0</td>\n",
              "      <td>1</td>\n",
              "      <td>1</td>\n",
              "      <td>2014-03-08</td>\n",
              "      <td>38</td>\n",
              "      <td>11</td>\n",
              "      <td>1</td>\n",
              "      <td>6</td>\n",
              "      <td>2</td>\n",
              "      <td>1</td>\n",
              "      <td>6</td>\n",
              "      <td>2</td>\n",
              "      <td>1</td>\n",
              "      <td>1</td>\n",
              "      <td>2</td>\n",
              "      <td>5</td>\n",
              "      <td>0</td>\n",
              "      <td>0</td>\n",
              "      <td>0</td>\n",
              "      <td>0</td>\n",
              "      <td>0</td>\n",
              "      <td>0</td>\n",
              "      <td>3</td>\n",
              "      <td>11</td>\n",
              "      <td>0</td>\n",
              "    </tr>\n",
              "    <tr>\n",
              "      <th>2</th>\n",
              "      <td>4141</td>\n",
              "      <td>1965</td>\n",
              "      <td>Graduation</td>\n",
              "      <td>Together</td>\n",
              "      <td>71613.0</td>\n",
              "      <td>0</td>\n",
              "      <td>0</td>\n",
              "      <td>2013-08-21</td>\n",
              "      <td>26</td>\n",
              "      <td>426</td>\n",
              "      <td>49</td>\n",
              "      <td>127</td>\n",
              "      <td>111</td>\n",
              "      <td>21</td>\n",
              "      <td>42</td>\n",
              "      <td>1</td>\n",
              "      <td>8</td>\n",
              "      <td>2</td>\n",
              "      <td>10</td>\n",
              "      <td>4</td>\n",
              "      <td>0</td>\n",
              "      <td>0</td>\n",
              "      <td>0</td>\n",
              "      <td>0</td>\n",
              "      <td>0</td>\n",
              "      <td>0</td>\n",
              "      <td>3</td>\n",
              "      <td>11</td>\n",
              "      <td>0</td>\n",
              "    </tr>\n",
              "    <tr>\n",
              "      <th>3</th>\n",
              "      <td>6182</td>\n",
              "      <td>1984</td>\n",
              "      <td>Graduation</td>\n",
              "      <td>Together</td>\n",
              "      <td>26646.0</td>\n",
              "      <td>1</td>\n",
              "      <td>0</td>\n",
              "      <td>2014-02-10</td>\n",
              "      <td>26</td>\n",
              "      <td>11</td>\n",
              "      <td>4</td>\n",
              "      <td>20</td>\n",
              "      <td>10</td>\n",
              "      <td>3</td>\n",
              "      <td>5</td>\n",
              "      <td>2</td>\n",
              "      <td>2</td>\n",
              "      <td>0</td>\n",
              "      <td>4</td>\n",
              "      <td>6</td>\n",
              "      <td>0</td>\n",
              "      <td>0</td>\n",
              "      <td>0</td>\n",
              "      <td>0</td>\n",
              "      <td>0</td>\n",
              "      <td>0</td>\n",
              "      <td>3</td>\n",
              "      <td>11</td>\n",
              "      <td>0</td>\n",
              "    </tr>\n",
              "    <tr>\n",
              "      <th>4</th>\n",
              "      <td>5324</td>\n",
              "      <td>1981</td>\n",
              "      <td>PhD</td>\n",
              "      <td>Married</td>\n",
              "      <td>58293.0</td>\n",
              "      <td>1</td>\n",
              "      <td>0</td>\n",
              "      <td>2014-01-19</td>\n",
              "      <td>94</td>\n",
              "      <td>173</td>\n",
              "      <td>43</td>\n",
              "      <td>118</td>\n",
              "      <td>46</td>\n",
              "      <td>27</td>\n",
              "      <td>15</td>\n",
              "      <td>5</td>\n",
              "      <td>5</td>\n",
              "      <td>3</td>\n",
              "      <td>6</td>\n",
              "      <td>5</td>\n",
              "      <td>0</td>\n",
              "      <td>0</td>\n",
              "      <td>0</td>\n",
              "      <td>0</td>\n",
              "      <td>0</td>\n",
              "      <td>0</td>\n",
              "      <td>3</td>\n",
              "      <td>11</td>\n",
              "      <td>0</td>\n",
              "    </tr>\n",
              "  </tbody>\n",
              "</table>\n",
              "</div>"
            ],
            "text/plain": [
              "     ID  Year_Birth   Education  ... Z_CostContact  Z_Revenue  Response\n",
              "0  5524        1957  Graduation  ...             3         11         1\n",
              "1  2174        1954  Graduation  ...             3         11         0\n",
              "2  4141        1965  Graduation  ...             3         11         0\n",
              "3  6182        1984  Graduation  ...             3         11         0\n",
              "4  5324        1981         PhD  ...             3         11         0\n",
              "\n",
              "[5 rows x 29 columns]"
            ]
          },
          "metadata": {
            "tags": []
          },
          "execution_count": 5
        }
      ]
    },
    {
      "cell_type": "markdown",
      "metadata": {
        "id": "kXcSQ1IRv5G7",
        "colab_type": "text"
      },
      "source": [
        "# Exploratory data analysis.\n",
        "## And data cleaning if required."
      ]
    },
    {
      "cell_type": "markdown",
      "metadata": {
        "id": "fHwex3GYv9YW",
        "colab_type": "text"
      },
      "source": [
        "### Feature : ' ID '"
      ]
    },
    {
      "cell_type": "code",
      "metadata": {
        "id": "adxJHOUXwAWn",
        "colab_type": "code",
        "colab": {
          "base_uri": "https://localhost:8080/",
          "height": 119
        },
        "outputId": "0adcbce9-0b37-473d-f0ab-bbddf2d639ee"
      },
      "source": [
        "data['ID'].value_counts().index.sort_values(ascending=True)"
      ],
      "execution_count": 6,
      "outputs": [
        {
          "output_type": "execute_result",
          "data": {
            "text/plain": [
              "Int64Index([    0,     1,     9,    13,    17,    20,    22,    24,    25,\n",
              "               35,\n",
              "            ...\n",
              "            11133, 11148, 11166, 11171, 11176, 11178, 11181, 11187, 11188,\n",
              "            11191],\n",
              "           dtype='int64', length=2240)"
            ]
          },
          "metadata": {
            "tags": []
          },
          "execution_count": 6
        }
>>>>>>> e91e0fe8099ff527afd5a0bab415d527d5f7ba46
      ]
     },
     "execution_count": 45,
     "metadata": {},
     "output_type": "execute_result"
    }
   ],
   "source": [
    "# let's check the range of the feature Income \n",
    "data['Income'].max() - data['Income'].min() "
   ]
  },
  {
   "cell_type": "code",
   "execution_count": 47,
   "metadata": {},
   "outputs": [],
   "source": [
    "from sklearn.impute import KNNImputer\n",
    "data['Income'] = KNNImputer(n_neighbors=4).fit_transform(data['Income'].values.reshape(-1,1))"
   ]
  },
  {
   "cell_type": "code",
   "execution_count": 48,
   "metadata": {},
   "outputs": [
    {
<<<<<<< HEAD
     "data": {
      "text/plain": [
       "0"
      ]
     },
     "execution_count": 48,
     "metadata": {},
     "output_type": "execute_result"
=======
      "cell_type": "markdown",
      "metadata": {
        "id": "mTGNBs4IwELH",
        "colab_type": "text"
      },
      "source": [
        "Okay so we can see that the feature ID represents the customer IDs of the various customers over a period of time, but the data does not reflect a consecutive collection of data from all the customers, which is why the length of our data is no inline with the range of the customer IDs in this feature.  \n",
        "Due to the fact mentoined above, the feature is distorting the data a bit, so we will be dropping the feature from our data as it is not adding any value to our data and hence not required for our analysis.\n"
      ]
    },
    {
      "cell_type": "code",
      "metadata": {
        "id": "5-BOaG-FwHA1",
        "colab_type": "code",
        "colab": {}
      },
      "source": [
        "data.drop('ID', axis=1, inplace=True)"
      ],
      "execution_count": 0,
      "outputs": []
    },
    {
      "cell_type": "markdown",
      "metadata": {
        "id": "ZAyapr-AwJtS",
        "colab_type": "text"
      },
      "source": [
        "### Feature : ' Year_Birth '"
      ]
    },
    {
      "cell_type": "code",
      "metadata": {
        "id": "0fxH9pXhwM22",
        "colab_type": "code",
        "colab": {
          "base_uri": "https://localhost:8080/",
          "height": 136
        },
        "outputId": "d287a7a0-225e-48d0-ad02-9897a6402bef"
      },
      "source": [
        "data['Year_Birth'].value_counts().index.sort_values(ascending=True)"
      ],
      "execution_count": 8,
      "outputs": [
        {
          "output_type": "execute_result",
          "data": {
            "text/plain": [
              "Int64Index([1893, 1899, 1900, 1940, 1941, 1943, 1944, 1945, 1946, 1947, 1948,\n",
              "            1949, 1950, 1951, 1952, 1953, 1954, 1955, 1956, 1957, 1958, 1959,\n",
              "            1960, 1961, 1962, 1963, 1964, 1965, 1966, 1967, 1968, 1969, 1970,\n",
              "            1971, 1972, 1973, 1974, 1975, 1976, 1977, 1978, 1979, 1980, 1981,\n",
              "            1982, 1983, 1984, 1985, 1986, 1987, 1988, 1989, 1990, 1991, 1992,\n",
              "            1993, 1994, 1995, 1996],\n",
              "           dtype='int64')"
            ]
          },
          "metadata": {
            "tags": []
          },
          "execution_count": 8
        }
      ]
    },
    {
      "cell_type": "markdown",
      "metadata": {
        "id": "xswbTE8swPMs",
        "colab_type": "text"
      },
      "source": [
        "Okay so from above we can observe the the feature 'Year_Birth' represents the different years of birth of the customers. The data collected contains some gaps in this feature; in terms of particular years in which customers were born. So our data does not contain all the years starting from 1893 to 1996.\n"
      ]
    },
    {
      "cell_type": "markdown",
      "metadata": {
        "id": "ZFAA8AnawRrP",
        "colab_type": "text"
      },
      "source": [
        "### Feature : 'Education'"
      ]
    },
    {
      "cell_type": "code",
      "metadata": {
        "id": "iRF7b0BRwUP7",
        "colab_type": "code",
        "colab": {
          "base_uri": "https://localhost:8080/",
          "height": 34
        },
        "outputId": "f0ec9c0d-6020-4f7a-9cf8-e132d3ad7f32"
      },
      "source": [
        "data['Education'].value_counts().index.sort_values(ascending=True)"
      ],
      "execution_count": 9,
      "outputs": [
        {
          "output_type": "execute_result",
          "data": {
            "text/plain": [
              "Index(['2n Cycle', 'Basic', 'Graduation', 'Master', 'PhD'], dtype='object')"
            ]
          },
          "metadata": {
            "tags": []
          },
          "execution_count": 9
        }
      ]
    },
    {
      "cell_type": "markdown",
      "metadata": {
        "id": "s1U34CdnwWr1",
        "colab_type": "text"
      },
      "source": [
        "We can see that there are  classes in this feature, but there are 2 among them which mean the same but are represented in two different ways; i.e. '2n Cycle' and 'Master'. So we will replace all occurances of he class'2n Cycle' with 'Master', for a better value representation.\n"
      ]
    },
    {
      "cell_type": "code",
      "metadata": {
        "id": "mUDHDo5lwY9u",
        "colab_type": "code",
        "colab": {}
      },
      "source": [
        "data['Education'] = data[\"Education\"].replace('2n Cycle', \"Master\")"
      ],
      "execution_count": 0,
      "outputs": []
    },
    {
      "cell_type": "markdown",
      "metadata": {
        "id": "PfYVviZgwdAp",
        "colab_type": "text"
      },
      "source": [
        "### Feature : 'Marital_Status'"
      ]
    },
    {
      "cell_type": "code",
      "metadata": {
        "id": "-wWTDfxBwgMR",
        "colab_type": "code",
        "colab": {
          "base_uri": "https://localhost:8080/",
          "height": 170
        },
        "outputId": "d889587c-e53c-4fb6-aa93-d41ddbbcced9"
      },
      "source": [
        "data['Marital_Status'].value_counts()"
      ],
      "execution_count": 11,
      "outputs": [
        {
          "output_type": "execute_result",
          "data": {
            "text/plain": [
              "Married     864\n",
              "Together    580\n",
              "Single      480\n",
              "Divorced    232\n",
              "Widow        77\n",
              "Alone         3\n",
              "Absurd        2\n",
              "YOLO          2\n",
              "Name: Marital_Status, dtype: int64"
            ]
          },
          "metadata": {
            "tags": []
          },
          "execution_count": 11
        }
      ]
    },
    {
      "cell_type": "markdown",
      "metadata": {
        "id": "33wR2NMAwmGd",
        "colab_type": "text"
      },
      "source": [
        "okay so this feature has 8 classes inour data, for the purpose of a better value representation in this feature, we will be doing the following transformations to some of the classes :\n",
        "* 'Together' > replaced by 'live_in'\n",
        "* 'Alone', 'YOLO' and 'Absurd' > replaced by 'single'"
      ]
    },
    {
      "cell_type": "code",
      "metadata": {
        "id": "LpWYb4QAwtah",
        "colab_type": "code",
        "colab": {}
      },
      "source": [
        "data['Marital_Status'] = data['Marital_Status'].replace('Together', 'Live_in')\n",
        "data['Marital_Status'] = data['Marital_Status'].replace(['YOLO', 'Alone', 'Absurd'], 'Single')"
      ],
      "execution_count": 0,
      "outputs": []
    },
    {
      "cell_type": "markdown",
      "metadata": {
        "id": "en0g1XTlwwm4",
        "colab_type": "text"
      },
      "source": [
        "### Feature : 'Dt_Customer'"
      ]
    },
    {
      "cell_type": "code",
      "metadata": {
        "id": "HeKvf8PKw4Ke",
        "colab_type": "code",
        "colab": {
          "base_uri": "https://localhost:8080/",
          "height": 119
        },
        "outputId": "7df05eb1-0dc0-46bd-d747-f62d6b159227"
      },
      "source": [
        "data['Dt_Customer'].value_counts().index.sort_values(ascending=True)"
      ],
      "execution_count": 13,
      "outputs": [
        {
          "output_type": "execute_result",
          "data": {
            "text/plain": [
              "Index(['2012-07-30', '2012-07-31', '2012-08-01', '2012-08-02', '2012-08-03',\n",
              "       '2012-08-04', '2012-08-05', '2012-08-06', '2012-08-07', '2012-08-08',\n",
              "       ...\n",
              "       '2014-06-20', '2014-06-21', '2014-06-22', '2014-06-23', '2014-06-24',\n",
              "       '2014-06-25', '2014-06-26', '2014-06-27', '2014-06-28', '2014-06-29'],\n",
              "      dtype='object', length=663)"
            ]
          },
          "metadata": {
            "tags": []
          },
          "execution_count": 13
        }
      ]
    },
    {
      "cell_type": "markdown",
      "metadata": {
        "id": "jq3C2bejw7Gi",
        "colab_type": "text"
      },
      "source": [
        "The feature Dt_Customer represents dates of customer’s enrolment with the company. The data in this feature is represented in type str. In order to improve the value representation of this feture, and to do meaningful feature engineering with this feature, we will be converting the values in this feaure to data type datetime.\n"
      ]
    },
    {
      "cell_type": "code",
      "metadata": {
        "id": "rF4z33Mtw_V2",
        "colab_type": "code",
        "colab": {
          "base_uri": "https://localhost:8080/",
          "height": 153
        },
        "outputId": "4a408f2b-d546-4f6b-affc-8630ad45dd6e"
      },
      "source": [
        "data['Dt_Customer'] = pd.to_datetime(data['Dt_Customer'], format=\"%Y-%m-%d\")\n",
        "data['Dt_Customer'].value_counts().index.sort_values(ascending=True)"
      ],
      "execution_count": 14,
      "outputs": [
        {
          "output_type": "execute_result",
          "data": {
            "text/plain": [
              "DatetimeIndex(['2012-07-30', '2012-07-31', '2012-08-01', '2012-08-02',\n",
              "               '2012-08-03', '2012-08-04', '2012-08-05', '2012-08-06',\n",
              "               '2012-08-07', '2012-08-08',\n",
              "               ...\n",
              "               '2014-06-20', '2014-06-21', '2014-06-22', '2014-06-23',\n",
              "               '2014-06-24', '2014-06-25', '2014-06-26', '2014-06-27',\n",
              "               '2014-06-28', '2014-06-29'],\n",
              "              dtype='datetime64[ns]', length=663, freq=None)"
            ]
          },
          "metadata": {
            "tags": []
          },
          "execution_count": 14
        }
      ]
    },
    {
      "cell_type": "markdown",
      "metadata": {
        "id": "h7-mTGpXxDE4",
        "colab_type": "text"
      },
      "source": [
        "As we can see that the data type has been converted into datetime64[ns], without effecting the data itself."
      ]
    },
    {
      "cell_type": "markdown",
      "metadata": {
        "id": "UbReCIOaxFv0",
        "colab_type": "text"
      },
      "source": [
        "## Summary of the descriptive statistics of the features."
      ]
    },
    {
      "cell_type": "code",
      "metadata": {
        "id": "nqH8F1fwxH56",
        "colab_type": "code",
        "colab": {
          "base_uri": "https://localhost:8080/",
          "height": 317
        },
        "outputId": "0b5218f7-0c16-4384-b440-9cf4c7d29edb"
      },
      "source": [
        "data.describe()"
      ],
      "execution_count": 15,
      "outputs": [
        {
          "output_type": "execute_result",
          "data": {
            "text/html": [
              "<div>\n",
              "<style scoped>\n",
              "    .dataframe tbody tr th:only-of-type {\n",
              "        vertical-align: middle;\n",
              "    }\n",
              "\n",
              "    .dataframe tbody tr th {\n",
              "        vertical-align: top;\n",
              "    }\n",
              "\n",
              "    .dataframe thead th {\n",
              "        text-align: right;\n",
              "    }\n",
              "</style>\n",
              "<table border=\"1\" class=\"dataframe\">\n",
              "  <thead>\n",
              "    <tr style=\"text-align: right;\">\n",
              "      <th></th>\n",
              "      <th>Year_Birth</th>\n",
              "      <th>Income</th>\n",
              "      <th>Kidhome</th>\n",
              "      <th>Teenhome</th>\n",
              "      <th>Recency</th>\n",
              "      <th>MntWines</th>\n",
              "      <th>MntFruits</th>\n",
              "      <th>MntMeatProducts</th>\n",
              "      <th>MntFishProducts</th>\n",
              "      <th>MntSweetProducts</th>\n",
              "      <th>MntGoldProds</th>\n",
              "      <th>NumDealsPurchases</th>\n",
              "      <th>NumWebPurchases</th>\n",
              "      <th>NumCatalogPurchases</th>\n",
              "      <th>NumStorePurchases</th>\n",
              "      <th>NumWebVisitsMonth</th>\n",
              "      <th>AcceptedCmp3</th>\n",
              "      <th>AcceptedCmp4</th>\n",
              "      <th>AcceptedCmp5</th>\n",
              "      <th>AcceptedCmp1</th>\n",
              "      <th>AcceptedCmp2</th>\n",
              "      <th>Complain</th>\n",
              "      <th>Z_CostContact</th>\n",
              "      <th>Z_Revenue</th>\n",
              "      <th>Response</th>\n",
              "    </tr>\n",
              "  </thead>\n",
              "  <tbody>\n",
              "    <tr>\n",
              "      <th>count</th>\n",
              "      <td>2240.000000</td>\n",
              "      <td>2216.000000</td>\n",
              "      <td>2240.000000</td>\n",
              "      <td>2240.000000</td>\n",
              "      <td>2240.000000</td>\n",
              "      <td>2240.000000</td>\n",
              "      <td>2240.000000</td>\n",
              "      <td>2240.000000</td>\n",
              "      <td>2240.000000</td>\n",
              "      <td>2240.000000</td>\n",
              "      <td>2240.000000</td>\n",
              "      <td>2240.000000</td>\n",
              "      <td>2240.000000</td>\n",
              "      <td>2240.000000</td>\n",
              "      <td>2240.000000</td>\n",
              "      <td>2240.000000</td>\n",
              "      <td>2240.000000</td>\n",
              "      <td>2240.000000</td>\n",
              "      <td>2240.000000</td>\n",
              "      <td>2240.000000</td>\n",
              "      <td>2240.000000</td>\n",
              "      <td>2240.000000</td>\n",
              "      <td>2240.0</td>\n",
              "      <td>2240.0</td>\n",
              "      <td>2240.000000</td>\n",
              "    </tr>\n",
              "    <tr>\n",
              "      <th>mean</th>\n",
              "      <td>1968.805804</td>\n",
              "      <td>52247.251354</td>\n",
              "      <td>0.444196</td>\n",
              "      <td>0.506250</td>\n",
              "      <td>49.109375</td>\n",
              "      <td>303.935714</td>\n",
              "      <td>26.302232</td>\n",
              "      <td>166.950000</td>\n",
              "      <td>37.525446</td>\n",
              "      <td>27.062946</td>\n",
              "      <td>44.021875</td>\n",
              "      <td>2.325000</td>\n",
              "      <td>4.084821</td>\n",
              "      <td>2.662054</td>\n",
              "      <td>5.790179</td>\n",
              "      <td>5.316518</td>\n",
              "      <td>0.072768</td>\n",
              "      <td>0.074554</td>\n",
              "      <td>0.072768</td>\n",
              "      <td>0.064286</td>\n",
              "      <td>0.013393</td>\n",
              "      <td>0.009375</td>\n",
              "      <td>3.0</td>\n",
              "      <td>11.0</td>\n",
              "      <td>0.149107</td>\n",
              "    </tr>\n",
              "    <tr>\n",
              "      <th>std</th>\n",
              "      <td>11.984069</td>\n",
              "      <td>25173.076661</td>\n",
              "      <td>0.538398</td>\n",
              "      <td>0.544538</td>\n",
              "      <td>28.962453</td>\n",
              "      <td>336.597393</td>\n",
              "      <td>39.773434</td>\n",
              "      <td>225.715373</td>\n",
              "      <td>54.628979</td>\n",
              "      <td>41.280498</td>\n",
              "      <td>52.167439</td>\n",
              "      <td>1.932238</td>\n",
              "      <td>2.778714</td>\n",
              "      <td>2.923101</td>\n",
              "      <td>3.250958</td>\n",
              "      <td>2.426645</td>\n",
              "      <td>0.259813</td>\n",
              "      <td>0.262728</td>\n",
              "      <td>0.259813</td>\n",
              "      <td>0.245316</td>\n",
              "      <td>0.114976</td>\n",
              "      <td>0.096391</td>\n",
              "      <td>0.0</td>\n",
              "      <td>0.0</td>\n",
              "      <td>0.356274</td>\n",
              "    </tr>\n",
              "    <tr>\n",
              "      <th>min</th>\n",
              "      <td>1893.000000</td>\n",
              "      <td>1730.000000</td>\n",
              "      <td>0.000000</td>\n",
              "      <td>0.000000</td>\n",
              "      <td>0.000000</td>\n",
              "      <td>0.000000</td>\n",
              "      <td>0.000000</td>\n",
              "      <td>0.000000</td>\n",
              "      <td>0.000000</td>\n",
              "      <td>0.000000</td>\n",
              "      <td>0.000000</td>\n",
              "      <td>0.000000</td>\n",
              "      <td>0.000000</td>\n",
              "      <td>0.000000</td>\n",
              "      <td>0.000000</td>\n",
              "      <td>0.000000</td>\n",
              "      <td>0.000000</td>\n",
              "      <td>0.000000</td>\n",
              "      <td>0.000000</td>\n",
              "      <td>0.000000</td>\n",
              "      <td>0.000000</td>\n",
              "      <td>0.000000</td>\n",
              "      <td>3.0</td>\n",
              "      <td>11.0</td>\n",
              "      <td>0.000000</td>\n",
              "    </tr>\n",
              "    <tr>\n",
              "      <th>25%</th>\n",
              "      <td>1959.000000</td>\n",
              "      <td>35303.000000</td>\n",
              "      <td>0.000000</td>\n",
              "      <td>0.000000</td>\n",
              "      <td>24.000000</td>\n",
              "      <td>23.750000</td>\n",
              "      <td>1.000000</td>\n",
              "      <td>16.000000</td>\n",
              "      <td>3.000000</td>\n",
              "      <td>1.000000</td>\n",
              "      <td>9.000000</td>\n",
              "      <td>1.000000</td>\n",
              "      <td>2.000000</td>\n",
              "      <td>0.000000</td>\n",
              "      <td>3.000000</td>\n",
              "      <td>3.000000</td>\n",
              "      <td>0.000000</td>\n",
              "      <td>0.000000</td>\n",
              "      <td>0.000000</td>\n",
              "      <td>0.000000</td>\n",
              "      <td>0.000000</td>\n",
              "      <td>0.000000</td>\n",
              "      <td>3.0</td>\n",
              "      <td>11.0</td>\n",
              "      <td>0.000000</td>\n",
              "    </tr>\n",
              "    <tr>\n",
              "      <th>50%</th>\n",
              "      <td>1970.000000</td>\n",
              "      <td>51381.500000</td>\n",
              "      <td>0.000000</td>\n",
              "      <td>0.000000</td>\n",
              "      <td>49.000000</td>\n",
              "      <td>173.500000</td>\n",
              "      <td>8.000000</td>\n",
              "      <td>67.000000</td>\n",
              "      <td>12.000000</td>\n",
              "      <td>8.000000</td>\n",
              "      <td>24.000000</td>\n",
              "      <td>2.000000</td>\n",
              "      <td>4.000000</td>\n",
              "      <td>2.000000</td>\n",
              "      <td>5.000000</td>\n",
              "      <td>6.000000</td>\n",
              "      <td>0.000000</td>\n",
              "      <td>0.000000</td>\n",
              "      <td>0.000000</td>\n",
              "      <td>0.000000</td>\n",
              "      <td>0.000000</td>\n",
              "      <td>0.000000</td>\n",
              "      <td>3.0</td>\n",
              "      <td>11.0</td>\n",
              "      <td>0.000000</td>\n",
              "    </tr>\n",
              "    <tr>\n",
              "      <th>75%</th>\n",
              "      <td>1977.000000</td>\n",
              "      <td>68522.000000</td>\n",
              "      <td>1.000000</td>\n",
              "      <td>1.000000</td>\n",
              "      <td>74.000000</td>\n",
              "      <td>504.250000</td>\n",
              "      <td>33.000000</td>\n",
              "      <td>232.000000</td>\n",
              "      <td>50.000000</td>\n",
              "      <td>33.000000</td>\n",
              "      <td>56.000000</td>\n",
              "      <td>3.000000</td>\n",
              "      <td>6.000000</td>\n",
              "      <td>4.000000</td>\n",
              "      <td>8.000000</td>\n",
              "      <td>7.000000</td>\n",
              "      <td>0.000000</td>\n",
              "      <td>0.000000</td>\n",
              "      <td>0.000000</td>\n",
              "      <td>0.000000</td>\n",
              "      <td>0.000000</td>\n",
              "      <td>0.000000</td>\n",
              "      <td>3.0</td>\n",
              "      <td>11.0</td>\n",
              "      <td>0.000000</td>\n",
              "    </tr>\n",
              "    <tr>\n",
              "      <th>max</th>\n",
              "      <td>1996.000000</td>\n",
              "      <td>666666.000000</td>\n",
              "      <td>2.000000</td>\n",
              "      <td>2.000000</td>\n",
              "      <td>99.000000</td>\n",
              "      <td>1493.000000</td>\n",
              "      <td>199.000000</td>\n",
              "      <td>1725.000000</td>\n",
              "      <td>259.000000</td>\n",
              "      <td>263.000000</td>\n",
              "      <td>362.000000</td>\n",
              "      <td>15.000000</td>\n",
              "      <td>27.000000</td>\n",
              "      <td>28.000000</td>\n",
              "      <td>13.000000</td>\n",
              "      <td>20.000000</td>\n",
              "      <td>1.000000</td>\n",
              "      <td>1.000000</td>\n",
              "      <td>1.000000</td>\n",
              "      <td>1.000000</td>\n",
              "      <td>1.000000</td>\n",
              "      <td>1.000000</td>\n",
              "      <td>3.0</td>\n",
              "      <td>11.0</td>\n",
              "      <td>1.000000</td>\n",
              "    </tr>\n",
              "  </tbody>\n",
              "</table>\n",
              "</div>"
            ],
            "text/plain": [
              "        Year_Birth         Income  ...  Z_Revenue     Response\n",
              "count  2240.000000    2216.000000  ...     2240.0  2240.000000\n",
              "mean   1968.805804   52247.251354  ...       11.0     0.149107\n",
              "std      11.984069   25173.076661  ...        0.0     0.356274\n",
              "min    1893.000000    1730.000000  ...       11.0     0.000000\n",
              "25%    1959.000000   35303.000000  ...       11.0     0.000000\n",
              "50%    1970.000000   51381.500000  ...       11.0     0.000000\n",
              "75%    1977.000000   68522.000000  ...       11.0     0.000000\n",
              "max    1996.000000  666666.000000  ...       11.0     1.000000\n",
              "\n",
              "[8 rows x 25 columns]"
            ]
          },
          "metadata": {
            "tags": []
          },
          "execution_count": 15
        }
      ]
    },
    {
      "cell_type": "markdown",
      "metadata": {
        "id": "jEsT4-yXxN-n",
        "colab_type": "text"
      },
      "source": [
        "As we can see from above the numerical features are on very different scales with respect to each other, this tells us that we will need to scale the numerical features in the future before using for modelling the data.\n"
      ]
    },
    {
      "cell_type": "markdown",
      "metadata": {
        "id": "2ZoOXqYwxP8S",
        "colab_type": "text"
      },
      "source": [
        "## Correlational analysis of the features."
      ]
    },
    {
      "cell_type": "code",
      "metadata": {
        "id": "AXEKKRkPxUgP",
        "colab_type": "code",
        "colab": {
          "base_uri": "https://localhost:8080/",
          "height": 844
        },
        "outputId": "0aba8cf0-a643-4f41-97fe-4b62675bc2b1"
      },
      "source": [
        "data.corr()"
      ],
      "execution_count": 16,
      "outputs": [
        {
          "output_type": "execute_result",
          "data": {
            "text/html": [
              "<div>\n",
              "<style scoped>\n",
              "    .dataframe tbody tr th:only-of-type {\n",
              "        vertical-align: middle;\n",
              "    }\n",
              "\n",
              "    .dataframe tbody tr th {\n",
              "        vertical-align: top;\n",
              "    }\n",
              "\n",
              "    .dataframe thead th {\n",
              "        text-align: right;\n",
              "    }\n",
              "</style>\n",
              "<table border=\"1\" class=\"dataframe\">\n",
              "  <thead>\n",
              "    <tr style=\"text-align: right;\">\n",
              "      <th></th>\n",
              "      <th>Year_Birth</th>\n",
              "      <th>Income</th>\n",
              "      <th>Kidhome</th>\n",
              "      <th>Teenhome</th>\n",
              "      <th>Recency</th>\n",
              "      <th>MntWines</th>\n",
              "      <th>MntFruits</th>\n",
              "      <th>MntMeatProducts</th>\n",
              "      <th>MntFishProducts</th>\n",
              "      <th>MntSweetProducts</th>\n",
              "      <th>MntGoldProds</th>\n",
              "      <th>NumDealsPurchases</th>\n",
              "      <th>NumWebPurchases</th>\n",
              "      <th>NumCatalogPurchases</th>\n",
              "      <th>NumStorePurchases</th>\n",
              "      <th>NumWebVisitsMonth</th>\n",
              "      <th>AcceptedCmp3</th>\n",
              "      <th>AcceptedCmp4</th>\n",
              "      <th>AcceptedCmp5</th>\n",
              "      <th>AcceptedCmp1</th>\n",
              "      <th>AcceptedCmp2</th>\n",
              "      <th>Complain</th>\n",
              "      <th>Z_CostContact</th>\n",
              "      <th>Z_Revenue</th>\n",
              "      <th>Response</th>\n",
              "    </tr>\n",
              "  </thead>\n",
              "  <tbody>\n",
              "    <tr>\n",
              "      <th>Year_Birth</th>\n",
              "      <td>1.000000</td>\n",
              "      <td>-0.161791</td>\n",
              "      <td>0.230176</td>\n",
              "      <td>-0.352111</td>\n",
              "      <td>-0.019871</td>\n",
              "      <td>-0.157773</td>\n",
              "      <td>-0.017917</td>\n",
              "      <td>-0.030872</td>\n",
              "      <td>-0.041625</td>\n",
              "      <td>-0.018133</td>\n",
              "      <td>-0.061818</td>\n",
              "      <td>-0.060846</td>\n",
              "      <td>-0.145040</td>\n",
              "      <td>-0.121275</td>\n",
              "      <td>-0.128272</td>\n",
              "      <td>0.121139</td>\n",
              "      <td>0.061774</td>\n",
              "      <td>-0.060510</td>\n",
              "      <td>0.007123</td>\n",
              "      <td>-0.005930</td>\n",
              "      <td>-0.006539</td>\n",
              "      <td>-0.030128</td>\n",
              "      <td>NaN</td>\n",
              "      <td>NaN</td>\n",
              "      <td>0.021325</td>\n",
              "    </tr>\n",
              "    <tr>\n",
              "      <th>Income</th>\n",
              "      <td>-0.161791</td>\n",
              "      <td>1.000000</td>\n",
              "      <td>-0.428669</td>\n",
              "      <td>0.019133</td>\n",
              "      <td>-0.003970</td>\n",
              "      <td>0.578650</td>\n",
              "      <td>0.430842</td>\n",
              "      <td>0.584633</td>\n",
              "      <td>0.438871</td>\n",
              "      <td>0.440744</td>\n",
              "      <td>0.325916</td>\n",
              "      <td>-0.083101</td>\n",
              "      <td>0.387878</td>\n",
              "      <td>0.589162</td>\n",
              "      <td>0.529362</td>\n",
              "      <td>-0.553088</td>\n",
              "      <td>-0.016174</td>\n",
              "      <td>0.184400</td>\n",
              "      <td>0.335943</td>\n",
              "      <td>0.276820</td>\n",
              "      <td>0.087545</td>\n",
              "      <td>-0.027225</td>\n",
              "      <td>NaN</td>\n",
              "      <td>NaN</td>\n",
              "      <td>0.133047</td>\n",
              "    </tr>\n",
              "    <tr>\n",
              "      <th>Kidhome</th>\n",
              "      <td>0.230176</td>\n",
              "      <td>-0.428669</td>\n",
              "      <td>1.000000</td>\n",
              "      <td>-0.036133</td>\n",
              "      <td>0.008827</td>\n",
              "      <td>-0.496297</td>\n",
              "      <td>-0.372581</td>\n",
              "      <td>-0.437129</td>\n",
              "      <td>-0.387644</td>\n",
              "      <td>-0.370673</td>\n",
              "      <td>-0.349595</td>\n",
              "      <td>0.221798</td>\n",
              "      <td>-0.361647</td>\n",
              "      <td>-0.502237</td>\n",
              "      <td>-0.499683</td>\n",
              "      <td>0.447846</td>\n",
              "      <td>0.014674</td>\n",
              "      <td>-0.161600</td>\n",
              "      <td>-0.205634</td>\n",
              "      <td>-0.172339</td>\n",
              "      <td>-0.081716</td>\n",
              "      <td>0.040207</td>\n",
              "      <td>NaN</td>\n",
              "      <td>NaN</td>\n",
              "      <td>-0.080008</td>\n",
              "    </tr>\n",
              "    <tr>\n",
              "      <th>Teenhome</th>\n",
              "      <td>-0.352111</td>\n",
              "      <td>0.019133</td>\n",
              "      <td>-0.036133</td>\n",
              "      <td>1.000000</td>\n",
              "      <td>0.016198</td>\n",
              "      <td>0.004846</td>\n",
              "      <td>-0.176764</td>\n",
              "      <td>-0.261160</td>\n",
              "      <td>-0.204187</td>\n",
              "      <td>-0.162475</td>\n",
              "      <td>-0.021725</td>\n",
              "      <td>0.387741</td>\n",
              "      <td>0.155500</td>\n",
              "      <td>-0.110769</td>\n",
              "      <td>0.050695</td>\n",
              "      <td>0.134884</td>\n",
              "      <td>-0.042677</td>\n",
              "      <td>0.038886</td>\n",
              "      <td>-0.191050</td>\n",
              "      <td>-0.140090</td>\n",
              "      <td>-0.015605</td>\n",
              "      <td>0.003138</td>\n",
              "      <td>NaN</td>\n",
              "      <td>NaN</td>\n",
              "      <td>-0.154446</td>\n",
              "    </tr>\n",
              "    <tr>\n",
              "      <th>Recency</th>\n",
              "      <td>-0.019871</td>\n",
              "      <td>-0.003970</td>\n",
              "      <td>0.008827</td>\n",
              "      <td>0.016198</td>\n",
              "      <td>1.000000</td>\n",
              "      <td>0.016064</td>\n",
              "      <td>-0.004306</td>\n",
              "      <td>0.023056</td>\n",
              "      <td>0.001079</td>\n",
              "      <td>0.022670</td>\n",
              "      <td>0.016693</td>\n",
              "      <td>-0.001098</td>\n",
              "      <td>-0.010726</td>\n",
              "      <td>0.025110</td>\n",
              "      <td>0.000799</td>\n",
              "      <td>-0.021445</td>\n",
              "      <td>-0.032991</td>\n",
              "      <td>0.018826</td>\n",
              "      <td>0.000129</td>\n",
              "      <td>-0.019283</td>\n",
              "      <td>-0.001781</td>\n",
              "      <td>0.013231</td>\n",
              "      <td>NaN</td>\n",
              "      <td>NaN</td>\n",
              "      <td>-0.198437</td>\n",
              "    </tr>\n",
              "    <tr>\n",
              "      <th>MntWines</th>\n",
              "      <td>-0.157773</td>\n",
              "      <td>0.578650</td>\n",
              "      <td>-0.496297</td>\n",
              "      <td>0.004846</td>\n",
              "      <td>0.016064</td>\n",
              "      <td>1.000000</td>\n",
              "      <td>0.389637</td>\n",
              "      <td>0.562667</td>\n",
              "      <td>0.399753</td>\n",
              "      <td>0.386581</td>\n",
              "      <td>0.387516</td>\n",
              "      <td>0.010940</td>\n",
              "      <td>0.542265</td>\n",
              "      <td>0.635226</td>\n",
              "      <td>0.642100</td>\n",
              "      <td>-0.320653</td>\n",
              "      <td>0.062202</td>\n",
              "      <td>0.373286</td>\n",
              "      <td>0.472613</td>\n",
              "      <td>0.354133</td>\n",
              "      <td>0.205907</td>\n",
              "      <td>-0.039007</td>\n",
              "      <td>NaN</td>\n",
              "      <td>NaN</td>\n",
              "      <td>0.247254</td>\n",
              "    </tr>\n",
              "    <tr>\n",
              "      <th>MntFruits</th>\n",
              "      <td>-0.017917</td>\n",
              "      <td>0.430842</td>\n",
              "      <td>-0.372581</td>\n",
              "      <td>-0.176764</td>\n",
              "      <td>-0.004306</td>\n",
              "      <td>0.389637</td>\n",
              "      <td>1.000000</td>\n",
              "      <td>0.543105</td>\n",
              "      <td>0.594804</td>\n",
              "      <td>0.567164</td>\n",
              "      <td>0.392995</td>\n",
              "      <td>-0.132114</td>\n",
              "      <td>0.296735</td>\n",
              "      <td>0.487917</td>\n",
              "      <td>0.461758</td>\n",
              "      <td>-0.418383</td>\n",
              "      <td>0.014727</td>\n",
              "      <td>0.010152</td>\n",
              "      <td>0.215833</td>\n",
              "      <td>0.194748</td>\n",
              "      <td>-0.009773</td>\n",
              "      <td>-0.005166</td>\n",
              "      <td>NaN</td>\n",
              "      <td>NaN</td>\n",
              "      <td>0.125289</td>\n",
              "    </tr>\n",
              "    <tr>\n",
              "      <th>MntMeatProducts</th>\n",
              "      <td>-0.030872</td>\n",
              "      <td>0.584633</td>\n",
              "      <td>-0.437129</td>\n",
              "      <td>-0.261160</td>\n",
              "      <td>0.023056</td>\n",
              "      <td>0.562667</td>\n",
              "      <td>0.543105</td>\n",
              "      <td>1.000000</td>\n",
              "      <td>0.568402</td>\n",
              "      <td>0.523846</td>\n",
              "      <td>0.350609</td>\n",
              "      <td>-0.122415</td>\n",
              "      <td>0.293761</td>\n",
              "      <td>0.723827</td>\n",
              "      <td>0.479659</td>\n",
              "      <td>-0.539470</td>\n",
              "      <td>0.018272</td>\n",
              "      <td>0.102912</td>\n",
              "      <td>0.373769</td>\n",
              "      <td>0.309761</td>\n",
              "      <td>0.043033</td>\n",
              "      <td>-0.023483</td>\n",
              "      <td>NaN</td>\n",
              "      <td>NaN</td>\n",
              "      <td>0.236335</td>\n",
              "    </tr>\n",
              "    <tr>\n",
              "      <th>MntFishProducts</th>\n",
              "      <td>-0.041625</td>\n",
              "      <td>0.438871</td>\n",
              "      <td>-0.387644</td>\n",
              "      <td>-0.204187</td>\n",
              "      <td>0.001079</td>\n",
              "      <td>0.399753</td>\n",
              "      <td>0.594804</td>\n",
              "      <td>0.568402</td>\n",
              "      <td>1.000000</td>\n",
              "      <td>0.579870</td>\n",
              "      <td>0.422875</td>\n",
              "      <td>-0.139361</td>\n",
              "      <td>0.293681</td>\n",
              "      <td>0.534478</td>\n",
              "      <td>0.459855</td>\n",
              "      <td>-0.446003</td>\n",
              "      <td>0.000357</td>\n",
              "      <td>0.016843</td>\n",
              "      <td>0.199578</td>\n",
              "      <td>0.260762</td>\n",
              "      <td>0.002577</td>\n",
              "      <td>-0.020953</td>\n",
              "      <td>NaN</td>\n",
              "      <td>NaN</td>\n",
              "      <td>0.111331</td>\n",
              "    </tr>\n",
              "    <tr>\n",
              "      <th>MntSweetProducts</th>\n",
              "      <td>-0.018133</td>\n",
              "      <td>0.440744</td>\n",
              "      <td>-0.370673</td>\n",
              "      <td>-0.162475</td>\n",
              "      <td>0.022670</td>\n",
              "      <td>0.386581</td>\n",
              "      <td>0.567164</td>\n",
              "      <td>0.523846</td>\n",
              "      <td>0.579870</td>\n",
              "      <td>1.000000</td>\n",
              "      <td>0.369724</td>\n",
              "      <td>-0.120100</td>\n",
              "      <td>0.348544</td>\n",
              "      <td>0.490924</td>\n",
              "      <td>0.448756</td>\n",
              "      <td>-0.423294</td>\n",
              "      <td>0.001530</td>\n",
              "      <td>0.028641</td>\n",
              "      <td>0.259590</td>\n",
              "      <td>0.241818</td>\n",
              "      <td>0.009985</td>\n",
              "      <td>-0.022485</td>\n",
              "      <td>NaN</td>\n",
              "      <td>NaN</td>\n",
              "      <td>0.117372</td>\n",
              "    </tr>\n",
              "    <tr>\n",
              "      <th>MntGoldProds</th>\n",
              "      <td>-0.061818</td>\n",
              "      <td>0.325916</td>\n",
              "      <td>-0.349595</td>\n",
              "      <td>-0.021725</td>\n",
              "      <td>0.016693</td>\n",
              "      <td>0.387516</td>\n",
              "      <td>0.392995</td>\n",
              "      <td>0.350609</td>\n",
              "      <td>0.422875</td>\n",
              "      <td>0.369724</td>\n",
              "      <td>1.000000</td>\n",
              "      <td>0.049085</td>\n",
              "      <td>0.421836</td>\n",
              "      <td>0.437697</td>\n",
              "      <td>0.381678</td>\n",
              "      <td>-0.250719</td>\n",
              "      <td>0.123091</td>\n",
              "      <td>0.022268</td>\n",
              "      <td>0.181021</td>\n",
              "      <td>0.166396</td>\n",
              "      <td>0.049990</td>\n",
              "      <td>-0.030861</td>\n",
              "      <td>NaN</td>\n",
              "      <td>NaN</td>\n",
              "      <td>0.139850</td>\n",
              "    </tr>\n",
              "    <tr>\n",
              "      <th>NumDealsPurchases</th>\n",
              "      <td>-0.060846</td>\n",
              "      <td>-0.083101</td>\n",
              "      <td>0.221798</td>\n",
              "      <td>0.387741</td>\n",
              "      <td>-0.001098</td>\n",
              "      <td>0.010940</td>\n",
              "      <td>-0.132114</td>\n",
              "      <td>-0.122415</td>\n",
              "      <td>-0.139361</td>\n",
              "      <td>-0.120100</td>\n",
              "      <td>0.049085</td>\n",
              "      <td>1.000000</td>\n",
              "      <td>0.234185</td>\n",
              "      <td>-0.008617</td>\n",
              "      <td>0.068879</td>\n",
              "      <td>0.347633</td>\n",
              "      <td>-0.023109</td>\n",
              "      <td>0.015594</td>\n",
              "      <td>-0.183248</td>\n",
              "      <td>-0.123244</td>\n",
              "      <td>-0.037695</td>\n",
              "      <td>0.000420</td>\n",
              "      <td>NaN</td>\n",
              "      <td>NaN</td>\n",
              "      <td>0.002238</td>\n",
              "    </tr>\n",
              "    <tr>\n",
              "      <th>NumWebPurchases</th>\n",
              "      <td>-0.145040</td>\n",
              "      <td>0.387878</td>\n",
              "      <td>-0.361647</td>\n",
              "      <td>0.155500</td>\n",
              "      <td>-0.010726</td>\n",
              "      <td>0.542265</td>\n",
              "      <td>0.296735</td>\n",
              "      <td>0.293761</td>\n",
              "      <td>0.293681</td>\n",
              "      <td>0.348544</td>\n",
              "      <td>0.421836</td>\n",
              "      <td>0.234185</td>\n",
              "      <td>1.000000</td>\n",
              "      <td>0.378376</td>\n",
              "      <td>0.502713</td>\n",
              "      <td>-0.055846</td>\n",
              "      <td>0.042176</td>\n",
              "      <td>0.155903</td>\n",
              "      <td>0.138684</td>\n",
              "      <td>0.155143</td>\n",
              "      <td>0.034188</td>\n",
              "      <td>-0.016310</td>\n",
              "      <td>NaN</td>\n",
              "      <td>NaN</td>\n",
              "      <td>0.148730</td>\n",
              "    </tr>\n",
              "    <tr>\n",
              "      <th>NumCatalogPurchases</th>\n",
              "      <td>-0.121275</td>\n",
              "      <td>0.589162</td>\n",
              "      <td>-0.502237</td>\n",
              "      <td>-0.110769</td>\n",
              "      <td>0.025110</td>\n",
              "      <td>0.635226</td>\n",
              "      <td>0.487917</td>\n",
              "      <td>0.723827</td>\n",
              "      <td>0.534478</td>\n",
              "      <td>0.490924</td>\n",
              "      <td>0.437697</td>\n",
              "      <td>-0.008617</td>\n",
              "      <td>0.378376</td>\n",
              "      <td>1.000000</td>\n",
              "      <td>0.518738</td>\n",
              "      <td>-0.520364</td>\n",
              "      <td>0.104730</td>\n",
              "      <td>0.139247</td>\n",
              "      <td>0.322321</td>\n",
              "      <td>0.308097</td>\n",
              "      <td>0.099852</td>\n",
              "      <td>-0.020453</td>\n",
              "      <td>NaN</td>\n",
              "      <td>NaN</td>\n",
              "      <td>0.220810</td>\n",
              "    </tr>\n",
              "    <tr>\n",
              "      <th>NumStorePurchases</th>\n",
              "      <td>-0.128272</td>\n",
              "      <td>0.529362</td>\n",
              "      <td>-0.499683</td>\n",
              "      <td>0.050695</td>\n",
              "      <td>0.000799</td>\n",
              "      <td>0.642100</td>\n",
              "      <td>0.461758</td>\n",
              "      <td>0.479659</td>\n",
              "      <td>0.459855</td>\n",
              "      <td>0.448756</td>\n",
              "      <td>0.381678</td>\n",
              "      <td>0.068879</td>\n",
              "      <td>0.502713</td>\n",
              "      <td>0.518738</td>\n",
              "      <td>1.000000</td>\n",
              "      <td>-0.428473</td>\n",
              "      <td>-0.067577</td>\n",
              "      <td>0.179379</td>\n",
              "      <td>0.214790</td>\n",
              "      <td>0.183249</td>\n",
              "      <td>0.085189</td>\n",
              "      <td>-0.016524</td>\n",
              "      <td>NaN</td>\n",
              "      <td>NaN</td>\n",
              "      <td>0.039363</td>\n",
              "    </tr>\n",
              "    <tr>\n",
              "      <th>NumWebVisitsMonth</th>\n",
              "      <td>0.121139</td>\n",
              "      <td>-0.553088</td>\n",
              "      <td>0.447846</td>\n",
              "      <td>0.134884</td>\n",
              "      <td>-0.021445</td>\n",
              "      <td>-0.320653</td>\n",
              "      <td>-0.418383</td>\n",
              "      <td>-0.539470</td>\n",
              "      <td>-0.446003</td>\n",
              "      <td>-0.423294</td>\n",
              "      <td>-0.250719</td>\n",
              "      <td>0.347633</td>\n",
              "      <td>-0.055846</td>\n",
              "      <td>-0.520364</td>\n",
              "      <td>-0.428473</td>\n",
              "      <td>1.000000</td>\n",
              "      <td>0.061211</td>\n",
              "      <td>-0.032126</td>\n",
              "      <td>-0.278113</td>\n",
              "      <td>-0.192502</td>\n",
              "      <td>-0.007196</td>\n",
              "      <td>0.019769</td>\n",
              "      <td>NaN</td>\n",
              "      <td>NaN</td>\n",
              "      <td>-0.003987</td>\n",
              "    </tr>\n",
              "    <tr>\n",
              "      <th>AcceptedCmp3</th>\n",
              "      <td>0.061774</td>\n",
              "      <td>-0.016174</td>\n",
              "      <td>0.014674</td>\n",
              "      <td>-0.042677</td>\n",
              "      <td>-0.032991</td>\n",
              "      <td>0.062202</td>\n",
              "      <td>0.014727</td>\n",
              "      <td>0.018272</td>\n",
              "      <td>0.000357</td>\n",
              "      <td>0.001530</td>\n",
              "      <td>0.123091</td>\n",
              "      <td>-0.023109</td>\n",
              "      <td>0.042176</td>\n",
              "      <td>0.104730</td>\n",
              "      <td>-0.067577</td>\n",
              "      <td>0.061211</td>\n",
              "      <td>1.000000</td>\n",
              "      <td>-0.079512</td>\n",
              "      <td>0.080316</td>\n",
              "      <td>0.094751</td>\n",
              "      <td>0.072020</td>\n",
              "      <td>0.008415</td>\n",
              "      <td>NaN</td>\n",
              "      <td>NaN</td>\n",
              "      <td>0.254258</td>\n",
              "    </tr>\n",
              "    <tr>\n",
              "      <th>AcceptedCmp4</th>\n",
              "      <td>-0.060510</td>\n",
              "      <td>0.184400</td>\n",
              "      <td>-0.161600</td>\n",
              "      <td>0.038886</td>\n",
              "      <td>0.018826</td>\n",
              "      <td>0.373286</td>\n",
              "      <td>0.010152</td>\n",
              "      <td>0.102912</td>\n",
              "      <td>0.016843</td>\n",
              "      <td>0.028641</td>\n",
              "      <td>0.022268</td>\n",
              "      <td>0.015594</td>\n",
              "      <td>0.155903</td>\n",
              "      <td>0.139247</td>\n",
              "      <td>0.179379</td>\n",
              "      <td>-0.032126</td>\n",
              "      <td>-0.079512</td>\n",
              "      <td>1.000000</td>\n",
              "      <td>0.306526</td>\n",
              "      <td>0.251300</td>\n",
              "      <td>0.292210</td>\n",
              "      <td>-0.027611</td>\n",
              "      <td>NaN</td>\n",
              "      <td>NaN</td>\n",
              "      <td>0.177019</td>\n",
              "    </tr>\n",
              "    <tr>\n",
              "      <th>AcceptedCmp5</th>\n",
              "      <td>0.007123</td>\n",
              "      <td>0.335943</td>\n",
              "      <td>-0.205634</td>\n",
              "      <td>-0.191050</td>\n",
              "      <td>0.000129</td>\n",
              "      <td>0.472613</td>\n",
              "      <td>0.215833</td>\n",
              "      <td>0.373769</td>\n",
              "      <td>0.199578</td>\n",
              "      <td>0.259590</td>\n",
              "      <td>0.181021</td>\n",
              "      <td>-0.183248</td>\n",
              "      <td>0.138684</td>\n",
              "      <td>0.322321</td>\n",
              "      <td>0.214790</td>\n",
              "      <td>-0.278113</td>\n",
              "      <td>0.080316</td>\n",
              "      <td>0.306526</td>\n",
              "      <td>1.000000</td>\n",
              "      <td>0.403078</td>\n",
              "      <td>0.221533</td>\n",
              "      <td>-0.009419</td>\n",
              "      <td>NaN</td>\n",
              "      <td>NaN</td>\n",
              "      <td>0.326634</td>\n",
              "    </tr>\n",
              "    <tr>\n",
              "      <th>AcceptedCmp1</th>\n",
              "      <td>-0.005930</td>\n",
              "      <td>0.276820</td>\n",
              "      <td>-0.172339</td>\n",
              "      <td>-0.140090</td>\n",
              "      <td>-0.019283</td>\n",
              "      <td>0.354133</td>\n",
              "      <td>0.194748</td>\n",
              "      <td>0.309761</td>\n",
              "      <td>0.260762</td>\n",
              "      <td>0.241818</td>\n",
              "      <td>0.166396</td>\n",
              "      <td>-0.123244</td>\n",
              "      <td>0.155143</td>\n",
              "      <td>0.308097</td>\n",
              "      <td>0.183249</td>\n",
              "      <td>-0.192502</td>\n",
              "      <td>0.094751</td>\n",
              "      <td>0.251300</td>\n",
              "      <td>0.403078</td>\n",
              "      <td>1.000000</td>\n",
              "      <td>0.175315</td>\n",
              "      <td>-0.025499</td>\n",
              "      <td>NaN</td>\n",
              "      <td>NaN</td>\n",
              "      <td>0.293982</td>\n",
              "    </tr>\n",
              "    <tr>\n",
              "      <th>AcceptedCmp2</th>\n",
              "      <td>-0.006539</td>\n",
              "      <td>0.087545</td>\n",
              "      <td>-0.081716</td>\n",
              "      <td>-0.015605</td>\n",
              "      <td>-0.001781</td>\n",
              "      <td>0.205907</td>\n",
              "      <td>-0.009773</td>\n",
              "      <td>0.043033</td>\n",
              "      <td>0.002577</td>\n",
              "      <td>0.009985</td>\n",
              "      <td>0.049990</td>\n",
              "      <td>-0.037695</td>\n",
              "      <td>0.034188</td>\n",
              "      <td>0.099852</td>\n",
              "      <td>0.085189</td>\n",
              "      <td>-0.007196</td>\n",
              "      <td>0.072020</td>\n",
              "      <td>0.292210</td>\n",
              "      <td>0.221533</td>\n",
              "      <td>0.175315</td>\n",
              "      <td>1.000000</td>\n",
              "      <td>-0.011334</td>\n",
              "      <td>NaN</td>\n",
              "      <td>NaN</td>\n",
              "      <td>0.169293</td>\n",
              "    </tr>\n",
              "    <tr>\n",
              "      <th>Complain</th>\n",
              "      <td>-0.030128</td>\n",
              "      <td>-0.027225</td>\n",
              "      <td>0.040207</td>\n",
              "      <td>0.003138</td>\n",
              "      <td>0.013231</td>\n",
              "      <td>-0.039007</td>\n",
              "      <td>-0.005166</td>\n",
              "      <td>-0.023483</td>\n",
              "      <td>-0.020953</td>\n",
              "      <td>-0.022485</td>\n",
              "      <td>-0.030861</td>\n",
              "      <td>0.000420</td>\n",
              "      <td>-0.016310</td>\n",
              "      <td>-0.020453</td>\n",
              "      <td>-0.016524</td>\n",
              "      <td>0.019769</td>\n",
              "      <td>0.008415</td>\n",
              "      <td>-0.027611</td>\n",
              "      <td>-0.009419</td>\n",
              "      <td>-0.025499</td>\n",
              "      <td>-0.011334</td>\n",
              "      <td>1.000000</td>\n",
              "      <td>NaN</td>\n",
              "      <td>NaN</td>\n",
              "      <td>-0.001707</td>\n",
              "    </tr>\n",
              "    <tr>\n",
              "      <th>Z_CostContact</th>\n",
              "      <td>NaN</td>\n",
              "      <td>NaN</td>\n",
              "      <td>NaN</td>\n",
              "      <td>NaN</td>\n",
              "      <td>NaN</td>\n",
              "      <td>NaN</td>\n",
              "      <td>NaN</td>\n",
              "      <td>NaN</td>\n",
              "      <td>NaN</td>\n",
              "      <td>NaN</td>\n",
              "      <td>NaN</td>\n",
              "      <td>NaN</td>\n",
              "      <td>NaN</td>\n",
              "      <td>NaN</td>\n",
              "      <td>NaN</td>\n",
              "      <td>NaN</td>\n",
              "      <td>NaN</td>\n",
              "      <td>NaN</td>\n",
              "      <td>NaN</td>\n",
              "      <td>NaN</td>\n",
              "      <td>NaN</td>\n",
              "      <td>NaN</td>\n",
              "      <td>NaN</td>\n",
              "      <td>NaN</td>\n",
              "      <td>NaN</td>\n",
              "    </tr>\n",
              "    <tr>\n",
              "      <th>Z_Revenue</th>\n",
              "      <td>NaN</td>\n",
              "      <td>NaN</td>\n",
              "      <td>NaN</td>\n",
              "      <td>NaN</td>\n",
              "      <td>NaN</td>\n",
              "      <td>NaN</td>\n",
              "      <td>NaN</td>\n",
              "      <td>NaN</td>\n",
              "      <td>NaN</td>\n",
              "      <td>NaN</td>\n",
              "      <td>NaN</td>\n",
              "      <td>NaN</td>\n",
              "      <td>NaN</td>\n",
              "      <td>NaN</td>\n",
              "      <td>NaN</td>\n",
              "      <td>NaN</td>\n",
              "      <td>NaN</td>\n",
              "      <td>NaN</td>\n",
              "      <td>NaN</td>\n",
              "      <td>NaN</td>\n",
              "      <td>NaN</td>\n",
              "      <td>NaN</td>\n",
              "      <td>NaN</td>\n",
              "      <td>NaN</td>\n",
              "      <td>NaN</td>\n",
              "    </tr>\n",
              "    <tr>\n",
              "      <th>Response</th>\n",
              "      <td>0.021325</td>\n",
              "      <td>0.133047</td>\n",
              "      <td>-0.080008</td>\n",
              "      <td>-0.154446</td>\n",
              "      <td>-0.198437</td>\n",
              "      <td>0.247254</td>\n",
              "      <td>0.125289</td>\n",
              "      <td>0.236335</td>\n",
              "      <td>0.111331</td>\n",
              "      <td>0.117372</td>\n",
              "      <td>0.139850</td>\n",
              "      <td>0.002238</td>\n",
              "      <td>0.148730</td>\n",
              "      <td>0.220810</td>\n",
              "      <td>0.039363</td>\n",
              "      <td>-0.003987</td>\n",
              "      <td>0.254258</td>\n",
              "      <td>0.177019</td>\n",
              "      <td>0.326634</td>\n",
              "      <td>0.293982</td>\n",
              "      <td>0.169293</td>\n",
              "      <td>-0.001707</td>\n",
              "      <td>NaN</td>\n",
              "      <td>NaN</td>\n",
              "      <td>1.000000</td>\n",
              "    </tr>\n",
              "  </tbody>\n",
              "</table>\n",
              "</div>"
            ],
            "text/plain": [
              "                     Year_Birth    Income  ...  Z_Revenue  Response\n",
              "Year_Birth             1.000000 -0.161791  ...        NaN  0.021325\n",
              "Income                -0.161791  1.000000  ...        NaN  0.133047\n",
              "Kidhome                0.230176 -0.428669  ...        NaN -0.080008\n",
              "Teenhome              -0.352111  0.019133  ...        NaN -0.154446\n",
              "Recency               -0.019871 -0.003970  ...        NaN -0.198437\n",
              "MntWines              -0.157773  0.578650  ...        NaN  0.247254\n",
              "MntFruits             -0.017917  0.430842  ...        NaN  0.125289\n",
              "MntMeatProducts       -0.030872  0.584633  ...        NaN  0.236335\n",
              "MntFishProducts       -0.041625  0.438871  ...        NaN  0.111331\n",
              "MntSweetProducts      -0.018133  0.440744  ...        NaN  0.117372\n",
              "MntGoldProds          -0.061818  0.325916  ...        NaN  0.139850\n",
              "NumDealsPurchases     -0.060846 -0.083101  ...        NaN  0.002238\n",
              "NumWebPurchases       -0.145040  0.387878  ...        NaN  0.148730\n",
              "NumCatalogPurchases   -0.121275  0.589162  ...        NaN  0.220810\n",
              "NumStorePurchases     -0.128272  0.529362  ...        NaN  0.039363\n",
              "NumWebVisitsMonth      0.121139 -0.553088  ...        NaN -0.003987\n",
              "AcceptedCmp3           0.061774 -0.016174  ...        NaN  0.254258\n",
              "AcceptedCmp4          -0.060510  0.184400  ...        NaN  0.177019\n",
              "AcceptedCmp5           0.007123  0.335943  ...        NaN  0.326634\n",
              "AcceptedCmp1          -0.005930  0.276820  ...        NaN  0.293982\n",
              "AcceptedCmp2          -0.006539  0.087545  ...        NaN  0.169293\n",
              "Complain              -0.030128 -0.027225  ...        NaN -0.001707\n",
              "Z_CostContact               NaN       NaN  ...        NaN       NaN\n",
              "Z_Revenue                   NaN       NaN  ...        NaN       NaN\n",
              "Response               0.021325  0.133047  ...        NaN  1.000000\n",
              "\n",
              "[25 rows x 25 columns]"
            ]
          },
          "metadata": {
            "tags": []
          },
          "execution_count": 16
        }
      ]
    },
    {
      "cell_type": "markdown",
      "metadata": {
        "id": "IeOhpK-txYJF",
        "colab_type": "text"
      },
      "source": [
        "Visualization of the correlational relationships of the features.\n"
      ]
    },
    {
      "cell_type": "code",
      "metadata": {
        "id": "lp5Ijr1rxbAw",
        "colab_type": "code",
        "colab": {
          "base_uri": "https://localhost:8080/",
          "height": 389
        },
        "outputId": "8aaa7065-e890-4b6f-e095-ea6d3711ae7e"
      },
      "source": [
        "corr_matrix = data.corr()\n",
        "sns.heatmap(corr_matrix)"
      ],
      "execution_count": 17,
      "outputs": [
        {
          "output_type": "execute_result",
          "data": {
            "text/plain": [
              "<matplotlib.axes._subplots.AxesSubplot at 0x7f77199cbb38>"
            ]
          },
          "metadata": {
            "tags": []
          },
          "execution_count": 17
        },
        {
          "output_type": "display_data",
          "data": {
            "image/png": "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\n",
            "text/plain": [
              "<Figure size 432x288 with 2 Axes>"
            ]
          },
          "metadata": {
            "tags": [],
            "needs_background": "light"
          }
        }
      ]
    },
    {
      "cell_type": "markdown",
      "metadata": {
        "id": "wOof9jjLxfb8",
        "colab_type": "text"
      },
      "source": [
        "# Handling missing values."
      ]
    },
    {
      "cell_type": "markdown",
      "metadata": {
        "id": "mnOxnD68xnZp",
        "colab_type": "text"
      },
      "source": [
        "Let's check for missing values in our data."
      ]
    },
    {
      "cell_type": "code",
      "metadata": {
        "id": "d-ho7KOQxpY7",
        "colab_type": "code",
        "colab": {
          "base_uri": "https://localhost:8080/",
          "height": 510
        },
        "outputId": "3ce0527e-e6fb-4281-a527-b2da022d4e83"
      },
      "source": [
        "data.isnull().sum()"
      ],
      "execution_count": 18,
      "outputs": [
        {
          "output_type": "execute_result",
          "data": {
            "text/plain": [
              "Year_Birth              0\n",
              "Education               0\n",
              "Marital_Status          0\n",
              "Income                 24\n",
              "Kidhome                 0\n",
              "Teenhome                0\n",
              "Dt_Customer             0\n",
              "Recency                 0\n",
              "MntWines                0\n",
              "MntFruits               0\n",
              "MntMeatProducts         0\n",
              "MntFishProducts         0\n",
              "MntSweetProducts        0\n",
              "MntGoldProds            0\n",
              "NumDealsPurchases       0\n",
              "NumWebPurchases         0\n",
              "NumCatalogPurchases     0\n",
              "NumStorePurchases       0\n",
              "NumWebVisitsMonth       0\n",
              "AcceptedCmp3            0\n",
              "AcceptedCmp4            0\n",
              "AcceptedCmp5            0\n",
              "AcceptedCmp1            0\n",
              "AcceptedCmp2            0\n",
              "Complain                0\n",
              "Z_CostContact           0\n",
              "Z_Revenue               0\n",
              "Response                0\n",
              "dtype: int64"
            ]
          },
          "metadata": {
            "tags": []
          },
          "execution_count": 18
        }
      ]
    },
    {
      "cell_type": "markdown",
      "metadata": {
        "id": "CGLNAMIPxw1s",
        "colab_type": "text"
      },
      "source": [
        "Let's visualize the fragmentation of the data feature-wise due to the presence of the missing values."
      ]
    },
    {
      "cell_type": "code",
      "metadata": {
        "id": "yyMW4H7Wxzy8",
        "colab_type": "code",
        "colab": {
          "base_uri": "https://localhost:8080/",
          "height": 632
        },
        "outputId": "469a8e2e-dae0-4a58-9ef7-c567d37c141f"
      },
      "source": [
        "import missingno as msno\n",
        "msno.matrix(data)"
      ],
      "execution_count": 19,
      "outputs": [
        {
          "output_type": "execute_result",
          "data": {
            "text/plain": [
              "<matplotlib.axes._subplots.AxesSubplot at 0x7f7715884550>"
            ]
          },
          "metadata": {
            "tags": []
          },
          "execution_count": 19
        },
        {
          "output_type": "display_data",
          "data": {
            "image/png": "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\n",
            "text/plain": [
              "<Figure size 1800x720 with 2 Axes>"
            ]
          },
          "metadata": {
            "tags": [],
            "needs_background": "light"
          }
        }
      ]
    },
    {
      "cell_type": "markdown",
      "metadata": {
        "id": "CoOYxW6Ux2td",
        "colab_type": "text"
      },
      "source": [
        "\n",
        "\n",
        "We can see that the data is fairly oh high quality due to the fact that very less number of missing values are present in the data.  \n",
        "Given that, we do see 24 missing values in the feature 'Income'. The best ways to impute the missing values in this feature, is strategies which utilise relative imputation strategies.  \n",
        "For exampe we can use the mode of the feature for imputation purposes of the missing values in this feature if we assume that the data is a high degree representation of the bigger population, which means that any new data point will be in line with the distribution of the data we have.  \n",
        "Otherwise, we can use the **sklearn.impute.KNNImputer** for imputation purposes of the missing values in this feature, which utilises the K-nearest-neighbors algorithm to figure out the value with highest probality, and uses it for imputation.  \n",
        "Because of the fact we cannot be sure of how representative our data is of the larger population, we will be using KNNImputer in this case."
      ]
    },
    {
      "cell_type": "code",
      "metadata": {
        "id": "BjmB4Kesx6_w",
        "colab_type": "code",
        "colab": {
          "base_uri": "https://localhost:8080/",
          "height": 34
        },
        "outputId": "4688fa14-0841-4e42-c3d6-f114b2a6ac79"
      },
      "source": [
        "# let's check the range of the feature Income \n",
        "data['Income'].max() - data['Income'].min() "
      ],
      "execution_count": 20,
      "outputs": [
        {
          "output_type": "execute_result",
          "data": {
            "text/plain": [
              "664936.0"
            ]
          },
          "metadata": {
            "tags": []
          },
          "execution_count": 20
        }
      ]
    },
    {
      "cell_type": "code",
      "metadata": {
        "id": "sIEtRvflx851",
        "colab_type": "code",
        "colab": {}
      },
      "source": [
        "from sklearn.impute import KNNImputer\n",
        "data['Income'] = KNNImputer(n_neighbors=4).fit_transform(data['Income'].values.reshape(-1,1))"
      ],
      "execution_count": 0,
      "outputs": []
    },
    {
      "cell_type": "code",
      "metadata": {
        "id": "DkF8YlMIyCw7",
        "colab_type": "code",
        "colab": {
          "base_uri": "https://localhost:8080/",
          "height": 34
        },
        "outputId": "5d65ff7f-8303-49a9-aaff-720cfea3d539"
      },
      "source": [
        "# Let's check for null-values after imputation.\n",
        "data['Income'].isnull().sum()"
      ],
      "execution_count": 22,
      "outputs": [
        {
          "output_type": "execute_result",
          "data": {
            "text/plain": [
              "0"
            ]
          },
          "metadata": {
            "tags": []
          },
          "execution_count": 22
        }
      ]
    },
    {
      "cell_type": "markdown",
      "metadata": {
        "id": "mOyVXNjDyJZR",
        "colab_type": "text"
      },
      "source": [
        "# Feature Engineering."
      ]
    },
    {
      "cell_type": "markdown",
      "metadata": {
        "id": "ibwpQf1wyOe3",
        "colab_type": "text"
      },
      "source": [
        "# Outliers detection and removal."
      ]
    },
    {
      "cell_type": "markdown",
      "metadata": {
        "id": "3ELNFZKqyYTO",
        "colab_type": "text"
      },
      "source": [
        "# Data analysis by utilizing visualizations."
      ]
    },
    {
      "cell_type": "markdown",
      "metadata": {
        "id": "xYBoBJuGyhNK",
        "colab_type": "text"
      },
      "source": [
        "# Feature Encoding."
      ]
    },
    {
      "cell_type": "markdown",
      "metadata": {
        "id": "ptZMvvunyjoD",
        "colab_type": "text"
      },
      "source": [
        "# Splitting the data."
      ]
    },
    {
      "cell_type": "markdown",
      "metadata": {
        "id": "K626h8wbymis",
        "colab_type": "text"
      },
      "source": [
        "# Feature Scaling."
      ]
    },
    {
      "cell_type": "markdown",
      "metadata": {
        "id": "RIj13bfnyoj0",
        "colab_type": "text"
      },
      "source": [
        "# Hyper-Parameter Optimization."
      ]
    },
    {
      "cell_type": "markdown",
      "metadata": {
        "id": "pShfLq8JysEC",
        "colab_type": "text"
      },
      "source": [
        "# Model Validation."
      ]
    },
    {
      "cell_type": "markdown",
      "metadata": {
        "id": "ipY3F2elyuSB",
        "colab_type": "text"
      },
      "source": [
        "# Final prediction."
      ]
>>>>>>> e91e0fe8099ff527afd5a0bab415d527d5f7ba46
    }
   ],
   "source": [
    "# Let's check for null-values after imputation.\n",
    "data['Income'].isnull().sum()"
   ]
  },
  {
   "cell_type": "markdown",
   "metadata": {},
   "source": [
    "# Feature Engineering."
   ]
  },
  {
   "cell_type": "code",
   "execution_count": null,
   "metadata": {},
   "outputs": [],
   "source": []
  },
  {
   "cell_type": "code",
   "execution_count": null,
   "metadata": {},
   "outputs": [],
   "source": []
  },
  {
   "cell_type": "code",
   "execution_count": null,
   "metadata": {},
   "outputs": [],
   "source": []
  },
  {
   "cell_type": "code",
   "execution_count": null,
   "metadata": {},
   "outputs": [],
   "source": []
  },
  {
   "cell_type": "markdown",
   "metadata": {},
   "source": [
    "# Outliers detection."
   ]
  },
  {
   "cell_type": "markdown",
   "metadata": {},
   "source": [
    "# Data visual analysis."
   ]
  },
  {
   "cell_type": "markdown",
   "metadata": {},
   "source": [
    "# Feature Encoding."
   ]
  },
  {
   "cell_type": "markdown",
   "metadata": {},
   "source": [
    "# Splitting the data."
   ]
  },
  {
   "cell_type": "markdown",
   "metadata": {},
   "source": [
    "# Feature Scaling."
   ]
  },
  {
   "cell_type": "markdown",
   "metadata": {},
   "source": [
    "# Hyper-Parameter Optimization."
   ]
  },
  {
   "cell_type": "markdown",
   "metadata": {},
   "source": [
    "# Model Validation."
   ]
  },
  {
   "cell_type": "markdown",
   "metadata": {},
   "source": [
    "# Final prediction."
   ]
  },
  {
   "cell_type": "code",
   "execution_count": null,
   "metadata": {},
   "outputs": [],
   "source": []
  }
 ],
 "metadata": {
  "kernelspec": {
   "display_name": "Python 3",
   "language": "python",
   "name": "python3"
  },
  "language_info": {
   "codemirror_mode": {
    "name": "ipython",
    "version": 3
   },
   "file_extension": ".py",
   "mimetype": "text/x-python",
   "name": "python",
   "nbconvert_exporter": "python",
   "pygments_lexer": "ipython3",
   "version": "3.7.0"
  }
 },
 "nbformat": 4,
 "nbformat_minor": 2
}
